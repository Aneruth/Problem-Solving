{
 "cells": [
  {
   "cell_type": "markdown",
   "source": [
    "# Array.diff\n",
    "\n",
    "Your goal in this kata is to implement a difference function, which subtracts one list from another and returns the result.\n",
    "\n",
    "It should remove all values from list a, which are present in list b keeping their order.\n",
    "\n",
    "array_diff([1,2],[1]) == [2]\n",
    "\n",
    "If a value is present in b, all of its occurrences must be removed from the other:\n",
    "\n",
    "array_diff([1,2,2,2,3],[2]) == [1,3]"
   ],
   "metadata": {}
  },
  {
   "cell_type": "code",
   "execution_count": 31,
   "source": [
    "def arrrayDiff(alist,blist):\n",
    "    return list(set(alist) - set(alist).intersection(set(blist)))\n",
    "arrrayDiff([1,2,2],[1])"
   ],
   "outputs": [
    {
     "output_type": "execute_result",
     "data": {
      "text/plain": [
       "[2]"
      ]
     },
     "metadata": {},
     "execution_count": 31
    }
   ],
   "metadata": {}
  },
  {
   "cell_type": "markdown",
   "source": [
    "# Stop gninnipS My sdroW!\n",
    "\n",
    "Write a function that takes in a string of one or more words, and returns the same string, but with all five or more letter words reversed.\n",
    "\n",
    "- Strings passed in will consist of only letters and spaces.\n",
    "\n",
    "- Spaces will be included only when more than one word is present.\n",
    "\n",
    "Examples:\n",
    "\n",
    "spinWords(\"Hey fellow warriors\") => \"Hey wollef sroirraw\" \n",
    "\n",
    "spinWords(\"This is a test\") => \"This is a test\" \n",
    "\n",
    "spinWords(\"This is another test\") => \"This is rehtona test\""
   ],
   "metadata": {}
  },
  {
   "cell_type": "code",
   "execution_count": 25,
   "source": [
    "# If the length of a word is eequals or greater than 5 reverse the word\n",
    "def spinWords(word):\n",
    "    return ' '.join([i[::-1] if len(i) >=5 else i for i in word.split(' ')])\n",
    "print(f'Word Spin is: {spinWords(\"My name is Aneruth\")}')"
   ],
   "outputs": [
    {
     "output_type": "stream",
     "name": "stdout",
     "text": [
      "Word Spin is: My name is hturenA\n"
     ]
    }
   ],
   "metadata": {}
  },
  {
   "cell_type": "markdown",
   "source": [
    "# Sum of Digits / Digital Root\n",
    "\n",
    "Digital root is the recursive sum of all the digits in a number.\n",
    "\n",
    "Given n, take the sum of the digits of n. If that value has more than one digit, continue reducing in this way until a single-digit number is produced. The input will be a non-negative integer.\n",
    "\n",
    "Examples\n",
    "\n",
    "    16  -->  1 + 6 = 7\n",
    "   \n",
    "   942  -->  9 + 4 + 2 = 15  -->  1 + 5 = 6\n",
    "   \n",
    "   132189  -->  1 + 3 + 2 + 1 + 8 + 9 = 24  -->  2 + 4 = 6\n",
    "\n",
    "   493193  -->  4 + 9 + 3 + 1 + 9 + 3 = 29  -->  2 + 9 = 11  -->  1 + 1 = 2"
   ],
   "metadata": {}
  },
  {
   "cell_type": "code",
   "execution_count": 29,
   "source": [
    "# Method 1\n",
    "def digiRoot1(n):\n",
    "    return n % 9 or n and 9\n",
    "print(f'Digital Root Method 1 output is: {digiRoot1(16)}')\n",
    "\n",
    "# Method 2\n",
    "def digiRoot2(n):\n",
    "    return n if n < 10 else digiRoot2(sum(map(int,str(n))))\n",
    "print(f'Digital Root Method 2 output is: {digiRoot2(16)}')"
   ],
   "outputs": [
    {
     "output_type": "stream",
     "name": "stdout",
     "text": [
      "Digital Root Method 1 output is: 7\n",
      "Digital Root Method 2 output is: 7\n"
     ]
    }
   ],
   "metadata": {}
  },
  {
   "cell_type": "code",
   "execution_count": 69,
   "source": [
    "def solution(number):\n",
    "    return sum([i for i in [i for i in range(1,number)] if i % 3 == 0 or i % 5 == 0])"
   ],
   "outputs": [],
   "metadata": {}
  },
  {
   "cell_type": "code",
   "execution_count": 70,
   "source": [
    "solution(10)"
   ],
   "outputs": [
    {
     "output_type": "execute_result",
     "data": {
      "text/plain": [
       "23"
      ]
     },
     "metadata": {},
     "execution_count": 70
    }
   ],
   "metadata": {}
  },
  {
   "cell_type": "markdown",
   "source": [
    "# Persistent Bugger\n",
    "Write a function, persistence, that takes in a positive parameter num and returns its multiplicative persistence, which is the number of times you must multiply the digits in num until you reach a single digit.\n",
    "\n",
    "For example:\n",
    "\n",
    " persistence(39) \n",
    "                 \n",
    "                 # returns 3, because 3*9=27, 2*7=14, 1*4=4\n",
    "                 \n",
    "                 # and 4 has only one digit\n",
    "                  \n",
    " persistence(999) \n",
    "                 \n",
    "                  # returns 4, because 9*9*9=729, 7*2*9=126,\n",
    "                 \n",
    "                  # 1*2*6=12, and finally 1*2=2\n",
    "\n",
    " persistence(4) \n",
    "                  \n",
    "                  # returns 0, because 4 is already a one-digit number"
   ],
   "metadata": {}
  },
  {
   "cell_type": "code",
   "execution_count": 125,
   "source": [
    "# Method 1\n",
    "def MultiplicativePersistence(num): \n",
    "   steps = 0\n",
    "   while num > 9:\n",
    "     snum = str(num)\n",
    "     num = 1\n",
    "     for snum in snum:\n",
    "        num *= int(snum)\n",
    "     steps += 1\n",
    "   return steps\n",
    "print(f'Method 1 output is: {MultiplicativePersistence(999)}')"
   ],
   "outputs": [
    {
     "output_type": "stream",
     "name": "stdout",
     "text": [
      "Method 1 output is: 4\n"
     ]
    }
   ],
   "metadata": {}
  },
  {
   "cell_type": "markdown",
   "source": [
    "# First non-repeating character\n",
    "Write a function named first_non_repeating_letter that takes a string input, and returns the first character that is not repeated anywhere in the string.\n",
    "\n",
    "For example, if given the input 'stress', the function should return 't', since the letter t only occurs once in the string, and occurs first in the string.\n",
    "\n",
    "As an added challenge, upper- and lowercase letters are considered the same character, but the function should return the correct case for the initial letter. For example, the input 'sTreSS' should return 'T'.\n",
    "\n",
    "If a string contains all repeating characters, it should return an empty string (\"\") or None -- see sample tests.\n",
    "\n",
    "Examples: \n",
    "\n",
    "test.describe('Basic Tests')\n",
    "\n",
    "test.it('should handle simple tests')\n",
    "\n",
    "test.assert_equals(first_non_repeating_letter('a'), 'a')\n",
    "\n",
    "test.assert_equals(first_non_repeating_letter('stress'), 't')\n",
    "\n",
    "test.assert_equals(first_non_repeating_letter('moonmen'), 'e')\n",
    "\n",
    "test.it('should handle empty strings')\n",
    "\n",
    "test.assert_equals(first_non_repeating_letter(''), '')\n",
    "\n",
    "test.it('should handle all repeating strings') \n",
    "\n",
    "test.assert_equals(first_non_repeating_letter('abba'), '')\n",
    "\n",
    "test.assert_equals(first_non_repeating_letter('aa'), '')\n",
    "\n",
    "test.it('should handle odd characters')\n",
    "\n",
    "test.assert_equals(first_non_repeating_letter('~><#~><'), '#')\n",
    "\n",
    "test.assert_equals(first_non_repeating_letter('hello world, eh?'), 'w')\n",
    "\n",
    "test.it('should handle letter cases')\n",
    "\n",
    "test.assert_equals(first_non_repeating_letter('sTreSS'), 'T')\n",
    "\n",
    "test.assert_equals(first_non_repeating_letter('Go hang a salami, I\\'m a lasagna hog!'), ',')"
   ],
   "metadata": {}
  },
  {
   "cell_type": "code",
   "execution_count": 52,
   "source": [
    "# Method 1 (Okish Idea)\n",
    "def firstNonRepeat1(string):\n",
    "    from collections import Counter\n",
    "    # Base case 1 when we get the input of length of 1 or multiple same letter\n",
    "    if len(set(string)) == 1 or len(set(string)) == 2: return ''\n",
    "    else:\n",
    "        strList = [i.lower() for i in string]\n",
    "        strDict = Counter(strList)\n",
    "        strRes = ''.join(key for key,value in strDict.items() if value == 1)[0]\n",
    "        return strRes\n",
    "    return \"\"\n",
    "# method1(\"Go hang a salami, I\\'m a lasagna hog!\")\n",
    "print(f'Method 1 output is: {firstNonRepeat1(\"sTreSS\")}')\n",
    "\n",
    "# Method 2\n",
    "def firstNonRepeat2(string):\n",
    "    strList = [i.lower() for i in string]\n",
    "    for i in range(len(strList)):\n",
    "        if strList.count(strList[i]) == 1:\n",
    "            return string[i]\n",
    "    return ''\n",
    "print(f'Method 2 output is: {firstNonRepeat2(\"sTreSS\")}')"
   ],
   "outputs": [
    {
     "output_type": "stream",
     "name": "stdout",
     "text": [
      "Method 1 output is: t\n",
      "Method 2 output is: T\n"
     ]
    }
   ],
   "metadata": {}
  },
  {
   "cell_type": "markdown",
   "source": [
    "# Find the missing letter\n",
    "Write a method that takes an array of consecutive (increasing) letters as input and that returns the missing letter in the array.\n",
    "\n",
    "You will always get an valid array. And it will be always exactly one letter be missing. The length of the array will always be at least 2.\n",
    "The array will always contain letters in only one case.\n",
    "\n",
    "Example:\n",
    "\n",
    "['a','b','c','d','f'] -> 'e' \n",
    "\n",
    "['O','Q','R','S'] -> 'P'"
   ],
   "metadata": {}
  },
  {
   "cell_type": "code",
   "execution_count": 13,
   "source": [
    "# Method 1\n",
    "def missingLetter1(alist):\n",
    "    alphaList = [chr(i) for i in range(ord(alist[0]),ord(alist[-1])+1)]\n",
    "    return ''.join(i for i in alphaList if i not in alist)\n",
    "print(f\"Method 1 output is: {missingLetter1(['O','Q','R','S'])}\")"
   ],
   "outputs": [
    {
     "output_type": "stream",
     "name": "stdout",
     "text": [
      "P\n"
     ]
    }
   ],
   "metadata": {}
  },
  {
   "cell_type": "markdown",
   "source": [
    "# String incrementer\n",
    "\n",
    "Your job is to write a function which increments a string, to create a new string.\n",
    "\n",
    "    - If the string already ends with a number, the number should be incremented by 1.\n",
    "\n",
    "    - If the string does not end with a number. the number 1 should be appended to the new string.\n",
    "\n",
    "Examples:\n",
    "\n",
    "foo -> foo1\n",
    "\n",
    "foobar23 -> foobar24\n",
    "\n",
    "foo0042 -> foo0043\n",
    "\n",
    "foo9 -> foo10\n",
    "\n",
    "foo099 -> foo100"
   ],
   "metadata": {}
  },
  {
   "cell_type": "code",
   "execution_count": 22,
   "source": [
    "# Method 1\n",
    "def stringIncrement(string):\n",
    "    # Base case if our last character is not digit\n",
    "    if string[-1].isalpha(): return string+'1'\n",
    "    else:\n",
    "        digit = [i for i in string if i.isdigit()]\n",
    "        newString = string.replace(''.join(digit),'')\n",
    "        val = str(int(''.join(list(map(str,digit))))+1)\n",
    "        return newString+val\n",
    "print(f\"Method 1 output is: {stringIncrement('foo099')}\")"
   ],
   "outputs": [
    {
     "output_type": "stream",
     "name": "stdout",
     "text": [
      "Method 1 output is: foo100\n"
     ]
    }
   ],
   "metadata": {}
  },
  {
   "cell_type": "markdown",
   "source": [
    "# int32 to IPv4\n",
    "Take the following IPv4 address: 128.32.10.1\n",
    "\n",
    "This address has 4 octets where each octet is a single byte (or 8 bits).\n",
    "\n",
    "    - 1st octet 128 has the binary representation: 10000000\n",
    "\n",
    "    - 2nd octet 32 has the binary representation: 00100000\n",
    "\n",
    "    - 3rd octet 10 has the binary representation: 00001010\n",
    "\n",
    "    - 4th octet 1 has the binary representation: 00000001\n",
    "\n",
    "So 128.32.10.1 == 10000000.00100000.00001010.00000001\n",
    "\n",
    "Because the above IP address has 32 bits, we can represent it as the unsigned 32 bit number: 2149583361\n",
    "\n",
    "Complete the function that takes an unsigned 32 bit number and returns a string representation of its IPv4 address.\n",
    "\n",
    "Examples\n",
    "\n",
    "2149583361 ==> \"128.32.10.1\"\n",
    "\n",
    "32         ==> \"0.0.0.32\"\n",
    "\n",
    "0          ==> \"0.0.0.0\""
   ],
   "metadata": {}
  },
  {
   "cell_type": "code",
   "execution_count": 64,
   "source": [
    "# Method 1 (57 Test case satisfies)\n",
    "def int32_to_ipv4(value):\n",
    "    # Base case if our number is not 32bit unsinged\n",
    "    if abs(value) < 2**31: return '0.0.0.'+str(abs(value))\n",
    "    else:\n",
    "        test = bin(value)[2:]\n",
    "        stringValue = [test[i:i+8] for i in range(0,len(test),8)]\n",
    "        stringInt = [int(i,2) for i in stringValue]\n",
    "        return '.'.join(list(map(str,stringInt)))\n",
    "print(f'Method 1 output is: {int32_to_ipv4(2149583361)}')\n",
    "\n",
    "# Method 2\n",
    "def int32_to_ip(int32):\n",
    "    bin_str = f'{int32:b}'.rjust(32, '0')\n",
    "    return '.'.join([str(int(bin_str[idx:idx + 8], 2)) for idx in range(0, len(bin_str), 8)])\n",
    "print(f'Method 2 output is: {int32_to_ip(2149583361)}')"
   ],
   "outputs": [
    {
     "output_type": "stream",
     "name": "stdout",
     "text": [
      "Method 1 output is: 128.32.10.1\n",
      "Method 2 output is: 128.32.10.1\n"
     ]
    }
   ],
   "metadata": {}
  },
  {
   "cell_type": "markdown",
   "source": [
    "# Matrix Determinant\n",
    "Write a function that accepts a square matrix (N x N 2D array) and returns the determinant of the matrix.\n",
    "\n",
    "How to take the determinant of a matrix -- it is simplest to start with the smallest cases:\n",
    "\n",
    "A 1x1 matrix |a| has determinant a.\n",
    "\n",
    "A 2x2 matrix [ [a, b], [c, d] ] or\n",
    "\n",
    "|a  b|\n",
    "\n",
    "|c  d|\n",
    "\n",
    "has determinant: a*d - b*c.\n",
    "\n",
    "The determinant of an n x n sized matrix is calculated by reducing the problem to the calculation of the determinants of n matrices ofn-1 x n-1 size.\n",
    "\n",
    "For the 3x3 case, [ [a, b, c], [d, e, f], [g, h, i] ] or\n",
    "\n",
    "|a b c|  \n",
    "\n",
    "|d e f|  \n",
    "\n",
    "|g h i|  \n",
    "\n",
    "the determinant is: a * det(a_minor) - b * det(b_minor) + c * det(c_minor) where det(a_minor) refers to taking the determinant of the 2x2 matrix created by crossing out the row and column in which the element a occurs:\n",
    "\n",
    "|- - -|\n",
    "\n",
    "|- e f|\n",
    "\n",
    "|- h i|  \n",
    "\n",
    "Note the alternation of signs.\n",
    "\n",
    "The determinant of larger matrices are calculated analogously, e.g. if M is a 4x4 matrix with first row [a, b, c, d], then:\n",
    "\n",
    "det(M) = a * det(a_minor) - b * det(b_minor) + c * det(c_minor) - d * det(d_minor)"
   ],
   "metadata": {}
  },
  {
   "cell_type": "code",
   "execution_count": 71,
   "source": [
    "# Method 1 \n",
    "import numpy as np\n",
    "def matDet(matrix):\n",
    "    return int(np.linalg.det(matrix))\n",
    "print(f'{matDet([[1]])}')"
   ],
   "outputs": [
    {
     "output_type": "stream",
     "name": "stdout",
     "text": [
      "1\n"
     ]
    }
   ],
   "metadata": {}
  },
  {
   "cell_type": "markdown",
   "source": [
    "# Maximum subarray sum\n",
    "The maximum sum subarray problem consists in finding the maximum sum of a contiguous subsequence in an array or list of integers:\n",
    "\n",
    "max_sequence([-2, 1, -3, 4, -1, 2, 1, -5, 4])\n",
    "\n",
    "should be 6: [4, -1, 2, 1]\n",
    "\n",
    "Easy case is when the list is made up of only positive numbers and the maximum sum is the sum of the whole array. If the list is made up of only negative numbers, return 0 instead.\n",
    "\n",
    "Empty list is considered to have zero greatest sum. Note that the empty list or array is also a valid sublist/subarray.\n",
    "\n",
    "Example:\n",
    "\n",
    "test.assert_equals(max_sequence([]), 0)\n",
    "\n",
    "test.assert_equals(max_sequence([-2, 1, -3, 4, -1, 2, 1, -5, 4]), 6)"
   ],
   "metadata": {}
  },
  {
   "cell_type": "code",
   "execution_count": 80,
   "source": [
    "# Method 1 (54/55 solution correct)\n",
    "def max_sequence1(nums):\n",
    "    if len(nums) == 0 or sum(nums) <0: return 0\n",
    "    current = maxSubarray = nums[0]\n",
    "    for i in nums[1:]:\n",
    "        current = max(i,current+i)\n",
    "        maxSubarray = max(maxSubarray,current)\n",
    "    return maxSubarray\n",
    "print(f'Method 1 output is: {max_sequence1([-2,1,-3,4,-1,2,1,-5,4])}')\n",
    "\n",
    "# Method 2 (Best One)\n",
    "def max_sequence2(arr):\n",
    "    max,curr=0,0\n",
    "    for x in arr:\n",
    "        curr+=x\n",
    "        if curr<0:curr=0\n",
    "        if curr>max:max=curr\n",
    "    return max\n",
    "print(f'Method 2 output is: {max_sequence2([-2,1,-3,4,-1,2,1,-5,4])}')"
   ],
   "outputs": [
    {
     "output_type": "stream",
     "name": "stdout",
     "text": [
      "Method 1 output is: 6\n",
      "Method 2 output is: 6\n"
     ]
    }
   ],
   "metadata": {}
  },
  {
   "cell_type": "markdown",
   "source": [
    "# Sum of pairs\n",
    "\n",
    "Given a list of integers and a single sum value, return the first two values (parse from the left please) in order of appearance that add up to form the sum.\n",
    "\n",
    "sum_pairs([11, 3, 7, 5],10) == [3, 7]\n",
    "\n",
    "sum_pairs([4, 3, 2, 3, 4],6) == [4, 2]\n",
    "\n",
    "sum_pairs([0, 0, -2, 3], 2) == None/nil/undefined (Based on the language)\n",
    "\n",
    "sum_pairs([10, 5, 2, 3, 7, 5],10) == [3, 7]\n",
    "\n",
    "Negative numbers and duplicate numbers can and will appear."
   ],
   "metadata": {}
  },
  {
   "cell_type": "code",
   "execution_count": 31,
   "source": [
    "# Method 1\n",
    "def sumPair(alist,s):\n",
    "    for i in range(len(alist)):\n",
    "        for j in range(1,len(alist)):\n",
    "            tot = alist[i] + alist[j]\n",
    "            if tot == s:\n",
    "                return [alist[i],alist[j]]\n",
    "    return 'None'\n",
    "print(f'Method 1 output is: {sumPair([1, -2, 3, 0, -6, 1],-6)}')\n",
    "\n",
    "# Method 2\n",
    "def twoSum(nums, target):\n",
    "    hashmap = {}\n",
    "    for i in range(len(nums)):\n",
    "        complement = target - nums[i]\n",
    "        if complement in hashmap:\n",
    "            return [nums[i], nums[hashmap[complement]]]\n",
    "        hashmap[nums[i]] = i\n",
    "    return 'None'\n",
    "print(f'Method 2 output is: {twoSum([1, -2, 3, 0, -6, 1],-6)}')"
   ],
   "outputs": [
    {
     "output_type": "stream",
     "name": "stdout",
     "text": [
      "Method 1 output is: [0, -6]\n",
      "Method 2 output is: [-6, 0]\n"
     ]
    }
   ],
   "metadata": {}
  },
  {
   "cell_type": "markdown",
   "source": [
    "# Does my number look big in this?\n",
    "\n",
    "A Narcissistic Number is a positive number which is the sum of its own digits, each raised to the power of the number of digits in a given base. In this Kata, we will restrict ourselves to decimal (base 10).\n",
    "\n",
    "For example, take 153 (3 digits), which is narcisstic:\n",
    "\n",
    "    1^3 + 5^3 + 3^3 = 1 + 125 + 27 = 153\n",
    "\n",
    "and 1652 (4 digits), which isn't:\n",
    "\n",
    "    1^4 + 6^4 + 5^4 + 2^4 = 1 + 1296 + 625 + 16 = 1938\n",
    "\n",
    "The Challenge:\n",
    "\n",
    "Your code must return true or false depending upon whether the given number is a Narcissistic number in base 10.\n",
    "\n",
    "Error checking for text strings or other invalid inputs is not required, only valid positive non-zero integers will be passed into the function."
   ],
   "metadata": {}
  },
  {
   "cell_type": "code",
   "execution_count": 6,
   "source": [
    "alis = [1,2,3]\n",
    "sqrNum = filter(lambda x: x*x,alis)\n",
    "list(i for i in sqrNum)"
   ],
   "outputs": [
    {
     "output_type": "execute_result",
     "data": {
      "text/plain": [
       "[1, 2, 3]"
      ]
     },
     "metadata": {},
     "execution_count": 6
    }
   ],
   "metadata": {}
  },
  {
   "cell_type": "code",
   "execution_count": 9,
   "source": [
    "sum(list(map(lambda x: x**len([1,2,3]), [1,2,3])))"
   ],
   "outputs": [
    {
     "output_type": "execute_result",
     "data": {
      "text/plain": [
       "36"
      ]
     },
     "metadata": {},
     "execution_count": 9
    }
   ],
   "metadata": {}
  },
  {
   "cell_type": "code",
   "execution_count": 23,
   "source": [
    "# Method 1\n",
    "def narcissistic(value):\n",
    "    valueList = [int(i) for i in str(value)]\n",
    "    valueSum = sum(list(map(lambda x: x**len(valueList), valueList)))\n",
    "    if valueSum == value: return True\n",
    "    return False\n",
    "print(f'Method 1 output is: {narcissistic(7)}')"
   ],
   "outputs": [
    {
     "output_type": "stream",
     "name": "stdout",
     "text": [
      "Method 1 output is: True\n"
     ]
    }
   ],
   "metadata": {}
  },
  {
   "cell_type": "markdown",
   "source": [
    "# Find the odd int\n",
    "Given an array of integers, find the one that appears an odd number of times.\n",
    "\n",
    "There will always be only one integer that appears an odd number of times.\n",
    "\n",
    "Examples: \n",
    "\n",
    "test.assert_equals(find_it([20,1,-1,2,-2,3,3,5,5,1,2,4,20,4,-1,-2,5]), 5)\n",
    "\n",
    "test.assert_equals(find_it([1,1,2,-2,5,2,4,4,-1,-2,5]), -1); \n",
    "\n",
    "test.assert_equals(find_it([20,1,1,2,2,3,3,5,5,4,20,4,5]), 5);\n",
    "\n",
    "test.assert_equals(find_it([10]), 10);\n",
    "\n",
    "test.assert_equals(find_it([1,1,1,1,1,1,10,1,1,1,1]), 10);\n",
    "\n",
    "test.assert_equals(find_it([5,4,3,2,1,5,4,3,2,10,10]), 1);"
   ],
   "metadata": {}
  },
  {
   "cell_type": "code",
   "execution_count": 42,
   "source": [
    "from collections import Counter\n",
    "# Method 1\n",
    "def oddInt1(alist):\n",
    "    return [key for key,value in Counter(alist).items() if value%2 != 0][0]\n",
    "print(f'Method 1 output is: {oddInt1([1,1,2,-2,5,2,4,4,-1,-2,5])}')"
   ],
   "outputs": [
    {
     "output_type": "stream",
     "name": "stdout",
     "text": [
      "Method 1 output is: -1\n"
     ]
    }
   ],
   "metadata": {}
  },
  {
   "cell_type": "markdown",
   "source": [
    "# Sum of two lowest positive integers\n",
    "\n",
    "Create a function that returns the sum of the two lowest positive numbers given an array of minimum 4 positive integers. No floats or non-positive integers will be passed.\n",
    "\n",
    "For example, when an array is passed like [19, 5, 42, 2, 77], the output should be 7.\n",
    "\n",
    "[10, 343445353, 3453445, 3453545353453] should return 3453455.\n",
    "\n",
    "Examples: \n",
    "\n",
    "test.assert_equals(sum_two_smallest_numbers([5, 8, 12, 18, 22]), 13)\n",
    "\n",
    "test.assert_equals(sum_two_smallest_numbers([7, 15, 12, 18, 22]), 19)\n",
    "\n",
    "test.assert_equals(sum_two_smallest_numbers([25, 42, 12, 18, 22]), 30)"
   ],
   "metadata": {}
  },
  {
   "cell_type": "code",
   "execution_count": 62,
   "source": [
    "# Method 1\n",
    "def twoSumLowest(alist):\n",
    "    return sum(sorted(alist)[:2])\n",
    "print(f'Method 1 output is: {twoSumLowest([25, 42, 12, 18, 22])}') "
   ],
   "outputs": [
    {
     "output_type": "stream",
     "name": "stdout",
     "text": [
      "Method 1 output is: 30\n"
     ]
    }
   ],
   "metadata": {}
  },
  {
   "cell_type": "markdown",
   "source": [
    "# Yet to see this\n",
    "# Max number of people and year in a specific place\n",
    "As a historian, you wonder how many people ever lived in a specific area.\n",
    "\n",
    "Given an amount of records as an array/vector/list of arrays/pairs/tuples representing the year of arrival/birth and departure/death from a given area, your task is to write a function that returns the maximum for that area and the year in which said maximum was achieved.\n",
    "\n",
    "If more years have that maximum, just return the first one of them.\n",
    "\n",
    "If you have both people entering and exiting the territory in the same year, consider that all new comers arrived/were born before anyone left/died for the sake of computing when the maximum was achieved\n",
    "\n",
    "You will always be given at least one record of beginning/ending of a presence on the territory in valid format (ie: the first value will be lesser than or equal to the second).\n",
    "\n",
    "Example: \n",
    "\n",
    "year_max_people([(1978, 1978), (1969, 1998)]) == (2, 1978)\n",
    "\n",
    "year_max_people([(1980, 2010), (1979, 1985), (1986, 1995), (1987, 2008)]) == (3, 1987)\n",
    "\n",
    "year_max_people([(1980, 2010), (1979, 1985), (1986, 1995), (1987, 2008)]) == (3, 1986)"
   ],
   "metadata": {}
  },
  {
   "cell_type": "code",
   "execution_count": 123,
   "source": [
    "def year_max_people(records):\n",
    "    alist = [j for i in records for j in i]\n",
    "    maxY,minY = max(alist) ,min(alist)\n",
    "    yearDic = Counter(alist)\n",
    "    for i in range(minY+1,maxY):\n",
    "        if i in yearDic:\n",
    "            yearDic[i] += 1\n",
    "        else:\n",
    "            yearDic[i] = 1\n",
    "    # return max(yearDic.items(), key=lambda x : x[1])[::-1]\n",
    "    return yearDic\n",
    "year_max_people([(1980, 2010), (1979, 1985), (1986, 1995), (1987, 2008)])"
   ],
   "outputs": [
    {
     "output_type": "execute_result",
     "data": {
      "text/plain": [
       "Counter({1980: 2,\n",
       "         2010: 1,\n",
       "         1979: 1,\n",
       "         1985: 2,\n",
       "         1986: 2,\n",
       "         1995: 2,\n",
       "         1987: 2,\n",
       "         2008: 2,\n",
       "         1981: 1,\n",
       "         1982: 1,\n",
       "         1983: 1,\n",
       "         1984: 1,\n",
       "         1988: 1,\n",
       "         1989: 1,\n",
       "         1990: 1,\n",
       "         1991: 1,\n",
       "         1992: 1,\n",
       "         1993: 1,\n",
       "         1994: 1,\n",
       "         1996: 1,\n",
       "         1997: 1,\n",
       "         1998: 1,\n",
       "         1999: 1,\n",
       "         2000: 1,\n",
       "         2001: 1,\n",
       "         2002: 1,\n",
       "         2003: 1,\n",
       "         2004: 1,\n",
       "         2005: 1,\n",
       "         2006: 1,\n",
       "         2007: 1,\n",
       "         2009: 1})"
      ]
     },
     "metadata": {},
     "execution_count": 123
    }
   ],
   "metadata": {}
  },
  {
   "cell_type": "markdown",
   "source": [
    "# Friend or Foe?\n",
    "Make a program that filters a list of strings and returns a list with only your friends name in it.\n",
    "\n",
    "If a name has exactly 4 letters in it, you can be sure that it has to be a friend of yours! Otherwise, you can be sure he's not...\n",
    "\n",
    "Ex: Input = [\"Ryan\", \"Kieran\", \"Jason\", \"Yous\"], Output = [\"Ryan\", \"Yous\"]\n",
    "\n",
    "i.e.\n",
    "\n",
    "friend [\"Ryan\", \"Kieran\", \"Mark\"]  `shouldBe`  [\"Ryan\", \"Mark\"]"
   ],
   "metadata": {}
  },
  {
   "cell_type": "code",
   "execution_count": 9,
   "source": [
    "def friend(alist):\n",
    "    return list(filter(lambda x: len(x)==4, alist))\n",
    "print(f'Method 1 output is: {friend([\"Ryan\", \"Kieran\", \"Jason\", \"Yous\"])}')"
   ],
   "outputs": [
    {
     "output_type": "stream",
     "name": "stdout",
     "text": [
      "Method 1 output is: ['Ryan', 'Yous']\n"
     ]
    }
   ],
   "metadata": {}
  },
  {
   "cell_type": "markdown",
   "source": [
    "# Sort the odd\n",
    "\n",
    "You will be given an array of numbers. You have to sort the odd numbers in ascending order while leaving the even numbers at their original positions.\n",
    "\n",
    "Examples\n",
    "\n",
    "[7, 1]  =>  [1, 7]\n",
    "\n",
    "[5, 8, 6, 3, 4]  =>  [3, 8, 6, 5, 4]\n",
    "\n",
    "[9, 8, 7, 6, 5, 4, 3, 2, 1, 0]  =>  [1, 8, 3, 6, 5, 4, 7, 2, 9, 0]"
   ],
   "metadata": {}
  },
  {
   "cell_type": "code",
   "execution_count": 38,
   "source": [
    "# Method 1\n",
    "# Idea: taking out all the odd numbers form the list and appending to new list\n",
    "def sortOdd(alist):\n",
    "    odd,c,output = sorted(list(filter(lambda x: x%2 !=0,alist))),0,[]\n",
    "    for i in alist:\n",
    "        if i %2 != 0:\n",
    "            output.append(odd[c])\n",
    "            c += 1\n",
    "        else:\n",
    "            output.append(i)\n",
    "    return output\n",
    "print(f'Method 1 output is: {sortOdd([9, 8, 7, 6, 5, 4, 3, 2, 1, 0])}')\n",
    "\n",
    "# Method 2\n",
    "# Idea: Similar to method 1, now we consider the even numbers\n",
    "def sortOdd2(alist):\n",
    "    odd = sorted(list(filter(lambda x: x%2 !=0,alist)))\n",
    "    for i,j in enumerate(alist): \n",
    "        if j%2==0: odd.insert(i,j) \n",
    "    return odd\n",
    "print(f'Method 2 output is: {sortOdd2([9, 8, 7, 6, 5, 4, 3, 2, 1, 0])}')"
   ],
   "outputs": [
    {
     "output_type": "stream",
     "name": "stdout",
     "text": [
      "Method 1 output is: [1, 8, 3, 6, 5, 4, 7, 2, 9, 0]\n",
      "Method 2 output is: [1, 8, 3, 6, 5, 4, 7, 2, 9, 0]\n"
     ]
    }
   ],
   "metadata": {}
  },
  {
   "cell_type": "code",
   "execution_count": null,
   "source": [],
   "outputs": [],
   "metadata": {}
  }
 ],
 "metadata": {
  "orig_nbformat": 4,
  "language_info": {
   "name": "python",
   "version": "3.8.5",
   "mimetype": "text/x-python",
   "codemirror_mode": {
    "name": "ipython",
    "version": 3
   },
   "pygments_lexer": "ipython3",
   "nbconvert_exporter": "python",
   "file_extension": ".py"
  },
  "kernelspec": {
   "name": "python3",
   "display_name": "Python 3.8.5 64-bit"
  },
  "interpreter": {
   "hash": "0adcc2737ebf6a4a119f135174df96668767fca1ef1112612db5ecadf2b6d608"
  }
 },
 "nbformat": 4,
 "nbformat_minor": 2
}