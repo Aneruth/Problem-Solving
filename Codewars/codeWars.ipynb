{
 "cells": [
  {
   "cell_type": "markdown",
   "source": [
    "# Array.diff\n",
    "\n",
    "Your goal in this kata is to implement a difference function, which subtracts one list from another and returns the result.\n",
    "\n",
    "It should remove all values from list a, which are present in list b keeping their order.\n",
    "\n",
    "array_diff([1,2],[1]) == [2]\n",
    "\n",
    "If a value is present in b, all of its occurrences must be removed from the other:\n",
    "\n",
    "array_diff([1,2,2,2,3],[2]) == [1,3]"
   ],
   "metadata": {}
  },
  {
   "cell_type": "code",
   "execution_count": 31,
   "source": [
    "def arrrayDiff(alist,blist):\n",
    "    return list(set(alist) - set(alist).intersection(set(blist)))\n",
    "arrrayDiff([1,2,2],[1])"
   ],
   "outputs": [
    {
     "output_type": "execute_result",
     "data": {
      "text/plain": [
       "[2]"
      ]
     },
     "metadata": {},
     "execution_count": 31
    }
   ],
   "metadata": {}
  },
  {
   "cell_type": "markdown",
   "source": [
    "# Stop gninnipS My sdroW!\n",
    "\n",
    "Write a function that takes in a string of one or more words, and returns the same string, but with all five or more letter words reversed.\n",
    "\n",
    "- Strings passed in will consist of only letters and spaces.\n",
    "\n",
    "- Spaces will be included only when more than one word is present.\n",
    "\n",
    "Examples:\n",
    "\n",
    "spinWords(\"Hey fellow warriors\") => \"Hey wollef sroirraw\" \n",
    "\n",
    "spinWords(\"This is a test\") => \"This is a test\" \n",
    "\n",
    "spinWords(\"This is another test\") => \"This is rehtona test\""
   ],
   "metadata": {}
  },
  {
   "cell_type": "code",
   "execution_count": 25,
   "source": [
    "# If the length of a word is eequals or greater than 5 reverse the word\n",
    "def spinWords(word):\n",
    "    return ' '.join([i[::-1] if len(i) >=5 else i for i in word.split(' ')])\n",
    "print(f'Word Spin is: {spinWords(\"My name is Aneruth\")}')"
   ],
   "outputs": [
    {
     "output_type": "stream",
     "name": "stdout",
     "text": [
      "Word Spin is: My name is hturenA\n"
     ]
    }
   ],
   "metadata": {}
  },
  {
   "cell_type": "markdown",
   "source": [
    "# Sum of Digits / Digital Root\n",
    "\n",
    "Digital root is the recursive sum of all the digits in a number.\n",
    "\n",
    "Given n, take the sum of the digits of n. If that value has more than one digit, continue reducing in this way until a single-digit number is produced. The input will be a non-negative integer.\n",
    "\n",
    "Examples\n",
    "\n",
    "    16  -->  1 + 6 = 7\n",
    "   \n",
    "   942  -->  9 + 4 + 2 = 15  -->  1 + 5 = 6\n",
    "   \n",
    "   132189  -->  1 + 3 + 2 + 1 + 8 + 9 = 24  -->  2 + 4 = 6\n",
    "\n",
    "   493193  -->  4 + 9 + 3 + 1 + 9 + 3 = 29  -->  2 + 9 = 11  -->  1 + 1 = 2"
   ],
   "metadata": {}
  },
  {
   "cell_type": "code",
   "execution_count": 29,
   "source": [
    "# Method 1\n",
    "def digiRoot1(n):\n",
    "    return n % 9 or n and 9\n",
    "print(f'Digital Root Method 1 output is: {digiRoot1(16)}')\n",
    "\n",
    "# Method 2\n",
    "def digiRoot2(n):\n",
    "    return n if n < 10 else digiRoot2(sum(map(int,str(n))))\n",
    "print(f'Digital Root Method 2 output is: {digiRoot2(16)}')"
   ],
   "outputs": [
    {
     "output_type": "stream",
     "name": "stdout",
     "text": [
      "Digital Root Method 1 output is: 7\n",
      "Digital Root Method 2 output is: 7\n"
     ]
    }
   ],
   "metadata": {}
  },
  {
   "cell_type": "code",
   "execution_count": 69,
   "source": [
    "def solution(number):\n",
    "    return sum([i for i in [i for i in range(1,number)] if i % 3 == 0 or i % 5 == 0])"
   ],
   "outputs": [],
   "metadata": {}
  },
  {
   "cell_type": "code",
   "execution_count": 70,
   "source": [
    "solution(10)"
   ],
   "outputs": [
    {
     "output_type": "execute_result",
     "data": {
      "text/plain": [
       "23"
      ]
     },
     "metadata": {},
     "execution_count": 70
    }
   ],
   "metadata": {}
  },
  {
   "cell_type": "markdown",
   "source": [
    "# Persistent Bugger\n",
    "Write a function, persistence, that takes in a positive parameter num and returns its multiplicative persistence, which is the number of times you must multiply the digits in num until you reach a single digit.\n",
    "\n",
    "For example:\n",
    "\n",
    " persistence(39) \n",
    "                 \n",
    "                 # returns 3, because 3*9=27, 2*7=14, 1*4=4\n",
    "                 \n",
    "                 # and 4 has only one digit\n",
    "                  \n",
    " persistence(999) \n",
    "                 \n",
    "                  # returns 4, because 9*9*9=729, 7*2*9=126,\n",
    "                 \n",
    "                  # 1*2*6=12, and finally 1*2=2\n",
    "\n",
    " persistence(4) \n",
    "                  \n",
    "                  # returns 0, because 4 is already a one-digit number"
   ],
   "metadata": {}
  },
  {
   "cell_type": "code",
   "execution_count": 125,
   "source": [
    "# Method 1\n",
    "def MultiplicativePersistence(num): \n",
    "   steps = 0\n",
    "   while num > 9:\n",
    "     snum = str(num)\n",
    "     num = 1\n",
    "     for snum in snum:\n",
    "        num *= int(snum)\n",
    "     steps += 1\n",
    "   return steps\n",
    "print(f'Method 1 output is: {MultiplicativePersistence(999)}')"
   ],
   "outputs": [
    {
     "output_type": "stream",
     "name": "stdout",
     "text": [
      "Method 1 output is: 4\n"
     ]
    }
   ],
   "metadata": {}
  },
  {
   "cell_type": "markdown",
   "source": [
    "# First non-repeating character\n",
    "Write a function named first_non_repeating_letter that takes a string input, and returns the first character that is not repeated anywhere in the string.\n",
    "\n",
    "For example, if given the input 'stress', the function should return 't', since the letter t only occurs once in the string, and occurs first in the string.\n",
    "\n",
    "As an added challenge, upper- and lowercase letters are considered the same character, but the function should return the correct case for the initial letter. For example, the input 'sTreSS' should return 'T'.\n",
    "\n",
    "If a string contains all repeating characters, it should return an empty string (\"\") or None -- see sample tests.\n",
    "\n",
    "Examples: \n",
    "\n",
    "test.describe('Basic Tests')\n",
    "\n",
    "test.it('should handle simple tests')\n",
    "\n",
    "test.assert_equals(first_non_repeating_letter('a'), 'a')\n",
    "\n",
    "test.assert_equals(first_non_repeating_letter('stress'), 't')\n",
    "\n",
    "test.assert_equals(first_non_repeating_letter('moonmen'), 'e')\n",
    "\n",
    "test.it('should handle empty strings')\n",
    "\n",
    "test.assert_equals(first_non_repeating_letter(''), '')\n",
    "\n",
    "test.it('should handle all repeating strings') \n",
    "\n",
    "test.assert_equals(first_non_repeating_letter('abba'), '')\n",
    "\n",
    "test.assert_equals(first_non_repeating_letter('aa'), '')\n",
    "\n",
    "test.it('should handle odd characters')\n",
    "\n",
    "test.assert_equals(first_non_repeating_letter('~><#~><'), '#')\n",
    "\n",
    "test.assert_equals(first_non_repeating_letter('hello world, eh?'), 'w')\n",
    "\n",
    "test.it('should handle letter cases')\n",
    "\n",
    "test.assert_equals(first_non_repeating_letter('sTreSS'), 'T')\n",
    "\n",
    "test.assert_equals(first_non_repeating_letter('Go hang a salami, I\\'m a lasagna hog!'), ',')"
   ],
   "metadata": {}
  },
  {
   "cell_type": "code",
   "execution_count": 52,
   "source": [
    "# Method 1 (Okish Idea)\n",
    "def firstNonRepeat1(string):\n",
    "    from collections import Counter\n",
    "    # Base case 1 when we get the input of length of 1 or multiple same letter\n",
    "    if len(set(string)) == 1 or len(set(string)) == 2: return ''\n",
    "    else:\n",
    "        strList = [i.lower() for i in string]\n",
    "        strDict = Counter(strList)\n",
    "        strRes = ''.join(key for key,value in strDict.items() if value == 1)[0]\n",
    "        return strRes\n",
    "    return \"\"\n",
    "# method1(\"Go hang a salami, I\\'m a lasagna hog!\")\n",
    "print(f'Method 1 output is: {firstNonRepeat1(\"sTreSS\")}')\n",
    "\n",
    "# Method 2\n",
    "def firstNonRepeat2(string):\n",
    "    strList = [i.lower() for i in string]\n",
    "    for i in range(len(strList)):\n",
    "        if strList.count(strList[i]) == 1:\n",
    "            return string[i]\n",
    "    return ''\n",
    "print(f'Method 2 output is: {firstNonRepeat2(\"sTreSS\")}')"
   ],
   "outputs": [
    {
     "output_type": "stream",
     "name": "stdout",
     "text": [
      "Method 1 output is: t\n",
      "Method 2 output is: T\n"
     ]
    }
   ],
   "metadata": {}
  },
  {
   "cell_type": "markdown",
   "source": [
    "# Find the missing letter\n",
    "Write a method that takes an array of consecutive (increasing) letters as input and that returns the missing letter in the array.\n",
    "\n",
    "You will always get an valid array. And it will be always exactly one letter be missing. The length of the array will always be at least 2.\n",
    "The array will always contain letters in only one case.\n",
    "\n",
    "Example:\n",
    "\n",
    "['a','b','c','d','f'] -> 'e' \n",
    "\n",
    "['O','Q','R','S'] -> 'P'"
   ],
   "metadata": {}
  },
  {
   "cell_type": "code",
   "execution_count": 13,
   "source": [
    "# Method 1\n",
    "def missingLetter1(alist):\n",
    "    alphaList = [chr(i) for i in range(ord(alist[0]),ord(alist[-1])+1)]\n",
    "    return ''.join(i for i in alphaList if i not in alist)\n",
    "print(f\"Method 1 output is: {missingLetter1(['O','Q','R','S'])}\")"
   ],
   "outputs": [
    {
     "output_type": "stream",
     "name": "stdout",
     "text": [
      "P\n"
     ]
    }
   ],
   "metadata": {}
  },
  {
   "cell_type": "markdown",
   "source": [
    "# String incrementer\n",
    "\n",
    "Your job is to write a function which increments a string, to create a new string.\n",
    "\n",
    "    - If the string already ends with a number, the number should be incremented by 1.\n",
    "\n",
    "    - If the string does not end with a number. the number 1 should be appended to the new string.\n",
    "\n",
    "Examples:\n",
    "\n",
    "foo -> foo1\n",
    "\n",
    "foobar23 -> foobar24\n",
    "\n",
    "foo0042 -> foo0043\n",
    "\n",
    "foo9 -> foo10\n",
    "\n",
    "foo099 -> foo100"
   ],
   "metadata": {}
  },
  {
   "cell_type": "code",
   "execution_count": null,
   "source": [
    "# Method 1\n",
    "def stringIncrement(string):\n",
    "    return"
   ],
   "outputs": [],
   "metadata": {}
  }
 ],
 "metadata": {
  "orig_nbformat": 4,
  "language_info": {
   "name": "python",
   "version": "3.8.5",
   "mimetype": "text/x-python",
   "codemirror_mode": {
    "name": "ipython",
    "version": 3
   },
   "pygments_lexer": "ipython3",
   "nbconvert_exporter": "python",
   "file_extension": ".py"
  },
  "kernelspec": {
   "name": "python3",
   "display_name": "Python 3.8.5 64-bit"
  },
  "interpreter": {
   "hash": "0adcc2737ebf6a4a119f135174df96668767fca1ef1112612db5ecadf2b6d608"
  }
 },
 "nbformat": 4,
 "nbformat_minor": 2
}