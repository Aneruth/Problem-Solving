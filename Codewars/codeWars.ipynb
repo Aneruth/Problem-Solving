{
 "cells": [
  {
   "cell_type": "markdown",
   "source": [
    "# Array.diff\n",
    "\n",
    "Your goal in this kata is to implement a difference function, which subtracts one list from another and returns the result.\n",
    "\n",
    "It should remove all values from list a, which are present in list b keeping their order.\n",
    "\n",
    "array_diff([1,2],[1]) == [2]\n",
    "\n",
    "If a value is present in b, all of its occurrences must be removed from the other:\n",
    "\n",
    "array_diff([1,2,2,2,3],[2]) == [1,3]"
   ],
   "metadata": {}
  },
  {
   "cell_type": "code",
   "execution_count": 31,
   "source": [
    "def arrrayDiff(alist,blist):\n",
    "    return list(set(alist) - set(alist).intersection(set(blist)))\n",
    "arrrayDiff([1,2,2],[1])"
   ],
   "outputs": [
    {
     "output_type": "execute_result",
     "data": {
      "text/plain": [
       "[2]"
      ]
     },
     "metadata": {},
     "execution_count": 31
    }
   ],
   "metadata": {}
  },
  {
   "cell_type": "markdown",
   "source": [
    "# Stop gninnipS My sdroW!\n",
    "\n",
    "Write a function that takes in a string of one or more words, and returns the same string, but with all five or more letter words reversed.\n",
    "\n",
    "- Strings passed in will consist of only letters and spaces.\n",
    "\n",
    "- Spaces will be included only when more than one word is present.\n",
    "\n",
    "Examples:\n",
    "\n",
    "spinWords(\"Hey fellow warriors\") => \"Hey wollef sroirraw\" \n",
    "\n",
    "spinWords(\"This is a test\") => \"This is a test\" \n",
    "\n",
    "spinWords(\"This is another test\") => \"This is rehtona test\""
   ],
   "metadata": {}
  },
  {
   "cell_type": "code",
   "execution_count": 25,
   "source": [
    "# If the length of a word is eequals or greater than 5 reverse the word\n",
    "def spinWords(word):\n",
    "    return ' '.join([i[::-1] if len(i) >=5 else i for i in word.split(' ')])\n",
    "print(f'Word Spin is: {spinWords(\"My name is Aneruth\")}')"
   ],
   "outputs": [
    {
     "output_type": "stream",
     "name": "stdout",
     "text": [
      "Word Spin is: My name is hturenA\n"
     ]
    }
   ],
   "metadata": {}
  },
  {
   "cell_type": "markdown",
   "source": [
    "# Sum of Digits / Digital Root\n",
    "\n",
    "Digital root is the recursive sum of all the digits in a number.\n",
    "\n",
    "Given n, take the sum of the digits of n. If that value has more than one digit, continue reducing in this way until a single-digit number is produced. The input will be a non-negative integer.\n",
    "\n",
    "Examples\n",
    "\n",
    "    16  -->  1 + 6 = 7\n",
    "   \n",
    "   942  -->  9 + 4 + 2 = 15  -->  1 + 5 = 6\n",
    "   \n",
    "   132189  -->  1 + 3 + 2 + 1 + 8 + 9 = 24  -->  2 + 4 = 6\n",
    "\n",
    "   493193  -->  4 + 9 + 3 + 1 + 9 + 3 = 29  -->  2 + 9 = 11  -->  1 + 1 = 2"
   ],
   "metadata": {}
  },
  {
   "cell_type": "code",
   "execution_count": 29,
   "source": [
    "# Method 1\n",
    "def digiRoot1(n):\n",
    "    return n % 9 or n and 9\n",
    "print(f'Digital Root Method 1 output is: {digiRoot1(16)}')\n",
    "\n",
    "# Method 2\n",
    "def digiRoot2(n):\n",
    "    return n if n < 10 else digiRoot2(sum(map(int,str(n))))\n",
    "print(f'Digital Root Method 2 output is: {digiRoot2(16)}')"
   ],
   "outputs": [
    {
     "output_type": "stream",
     "name": "stdout",
     "text": [
      "Digital Root Method 1 output is: 7\n",
      "Digital Root Method 2 output is: 7\n"
     ]
    }
   ],
   "metadata": {}
  },
  {
   "cell_type": "code",
   "execution_count": 69,
   "source": [
    "def solution(number):\n",
    "    return sum([i for i in [i for i in range(1,number)] if i % 3 == 0 or i % 5 == 0])"
   ],
   "outputs": [],
   "metadata": {}
  },
  {
   "cell_type": "code",
   "execution_count": 70,
   "source": [
    "solution(10)"
   ],
   "outputs": [
    {
     "output_type": "execute_result",
     "data": {
      "text/plain": [
       "23"
      ]
     },
     "metadata": {},
     "execution_count": 70
    }
   ],
   "metadata": {}
  },
  {
   "cell_type": "markdown",
   "source": [
    "# Persistent Bugger\n",
    "Write a function, persistence, that takes in a positive parameter num and returns its multiplicative persistence, which is the number of times you must multiply the digits in num until you reach a single digit.\n",
    "\n",
    "For example:\n",
    "\n",
    " persistence(39) \n",
    "                 \n",
    "                 # returns 3, because 3*9=27, 2*7=14, 1*4=4\n",
    "                 \n",
    "                 # and 4 has only one digit\n",
    "                  \n",
    " persistence(999) \n",
    "                 \n",
    "                  # returns 4, because 9*9*9=729, 7*2*9=126,\n",
    "                 \n",
    "                  # 1*2*6=12, and finally 1*2=2\n",
    "\n",
    " persistence(4) \n",
    "                  \n",
    "                  # returns 0, because 4 is already a one-digit number"
   ],
   "metadata": {}
  },
  {
   "cell_type": "code",
   "execution_count": 125,
   "source": [
    "# Method 1\n",
    "def MultiplicativePersistence(num): \n",
    "   steps = 0\n",
    "   while num > 9:\n",
    "     snum = str(num)\n",
    "     num = 1\n",
    "     for snum in snum:\n",
    "        num *= int(snum)\n",
    "     steps += 1\n",
    "   return steps\n",
    "print(f'Method 1 output is: {MultiplicativePersistence(999)}')"
   ],
   "outputs": [
    {
     "output_type": "stream",
     "name": "stdout",
     "text": [
      "Method 1 output is: 4\n"
     ]
    }
   ],
   "metadata": {}
  }
 ],
 "metadata": {
  "orig_nbformat": 4,
  "language_info": {
   "name": "python",
   "version": "3.8.5",
   "mimetype": "text/x-python",
   "codemirror_mode": {
    "name": "ipython",
    "version": 3
   },
   "pygments_lexer": "ipython3",
   "nbconvert_exporter": "python",
   "file_extension": ".py"
  },
  "kernelspec": {
   "name": "python3",
   "display_name": "Python 3.8.5 64-bit"
  },
  "interpreter": {
   "hash": "0adcc2737ebf6a4a119f135174df96668767fca1ef1112612db5ecadf2b6d608"
  }
 },
 "nbformat": 4,
 "nbformat_minor": 2
}