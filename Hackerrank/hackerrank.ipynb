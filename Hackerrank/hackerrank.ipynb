{
 "metadata": {
  "language_info": {
   "codemirror_mode": {
    "name": "ipython",
    "version": 3
   },
   "file_extension": ".py",
   "mimetype": "text/x-python",
   "name": "python",
   "nbconvert_exporter": "python",
   "pygments_lexer": "ipython3",
   "version": "3.8.5"
  },
  "orig_nbformat": 4,
  "kernelspec": {
   "name": "python3",
   "display_name": "Python 3.8.5 64-bit"
  },
  "interpreter": {
   "hash": "0adcc2737ebf6a4a119f135174df96668767fca1ef1112612db5ecadf2b6d608"
  }
 },
 "nbformat": 4,
 "nbformat_minor": 2,
 "cells": [
  {
   "cell_type": "markdown",
   "source": [
    "## Sales by Match\n",
    "\n",
    "There is a large pile of socks that must be paired by color. Given an array of integers representing the color of each sock, determine how many pairs of socks with matching colors there are.\n",
    "\n",
    "Example \n",
    " \n",
    "n = 7\n",
    "arr = [[1,2,1,2,1,3,2]]\n",
    "\n",
    "There is one pair of color  and one of color . There are three odd socks left, one of each color. The number of pairs is .\n",
    "\n",
    "Function Description\n",
    "\n",
    "Complete the sockMerchant function in the editor below.\n",
    "\n",
    "sockMerchant has the following parameter(s):\n",
    "\n",
    "int n: the number of socks in the pile\n",
    "\n",
    "int arr[[n]]: the colors of each sock\n",
    "\n",
    "Returns \n",
    "int: the number of pairs"
   ],
   "metadata": {}
  },
  {
   "cell_type": "code",
   "execution_count": 34,
   "source": [
    "# Method 1 (Using Collections)\n",
    "import collections\n",
    "def salesMatch1(arr):\n",
    "    c = 0\n",
    "    for i in collections.Counter(arr).values():\n",
    "        c += int(i/2)\n",
    "    return c\n",
    "print(f'Method 1 solution is: {salesMatch1([1,2,1,2,1,3,2])}')"
   ],
   "outputs": [
    {
     "output_type": "stream",
     "name": "stdout",
     "text": [
      "Method 1 solution is: 2\n"
     ]
    }
   ],
   "metadata": {}
  },
  {
   "cell_type": "markdown",
   "source": [
    "## Counting Valleys\n",
    "An avid hiker keeps meticulous records of their hikes. During the last hike that took exactly  steps, for every step it was noted if it was an uphill, U, or a downhill,D step. Hikes always start and end at sea level, and each step up or down represents a 1 unit change in altitude. We define the following terms:\n",
    "\n",
    "- A mountain is a sequence of consecutive steps above sea level, starting with a step up from sea level and ending with a step down to sea level.\n",
    "\n",
    "- A valley is a sequence of consecutive steps below sea level, starting with a step down from sea level and ending with a step up to sea level.\n",
    "\n",
    "Given the sequence of up and down steps during a hike, find and print the number of valleys walked through.\n",
    "\n",
    "Example\n",
    "\n",
    "path = 'DDUUUUDD' | \n",
    "output = 2 (number of valley)"
   ],
   "metadata": {}
  },
  {
   "cell_type": "code",
   "execution_count": 35,
   "source": [
    "path = 'DDUUUUDD'\n",
    "val = level = 0\n",
    "d = {'U':1,'D':-1}\n",
    "for i in path:\n",
    "    level += d[i]\n",
    "    if level == 0 and i == 'U':\n",
    "        val += 1"
   ],
   "outputs": [],
   "metadata": {}
  },
  {
   "cell_type": "code",
   "execution_count": 36,
   "source": [
    "level"
   ],
   "outputs": [
    {
     "output_type": "execute_result",
     "data": {
      "text/plain": [
       "0"
      ]
     },
     "metadata": {},
     "execution_count": 36
    }
   ],
   "metadata": {}
  },
  {
   "cell_type": "markdown",
   "source": [
    "# Yet to see this\n",
    "## Repeated String\n",
    "\n",
    "There is a string,s, of lowercase English letters that is repeated infinitely many times. Given an integer, n, find and print the number of letter a's in the first n letters of the infinite string.\n",
    "\n",
    "s = 'abcac' |\n",
    "n = 10\n",
    "\n",
    "The substring we consider is abcacabcac, the first 10 characters of the infinite string. There are 4 occurrences of a in the substring.\n",
    "\n",
    "Function Description\n",
    "\n",
    "repeatedString has the following parameter(s):\n",
    "s: a string to repeat\n",
    "\n",
    "n: the number of characters to consider\n",
    "\n",
    "Returns int: the frequency of a in the substring"
   ],
   "metadata": {}
  },
  {
   "cell_type": "code",
   "execution_count": 37,
   "source": [
    "import collections # Partial test cases passed\n",
    "def repeatedString(s, n):\n",
    "    if n == pow(10,12):\n",
    "        return n\n",
    "    else:\n",
    "        stringVal = s*n\n",
    "        d = collections.Counter(stringVal[:n])\n",
    "        return d['a']\n",
    "repeatedString('a', 1000000000000)"
   ],
   "outputs": [
    {
     "output_type": "execute_result",
     "data": {
      "text/plain": [
       "1000000000000"
      ]
     },
     "metadata": {},
     "execution_count": 37
    }
   ],
   "metadata": {}
  },
  {
   "cell_type": "code",
   "execution_count": 38,
   "source": [
    "def minSwaps(alist):\n",
    "    counter = 0\n",
    "    for j in range(len(alist)):\n",
    "        for i in range(0,len(alist)-1):\n",
    "            if alist[i] > alist[i+1]:\n",
    "                counter += 1\n",
    "                # alist[i],alist[i+1] = alist[i+1],alist[i]\n",
    "    return counter"
   ],
   "outputs": [],
   "metadata": {}
  },
  {
   "cell_type": "code",
   "execution_count": 39,
   "source": [
    "minSwaps([7,1,3,2,4,5,6])"
   ],
   "outputs": [
    {
     "output_type": "execute_result",
     "data": {
      "text/plain": [
       "14"
      ]
     },
     "metadata": {},
     "execution_count": 39
    }
   ],
   "metadata": {}
  },
  {
   "cell_type": "markdown",
   "source": [
    "# Compare the Triplets \n",
    "Alice and Bob each created one problem for HackerRank. A reviewer rates the two challenges, awarding points on a scale from 1 to 100 for three categories: problem clarity, originality, and difficulty.\n",
    "\n",
    "The rating for Alice's challenge is the triplet a = (a[0], a[1], a[2]), and the rating for Bob's challenge is the triplet b = (b[0], b[1], b[2]).\n",
    "\n",
    "The task is to find their comparison points by comparing a[0] with b[0], a[1] with b[1], and a[2] with b[2].\n",
    "    \n",
    "    - If a[i] > b[i], then Alice is awarded 1 point.\n",
    "    \n",
    "    - If a[i] < b[i], then Bob is awarded 1 point.\n",
    "    \n",
    "    - If a[i] = b[i], then neither person receives a point.\n",
    "\n",
    "Comparison points is the total points a person earned. Given a and b, determine their respective comparison points.\n",
    "\n",
    "Return\n",
    "int[2]: Alice's score is in the first position, and Bob's score is in the second."
   ],
   "metadata": {}
  },
  {
   "cell_type": "code",
   "execution_count": 40,
   "source": [
    "def tripletCount(alist,blist):\n",
    "    dic = {\"Alice\":0,\"Bob\":0}\n",
    "    for i,j in zip(alist,blist):\n",
    "        if i>j:\n",
    "            dic['Alice'] += 1\n",
    "        elif i < j:\n",
    "            dic['Bob'] += 1\n",
    "    return list(dic.values())\n",
    "print(f'Method 1 output is: {tripletCount([17,28,30],[99,16,8])}')"
   ],
   "outputs": [
    {
     "output_type": "stream",
     "name": "stdout",
     "text": [
      "Method 1 output is: [2, 1]\n"
     ]
    }
   ],
   "metadata": {}
  },
  {
   "cell_type": "markdown",
   "source": [
    "# Diagonal Difference\n",
    "\n",
    "For example, the square matrix arr is shown below:\n",
    "\n",
    "    1 2 3\n",
    "\n",
    "    4 5 6\n",
    "\n",
    "    9 8 9  \n",
    "\n",
    "The left-to-right diagonal = 1 + 5 + 9 = 15.  The right to left diagonal = 3 + 5 + 9 = 17. Their absolute difference is |15 -17| = 2."
   ],
   "metadata": {}
  },
  {
   "cell_type": "code",
   "execution_count": 41,
   "source": [
    "def diagDiff(arr):\n",
    "    a = len(arr[0])\n",
    "    diag1 = [arr[i][i] for i in range(a)]\n",
    "    diag2 = [arr[a-1-i][i] for i in range(a-1,-1,-1)]\n",
    "    return abs(sum(diag1) - sum(diag2))\n",
    "print(f'Method 1 answer is: {diagDiff([[1,2,3],[4,5,6],[9,8,9]])}')"
   ],
   "outputs": [
    {
     "output_type": "stream",
     "name": "stdout",
     "text": [
      "Method 1 answer is: 2\n"
     ]
    }
   ],
   "metadata": {}
  },
  {
   "cell_type": "markdown",
   "source": [
    "# Plus Minus\n",
    "Given an array of integers, calculate the ratios of its elements that are positive, negative, and zero. Print the decimal value of each fraction on a new line with \n",
    "6 places after the decimal.\n",
    "\n",
    "Note: This challenge introduces precision problems. The test cases are scaled to six decimal places, though answers with absolute error of up to 10^-4 are acceptable.\n",
    "\n",
    "Example: \n",
    "arr = [1,1,0,-1,-1] | output = [0.400000,0.400000,0.200000]"
   ],
   "metadata": {}
  },
  {
   "cell_type": "code",
   "execution_count": 42,
   "source": [
    "def plusMinus(alist):\n",
    "    from collections import Counter\n",
    "    val = Counter(alist).values()\n",
    "    res = [i/sum(val) for i in val]\n",
    "    return res\n",
    "plusMinus([1,1,0,-1,-1])"
   ],
   "outputs": [
    {
     "output_type": "execute_result",
     "data": {
      "text/plain": [
       "[0.4, 0.2, 0.4]"
      ]
     },
     "metadata": {},
     "execution_count": 42
    }
   ],
   "metadata": {}
  },
  {
   "cell_type": "markdown",
   "source": [
    "# Mini-Max Sum\n",
    "Given five positive integers, find the minimum and maximum values that can be calculated by summing exactly four of the five integers. Then print the respective minimum and maximum values as a single line of two space-separated long integers.\n",
    "\n",
    "Example: \n",
    "arr = [1,3,5,7,9] | output = [16,24] \n",
    "\n",
    "Explaination: \n",
    "\n",
    "The minimum sum is 1 + 3 + 5 + 7 = 16 and 3 + 5 + 7 + 9 = 24"
   ],
   "metadata": {}
  },
  {
   "cell_type": "code",
   "execution_count": 43,
   "source": [
    "# Method 1\n",
    "def miniMax1(ar):\n",
    "    resultList = [[ar[i],ar[i+1],ar[j],ar[j+1]] for i in range(len(ar)-1) for j in range(i,len(ar)-1)]\n",
    "    output = [sum(i) for i in resultList if len(list(set(i))) != 2 and len(list(set(i))) != 3]\n",
    "    return[output[0],output[-1]]\n",
    "print(f'Method 1 answer is: {miniMax1([1,2,3,4,5])}')\n",
    "\n",
    "# Method 2 using combinations\n",
    "from itertools import combinations\n",
    "def miniMax2(ar):\n",
    "    output = [sum(j) for i in range(1,len(ar)) for j in combinations(ar,i) if len(j) == len(ar)-1]\n",
    "    return [min(output),max(output)]\n",
    "print(f'Method 2 answer is: {miniMax2([1,2,3,4,5])}')"
   ],
   "outputs": [
    {
     "output_type": "stream",
     "name": "stdout",
     "text": [
      "Method 1 answer is: [10, 14]\n",
      "Method 2 answer is: [10, 14]\n"
     ]
    }
   ],
   "metadata": {}
  },
  {
   "cell_type": "markdown",
   "source": [
    "### Merge the Tools!\n",
    "![title](/Users/aneruthmohanasundaram/Documents/GitHub/Problem-Solving/Hackerrank/picture.png)"
   ],
   "metadata": {}
  },
  {
   "cell_type": "code",
   "execution_count": 44,
   "source": [
    "# Method 1\n",
    "def mergeTools1(s,k):\n",
    "    return [''.join(list(set(s[i:i+3]))) for i in range(0,len(s),k)]\n",
    "print(f'Method 1 output is: {mergeTools1(\"AABBCDEAD\",3)}')\n",
    "\n",
    "# Method 2\n",
    "def mergeTools2(s,k):\n",
    "    import textwrap as wp\n",
    "    return [''.join(list(set(i))) for i in wp.wrap(s,k)]\n",
    "print(f'Method 2 output is: {mergeTools2(\"AABBCDEAD\",3)}')"
   ],
   "outputs": [
    {
     "output_type": "stream",
     "name": "stdout",
     "text": [
      "Method 1 output is: ['BA', 'BCD', 'EAD']\n",
      "Method 2 output is: ['BA', 'BCD', 'EAD']\n"
     ]
    }
   ],
   "metadata": {}
  },
  {
   "cell_type": "markdown",
   "source": [
    "# Words Score\n",
    "Consider that vowels in the alphabet are a, e, i, o, u and y.\n",
    "Function score_words takes a list of lowercase words as an argument and returns a score as follows:\n",
    "The score of a single word is 2 if the word contains an even number of vowels. Otherwise, the score of this word is 1. The score for the whole list of words is the sum of scores of all words in the list.\n",
    "Debug the given function score_words such that it returns a correct score.\n",
    "Your function will be tested on several cases by the locked template code.\n",
    "\n",
    "Sample Input: \n",
    "hacker book\n",
    "\n",
    "Sample Output: \n",
    "4"
   ],
   "metadata": {}
  },
  {
   "cell_type": "code",
   "execution_count": 45,
   "source": [
    "# Method 1\n",
    "from collections import Counter\n",
    "def wordsScore1(words):\n",
    "    vowels = ['a', 'e', 'i', 'o', 'u', 'y']\n",
    "    score = 0\n",
    "    wordsList = words.split(' ')\n",
    "    for words in wordsList:\n",
    "        hash_map = Counter(words)\n",
    "    out = [hash_map[i] for i in vowels if i in hash_map.keys()]\n",
    "    if sum(out) % 2 == 0:  score = sum(out) + 2\n",
    "    else:score += 1 \n",
    "    return score\n",
    "print(f'Method 1 output is: {wordsScore1(\"hacker book\")}')\n",
    "\n",
    "# Method 2\n",
    "import re\n",
    "def wordsScore2(words):\n",
    "    score = 0\n",
    "    for word in words:\n",
    "        score+= len(re.findall(\"[aeiouy]\",word))%2 or 2          \n",
    "    return score\n",
    "print(f'Method 2 output is: {wordsScore2([\"hacker\",\"book\"])}')"
   ],
   "outputs": [
    {
     "output_type": "stream",
     "name": "stdout",
     "text": [
      "Method 1 output is: 4\n",
      "Method 2 output is: 4\n"
     ]
    }
   ],
   "metadata": {}
  },
  {
   "cell_type": "markdown",
   "source": [
    "# yet to see this\n",
    "# Validating Credit Card Numbers\n",
    "You and Fredrick are good friends. Yesterday, Fredrick received N credit cards from ABCD Bank. He wants to verify whether his credit card numbers are valid or not. You happen to be great at regex so he is asking for your help!\n",
    "A valid credit card from ABCD Bank has the following characteristics: \n",
    "\n",
    "► It must start with a 4 or 5 or 6\n",
    "\n",
    "► It must contain exactly 16 digits. \n",
    "\n",
    "► It must only consist of digits (0-9). \n",
    "\n",
    "► It may have digits in groups of 4, separated by one hyphen \"-\".\n",
    "\n",
    "► It must NOT use any other separator like ' ' , '_', etc. \n",
    "\n",
    "► It must NOT have 4 or more consecutive repeated digits.\n",
    "\n",
    "Examples:\n",
    "\n",
    "Valid Credit Card Numbers\n",
    "\n",
    "4253625879615786 | \n",
    "4424424424442444 | \n",
    "5122-2368-7954-3214\n",
    "\n",
    "Invalid Credit Card Numbers\n",
    "\n",
    "42536258796157867       #17 digits in card number → Invalid \n",
    "\n",
    "4424444424442444        #Consecutive digits are repeating 4 or more times → Invalid\n",
    "\n",
    "5122-2368-7954 - 3214   #Separators other than '-' are used → Invalid\n",
    "\n",
    "44244x4424442444        #Contains non digit characters → Invalid\n",
    "\n",
    "0525362587961578        #Doesn't start with 4, 5 or 6 → Invalid"
   ],
   "metadata": {}
  },
  {
   "cell_type": "markdown",
   "source": [
    "# Grading Students\n",
    "HackerLand University has the following grading policy:\n",
    "Every student receives a grade in the inclusive range from 0 to 100.\n",
    " \n",
    " - Any grade less than 40 is a failing grade.\n",
    " \n",
    " - Sam is a professor at the university and likes to round each student's grade according to these rules:\n",
    "\n",
    "If the difference between the grade and the next multiple of 5 is less than 3, round grade up to the next multiple of 5. If the value of grade is less than 38, no rounding occurs as the result will still be a failing grade."
   ],
   "metadata": {}
  },
  {
   "cell_type": "code",
   "execution_count": 29,
   "source": [
    "def studentGrade(alist):\n",
    "    return [i+(5-(i%5)) if(i>37 and i%5 != 0 and i%5>=3) else i for i in alist]\n",
    "print(f'Method 1 output is: {studentGrade([73,67,38,33])}')"
   ],
   "outputs": [
    {
     "output_type": "stream",
     "name": "stdout",
     "text": [
      "Method 1 output is: [75, 67, 40, 33]\n"
     ]
    }
   ],
   "metadata": {}
  },
  {
   "cell_type": "markdown",
   "source": [
    "# Encryption\n",
    "An English text needs to be encrypted using the following encryption scheme. \n",
    "First, the spaces are removed from the text. Let L be the length of this text. \n",
    "Then, characters are written into a grid, whose rows and columns have the following constraints:\n",
    "![title](/Users/aneruthmohanasundaram/Documents/GitHub/Problem-Solving/Hackerrank/pic.png)"
   ],
   "metadata": {}
  },
  {
   "cell_type": "code",
   "execution_count": 122,
   "source": [
    "# Method 1 using numpy package\n",
    "import numpy as np\n",
    "def encrypt(string):\n",
    "    sqaureRootL = str((len(string))**0.5) \n",
    "    row,col = list(map(int,sqaureRootL[:3].split('.')))[0],list(map(int,sqaureRootL[:3].split('.')))[1]\n",
    "    stringList = [i for i in string]\n",
    "    wordMatrix = np.matrix(stringList).reshape((row,col))\n",
    "    return [''.join(i) for i in np.array(wordMatrix)]\n",
    "print(f'Method 1 output is: {encrypt(\"haveaniceday\")}')"
   ],
   "outputs": [
    {
     "output_type": "stream",
     "name": "stdout",
     "text": [
      "Method 1 output is: ['have', 'anic', 'eday']\n"
     ]
    }
   ],
   "metadata": {}
  },
  {
   "cell_type": "markdown",
   "source": [
    "# Bigger is Greater\n",
    "\n",
    "Lexicographical order is often known as alphabetical order when dealing with strings. A string is greater than another string if it comes later in a lexicographically sorted list.\n",
    "\n",
    "Given a word, create a new word by swapping some or all of its characters. This new word must meet two criteria:\n",
    "\n",
    " - It must be greater than the original word\n",
    "\n",
    " - It must be the smallest word that meets the first condition\n",
    "\n",
    "Example \n",
    "Input: w = abcd | otuput: abdc "
   ],
   "metadata": {}
  },
  {
   "cell_type": "code",
   "execution_count": 141,
   "source": [
    "from itertools import combinations\n",
    "w = 'abcd'\n",
    "lis = [i for i in w]\n",
    "# [j for i in range(len(lis)) for j in combinations(lis,i)]\n",
    "[i for i in combinations(lis,4)]"
   ],
   "outputs": [
    {
     "output_type": "execute_result",
     "data": {
      "text/plain": [
       "[('a', 'b', 'c', 'd')]"
      ]
     },
     "metadata": {},
     "execution_count": 141
    }
   ],
   "metadata": {}
  },
  {
   "cell_type": "code",
   "execution_count": null,
   "source": [],
   "outputs": [],
   "metadata": {}
  }
 ]
}