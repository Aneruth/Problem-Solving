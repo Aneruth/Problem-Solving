{
 "metadata": {
  "language_info": {
   "codemirror_mode": {
    "name": "ipython",
    "version": 3
   },
   "file_extension": ".py",
   "mimetype": "text/x-python",
   "name": "python",
   "nbconvert_exporter": "python",
   "pygments_lexer": "ipython3",
   "version": "3.8.5"
  },
  "orig_nbformat": 4,
  "kernelspec": {
   "name": "python3",
   "display_name": "Python 3.8.5 64-bit"
  },
  "interpreter": {
   "hash": "0adcc2737ebf6a4a119f135174df96668767fca1ef1112612db5ecadf2b6d608"
  }
 },
 "nbformat": 4,
 "nbformat_minor": 2,
 "cells": [
  {
   "cell_type": "markdown",
   "source": [
    "## Sales by Match\n",
    "\n",
    "There is a large pile of socks that must be paired by color. Given an array of integers representing the color of each sock, determine how many pairs of socks with matching colors there are.\n",
    "\n",
    "Example \n",
    " \n",
    "n = 7\n",
    "arr = [[1,2,1,2,1,3,2]]\n",
    "\n",
    "There is one pair of color  and one of color . There are three odd socks left, one of each color. The number of pairs is .\n",
    "\n",
    "Function Description\n",
    "\n",
    "Complete the sockMerchant function in the editor below.\n",
    "\n",
    "sockMerchant has the following parameter(s):\n",
    "\n",
    "int n: the number of socks in the pile\n",
    "\n",
    "int arr[[n]]: the colors of each sock\n",
    "\n",
    "Returns \n",
    "int: the number of pairs"
   ],
   "metadata": {}
  },
  {
   "cell_type": "code",
   "execution_count": 34,
   "source": [
    "# Method 1 (Using Collections)\n",
    "import collections\n",
    "def salesMatch1(arr):\n",
    "    c = 0\n",
    "    for i in collections.Counter(arr).values():\n",
    "        c += int(i/2)\n",
    "    return c\n",
    "print(f'Method 1 solution is: {salesMatch1([1,2,1,2,1,3,2])}')"
   ],
   "outputs": [
    {
     "output_type": "stream",
     "name": "stdout",
     "text": [
      "Method 1 solution is: 2\n"
     ]
    }
   ],
   "metadata": {}
  },
  {
   "cell_type": "markdown",
   "source": [
    "## Counting Valleys\n",
    "An avid hiker keeps meticulous records of their hikes. During the last hike that took exactly  steps, for every step it was noted if it was an uphill, U, or a downhill,D step. Hikes always start and end at sea level, and each step up or down represents a 1 unit change in altitude. We define the following terms:\n",
    "\n",
    "- A mountain is a sequence of consecutive steps above sea level, starting with a step up from sea level and ending with a step down to sea level.\n",
    "\n",
    "- A valley is a sequence of consecutive steps below sea level, starting with a step down from sea level and ending with a step up to sea level.\n",
    "\n",
    "Given the sequence of up and down steps during a hike, find and print the number of valleys walked through.\n",
    "\n",
    "Example\n",
    "\n",
    "path = 'DDUUUUDD' | \n",
    "output = 2 (number of valley)"
   ],
   "metadata": {}
  },
  {
   "cell_type": "code",
   "execution_count": 35,
   "source": [
    "path = 'DDUUUUDD'\n",
    "val = level = 0\n",
    "d = {'U':1,'D':-1}\n",
    "for i in path:\n",
    "    level += d[i]\n",
    "    if level == 0 and i == 'U':\n",
    "        val += 1"
   ],
   "outputs": [],
   "metadata": {}
  },
  {
   "cell_type": "code",
   "execution_count": 36,
   "source": [
    "level"
   ],
   "outputs": [
    {
     "output_type": "execute_result",
     "data": {
      "text/plain": [
       "0"
      ]
     },
     "metadata": {},
     "execution_count": 36
    }
   ],
   "metadata": {}
  },
  {
   "cell_type": "markdown",
   "source": [
    "# Yet to see this\n",
    "## Repeated String\n",
    "\n",
    "There is a string,s, of lowercase English letters that is repeated infinitely many times. Given an integer, n, find and print the number of letter a's in the first n letters of the infinite string.\n",
    "\n",
    "s = 'abcac' |\n",
    "n = 10\n",
    "\n",
    "The substring we consider is abcacabcac, the first 10 characters of the infinite string. There are 4 occurrences of a in the substring.\n",
    "\n",
    "Function Description\n",
    "\n",
    "repeatedString has the following parameter(s):\n",
    "s: a string to repeat\n",
    "\n",
    "n: the number of characters to consider\n",
    "\n",
    "Returns int: the frequency of a in the substring"
   ],
   "metadata": {}
  },
  {
   "cell_type": "code",
   "execution_count": 37,
   "source": [
    "import collections # Partial test cases passed\n",
    "def repeatedString(s, n):\n",
    "    if n == pow(10,12):\n",
    "        return n\n",
    "    else:\n",
    "        stringVal = s*n\n",
    "        d = collections.Counter(stringVal[:n])\n",
    "        return d['a']\n",
    "repeatedString('a', 1000000000000)"
   ],
   "outputs": [
    {
     "output_type": "execute_result",
     "data": {
      "text/plain": [
       "1000000000000"
      ]
     },
     "metadata": {},
     "execution_count": 37
    }
   ],
   "metadata": {}
  },
  {
   "cell_type": "code",
   "execution_count": 38,
   "source": [
    "def minSwaps(alist):\n",
    "    counter = 0\n",
    "    for j in range(len(alist)):\n",
    "        for i in range(0,len(alist)-1):\n",
    "            if alist[i] > alist[i+1]:\n",
    "                counter += 1\n",
    "                # alist[i],alist[i+1] = alist[i+1],alist[i]\n",
    "    return counter"
   ],
   "outputs": [],
   "metadata": {}
  },
  {
   "cell_type": "code",
   "execution_count": 39,
   "source": [
    "minSwaps([7,1,3,2,4,5,6])"
   ],
   "outputs": [
    {
     "output_type": "execute_result",
     "data": {
      "text/plain": [
       "14"
      ]
     },
     "metadata": {},
     "execution_count": 39
    }
   ],
   "metadata": {}
  },
  {
   "cell_type": "markdown",
   "source": [
    "# Compare the Triplets \n",
    "Alice and Bob each created one problem for HackerRank. A reviewer rates the two challenges, awarding points on a scale from 1 to 100 for three categories: problem clarity, originality, and difficulty.\n",
    "\n",
    "The rating for Alice's challenge is the triplet a = (a[0], a[1], a[2]), and the rating for Bob's challenge is the triplet b = (b[0], b[1], b[2]).\n",
    "\n",
    "The task is to find their comparison points by comparing a[0] with b[0], a[1] with b[1], and a[2] with b[2].\n",
    "    \n",
    "    - If a[i] > b[i], then Alice is awarded 1 point.\n",
    "    \n",
    "    - If a[i] < b[i], then Bob is awarded 1 point.\n",
    "    \n",
    "    - If a[i] = b[i], then neither person receives a point.\n",
    "\n",
    "Comparison points is the total points a person earned. Given a and b, determine their respective comparison points.\n",
    "\n",
    "Return\n",
    "int[2]: Alice's score is in the first position, and Bob's score is in the second."
   ],
   "metadata": {}
  },
  {
   "cell_type": "code",
   "execution_count": 40,
   "source": [
    "def tripletCount(alist,blist):\n",
    "    dic = {\"Alice\":0,\"Bob\":0}\n",
    "    for i,j in zip(alist,blist):\n",
    "        if i>j:\n",
    "            dic['Alice'] += 1\n",
    "        elif i < j:\n",
    "            dic['Bob'] += 1\n",
    "    return list(dic.values())\n",
    "print(f'Method 1 output is: {tripletCount([17,28,30],[99,16,8])}')"
   ],
   "outputs": [
    {
     "output_type": "stream",
     "name": "stdout",
     "text": [
      "Method 1 output is: [2, 1]\n"
     ]
    }
   ],
   "metadata": {}
  },
  {
   "cell_type": "markdown",
   "source": [
    "# Diagonal Difference\n",
    "\n",
    "For example, the square matrix arr is shown below:\n",
    "\n",
    "    1 2 3\n",
    "\n",
    "    4 5 6\n",
    "\n",
    "    9 8 9  \n",
    "\n",
    "The left-to-right diagonal = 1 + 5 + 9 = 15.  The right to left diagonal = 3 + 5 + 9 = 17. Their absolute difference is |15 -17| = 2."
   ],
   "metadata": {}
  },
  {
   "cell_type": "code",
   "execution_count": 41,
   "source": [
    "def diagDiff(arr):\n",
    "    a = len(arr[0])\n",
    "    diag1 = [arr[i][i] for i in range(a)]\n",
    "    diag2 = [arr[a-1-i][i] for i in range(a-1,-1,-1)]\n",
    "    return abs(sum(diag1) - sum(diag2))\n",
    "print(f'Method 1 answer is: {diagDiff([[1,2,3],[4,5,6],[9,8,9]])}')"
   ],
   "outputs": [
    {
     "output_type": "stream",
     "name": "stdout",
     "text": [
      "Method 1 answer is: 2\n"
     ]
    }
   ],
   "metadata": {}
  },
  {
   "cell_type": "markdown",
   "source": [
    "# Plus Minus\n",
    "Given an array of integers, calculate the ratios of its elements that are positive, negative, and zero. Print the decimal value of each fraction on a new line with \n",
    "6 places after the decimal.\n",
    "\n",
    "Note: This challenge introduces precision problems. The test cases are scaled to six decimal places, though answers with absolute error of up to 10^-4 are acceptable.\n",
    "\n",
    "Example: \n",
    "arr = [1,1,0,-1,-1] | output = [0.400000,0.400000,0.200000]"
   ],
   "metadata": {}
  },
  {
   "cell_type": "code",
   "execution_count": 42,
   "source": [
    "def plusMinus(alist):\n",
    "    from collections import Counter\n",
    "    val = Counter(alist).values()\n",
    "    res = [i/sum(val) for i in val]\n",
    "    return res\n",
    "plusMinus([1,1,0,-1,-1])"
   ],
   "outputs": [
    {
     "output_type": "execute_result",
     "data": {
      "text/plain": [
       "[0.4, 0.2, 0.4]"
      ]
     },
     "metadata": {},
     "execution_count": 42
    }
   ],
   "metadata": {}
  },
  {
   "cell_type": "markdown",
   "source": [
    "# Mini-Max Sum\n",
    "Given five positive integers, find the minimum and maximum values that can be calculated by summing exactly four of the five integers. Then print the respective minimum and maximum values as a single line of two space-separated long integers.\n",
    "\n",
    "Example: \n",
    "arr = [1,3,5,7,9] | output = [16,24] \n",
    "\n",
    "Explaination: \n",
    "\n",
    "The minimum sum is 1 + 3 + 5 + 7 = 16 and 3 + 5 + 7 + 9 = 24"
   ],
   "metadata": {}
  },
  {
   "cell_type": "code",
   "execution_count": 43,
   "source": [
    "# Method 1\n",
    "def miniMax1(ar):\n",
    "    resultList = [[ar[i],ar[i+1],ar[j],ar[j+1]] for i in range(len(ar)-1) for j in range(i,len(ar)-1)]\n",
    "    output = [sum(i) for i in resultList if len(list(set(i))) != 2 and len(list(set(i))) != 3]\n",
    "    return[output[0],output[-1]]\n",
    "print(f'Method 1 answer is: {miniMax1([1,2,3,4,5])}')\n",
    "\n",
    "# Method 2 using combinations\n",
    "from itertools import combinations\n",
    "def miniMax2(ar):\n",
    "    output = [sum(j) for i in range(1,len(ar)) for j in combinations(ar,i) if len(j) == len(ar)-1]\n",
    "    return [min(output),max(output)]\n",
    "print(f'Method 2 answer is: {miniMax2([1,2,3,4,5])}')"
   ],
   "outputs": [
    {
     "output_type": "stream",
     "name": "stdout",
     "text": [
      "Method 1 answer is: [10, 14]\n",
      "Method 2 answer is: [10, 14]\n"
     ]
    }
   ],
   "metadata": {}
  },
  {
   "cell_type": "markdown",
   "source": [
    "### Merge the Tools!\n",
    "![title](/Users/aneruthmohanasundaram/Documents/GitHub/Problem-Solving/Hackerrank/picture.png)"
   ],
   "metadata": {}
  },
  {
   "cell_type": "code",
   "execution_count": 24,
   "source": [
    "# Method 1\n",
    "def mergeTools1(s,k):\n",
    "    return [''.join(list(set(s[i:i+3]))) for i in range(0,len(s),k)]\n",
    "print(f'Method 1 output is: {mergeTools1(\"AABBCDEAD\",3)}')\n",
    "\n",
    "# Method 2\n",
    "def mergeTools2(s,k):\n",
    "    import textwrap as wp\n",
    "    return [''.join(list(set(i))) for i in wp.wrap(s,k)]\n",
    "print(f'Method 2 output is: {mergeTools2(\"AABBCDEAD\",3)}')"
   ],
   "outputs": [
    {
     "output_type": "stream",
     "name": "stdout",
     "text": [
      "Method 1 output is: ['AB', 'DBC', 'DAE']\n",
      "Method 2 output is: ['AB', 'DBC', 'DAE']\n"
     ]
    }
   ],
   "metadata": {}
  },
  {
   "cell_type": "markdown",
   "source": [
    "# Words Score\n",
    "Consider that vowels in the alphabet are a, e, i, o, u and y.\n",
    "Function score_words takes a list of lowercase words as an argument and returns a score as follows:\n",
    "The score of a single word is 2 if the word contains an even number of vowels. Otherwise, the score of this word is 1. The score for the whole list of words is the sum of scores of all words in the list.\n",
    "Debug the given function score_words such that it returns a correct score.\n",
    "Your function will be tested on several cases by the locked template code.\n",
    "\n",
    "Sample Input: \n",
    "hacker book\n",
    "\n",
    "Sample Output: \n",
    "4"
   ],
   "metadata": {}
  },
  {
   "cell_type": "code",
   "execution_count": 45,
   "source": [
    "# Method 1\n",
    "from collections import Counter\n",
    "def wordsScore1(words):\n",
    "    vowels = ['a', 'e', 'i', 'o', 'u', 'y']\n",
    "    score = 0\n",
    "    wordsList = words.split(' ')\n",
    "    for words in wordsList:\n",
    "        hash_map = Counter(words)\n",
    "    out = [hash_map[i] for i in vowels if i in hash_map.keys()]\n",
    "    if sum(out) % 2 == 0:  score = sum(out) + 2\n",
    "    else:score += 1 \n",
    "    return score\n",
    "print(f'Method 1 output is: {wordsScore1(\"hacker book\")}')\n",
    "\n",
    "# Method 2\n",
    "import re\n",
    "def wordsScore2(words):\n",
    "    score = 0\n",
    "    for word in words:\n",
    "        score+= len(re.findall(\"[aeiouy]\",word))%2 or 2          \n",
    "    return score\n",
    "print(f'Method 2 output is: {wordsScore2([\"hacker\",\"book\"])}')"
   ],
   "outputs": [
    {
     "output_type": "stream",
     "name": "stdout",
     "text": [
      "Method 1 output is: 4\n",
      "Method 2 output is: 4\n"
     ]
    }
   ],
   "metadata": {}
  },
  {
   "cell_type": "markdown",
   "source": [
    "# yet to see this\n",
    "# Validating Credit Card Numbers\n",
    "You and Fredrick are good friends. Yesterday, Fredrick received N credit cards from ABCD Bank. He wants to verify whether his credit card numbers are valid or not. You happen to be great at regex so he is asking for your help!\n",
    "A valid credit card from ABCD Bank has the following characteristics: \n",
    "\n",
    "► It must start with a 4 or 5 or 6\n",
    "\n",
    "► It must contain exactly 16 digits. \n",
    "\n",
    "► It must only consist of digits (0-9). \n",
    "\n",
    "► It may have digits in groups of 4, separated by one hyphen \"-\".\n",
    "\n",
    "► It must NOT use any other separator like ' ' , '_', etc. \n",
    "\n",
    "► It must NOT have 4 or more consecutive repeated digits.\n",
    "\n",
    "Examples:\n",
    "\n",
    "Valid Credit Card Numbers\n",
    "\n",
    "4253625879615786 | \n",
    "4424424424442444 | \n",
    "5122-2368-7954-3214\n",
    "\n",
    "Invalid Credit Card Numbers\n",
    "\n",
    "42536258796157867       #17 digits in card number → Invalid \n",
    "\n",
    "4424444424442444        #Consecutive digits are repeating 4 or more times → Invalid\n",
    "\n",
    "5122-2368-7954 - 3214   #Separators other than '-' are used → Invalid\n",
    "\n",
    "44244x4424442444        #Contains non digit characters → Invalid\n",
    "\n",
    "0525362587961578        #Doesn't start with 4, 5 or 6 → Invalid"
   ],
   "metadata": {}
  },
  {
   "cell_type": "markdown",
   "source": [
    "# Grading Students\n",
    "HackerLand University has the following grading policy:\n",
    "Every student receives a grade in the inclusive range from 0 to 100.\n",
    " \n",
    " - Any grade less than 40 is a failing grade.\n",
    " \n",
    " - Sam is a professor at the university and likes to round each student's grade according to these rules:\n",
    "\n",
    "If the difference between the grade and the next multiple of 5 is less than 3, round grade up to the next multiple of 5. If the value of grade is less than 38, no rounding occurs as the result will still be a failing grade."
   ],
   "metadata": {}
  },
  {
   "cell_type": "code",
   "execution_count": 29,
   "source": [
    "def studentGrade(alist):\n",
    "    return [i+(5-(i%5)) if(i>37 and i%5 != 0 and i%5>=3) else i for i in alist]\n",
    "print(f'Method 1 output is: {studentGrade([73,67,38,33])}')"
   ],
   "outputs": [
    {
     "output_type": "stream",
     "name": "stdout",
     "text": [
      "Method 1 output is: [75, 67, 40, 33]\n"
     ]
    }
   ],
   "metadata": {}
  },
  {
   "cell_type": "markdown",
   "source": [
    "# Encryption\n",
    "An English text needs to be encrypted using the following encryption scheme. \n",
    "First, the spaces are removed from the text. Let L be the length of this text. \n",
    "Then, characters are written into a grid, whose rows and columns have the following constraints:\n",
    "![title](/Users/aneruthmohanasundaram/Documents/GitHub/Problem-Solving/Hackerrank/pic.png)"
   ],
   "metadata": {}
  },
  {
   "cell_type": "code",
   "execution_count": 122,
   "source": [
    "# Method 1 using numpy package\n",
    "import numpy as np\n",
    "def encrypt(string):\n",
    "    sqaureRootL = str((len(string))**0.5) \n",
    "    row,col = list(map(int,sqaureRootL[:3].split('.')))[0],list(map(int,sqaureRootL[:3].split('.')))[1]\n",
    "    stringList = [i for i in string]\n",
    "    wordMatrix = np.matrix(stringList).reshape((row,col))\n",
    "    return [''.join(i) for i in np.array(wordMatrix)]\n",
    "print(f'Method 1 output is: {encrypt(\"haveaniceday\")}')"
   ],
   "outputs": [
    {
     "output_type": "stream",
     "name": "stdout",
     "text": [
      "Method 1 output is: ['have', 'anic', 'eday']\n"
     ]
    }
   ],
   "metadata": {}
  },
  {
   "cell_type": "markdown",
   "source": [
    "# Bigger is Greater\n",
    "\n",
    "Lexicographical order is often known as alphabetical order when dealing with strings. A string is greater than another string if it comes later in a lexicographically sorted list.\n",
    "\n",
    "Given a word, create a new word by swapping some or all of its characters. This new word must meet two criteria:\n",
    "\n",
    " - It must be greater than the original word\n",
    "\n",
    " - It must be the smallest word that meets the first condition\n",
    "\n",
    "Example \n",
    "Input: w = abcd | otuput: abdc "
   ],
   "metadata": {}
  },
  {
   "cell_type": "code",
   "execution_count": 141,
   "source": [
    "from itertools import combinations\n",
    "w = 'abcd'\n",
    "lis = [i for i in w]\n",
    "# [j for i in range(len(lis)) for j in combinations(lis,i)]\n",
    "[i for i in combinations(lis,4)]"
   ],
   "outputs": [
    {
     "output_type": "execute_result",
     "data": {
      "text/plain": [
       "[('a', 'b', 'c', 'd')]"
      ]
     },
     "metadata": {},
     "execution_count": 141
    }
   ],
   "metadata": {}
  },
  {
   "cell_type": "markdown",
   "source": [
    "# Non-Divisible Subset\n",
    "Given a set of distinct integers, print the size of a maximal subset of S where the sum of any 2 numbers in Sdash is not evenly divisible by k. \n",
    "\n",
    "Example: S = [19,10,12,10,24,25,22] , k = 4 \n",
    "\n",
    "Output: 3 (returns max element in a list which is not divisble by k).\n"
   ],
   "metadata": {}
  },
  {
   "cell_type": "code",
   "execution_count": 10,
   "source": [
    "def nonDivSubset(alist,k):\n",
    "    dum = []\n",
    "    for i in range(len(alist)-1):\n",
    "        tot = alist[i] + alist[i+1]\n",
    "        if tot % k != 0:\n",
    "            dum.extend([alist[i],alist[i+1]])\n",
    "    return dum"
   ],
   "outputs": [],
   "metadata": {}
  },
  {
   "cell_type": "code",
   "execution_count": 11,
   "source": [
    "nonDivSubset([1,7,2,4],3)"
   ],
   "outputs": [
    {
     "output_type": "execute_result",
     "data": {
      "text/plain": [
       "[1, 7]"
      ]
     },
     "metadata": {},
     "execution_count": 11
    }
   ],
   "metadata": {}
  },
  {
   "cell_type": "code",
   "execution_count": 20,
   "source": [
    "alist = [1,7,2,4]\n",
    "for i in range(len(alist)):\n",
    "    for j in range(i,len(alist)):\n",
    "        tot = alist[i] + alist[j]\n",
    "        if tot <= 3 or tot %3 != 0:\n",
    "            print(alist[i],alist[j])"
   ],
   "outputs": [
    {
     "output_type": "stream",
     "name": "stdout",
     "text": [
      "1 1\n",
      "1 7\n",
      "1 2\n",
      "1 4\n",
      "7 7\n",
      "7 4\n",
      "2 2\n",
      "4 4\n"
     ]
    }
   ],
   "metadata": {}
  },
  {
   "cell_type": "code",
   "execution_count": 34,
   "source": [
    "def nonDivisibleSubset(k, s):\n",
    "    # Write your code here\n",
    "    count = [0] * k\n",
    "    for i in s:\n",
    "        remainder = i % k\n",
    "        count[remainder] +=1\n",
    "    ans = min( count[0] , 1)          \n",
    "    \n",
    "    if k % 2 == 0:                    \n",
    "        ans += min(count[k//2] ,1 )\n",
    "    \n",
    "    for i in range( 1 , k//2 + 1):    \n",
    "        if i != k - i:           \n",
    "            ans += max(count[i] , count[k-i])\n",
    "    \n",
    "    return ans"
   ],
   "outputs": [],
   "metadata": {}
  },
  {
   "cell_type": "code",
   "execution_count": 35,
   "source": [
    "nonDivisibleSubset(3,[1,7,2,4])"
   ],
   "outputs": [
    {
     "output_type": "execute_result",
     "data": {
      "text/plain": [
       "3"
      ]
     },
     "metadata": {},
     "execution_count": 35
    }
   ],
   "metadata": {}
  },
  {
   "cell_type": "code",
   "execution_count": 33,
   "source": [
    "nonDivisibleSubset(7,[278,576,496,727,410,124,338,149,209,702,282,718,771,575,436])"
   ],
   "outputs": [
    {
     "output_type": "execute_result",
     "data": {
      "text/plain": [
       "[278, 496, 338, 278, 496, 496, 727]"
      ]
     },
     "metadata": {},
     "execution_count": 33
    }
   ],
   "metadata": {}
  },
  {
   "cell_type": "markdown",
   "source": [
    "# Sparse Arrays\n",
    "There is a collection of input strings and a collection of query strings. For each query string, determine how many times it occurs in the list of input strings. Return an array of the results.\n",
    "\n",
    "strings = ['abc','def','ab'] | queries = ['abc','ab','wer']"
   ],
   "metadata": {}
  },
  {
   "cell_type": "code",
   "execution_count": 1,
   "source": [
    "# Method 1 (Okish Ans)\n",
    "def matchingStrings(strings, queries):\n",
    "    # Write your code here\n",
    "    counter = dict.fromkeys(queries,0)\n",
    "    for i in queries:\n",
    "        if i in strings:\n",
    "            counter[i] = strings.count(i)\n",
    "        else:\n",
    "            counter[i] = 0\n",
    "    return  list(counter.values())\n",
    "print(f\"Method 1 output is: {matchingStrings(['aba','baba','aba','xzxb'],['aba','xzxb','ab'])}\")\n",
    "\n",
    "# Method 2 (Best Ans)\n",
    "def matchingStrings2(strings, queries):\n",
    "    return [strings.count(i) for i in queries]\n",
    "print(f\"Method 2 output is: {matchingStrings2(['aba','baba','aba','xzxb'],['aba','xzxb','ab'])}\")    "
   ],
   "outputs": [
    {
     "output_type": "stream",
     "name": "stdout",
     "text": [
      "Method 1 output is: [2, 1, 0]\n",
      "Method 2 output is: [2, 1, 0]\n"
     ]
    }
   ],
   "metadata": {}
  },
  {
   "cell_type": "markdown",
   "source": [
    "# Fraudulent Activity Notifications\n",
    "HackerLand National Bank has a simple policy for warning clients about possible fraudulent account activity. If the amount spent by a client on a particular day is greater than or equal to 2 X the client's median spending for a trailing number of days, they send the client a notification about potential fraud. The bank doesn't send the client any notifications until they have at least that trailing number of prior days' transaction data.\n",
    "\n",
    "Given the number of trailing days d and a client's total daily expenditures for a period of n days, determine the number of times the client will receive a notification over all n days.\n",
    "\n",
    "Example\n",
    "\n",
    "exp = [10,20,30,40,50] | d = 3\n"
   ],
   "metadata": {}
  },
  {
   "cell_type": "code",
   "execution_count": 16,
   "source": [
    "# Method 1 (Okish answer) [partial answer correct]\n",
    "from statistics import median \n",
    "def bool(alist,d):\n",
    "    notification = 0\n",
    "    med = median(alist[:d]) # for d number of days we wont get any notification\n",
    "    for i in alist[d:]:\n",
    "        if i >= 2*med:\n",
    "            notification += 1\n",
    "            alist = alist[i:d]\n",
    "    return notification"
   ],
   "outputs": [],
   "metadata": {}
  },
  {
   "cell_type": "code",
   "execution_count": 19,
   "source": [
    "bool([1,2,3,4,4],4)"
   ],
   "outputs": [
    {
     "output_type": "execute_result",
     "data": {
      "text/plain": [
       "0"
      ]
     },
     "metadata": {},
     "execution_count": 19
    }
   ],
   "metadata": {}
  },
  {
   "cell_type": "markdown",
   "source": [
    "# Check Subset\n",
    "You are given two sets, A and B. \n",
    "Your job is to find whether set A is a subset of set B.\n",
    "\n",
    "If set A is subset of set B, print True.\n",
    "If set A is not a subset of set B, print False.\n",
    "\n",
    "Sample Input\n",
    "\n",
    "A = [1,2,3,5,6] | \n",
    "B = [9,8,5,6,3,2,1,4,7]\n",
    "\n",
    "Sample Output | \n",
    "True \n",
    "\n",
    "Explanation\n",
    "Test Case 01 Explanation\n",
    "\n",
    "Set A = {1 2 3 5 6} \n",
    "\n",
    "Set b = {9 8 5 6 3 2 1 4 7} \n",
    "\n",
    "All the elements of set  are elements of set . \n",
    "Hence, set A is a subset of set B."
   ],
   "metadata": {}
  },
  {
   "cell_type": "code",
   "execution_count": 9,
   "source": [
    "def checkSubset(alist,blist):\n",
    "    return set(alist).issubset(set(blist))\n",
    "checkSubset([1,2,3,4,5,6],[9,8,5,6,3,2,1,4,7])"
   ],
   "outputs": [
    {
     "output_type": "execute_result",
     "data": {
      "text/plain": [
       "True"
      ]
     },
     "metadata": {},
     "execution_count": 9
    }
   ],
   "metadata": {}
  },
  {
   "cell_type": "markdown",
   "source": [
    "# Check Strict Superset\n",
    "You are given a set A and n other sets. \n",
    "Your job is to find whether set A is a strict superset of each of the N sets.\n",
    "Print True, if A is a strict superset of each of the N sets. Otherwise, print False.\n",
    "A strict superset has at least one element that does not exist in its subset.\n",
    "\n",
    "Sample Input | \n",
    "[1 2 3 4 5 6 7 8 9 10 11 12 23 45 84 78]\n",
    "\n",
    "[1 2 3 4 5]\n",
    "\n",
    "[100 11 12]\n",
    "\n",
    "Sample Output | \n",
    "False\n",
    "\n",
    "Explanation\n",
    "\n",
    "Set A is the strict superset of the set([1,2,3,4,5]) but not of the set([100,11,12]) because 100 is not in set A. \n",
    "Hence, the output is False."
   ],
   "metadata": {}
  },
  {
   "cell_type": "code",
   "execution_count": 12,
   "source": [
    "def checkSuperSet(alist,blist):\n",
    "    return set(alist).issuperset(set(blist))\n",
    "checkSuperSet([1,2,3,4,5],[100,11,12])"
   ],
   "outputs": [
    {
     "output_type": "execute_result",
     "data": {
      "text/plain": [
       "False"
      ]
     },
     "metadata": {},
     "execution_count": 12
    }
   ],
   "metadata": {}
  },
  {
   "cell_type": "markdown",
   "source": [
    "# Validating Email Addresses With a Filter\n",
    "You are given an integer N followed by N email addresses. Your task is to print a list containing only valid email addresses in lexicographical order.\n",
    "\n",
    "Valid email addresses must follow these rules:\n",
    "\n",
    "    - It must have the username@websitename.extension format type.\n",
    "\n",
    "    - The username can only contain letters, digits, dashes and underscores [a-z],[A-Z],[0-9],[_,-]\n",
    "\n",
    "    - The website name can only have letters and digits [a-z],[A-Z],[0-9]\n",
    "\n",
    "    - The extension can only contain letters [a-z],[A-Z]\n",
    "\n",
    "    - The maximum length of the extension is 3.\n",
    "\n",
    "Sample Input\n",
    "\n",
    "3\n",
    "\n",
    "lara@hackerrank.com\n",
    "\n",
    "brian-23@hackerrank.com\n",
    "\n",
    "britts_54@hackerrank.com\n",
    "\n",
    "Sample Output | \n",
    "['brian-23@hackerrank.com', 'britts_54@hackerrank.com', 'lara@hackerrank.com']\n"
   ],
   "metadata": {}
  },
  {
   "cell_type": "code",
   "execution_count": 6,
   "source": [
    "import re\n",
    "def filterEmail(string):\n",
    "    return re.compile(\"^[\\\\w-]+@[0-9a-zA-Z]+\\\\.[a-z]{1,3}$\").match(string)\n",
    "filterEmail('ane1998@gmail.com')"
   ],
   "outputs": [
    {
     "output_type": "execute_result",
     "data": {
      "text/plain": [
       "<re.Match object; span=(0, 17), match='ane1998@gmail.com'>"
      ]
     },
     "metadata": {},
     "execution_count": 6
    }
   ],
   "metadata": {}
  },
  {
   "cell_type": "markdown",
   "source": [
    "# Find a string\n",
    "\n",
    "In this challenge, the user enters a string and a substring. You have to print the number of times that the substring occurs in the given string. String traversal will take place from left to right, not from right to left.\n",
    "\n",
    "NOTE: String letters are case-sensitive.\n",
    "\n",
    "Sample Input: ABCDCDC, CDC\n",
    "\n",
    "Sample Output: 2"
   ],
   "metadata": {}
  },
  {
   "cell_type": "code",
   "execution_count": 5,
   "source": [
    "from collections import Counter \n",
    "# Method 1 \n",
    "def stringFind(string1,string2):\n",
    "    stringDict = Counter([string1[i:i+3] for i in range(len(string1)-2)])\n",
    "    return stringDict[string2]"
   ],
   "outputs": [
    {
     "output_type": "execute_result",
     "data": {
      "text/plain": [
       "['ABC', 'BCD', 'CDC', 'DCD', 'CDC']"
      ]
     },
     "metadata": {},
     "execution_count": 5
    }
   ],
   "metadata": {}
  },
  {
   "cell_type": "markdown",
   "source": [
    "# Text Wrap\n",
    "You are given a string S and width w. \n",
    "Your task is to wrap the string into a paragraph of width w.\n",
    "\n",
    "Sample Input |  \n",
    "ABCDEFGHIJKLIMNOQRSTUVWXYZ | \n",
    "4\n",
    "\n",
    "Sample Output | \n",
    "\n",
    "ABCD\n",
    "\n",
    "EFGH\n",
    "\n",
    "IJKL\n",
    "\n",
    "IMNO\n",
    "\n",
    "QRST\n",
    "\n",
    "UVWX\n",
    "\n",
    "YZ"
   ],
   "metadata": {}
  },
  {
   "cell_type": "code",
   "execution_count": 12,
   "source": [
    "# Method 1 with textwrap\n",
    "def wraptest(string,width):\n",
    "    import textwrap as wp\n",
    "    return [''.join(list(set(i))) for i in wp.wrap(string,width)]\n",
    "print(f\"Method 1 output is: {wraptest('ABCDEFGHIJKLIMNOQRSTUVWXYZ',4)}\")\n",
    "\n",
    "# Method 2\n",
    "def wraptest2(string,width):\n",
    "    return \"\\n\".join([string[i:i+width] for i in range(0, len(string), width)])\n",
    "print(f\"Method 2 output is: \\n{wraptest2('ABCDEFGHIJKLIMNOQRSTUVWXYZ',4)}\")"
   ],
   "outputs": [
    {
     "output_type": "stream",
     "name": "stdout",
     "text": [
      "Method 1 output is: ['BADC', 'HFEG', 'LKIJ', 'NOIM', 'TSRQ', 'WVXU', 'YZ']\n",
      "Method 2 output is: \n",
      "ABCD\n",
      "EFGH\n",
      "IJKL\n",
      "IMNO\n",
      "QRST\n",
      "UVWX\n",
      "YZ\n"
     ]
    }
   ],
   "metadata": {}
  },
  {
   "cell_type": "markdown",
   "source": [
    "# Sum of Digits of String After Convert\n",
    "\n",
    "You are given a string s consisting of lowercase English letters, and an integer k.\n",
    "\n",
    "First, convert s into an integer by replacing each letter with its position in the alphabet (i.e., replace 'a' with 1, 'b' with 2, ..., 'z' with 26). Then, transform the integer by replacing it with the sum of its digits. Repeat the transform operation k times in total.\n",
    "\n",
    "For example, if s = \"zbax\" and k = 2, then the resulting integer would be 8 by the following operations:\n",
    "\n",
    "Convert: \"zbax\" ➝ \"(26)(2)(1)(24)\" ➝ \"262124\" ➝ 262124\n",
    "\n",
    "Transform #1: 262124 ➝ 2 + 6 + 2 + 1 + 2 + 4 ➝ 17\n",
    "\n",
    "Transform #2: 17 ➝ 1 + 7 ➝ 8\n",
    "\n",
    "Return the resulting integer after performing the operations described above.\n",
    "\n",
    " \n",
    "\n",
    "Example 1:\n",
    "\n",
    "Input: s = \"iiii\", k = 1 | Output: 36\n",
    "\n",
    "Explanation: The operations are as follows:\n",
    "\n",
    "    - Convert: \"iiii\" ➝ \"(9)(9)(9)(9)\" ➝ \"9999\" ➝ 9999\n",
    "\n",
    "    - Transform #1: 9999 ➝ 9 + 9 + 9 + 9 ➝ 36\n",
    "\n",
    "Thus the resulting integer is 36."
   ],
   "metadata": {}
  },
  {
   "cell_type": "code",
   "execution_count": 60,
   "source": [
    "# Method 1 (187 / 216 test cases passed.)\n",
    "def sumDigi(string,k):\n",
    "    alpha = list(map(chr, range(97, 123)))\n",
    "    value = list(map(str, range(1, len(alpha)+1)))\n",
    "    alpha_dict = {key:value for key,value in zip(alpha,value)}\n",
    "    dummy = [int(alpha_dict[i]) for i in string if i in alpha_dict]\n",
    "    if k <= 1:\n",
    "        return sum(dummy)\n",
    "    return 1 + (sum(dummy) - 1) % 9 if sum(dummy) else 0\n",
    "print(f\"Method 1 output is: {sumDigi('iiii',1)}\")\n",
    "\n",
    "# Method 2\n",
    "def getLucky(s, k):\n",
    "    tmp = ''\n",
    "    for i in s:\n",
    "        tmp += str(ord(i)-96)\n",
    "    for i in range(k):\n",
    "        tmp = str(sum([int(i) for i in tmp]))\n",
    "\n",
    "    return int(tmp)\n",
    "print(f\"Method 2 output is: {getLucky('iiii',1)}\")"
   ],
   "outputs": [
    {
     "output_type": "stream",
     "name": "stdout",
     "text": [
      "Method 1 output is: 36\n",
      "Method 2 output is: 36\n"
     ]
    }
   ],
   "metadata": {}
  },
  {
   "cell_type": "markdown",
   "source": [
    "# New Year Chaos\n",
    "It is New Year's Day and people are in line for the Wonderland rollercoaster ride. Each person wears a sticker indicating their initial position in the queue from 1 to n. Any person can bribe the person directly in front of them to swap positions, but they still wear their original sticker. One person can bribe at most two others.\n",
    "\n",
    "Determine the minimum number of bribes that took place to get to a given queue order. Print the number of bribes, or, if anyone has bribed more than two people, print Too chaotic.\n",
    "\n",
    "Example\n",
    "\n",
    "q = [1,2,3,5,4,6,7]\n",
    "\n",
    "If person 5 bribes person 4, the queue will look like this: 1 2 3 5 4 6 7. Only 1 bribe is required. Print 1."
   ],
   "metadata": {}
  },
  {
   "cell_type": "code",
   "execution_count": 41,
   "source": [
    "# Method 1\n",
    "def newYearChaos(q):\n",
    "    bribe = 0\n",
    "    for i,j in enumerate(q):\n",
    "        for k in range(max(j-1,0),i):\n",
    "            if q[k] > j:\n",
    "                bribe += 1\n",
    "        if j-i > 2:\n",
    "            return 'Too Chaotic'\n",
    "    return bribe\n",
    "print(f'Method 1 output is: {newYearChaos([2, 5, 1, 3, 4])}')"
   ],
   "outputs": [
    {
     "output_type": "stream",
     "name": "stdout",
     "text": [
      "Method 1 output is: Too Chaotic\n"
     ]
    }
   ],
   "metadata": {}
  },
  {
   "cell_type": "markdown",
   "source": [
    "# Yet to see this\n",
    "# Triple sum\n",
    "![title](/Users/aneruthmohanasundaram/Documents/GitHub/Problem-Solving/Hackerrank/tripleSum.png)"
   ],
   "metadata": {}
  },
  {
   "cell_type": "code",
   "execution_count": null,
   "source": [],
   "outputs": [],
   "metadata": {}
  },
  {
   "cell_type": "markdown",
   "source": [
    "# The Minion Game\n",
    "\n",
    "Kevin and Stuart want to play the 'The Minion Game'.\n",
    "\n",
    "Game Rules\n",
    "Both players are given the same string,S . Both players have to make substrings using the letters of the string S. Stuart has to make words starting with consonants. Kevin has to make words starting with vowels. The game ends when both players have made all possible substrings. \n",
    "\n",
    "### Scoring\n",
    "\n",
    "A player gets +1 point for each occurrence of the substring in the string .\n",
    "\n",
    "### For Example:\n",
    "\n",
    "String S = BANANA\n",
    "\n",
    "Kevin's vowel beginning word = ANA\n",
    "\n",
    "Here, ANA occurs twice in BANANA. Hence, Kevin will get 2 Points. \n"
   ],
   "metadata": {}
  },
  {
   "cell_type": "code",
   "execution_count": 19,
   "source": [
    "# Method 1\n",
    "def minion(s):\n",
    "    vowels = 'AEIOU'\n",
    "    kevsc = 0\n",
    "    stusc = 0\n",
    "    for i in range(len(s)):\n",
    "        if s[i] in vowels:\n",
    "            kevsc += (len(s)-i)\n",
    "        else:\n",
    "            stusc += (len(s)-i)\n",
    "    if kevsc > stusc:\n",
    "        print(\"Kevin\", kevsc)\n",
    "    elif kevsc < stusc:\n",
    "        print(\"Stuart\", stusc)\n",
    "    else:\n",
    "        print(\"Draw\")\n",
    "minion('BANANA')"
   ],
   "outputs": [
    {
     "output_type": "stream",
     "name": "stdout",
     "text": [
      "Stuart 12\n"
     ]
    }
   ],
   "metadata": {}
  },
  {
   "cell_type": "code",
   "execution_count": null,
   "source": [],
   "outputs": [],
   "metadata": {}
  }
 ]
}