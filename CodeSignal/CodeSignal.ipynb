{
 "cells": [
  {
   "cell_type": "markdown",
   "source": [
    "# adjacentElementsProduct\n",
    "\n",
    "Given an array of integers, find the pair of adjacent elements that has the largest product and return that product.\n",
    "\n",
    "Example\n",
    "\n",
    "For inputArray = [3, 6, -2, -5, 7, 3], the output should be\n",
    "\n",
    "adjacentElementsProduct(inputArray) = 21.\n",
    "\n",
    "7 and 3 produce the largest product."
   ],
   "metadata": {}
  },
  {
   "cell_type": "code",
   "execution_count": 11,
   "source": [
    "def maxAdjacent(array):\n",
    "    return max([array[i]*array[i+1] for i in range(len(array)-1)])"
   ],
   "outputs": [],
   "metadata": {}
  },
  {
   "cell_type": "markdown",
   "source": [
    "# matrixElementsSum\n",
    "\n",
    "After becoming famous, the CodeBots decided to move into a new building together. Each of the rooms has a different cost, and some of them are free, but there's a rumour that all the free rooms are haunted! Since the CodeBots are quite superstitious, they refuse to stay in any of the free rooms, or any of the rooms below any of the free rooms.\n",
    "\n",
    "Given matrix, a rectangular matrix of integers, where each value represents the cost of the room, your task is to return the total sum of all rooms that are suitable for the CodeBots (ie: add up all the values that don't appear below a 0).\n",
    "\n",
    "matrix = [[0, 1, 1, 2], \n",
    "          [0, 5, 0, 0], \n",
    "          [2, 0, 3, 3]]\n",
    "\n",
    "the output should be matrixElementsSum(matrix) = 9"
   ],
   "metadata": {}
  },
  {
   "cell_type": "code",
   "execution_count": 3,
   "source": [
    "matrix = [[0, 1, 1, 2], \n",
    "          [0, 5, 0, 0], \n",
    "          [2, 0, 3, 3]]\n",
    "dummy = []\n",
    "for i in range(len(matrix[0])):\n",
    "    for j in range(len(matrix)):\n",
    "        if matrix[j][i] != 0:\n",
    "            dummy.append(matrix[j][i])\n",
    "\n",
    "dummy"
   ],
   "outputs": [
    {
     "output_type": "execute_result",
     "data": {
      "text/plain": [
       "[2, 1, 5, 1, 3, 2, 3]"
      ]
     },
     "metadata": {},
     "execution_count": 3
    }
   ],
   "metadata": {}
  },
  {
   "cell_type": "code",
   "execution_count": null,
   "source": [
    "axc = zip()"
   ],
   "outputs": [],
   "metadata": {}
  },
  {
   "cell_type": "markdown",
   "source": [
    "# All Longest Strings\n",
    "\n",
    "Given an array of strings, return another array containing all of its longest strings.\n",
    "\n",
    "Example\n",
    "\n",
    "For inputArray = [\"aba\", \"aa\", \"ad\", \"vcd\", \"aba\"], the output should be \n",
    "\n",
    "allLongestStrings(inputArray) = [\"aba\", \"vcd\", \"aba\"]"
   ],
   "metadata": {}
  },
  {
   "cell_type": "code",
   "execution_count": 18,
   "source": [
    "def longestStrings(arr):\n",
    "    return [arr[i] for i in range(len(arr)) if len(arr[i]) == len(max(arr,key=len))]\n",
    "longestStrings([\"aba\", \"aa\", \"ad\", \"vcd\", \"aba\"])"
   ],
   "outputs": [
    {
     "output_type": "execute_result",
     "data": {
      "text/plain": [
       "['aba', 'vcd', 'aba']"
      ]
     },
     "metadata": {},
     "execution_count": 18
    }
   ],
   "metadata": {}
  },
  {
   "cell_type": "markdown",
   "source": [
    "# commonCharacterCount\n",
    "\n",
    "Given two strings, find the number of common characters between them.\n",
    "\n",
    "Example\n",
    "\n",
    "For s1 = \"aabcc\" and s2 = \"adcaa\", the output should be\n",
    "\n",
    "commonCharacterCount(s1, s2) = 3\n",
    "\n",
    "Strings have 3 common characters - 2 \"a\"s and 1 \"c\"\n",
    "\n"
   ],
   "metadata": {}
  },
  {
   "cell_type": "code",
   "execution_count": 51,
   "source": [
    "# Method 1 \n",
    "from collections import Counter\n",
    "def commonChar(s1,s2):\n",
    "    common_letters = Counter(s1) & Counter(s2)\n",
    "    return sum(common_letters.values())\n",
    "commonChar(s1,s2)"
   ],
   "outputs": [
    {
     "output_type": "execute_result",
     "data": {
      "text/plain": [
       "3"
      ]
     },
     "metadata": {},
     "execution_count": 51
    }
   ],
   "metadata": {}
  },
  {
   "cell_type": "markdown",
   "source": [
    "# Sort by Height\n",
    "Some people are standing in a row in a park. There are trees between them which cannot be moved. Your task is to rearrange the people by their heights in a non-descending order without moving the trees. People can be very tall!\n",
    "\n",
    "Example\n",
    "\n",
    "For a = [-1, 150, 190, 170, -1, -1, 160, 180], the output should be\n",
    "\n",
    "sortByHeight(a) = [-1, 150, 160, 170, -1, -1, 180, 190]"
   ],
   "metadata": {}
  },
  {
   "cell_type": "code",
   "execution_count": 2,
   "source": [
    "# Method 1\n",
    "def sortHeight(a):\n",
    "    trees = [i for i in range(len(a)) if a[i] == -1]\n",
    "    height = sorted([a[i] for i in range(len(a)) if a[i] != -1])\n",
    "    for j in trees:\n",
    "        height.insert(j,-1)\n",
    "    return height\n",
    "print(f'Method 1 output is: {sortHeight([-1, 150, 190, 170, -1, -1, 160, 180])}')"
   ],
   "outputs": [
    {
     "output_type": "stream",
     "name": "stdout",
     "text": [
      "Method 1 output is: [-1, 150, 160, 170, -1, -1, 180, 190]\n"
     ]
    }
   ],
   "metadata": {}
  },
  {
   "cell_type": "markdown",
   "source": [
    "# First Duplicate\n",
    "Given an array a that contains only numbers in the range from 1 to a.length, find the first duplicate number for which the second occurrence has the minimal index. In other words, if there are more than 1 duplicated numbers, return the number for which the second occurrence has a smaller index than the second occurrence of the other number does. If there are no such elements, return -1.\n",
    "\n",
    "Example\n",
    "\n",
    "For a = [2, 1, 3, 5, 3, 2], the output should be firstDuplicate(a) = 3.\n",
    "\n",
    "There are 2 duplicates: numbers 2 and 3. The second occurrence of 3 has a smaller index than the second occurrence of 2 does, so the answer is 3.\n",
    "\n",
    "For a = [2, 2], the output should be firstDuplicate(a) = 2;\n",
    "\n",
    "For a = [2, 4, 3, 5, 1], the output should be firstDuplicate(a) = -1."
   ],
   "metadata": {}
  },
  {
   "cell_type": "code",
   "execution_count": 48,
   "source": [
    "# Method 1\n",
    "def firstDuplicate(a):\n",
    "    seen = set()\n",
    "    for i in a:\n",
    "        if i in seen:\n",
    "            return i\n",
    "        seen.add(i)\n",
    "    return -1\n",
    "print(f'Method 1 output is: {firstDuplicate([2, 1, 3, 5, 3, 2])}')"
   ],
   "outputs": [
    {
     "output_type": "stream",
     "name": "stdout",
     "text": [
      "Method 1 output is: 3\n"
     ]
    }
   ],
   "metadata": {}
  },
  {
   "cell_type": "markdown",
   "source": [
    "# firstNonRepeatingCharacter\n",
    "Given a string s consisting of small English letters, find and return the first instance of a non-repeating character in it. If there is no such character, return '_'.\n",
    "\n",
    "Example\n",
    "\n",
    "For s = \"abacabad\", the output should be\n",
    "\n",
    "    - firstNotRepeatingCharacter(s) = 'c'.\n",
    "\n",
    "There are 2 non-repeating characters in the string: 'c' and 'd'. Return c since it appears in the string first.\n",
    "\n",
    "For s = \"abacabaabacaba\", the output should be\n",
    "\n",
    "    - firstNotRepeatingCharacter(s) = '_'.\n",
    "\n",
    "There are no characters in this string that do not repeat."
   ],
   "metadata": {}
  },
  {
   "cell_type": "code",
   "execution_count": 96,
   "source": [
    "# Method 1 (Solves 80% of use case)\n",
    "def firstChar1(s):\n",
    "    f = [s[i] for i in range(len(s)) if s.count(s[i]) == 1]\n",
    "    if len(s) == 1: return s\n",
    "    for i in range(len(f)-1):\n",
    "        if s.count(f[i]) == 1:\n",
    "            minIdx = min(s.index(f[i]),s.index(f[i+1]))\n",
    "            return s[minIdx]\n",
    "        else: return s[s.count(f[i])]\n",
    "    return '_'\n",
    "print(f'Method 1 output is: {firstChar1(\"abacabad\")}')\n",
    "\n",
    "# Method 2\n",
    "def firstChar2(s):\n",
    "    res = \"_\"\n",
    "    d = {}\n",
    "    for i,c in enumerate(s):\n",
    "        if c in d.keys():\n",
    "            d[c] = -1\n",
    "        else:\n",
    "            d[c] = i\n",
    "    min_key = len(s)+1\n",
    "    for k in d.keys():\n",
    "        if d[k]>=0:\n",
    "            min_key = min(min_key,d[k])\n",
    "            res = s[min_key]\n",
    "    return res\n",
    "print(f'Method 1 output is: {firstChar2(\"abacabad\")}')"
   ],
   "outputs": [
    {
     "output_type": "stream",
     "name": "stdout",
     "text": [
      "Method 1 output is: c\n",
      "Method 1 output is: c\n"
     ]
    }
   ],
   "metadata": {}
  },
  {
   "cell_type": "markdown",
   "source": [
    "# rotateImage\n",
    "Note: Try to solve this task in-place (with O(1) additional memory), since this is what you'll be asked to do during an interview.\n",
    "\n",
    "You are given an n x n 2D matrix that represents an image. Rotate the image by 90 degrees (clockwise).\n",
    "\n",
    "Example\n",
    "\n",
    "For\n",
    "\n",
    "a = [[1, 2, 3],\n",
    "     [4, 5, 6],\n",
    "     [7, 8, 9]]\n",
    "\n",
    "the output should be\n",
    "\n",
    "rotateImage(a) =\n",
    "    [[7, 4, 1],\n",
    "     [8, 5, 2],\n",
    "     [9, 6, 3]]"
   ],
   "metadata": {}
  },
  {
   "cell_type": "code",
   "execution_count": 114,
   "source": [
    "# Method 1\n",
    "def rotate90Clockwise(A):\n",
    "    N = len(A[0])\n",
    "    for i in range(N // 2):\n",
    "        for j in range(i, N - i - 1):\n",
    "            temp = A[i][j]\n",
    "            A[i][j] = A[N - 1 - j][i]\n",
    "            A[N - 1 - j][i] = A[N - 1 - i][N - 1 - j]\n",
    "            A[N - 1 - i][N - 1 - j] = A[j][N - 1 - i]\n",
    "            A[j][N - 1 - i] = temp\n",
    "    \n",
    "    return [A[i] for i in range(len(A[0]))]\n",
    "\n",
    "print(f'Method 1 output is: {rotate90Clockwise([[1, 2, 3],[4, 5, 6],[7, 8, 9]])}')"
   ],
   "outputs": [
    {
     "output_type": "stream",
     "name": "stdout",
     "text": [
      "Method 1 output is: [[7, 4, 1], [8, 5, 2], [9, 6, 3]]\n"
     ]
    }
   ],
   "metadata": {}
  },
  {
   "cell_type": "markdown",
   "source": [
    "# stringPermutations\n",
    "Given a string s, find all its potential permutations. The output should be sorted in lexicographical order.\n",
    "\n",
    "Example\n",
    "\n",
    "For s = \"CBA\", the output should be\n",
    "\n",
    "stringPermutations(s) = [\"ABC\", \"ACB\", \"BAC\", \"BCA\", \"CAB\", \"CBA\"];\n",
    "\n",
    "For s = \"ABA\", the output should be\n",
    "\n",
    "stringPermutations(s) = [\"AAB\", \"ABA\", \"BAA\"]."
   ],
   "metadata": {}
  },
  {
   "cell_type": "code",
   "execution_count": 145,
   "source": [
    "# Method 1\n",
    "def stringPermutations1(s):\n",
    "    from itertools import permutations\n",
    "    val = [\"\".join(i) for i in sorted(list(map(list,permutations(s))))]\n",
    "    out = []\n",
    "    for i in val:\n",
    "        if i not in out:\n",
    "            out.append(i)\n",
    "    return out\n",
    "print(f'Method 1 output is: {stringPermutations1(\"ABA\")}')\n",
    "\n",
    "# Method 2\n",
    "def stringPermutations2(s):\n",
    "    "
   ],
   "outputs": [
    {
     "output_type": "stream",
     "name": "stdout",
     "text": [
      "Method 1 output is: ['AAB', 'ABA', 'BAA']\n"
     ]
    }
   ],
   "metadata": {}
  },
  {
   "cell_type": "markdown",
   "source": [
    "# Are Similar?\n",
    "Two arrays are called similar if one can be obtained from another by swapping at most one pair of elements in one of the arrays.\n",
    "\n",
    "Given two arrays a and b, check whether they are similar.\n",
    "\n",
    "Example\n",
    "\n",
    "For a = [1, 2, 3] and b = [1, 2, 3], the output should be\n",
    "\n",
    "    - areSimilar(a, b) = true.\n",
    "\n",
    "The arrays are equal, no need to swap any elements.\n",
    "\n",
    "For a = [1, 2, 3] and b = [2, 1, 3], the output should be\n",
    "\n",
    "    - areSimilar(a, b) = true.\n",
    "\n",
    "We can obtain b from a by swapping 2 and 1 in b.\n",
    "\n",
    "For a = [1, 2, 2] and b = [2, 1, 1], the output should be\n",
    "\n",
    "    - areSimilar(a, b) = false.\n",
    "\n",
    "Any swap of any two elements either in a or in b won't make a and b equal."
   ],
   "metadata": {}
  },
  {
   "cell_type": "code",
   "execution_count": 185,
   "source": [
    "# Method 1 (80% test case solved)\n",
    "def return_substrings1(s1,s2):\n",
    "    from itertools import permutations\n",
    "    return s2 in list(map(list,set(permutations(s1))))\n",
    "\n",
    "print(f'Method 1 output is: {return_substrings1([2, 3, 1],[1, 3, 2])}')\n",
    "\n",
    "def return_substrings2(a,b):\n",
    "    tmp1,tmp2 = [],[]\n",
    "    for i in range(len(a)):\n",
    "        if a[i]!=b[i]:\n",
    "            tmp1.append(a[i])\n",
    "            tmp2.append(b[i])\n",
    "    if len(tmp1)==0: return True\n",
    "    elif len(tmp1)>2: return False\n",
    "    return tmp1==list(reversed(tmp2))\n",
    "print(f'Method 2 output is: {return_substrings2([2, 3, 1],[1, 3, 2])}')"
   ],
   "outputs": [
    {
     "output_type": "stream",
     "name": "stdout",
     "text": [
      "Method 1 output is: True\n",
      "Method 2 output is: True\n"
     ]
    }
   ],
   "metadata": {}
  },
  {
   "cell_type": "code",
   "execution_count": null,
   "source": [],
   "outputs": [],
   "metadata": {}
  },
  {
   "cell_type": "code",
   "execution_count": null,
   "source": [],
   "outputs": [],
   "metadata": {}
  }
 ],
 "metadata": {
  "orig_nbformat": 4,
  "language_info": {
   "name": "python",
   "version": "3.8.5",
   "mimetype": "text/x-python",
   "codemirror_mode": {
    "name": "ipython",
    "version": 3
   },
   "pygments_lexer": "ipython3",
   "nbconvert_exporter": "python",
   "file_extension": ".py"
  },
  "kernelspec": {
   "name": "python3",
   "display_name": "Python 3.8.5 64-bit"
  },
  "interpreter": {
   "hash": "0adcc2737ebf6a4a119f135174df96668767fca1ef1112612db5ecadf2b6d608"
  }
 },
 "nbformat": 4,
 "nbformat_minor": 2
}