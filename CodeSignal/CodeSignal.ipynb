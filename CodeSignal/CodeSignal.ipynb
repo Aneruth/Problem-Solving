{
 "cells": [
  {
   "cell_type": "markdown",
   "metadata": {},
   "source": [
    "# adjacentElementsProduct\n",
    "\n",
    "Given an array of integers, find the pair of adjacent elements that has the largest product and return that product.\n",
    "\n",
    "Example\n",
    "\n",
    "For inputArray = [3, 6, -2, -5, 7, 3], the output should be\n",
    "\n",
    "adjacentElementsProduct(inputArray) = 21.\n",
    "\n",
    "7 and 3 produce the largest product."
   ]
  },
  {
   "cell_type": "code",
   "execution_count": 11,
   "metadata": {},
   "outputs": [],
   "source": [
    "def maxAdjacent(array):\n",
    "    return max([array[i]*array[i+1] for i in range(len(array)-1)])"
   ]
  },
  {
   "cell_type": "markdown",
   "metadata": {},
   "source": [
    "# yet to see this\n",
    "# matrixElementsSum\n",
    "\n",
    "After becoming famous, the CodeBots decided to move into a new building together. Each of the rooms has a different cost, and some of them are free, but there's a rumour that all the free rooms are haunted! Since the CodeBots are quite superstitious, they refuse to stay in any of the free rooms, or any of the rooms below any of the free rooms.\n",
    "\n",
    "Given matrix, a rectangular matrix of integers, where each value represents the cost of the room, your task is to return the total sum of all rooms that are suitable for the CodeBots (ie: add up all the values that don't appear below a 0).\n",
    "\n",
    "matrix = [[0, 1, 1, 2], \n",
    "          [0, 5, 0, 0], \n",
    "          [2, 0, 3, 3]]\n",
    "\n",
    "the output should be matrixElementsSum(matrix) = 9"
   ]
  },
  {
   "cell_type": "code",
   "execution_count": 3,
   "metadata": {},
   "outputs": [
    {
     "data": {
      "text/plain": [
       "[2, 1, 5, 1, 3, 2, 3]"
      ]
     },
     "execution_count": 3,
     "metadata": {},
     "output_type": "execute_result"
    }
   ],
   "source": [
    "matrix = [[0, 1, 1, 2], \n",
    "          [0, 5, 0, 0], \n",
    "          [2, 0, 3, 3]]\n",
    "dummy = []\n",
    "for i in range(len(matrix[0])):\n",
    "    for j in range(len(matrix)):\n",
    "        if matrix[j][i] != 0:\n",
    "            dummy.append(matrix[j][i])\n",
    "\n",
    "dummy"
   ]
  },
  {
   "cell_type": "markdown",
   "metadata": {},
   "source": [
    "# All Longest Strings\n",
    "\n",
    "Given an array of strings, return another array containing all of its longest strings.\n",
    "\n",
    "Example\n",
    "\n",
    "For inputArray = [\"aba\", \"aa\", \"ad\", \"vcd\", \"aba\"], the output should be \n",
    "\n",
    "allLongestStrings(inputArray) = [\"aba\", \"vcd\", \"aba\"]"
   ]
  },
  {
   "cell_type": "code",
   "execution_count": 18,
   "metadata": {},
   "outputs": [
    {
     "data": {
      "text/plain": [
       "['aba', 'vcd', 'aba']"
      ]
     },
     "execution_count": 18,
     "metadata": {},
     "output_type": "execute_result"
    }
   ],
   "source": [
    "def longestStrings(arr):\n",
    "    return [arr[i] for i in range(len(arr)) if len(arr[i]) == len(max(arr,key=len))]\n",
    "longestStrings([\"aba\", \"aa\", \"ad\", \"vcd\", \"aba\"])"
   ]
  },
  {
   "cell_type": "markdown",
   "metadata": {},
   "source": [
    "# commonCharacterCount\n",
    "\n",
    "Given two strings, find the number of common characters between them.\n",
    "\n",
    "Example\n",
    "\n",
    "For s1 = \"aabcc\" and s2 = \"adcaa\", the output should be\n",
    "\n",
    "commonCharacterCount(s1, s2) = 3\n",
    "\n",
    "Strings have 3 common characters - 2 \"a\"s and 1 \"c\"\n",
    "\n"
   ]
  },
  {
   "cell_type": "code",
   "execution_count": 51,
   "metadata": {},
   "outputs": [
    {
     "data": {
      "text/plain": [
       "3"
      ]
     },
     "execution_count": 51,
     "metadata": {},
     "output_type": "execute_result"
    }
   ],
   "source": [
    "# Method 1 \n",
    "from collections import Counter\n",
    "def commonChar(s1,s2):\n",
    "    common_letters = Counter(s1) & Counter(s2)\n",
    "    return sum(common_letters.values())\n",
    "commonChar(s1,s2)"
   ]
  },
  {
   "cell_type": "markdown",
   "metadata": {},
   "source": [
    "# Sort by Height\n",
    "Some people are standing in a row in a park. There are trees between them which cannot be moved. Your task is to rearrange the people by their heights in a non-descending order without moving the trees. People can be very tall!\n",
    "\n",
    "Example\n",
    "\n",
    "For a = [-1, 150, 190, 170, -1, -1, 160, 180], the output should be\n",
    "\n",
    "sortByHeight(a) = [-1, 150, 160, 170, -1, -1, 180, 190]"
   ]
  },
  {
   "cell_type": "code",
   "execution_count": 2,
   "metadata": {},
   "outputs": [
    {
     "name": "stdout",
     "output_type": "stream",
     "text": [
      "Method 1 output is: [-1, 150, 160, 170, -1, -1, 180, 190]\n"
     ]
    }
   ],
   "source": [
    "# Method 1\n",
    "def sortHeight(a):\n",
    "    trees = [i for i in range(len(a)) if a[i] == -1]\n",
    "    height = sorted([a[i] for i in range(len(a)) if a[i] != -1])\n",
    "    for j in trees:\n",
    "        height.insert(j,-1)\n",
    "    return height\n",
    "print(f'Method 1 output is: {sortHeight([-1, 150, 190, 170, -1, -1, 160, 180])}')"
   ]
  },
  {
   "cell_type": "markdown",
   "metadata": {},
   "source": [
    "# First Duplicate\n",
    "Given an array a that contains only numbers in the range from 1 to a.length, find the first duplicate number for which the second occurrence has the minimal index. In other words, if there are more than 1 duplicated numbers, return the number for which the second occurrence has a smaller index than the second occurrence of the other number does. If there are no such elements, return -1.\n",
    "\n",
    "Example\n",
    "\n",
    "For a = [2, 1, 3, 5, 3, 2], the output should be firstDuplicate(a) = 3.\n",
    "\n",
    "There are 2 duplicates: numbers 2 and 3. The second occurrence of 3 has a smaller index than the second occurrence of 2 does, so the answer is 3.\n",
    "\n",
    "For a = [2, 2], the output should be firstDuplicate(a) = 2;\n",
    "\n",
    "For a = [2, 4, 3, 5, 1], the output should be firstDuplicate(a) = -1."
   ]
  },
  {
   "cell_type": "code",
   "execution_count": 48,
   "metadata": {},
   "outputs": [
    {
     "name": "stdout",
     "output_type": "stream",
     "text": [
      "Method 1 output is: 3\n"
     ]
    }
   ],
   "source": [
    "# Method 1\n",
    "def firstDuplicate(a):\n",
    "    seen = set()\n",
    "    for i in a:\n",
    "        if i in seen:\n",
    "            return i\n",
    "        seen.add(i)\n",
    "    return -1\n",
    "print(f'Method 1 output is: {firstDuplicate([2, 1, 3, 5, 3, 2])}')"
   ]
  },
  {
   "cell_type": "markdown",
   "metadata": {},
   "source": [
    "# firstNonRepeatingCharacter\n",
    "Given a string s consisting of small English letters, find and return the first instance of a non-repeating character in it. If there is no such character, return '_'.\n",
    "\n",
    "Example\n",
    "\n",
    "For s = \"abacabad\", the output should be\n",
    "\n",
    "    - firstNotRepeatingCharacter(s) = 'c'.\n",
    "\n",
    "There are 2 non-repeating characters in the string: 'c' and 'd'. Return c since it appears in the string first.\n",
    "\n",
    "For s = \"abacabaabacaba\", the output should be\n",
    "\n",
    "    - firstNotRepeatingCharacter(s) = '_'.\n",
    "\n",
    "There are no characters in this string that do not repeat."
   ]
  },
  {
   "cell_type": "code",
   "execution_count": 96,
   "metadata": {},
   "outputs": [
    {
     "name": "stdout",
     "output_type": "stream",
     "text": [
      "Method 1 output is: c\n",
      "Method 1 output is: c\n"
     ]
    }
   ],
   "source": [
    "# Method 1 (Solves 80% of use case)\n",
    "def firstChar1(s):\n",
    "    f = [s[i] for i in range(len(s)) if s.count(s[i]) == 1]\n",
    "    if len(s) == 1: return s\n",
    "    for i in range(len(f)-1):\n",
    "        if s.count(f[i]) == 1:\n",
    "            minIdx = min(s.index(f[i]),s.index(f[i+1]))\n",
    "            return s[minIdx]\n",
    "        else: return s[s.count(f[i])]\n",
    "    return '_'\n",
    "print(f'Method 1 output is: {firstChar1(\"abacabad\")}')\n",
    "\n",
    "# Method 2\n",
    "def firstChar2(s):\n",
    "    res = \"_\"\n",
    "    d = {}\n",
    "    for i,c in enumerate(s):\n",
    "        if c in d.keys():\n",
    "            d[c] = -1\n",
    "        else:\n",
    "            d[c] = i\n",
    "    min_key = len(s)+1\n",
    "    for k in d.keys():\n",
    "        if d[k]>=0:\n",
    "            min_key = min(min_key,d[k])\n",
    "            res = s[min_key]\n",
    "    return res\n",
    "print(f'Method 1 output is: {firstChar2(\"abacabad\")}')"
   ]
  },
  {
   "cell_type": "markdown",
   "metadata": {},
   "source": [
    "# rotateImage\n",
    "Note: Try to solve this task in-place (with O(1) additional memory), since this is what you'll be asked to do during an interview.\n",
    "\n",
    "You are given an n x n 2D matrix that represents an image. Rotate the image by 90 degrees (clockwise).\n",
    "\n",
    "Example\n",
    "\n",
    "For\n",
    "\n",
    "a = [[1, 2, 3],\n",
    "     [4, 5, 6],\n",
    "     [7, 8, 9]]\n",
    "\n",
    "the output should be\n",
    "\n",
    "rotateImage(a) =\n",
    "    [[7, 4, 1],\n",
    "     [8, 5, 2],\n",
    "     [9, 6, 3]]"
   ]
  },
  {
   "cell_type": "code",
   "execution_count": 114,
   "metadata": {},
   "outputs": [
    {
     "name": "stdout",
     "output_type": "stream",
     "text": [
      "Method 1 output is: [[7, 4, 1], [8, 5, 2], [9, 6, 3]]\n"
     ]
    }
   ],
   "source": [
    "# Method 1\n",
    "def rotate90Clockwise(A):\n",
    "    N = len(A[0])\n",
    "    for i in range(N // 2):\n",
    "        for j in range(i, N - i - 1):\n",
    "            temp = A[i][j]\n",
    "            A[i][j] = A[N - 1 - j][i]\n",
    "            A[N - 1 - j][i] = A[N - 1 - i][N - 1 - j]\n",
    "            A[N - 1 - i][N - 1 - j] = A[j][N - 1 - i]\n",
    "            A[j][N - 1 - i] = temp\n",
    "    \n",
    "    return [A[i] for i in range(len(A[0]))]\n",
    "\n",
    "print(f'Method 1 output is: {rotate90Clockwise([[1, 2, 3],[4, 5, 6],[7, 8, 9]])}')"
   ]
  },
  {
   "cell_type": "markdown",
   "metadata": {},
   "source": [
    "# stringPermutations\n",
    "Given a string s, find all its potential permutations. The output should be sorted in lexicographical order.\n",
    "\n",
    "Example\n",
    "\n",
    "For s = \"CBA\", the output should be\n",
    "\n",
    "stringPermutations(s) = [\"ABC\", \"ACB\", \"BAC\", \"BCA\", \"CAB\", \"CBA\"];\n",
    "\n",
    "For s = \"ABA\", the output should be\n",
    "\n",
    "stringPermutations(s) = [\"AAB\", \"ABA\", \"BAA\"]."
   ]
  },
  {
   "cell_type": "code",
   "execution_count": 145,
   "metadata": {},
   "outputs": [
    {
     "name": "stdout",
     "output_type": "stream",
     "text": [
      "Method 1 output is: ['AAB', 'ABA', 'BAA']\n"
     ]
    }
   ],
   "source": [
    "# Method 1\n",
    "def stringPermutations1(s):\n",
    "    from itertools import permutations\n",
    "    val = [\"\".join(i) for i in sorted(list(map(list,permutations(s))))]\n",
    "    out = []\n",
    "    for i in val:\n",
    "        if i not in out:\n",
    "            out.append(i)\n",
    "    return out\n",
    "print(f'Method 1 output is: {stringPermutations1(\"ABA\")}')"
   ]
  },
  {
   "cell_type": "markdown",
   "metadata": {},
   "source": [
    "# Are Similar?\n",
    "Two arrays are called similar if one can be obtained from another by swapping at most one pair of elements in one of the arrays.\n",
    "\n",
    "Given two arrays a and b, check whether they are similar.\n",
    "\n",
    "Example\n",
    "\n",
    "For a = [1, 2, 3] and b = [1, 2, 3], the output should be\n",
    "\n",
    "    - areSimilar(a, b) = true.\n",
    "\n",
    "The arrays are equal, no need to swap any elements.\n",
    "\n",
    "For a = [1, 2, 3] and b = [2, 1, 3], the output should be\n",
    "\n",
    "    - areSimilar(a, b) = true.\n",
    "\n",
    "We can obtain b from a by swapping 2 and 1 in b.\n",
    "\n",
    "For a = [1, 2, 2] and b = [2, 1, 1], the output should be\n",
    "\n",
    "    - areSimilar(a, b) = false.\n",
    "\n",
    "Any swap of any two elements either in a or in b won't make a and b equal."
   ]
  },
  {
   "cell_type": "code",
   "execution_count": 185,
   "metadata": {},
   "outputs": [
    {
     "name": "stdout",
     "output_type": "stream",
     "text": [
      "Method 1 output is: True\n",
      "Method 2 output is: True\n"
     ]
    }
   ],
   "source": [
    "# Method 1 (80% test case solved)\n",
    "def return_substrings1(s1,s2):\n",
    "    from itertools import permutations\n",
    "    return s2 in list(map(list,set(permutations(s1))))\n",
    "\n",
    "print(f'Method 1 output is: {return_substrings1([2, 3, 1],[1, 3, 2])}')\n",
    "\n",
    "def return_substrings2(a,b):\n",
    "    tmp1,tmp2 = [],[]\n",
    "    for i in range(len(a)):\n",
    "        if a[i]!=b[i]:\n",
    "            tmp1.append(a[i])\n",
    "            tmp2.append(b[i])\n",
    "    if len(tmp1)==0: return True\n",
    "    elif len(tmp1)>2: return False\n",
    "    return tmp1==list(reversed(tmp2))\n",
    "print(f'Method 2 output is: {return_substrings2([2, 3, 1],[1, 3, 2])}')"
   ]
  },
  {
   "cell_type": "markdown",
   "metadata": {},
   "source": [
    "# sumInRange\n",
    "You have an array of integers nums and an array queries, where queries[i] is a pair of indices (0-based). Find the sum of the elements in nums from the indices at queries[i][0] to queries[i][1] (inclusive) for each query, then add all of the sums for all the queries together. Return that number modulo 10^9 + 7.\n",
    "\n",
    "Example\n",
    "\n",
    "For nums = [3, 0, -2, 6, -3, 2] and queries = [[0, 2], [2, 5], [0, 5]], the output should be\n",
    "\n",
    "    - sumInRange(nums, queries) = 10.\n",
    "\n",
    "The array of results for queries is [1, 3, 6], so the answer is 1 + 3 + 6 = 10."
   ]
  },
  {
   "cell_type": "code",
   "execution_count": 64,
   "metadata": {},
   "outputs": [
    {
     "name": "stdout",
     "output_type": "stream",
     "text": [
      "Method 1 output is: 999999007\n"
     ]
    }
   ],
   "source": [
    "def sumOfTwo1(nums,queries):\n",
    "    if len(nums) == 1: return nums[0] % 1000000007\n",
    "    suma = 0\n",
    "    for e in queries:\n",
    "        suma += sum(nums[e[0]:e[1]+1])\n",
    "    return suma % (1000000000 + 7)\n",
    "print(f'Method 1 output is: {sumOfTwo1([-1000],[[0,0]])}')"
   ]
  },
  {
   "cell_type": "markdown",
   "metadata": {},
   "source": [
    "# sudoku2\n",
    "Sudoku is a number-placement puzzle. The objective is to fill a 9 × 9 grid with numbers in such a way that each column, each row, and each of the nine 3 × 3 sub-grids that compose the grid all contain all of the numbers from 1 to 9 one time.\n",
    "\n",
    "Implement an algorithm that will check whether the given grid of numbers represents a valid Sudoku puzzle according to the layout rules described above. Note that the puzzle represented by grid does not have to be solvable.\n",
    "\n",
    "grid = [\n",
    "        \n",
    "        ['.', '.', '.', '1', '4', '.', '.', '2', '.'],\n",
    "        \n",
    "        ['.', '.', '6', '.', '.', '.', '.', '.', '.'],\n",
    "        \n",
    "        ['.', '.', '.', '.', '.', '.', '.', '.', '.'],\n",
    "        \n",
    "        ['.', '.', '1', '.', '.', '.', '.', '.', '.'],\n",
    "        \n",
    "        ['.', '6', '7', '.', '.', '.', '.', '.', '9'],\n",
    "        \n",
    "        ['.', '.', '.', '.', '.', '.', '8', '1', '.'],\n",
    "        \n",
    "        ['.', '3', '.', '.', '.', '.', '.', '.', '6'],\n",
    "        \n",
    "        ['.', '.', '.', '.', '.', '7', '.', '.', '.'],\n",
    "        \n",
    "        ['.', '.', '.', '5', '.', '.', '.', '7', '.']\n",
    "        \n",
    "        ]\n",
    "\n",
    "the output should be\n",
    "sudoku2(grid) = true;"
   ]
  },
  {
   "cell_type": "code",
   "execution_count": 33,
   "metadata": {},
   "outputs": [
    {
     "name": "stdout",
     "output_type": "stream",
     "text": [
      "Method 1 output is: False\n"
     ]
    }
   ],
   "source": [
    "test = [['.', '.', '.', '.', '2', '.', '.', '9', '.'],\n",
    "        ['.', '.', '.', '.', '6', '.', '.', '.', '.'],\n",
    "        ['7', '1', '.', '.', '7', '5', '.', '.', '.'],\n",
    "        ['.', '7', '.', '.', '.', '.', '.', '.', '.'],\n",
    "        ['.', '.', '.', '.', '8', '3', '.', '.', '.'],\n",
    "        ['.', '.', '8', '.', '.', '7', '.', '6', '.'],\n",
    "        ['.', '.', '.', '.', '.', '2', '.', '.', '.'],\n",
    "        ['.', '1', '.', '2', '.', '.', '.', '.', '.'],\n",
    "        ['.', '2', '.', '.', '3', '.', '.', '.', '.']]\n",
    "\n",
    "# Method 1 (15/20 Test case pass)\n",
    "def sud(test):\n",
    "    for i in range(len(test)):\n",
    "        row,col = {},{}\n",
    "        for j in range(len(test)):\n",
    "            if test[i][j] != '.' and test[i][j] in row:\n",
    "                return False\n",
    "            row[test[i][j]] = 1\n",
    "            \n",
    "            if test[i][j] != '.' and test[i][j] in col: \n",
    "                return False\n",
    "            col[test[i][j]] = 1\n",
    "    return True\n",
    "print(f'Method 1 output is: {sud(test)}')"
   ]
  },
  {
   "cell_type": "markdown",
   "metadata": {},
   "source": [
    "# nextLarger\n",
    "Note: Write a solution with O(n) complexity, since this is what you would be asked to do during a real interview.\n",
    "\n",
    "Given an array a composed of distinct elements, find the next larger element for each element of the array, i.e. the first element to the right that is greater than this element, in the order in which they appear in the array, and return the results as a new array of the same length. If an element does not have a larger element to its right, put -1 in the appropriate cell of the result array.\n",
    "\n",
    "Example\n",
    "\n",
    "For a = [6, 7, 3, 8], the output should be\n",
    "\n",
    "nextLarger(a) = [7, 8, 8, -1].\n",
    "\n",
    "In this array, the next larger element for 6 is 7, for 7 is 8, for 3 is 8 (7 is not a valid option since elements from a can only be compared to elements to their right), and for 8 there is no such element, so we put -1 in the last cell."
   ]
  },
  {
   "cell_type": "code",
   "execution_count": 69,
   "metadata": {},
   "outputs": [
    {
     "name": "stdout",
     "output_type": "stream",
     "text": [
      "Method 1 outut is: [3, 4, 4, -1]\n",
      "Method 2 outut is: [2, 3, 4, 4]\n"
     ]
    }
   ],
   "source": [
    "# Method 1 (solves 50% of test case (Worst Idea))\n",
    "def nextLarge(test):\n",
    "    if len(test) == 1: test[-1] = -1\n",
    "    else:\n",
    "        for i in range(len(test)-1):\n",
    "            maxElem = max(test)\n",
    "            if test[i] < test[i+1]:\n",
    "                test[i],test[i+1] = test[i+1],maxElem\n",
    "        if test[-1] == maxElem: test[-1] = -1\n",
    "    \n",
    "    return test\n",
    "\n",
    "print(f'Method 1 outut is: {nextLarge([2,3,4,4])}')\n",
    "\n",
    "# Method 2\n",
    "def nextLarge2(arr):\n",
    "    i = 0\n",
    "    while i == len(arr):\n",
    "        next = -1\n",
    "        for j in range(i+1, len(arr), 1):\n",
    "            if arr[i] < arr[j]:\n",
    "                next = arr[j]\n",
    "        i += 1\n",
    "    return arr\n",
    "\n",
    "print(f'Method 2 outut is: {nextLarge2([2,3,4,4])}')"
   ]
  },
  {
   "cell_type": "markdown",
   "metadata": {},
   "source": [
    "# amendTheSentence\n",
    "You have been given a string s, which is supposed to be a sentence. However, someone forgot to put spaces between the different words, and for some reason they capitalized the first letter of every word. Return the sentence after making the following amendments:\n",
    "\n",
    "    - Put a single space between the words.\n",
    "\n",
    "    - Convert the uppercase letters to lowercase.\n",
    "\n",
    "Example\n",
    "\n",
    "For s = \"CodesignalIsAwesome\", the output should be\n",
    "    \n",
    "    - amendTheSentence(s) = \"codesignal is awesome\";\n",
    "\n",
    "For s = \"Hello\", the output should be\n",
    "    \n",
    "    - amendTheSentence(s) = \"hello\"."
   ]
  },
  {
   "cell_type": "code",
   "execution_count": 19,
   "metadata": {},
   "outputs": [
    {
     "name": "stdout",
     "output_type": "stream",
     "text": [
      "Method 1 output: codesignal is awesome\n",
      "Method 2 output: codesignal is awesome\n"
     ]
    }
   ],
   "source": [
    "# Method 1\n",
    "def ammedString(s):\n",
    "    import re\n",
    "    return ' '.join([i.lower() for i in re.split(\"([A-Z][^A-Z]*)\", s) if i])\n",
    "print(f'Method 1 output: {ammedString(\"CodesignalIsAwesome\")}')\n",
    "\n",
    "# Method 2\n",
    "def ammedString2(s):\n",
    "    pos = [i for i,e in enumerate(s+'A') if e.isupper()]\n",
    "    parts = [s[pos[j]:pos[j+1]].lower() for j in range(len(pos)-1)]\n",
    "    return ' '.join(parts)\n",
    "print(f'Method 2 output: {ammedString2(\"CodesignalIsAwesome\")}')"
   ]
  },
  {
   "cell_type": "markdown",
   "metadata": {},
   "source": [
    "# classifyStrings\n",
    "You categorize strings into three types: good, bad, or mixed. If a string has 3 consecutive vowels or 5 consecutive consonants, or both, then it is categorized as bad. Otherwise it is categorized as good. Vowels in the English alphabet are [\"a\", \"e\", \"i\", \"o\", \"u\"] and all other letters are consonants.\n",
    "\n",
    "The string can also contain the character ?, which can be replaced by either a vowel or a consonant. This means that the string \"?aa\" can be bad if ? is a vowel or good if it is a consonant. This kind of string is categorized as mixed.\n",
    "\n",
    "Implement a function that takes a string s and returns its category: good, bad, or mixed.\n",
    "\n",
    "Example\n",
    "\n",
    "For s = \"aeu\", the output should be\n",
    "    \n",
    "    - classifyStrings(s) = \"bad\";\n",
    "\n",
    "For s = \"a?u\", the output should be\n",
    "    \n",
    "    - classifyStrings(s) = \"mixed\";\n",
    "\n",
    "For s = \"aba\", the output should be\n",
    "    \n",
    "    - classifyStrings(s) = \"good\"."
   ]
  },
  {
   "cell_type": "code",
   "execution_count": 18,
   "metadata": {},
   "outputs": [
    {
     "name": "stdout",
     "output_type": "stream",
     "text": [
      "Method 1 output is: good\n",
      "Method 2 output is: good\n"
     ]
    }
   ],
   "source": [
    "# Method 1 (15/17 test case pass)\n",
    "def goodBad(s):\n",
    "    vowels = [\"a\", \"e\", \"i\", \"o\", \"u\"]\n",
    "    counter,alphaCount = 0,0    \n",
    "    if len(s) == 1 or s == '?': return 'good' or 'bad'\n",
    "    for i in s:\n",
    "        if i in vowels or i.isalpha() == False:\n",
    "            counter += 1\n",
    "            alphaCount += 1\n",
    "            if counter >= 3 or counter >= 5 or alphaCount >2:\n",
    "                return 'bad'\n",
    "        elif i.isalpha() == False: return 'Mixed'\n",
    "    return 'good'\n",
    "\n",
    "print(f'Method 1 output is: {goodBad(\"a?q\")}')\n",
    "\n",
    "# Method 2\n",
    "def classifyStrings(s):\n",
    "    import re\n",
    "    if re.findall('(([aeiou]{3})|[^aeiou?]{5})',s):\n",
    "        return 'bad'\n",
    "    if '?' in s:\n",
    "        a = classifyStrings(s.replace('?','a',1))\n",
    "        b = classifyStrings(s.replace('?','n',1))\n",
    "        return a if a == b else 'mixed'\n",
    "    return 'good'\n",
    "print(f'Method 2 output is: {classifyStrings(\"a?q\")}')"
   ]
  },
  {
   "cell_type": "markdown",
   "metadata": {},
   "source": [
    "# areFollowingPatterns\n",
    "\n",
    "Given an array strings, determine whether it follows the sequence given in the patterns array. In other words, there should be no i and j for which strings[i] = strings[j] and patterns[i] ≠ patterns[j] or for which strings[i] ≠ strings[j] and patterns[i] = patterns[j].\n",
    "\n",
    "Example\n",
    "\n",
    "For strings = [\"cat\", \"dog\", \"dog\"] and patterns = [\"a\", \"b\", \"b\"], the output should be\n",
    "\n",
    "    - areFollowingPatterns(strings, patterns) = true;\n",
    "\n",
    "For strings = [\"cat\", \"dog\", \"doggy\"] and patterns = [\"a\", \"b\", \"b\"], the output should be\n",
    "\n",
    "    - areFollowingPatterns(strings, patterns) = false."
   ]
  },
  {
   "cell_type": "code",
   "execution_count": 7,
   "metadata": {},
   "outputs": [
    {
     "name": "stdout",
     "output_type": "stream",
     "text": [
      "Method 1 output is: False\n"
     ]
    }
   ],
   "source": [
    "# Method 1 output (8/12 test case passed)\n",
    "def areFollowingPatterns(strings, patterns):\n",
    "    def paternCheck(alist):\n",
    "        for i in range(len(alist)-1):\n",
    "            if alist[i] == alist[i+1]:\n",
    "                return True\n",
    "        return False\n",
    "    return paternCheck(strings) and paternCheck(patterns)\n",
    "print(f\"Method 1 output is: {areFollowingPatterns(['cat', 'dog', 'doggy'],['a','b','b'])}\")"
   ]
  },
  {
   "cell_type": "markdown",
   "metadata": {},
   "source": [
    "# decodeString\n",
    "Given an encoded string, return its corresponding decoded string.\n",
    "\n",
    "The encoding rule is: k[encoded_string], where the encoded_string inside the square brackets is repeated exactly k times. Note: k is guaranteed to be a positive integer.\n",
    "\n",
    "Note that your solution should have linear complexity because this is what you will be asked during an interview.\n",
    "\n",
    "Example\n",
    "\n",
    "For s = \"4[ab]\", the output should be \n",
    "decodeString(s) = \"abababab\";\n",
    "\n",
    "For s = \"2[b3[a]]\", the output should be\n",
    "decodeString(s) = \"baaabaaa\";\n",
    "\n",
    "For s = \"z1[y]zzz2[abc]\", the output should be\n",
    "decodeString(s) = \"zyzzzabcabc\"."
   ]
  },
  {
   "cell_type": "code",
   "execution_count": 22,
   "metadata": {},
   "outputs": [
    {
     "name": "stdout",
     "output_type": "stream",
     "text": [
      "('1', 'y')\n",
      "zyzzzy\n"
     ]
    }
   ],
   "source": [
    "import re\n",
    "s = \"z1[y]zzz2[abc]\"\n",
    "pattern = re.compile('(\\d+)\\[([a-zA-Z]+)\\]')\n",
    "while '[' in s:\n",
    "    result_tmp=pattern.search(s)\n",
    "    print(result_tmp.groups())\n",
    "    freq,dst = result_tmp.groups()\n",
    "    dst_str=dst*int(freq)\n",
    "    s=pattern.sub(dst_str,s)\n",
    "print(s)"
   ]
  },
  {
   "cell_type": "markdown",
   "metadata": {},
   "source": [
    "# longestCommonSubstring\n",
    "Given two strings, s and t, find the length of their longest common substring.\n",
    "\n",
    "Example\n",
    "\n",
    "For s = \"abcdxyz\" and t = \"xyzabcd\", the output should be\n",
    "\n",
    "    - longestCommonSubstring(s, t) = 4;\n",
    "\n",
    "For s = \"zxabcdezy\" and t = \"yzabcdezx\", the output should be\n",
    "\n",
    "    - longestCommonSubstring(s, t) = 6.\n",
    "\n",
    "The longest common substring is \"abcdez\" and has a length of 6."
   ]
  },
  {
   "cell_type": "code",
   "execution_count": 1,
   "metadata": {},
   "outputs": [
    {
     "name": "stdout",
     "output_type": "stream",
     "text": [
      "Method 1 output is: 4\n"
     ]
    }
   ],
   "source": [
    "# Method 1 (102/110 test case passed)\n",
    "def longestCommonSubstring1(s, t):    \n",
    "    # Helper function to produce possible substrings\n",
    "    def substrings(string):\n",
    "        return [string[i:j+1] for i in range(len(string)) for j in range(i,len(string))]\n",
    "    \n",
    "    s1 = substrings(s);s2 = substrings(t)    \n",
    "    \n",
    "    return len(max(set(s1).intersection(set(s2)),key=len))\n",
    "print(f'Method 1 output is: {longestCommonSubstring1(\"abcdxyz\",\"xyzabcd\")}')"
   ]
  },
  {
   "cell_type": "markdown",
   "metadata": {},
   "source": [
    "# regexMatching\n",
    "\n",
    "Given a pattern string and a test string, your task is to implement regex substring matching. If pattern is preceded by a '^', the pattern, excluding the '^, will be matched with the starting position of the test string. \n",
    "\n",
    "If pattern is followed by a 'dollar symbol', the pattern, excluding the 'dollor symbol', will be matched with the ending position of the test string. \n",
    "\n",
    "If no such markers are present, check whether pattern is a substring of test, regardless of its position.\n",
    "\n",
    "Example\n",
    "\n",
    "For pattern = \"^code\" and test = \"codesignal\", the output should be\n",
    "    \n",
    "    - regexMatching(pattern, test) = true;\n",
    "\n",
    "For pattern = \"nal$\" and test = \"codesignal\", the output should be\n",
    "    \n",
    "    - regexMatching(pattern, test) = true;\n",
    "\n",
    "For pattern = \"hello\" and test = \"world\", the output should be\n",
    "    \n",
    "    - regexMatching(pattern, test) = false."
   ]
  },
  {
   "cell_type": "code",
   "execution_count": 47,
   "metadata": {},
   "outputs": [
    {
     "name": "stdout",
     "output_type": "stream",
     "text": [
      "Method 1 output is: True\n",
      "Method 2 output is: True\n"
     ]
    }
   ],
   "source": [
    "# Method 1\n",
    "def regexMatching(pattern, test):\n",
    "    if '$' in pattern:\n",
    "        newPattern = ''.join(pattern.split('$'))\n",
    "        suffix = len(newPattern)\n",
    "        return test[-suffix:] == newPattern\n",
    "    elif '^' in pattern:\n",
    "        newPattern1 = ''.join(pattern.split('^'))\n",
    "        prefix = len(newPattern1)\n",
    "        return test[:prefix] == newPattern1\n",
    "    else:\n",
    "        check = len(pattern)\n",
    "        for i in range(len(test)):\n",
    "            if pattern == test[i:i+check]:\n",
    "                return True\n",
    "    return False\n",
    "print(f'Method 1 output is: {regexMatching(\"hello\",\"hello\")}')\n",
    "\n",
    "# Method 2\n",
    "def regexMatching1(pattern, test):\n",
    "    if '$' in pattern:\n",
    "        newPattern = ''.join(pattern.split('$'))\n",
    "        suffix = len(newPattern)\n",
    "        return test[-suffix:] == newPattern\n",
    "    elif '^' in pattern:\n",
    "        newPattern1 = ''.join(pattern.split('^'))\n",
    "        prefix = len(newPattern1)\n",
    "        return test[:prefix] == newPattern1\n",
    "    return pattern in test\n",
    "print(f'Method 2 output is: {regexMatching1(\"hello\",\"hello\")}')"
   ]
  },
  {
   "cell_type": "markdown",
   "metadata": {},
   "source": [
    "# minSubstringWithAllChars\n",
    "You have two strings, s and t. The string t contains only unique elements. Find and return the minimum consecutive substring of s that contains all of the elements from t.\n",
    "\n",
    "It's guaranteed that the answer exists. If there are several answers, return the one which starts from the smallest index.\n",
    "\n",
    "Example\n",
    "\n",
    "For s = \"adobecodebanc\" and t = \"abc\", the output should be\n",
    "\n",
    "    - minSubstringWithAllChars(s, t) = \"banc\"."
   ]
  },
  {
   "cell_type": "code",
   "execution_count": 27,
   "metadata": {},
   "outputs": [
    {
     "name": "stdout",
     "output_type": "stream",
     "text": [
      "Method 1 output is: banc\n"
     ]
    }
   ],
   "source": [
    "# Metohd 1\n",
    "def minSubstringWithAllChars1(s, t):\n",
    "    if len(s) == len(t): return s\n",
    "    if len(t) == 1: return t\n",
    "    subStringList = list([s[i:i+j] for i in range(len(s)) for j in range(i,len(s))])\n",
    "    return min([i for i in subStringList if set(t).intersection(set(i)) == set(t)],key=len)\n",
    "print(f'Method 1 output is: {minSubstringWithAllChars1(\"adobecodebanc\",\"abc\")}')"
   ]
  },
  {
   "cell_type": "markdown",
   "metadata": {},
   "source": [
    "# productExceptSelf\n",
    "You have an array nums. We determine two functions to perform on nums. In both cases, n is the length of nums:\n",
    "\n",
    "fi(nums) = nums[0] · nums[1] · ... · nums[i - 1] · nums[i + 1] · ... · nums[n - 1]. (In other words, fi(nums) is the product of all array elements except the ithf.)\n",
    "g(nums) = f0(nums) + f1(nums) + ... + fn-1(nums).\n",
    "Using these two functions, calculate all values of f modulo the given m. Take these new values and add them together to get g. You should return the value of g modulo the given m.\n",
    "\n",
    "Example\n",
    "\n",
    "For nums = [1, 2, 3, 4] and m = 12, the output should be\n",
    "\n",
    "    - productExceptSelf(nums, m) = 2.\n",
    "\n",
    "The array of the values of f is: [24, 12, 8, 6]. If we take all the elements modulo m, we get:\n",
    "\n",
    "    - [0, 0, 8, 6]. The sum of those values is 8 + 6 = 14, making the answer 14 % 12 = 2."
   ]
  },
  {
   "cell_type": "code",
   "execution_count": 56,
   "metadata": {},
   "outputs": [
    {
     "name": "stdout",
     "output_type": "stream",
     "text": [
      "Method 1 output is: 2\n"
     ]
    }
   ],
   "source": [
    "# Method 1 (Tests passed: 15/16)\n",
    "def productExceptSelf1(nums, m):\n",
    "    output = [1 for i in range(len(nums))]\n",
    "    for i in range(1,len(output)):\n",
    "        output[i] = output[i-1]*nums[i-1]\n",
    "    R = 1\n",
    "    for i in range(len(output)-1, -1, -1):\n",
    "        output[i] = output[i]*R\n",
    "        R *=nums[i]\n",
    "    return sum(list(map(lambda x: x%m,output))) % m\n",
    "print(f'Method 1 output is: {productExceptSelf1([1, 2, 3, 4], 12)}')"
   ]
  },
  {
   "cell_type": "markdown",
   "metadata": {},
   "source": [
    "# findLongestSubarrayBySum\n",
    "You have an unsorted array arr of non-negative integers and a number s. Find a longest contiguous subarray in arr that has a sum equal to s. Return two integers that represent its inclusive bounds. If there are several possible answers, return the one with the smallest left bound. If there are no answers, return [-1].\n",
    "\n",
    "Your answer should be 1-based, meaning that the first position of the array is 1 instead of 0.\n",
    "\n",
    "Example\n",
    "\n",
    "    - For s = 12 and arr = [1, 2, 3, 7, 5], the output should be findLongestSubarrayBySum(s, arr) = [2, 4].\n",
    "\n",
    "      The sum of elements from the 2nd position to the 4th position (1-based) is equal to 12: 2 + 3 + 7.\n",
    "\n",
    "    - For s = 15 and arr = [1, 2, 3, 4, 5, 6, 7, 8, 9, 10], the output should be findLongestSubarrayBySum(s, arr) = [1, 5].\n",
    "\n",
    "      The sum of elements from the 1st position to the 5th position (1-based) is equal to 15: 1 + 2 + 3 + 4 + 5.\n",
    "\n",
    "    - For s = 15 and arr = [1, 2, 3, 4, 5, 0, 0, 0, 6, 7, 8, 9, 10], the output should be findLongestSubarrayBySum(s, arr) = [1, 8].\n",
    "\n",
    "      The sum of elements from the 1st position to the 8th position (1-based) is equal to 15: 1 + 2 + 3 + 4 + 5 + 0 + 0 + 0."
   ]
  },
  {
   "cell_type": "code",
   "execution_count": 60,
   "metadata": {},
   "outputs": [
    {
     "data": {
      "text/plain": [
       "(3,)"
      ]
     },
     "execution_count": 60,
     "metadata": {},
     "output_type": "execute_result"
    }
   ],
   "source": [
    "from itertools import combinations\n",
    "s,arr = 3,[0,3,0]\n",
    "max([j for i in range(len(arr)) for j in combinations(arr,i+1) if sum(j) == s],key=sum)"
   ]
  },
  {
   "cell_type": "markdown",
   "metadata": {},
   "source": [
    "# yet to see this\n",
    "# containsCloseNums\n",
    "Given an array of integers nums and an integer k, determine whether there are two distinct indices i and j in the array where nums[i] = nums[j] and the absolute difference between i and j is less than or equal to k.\n",
    "\n",
    "Example\n",
    "\n",
    "For nums = [0, 1, 2, 3, 5, 2] and k = 3, the output should be\n",
    "    \n",
    "    - containsCloseNums(nums, k) = true.\n",
    "\n",
    "There are two 2s in nums, and the absolute difference between their positions is exactly 3.\n",
    "\n",
    "For nums = [0, 1, 2, 3, 5, 2] and k = 2, the output should be\n",
    "    \n",
    "    - containsCloseNums(nums, k) = false.\n",
    "\n",
    "The absolute difference between the positions of the two 2s is 3, which is more than k."
   ]
  },
  {
   "cell_type": "code",
   "execution_count": 35,
   "metadata": {},
   "outputs": [
    {
     "name": "stdout",
     "output_type": "stream",
     "text": [
      "Method 1 ouput is: False\n"
     ]
    }
   ],
   "source": [
    "# Method 1\n",
    "from collections import defaultdict\n",
    "def list_duplicates(seq,k):\n",
    "    tally = defaultdict(list)\n",
    "    for i,item in enumerate(seq):\n",
    "        tally[item].append(i)\n",
    "    output = [locs for key,locs in tally.items() if len(locs)>1]\n",
    "    if len(output) == 0: return False\n",
    "    else:\n",
    "        dummy = output[0]\n",
    "        for i in range(len(dummy)):\n",
    "            if abs(dummy[i] - dummy[i-1]) <= k:\n",
    "                return True\n",
    "    return False\n",
    "print(f'Method 1 ouput is: {list_duplicates([1,2],2)}')"
   ]
  },
  {
   "cell_type": "markdown",
   "metadata": {},
   "source": [
    "# arrayChange\n",
    "You are given an array of integers. On each move you are allowed to increase exactly one of its element by one. Find the minimal number of moves required to obtain a strictly increasing sequence from the input.\n",
    "\n",
    "Example\n",
    "\n",
    "For inputArray = [1, 1, 1], the output should be\n",
    "arrayChange(inputArray) = 3."
   ]
  },
  {
   "cell_type": "code",
   "execution_count": 6,
   "metadata": {},
   "outputs": [
    {
     "name": "stdout",
     "output_type": "stream",
     "text": [
      "Method 1 output is: 3\n"
     ]
    }
   ],
   "source": [
    "# Method 1\n",
    "def arrayChange(inputArray):\n",
    "    sums = 0\n",
    "    q = inputArray[0]\n",
    "    for i in inputArray[1:]:\n",
    "        if i <= q:\n",
    "            sums += q-i+1\n",
    "            q = q+1\n",
    "        else:\n",
    "            q = i\n",
    "    return sums\n",
    "print(f'Method 1 output is: {arrayChange([1,1,1])}')"
   ]
  },
  {
   "cell_type": "markdown",
   "metadata": {},
   "source": [
    "# palindromeRearranging\n",
    "Given a string, find out if its characters can be rearranged to form a palindrome.\n",
    "\n",
    "Example\n",
    "\n",
    "For inputString = \"aabb\", the output should be\n",
    "palindromeRearranging(inputString) = true.\n",
    "\n",
    "We can rearrange \"aabb\" to make \"abba\", which is a palindrome."
   ]
  },
  {
   "cell_type": "code",
   "execution_count": 14,
   "metadata": {},
   "outputs": [
    {
     "name": "stdout",
     "output_type": "stream",
     "text": [
      "Method 1 outut is: False\n"
     ]
    }
   ],
   "source": [
    "# Method 1\n",
    "def paliReararnge(string):\n",
    "    return sum(map(lambda x: string.count(x) % 2, set(string))) <= 1\n",
    "print(f'Method 1 outut is: {paliReararnge(\"Aneruth\")}')"
   ]
  },
  {
   "cell_type": "code",
   "execution_count": 46,
   "metadata": {},
   "outputs": [
    {
     "name": "stdout",
     "output_type": "stream",
     "text": [
      "4 2\n"
     ]
    }
   ],
   "source": [
    "sourceArray = [20800440, 98256958, 64277103, 40475664, 98589505, 31621824, 84322264, 58283379, 15631261, 35464021]\n",
    "destinationArray = [20800440, 95256958, 64276103, 40475664, 98589505, 31621824, 84322264, 58283379, 15631261, 35464021]\n",
    "# out = [7, 3]\n",
    "for i,j in zip(sourceArray,destinationArray):\n",
    "    if i != j:\n",
    "        # print(sourceArray.index(i),destinationArray.index(j),i,j)\n",
    "        s = len(sourceArray[sourceArray.index(i)+1:])\n",
    "        b = len(sourceArray[:sourceArray.index(i)+1])\n",
    "        print(s,b)"
   ]
  },
  {
   "cell_type": "code",
   "execution_count": 48,
   "metadata": {},
   "outputs": [
    {
     "data": {
      "text/plain": [
       "[3.0, 3.857142857142857, 1.1666666666666667]"
      ]
     },
     "execution_count": 48,
     "metadata": {},
     "output_type": "execute_result"
    }
   ],
   "source": [
    "test = [[2,4,5,2,1,3,4],[3,4,5,5,5,3,2],[1,1,1,2,1,1]]\n",
    "list(map(lambda x: sum(x)/len(x),test))"
   ]
  },
  {
   "cell_type": "code",
   "execution_count": 50,
   "metadata": {},
   "outputs": [
    {
     "data": {
      "text/plain": [
       "3.0"
      ]
     },
     "execution_count": 50,
     "metadata": {},
     "output_type": "execute_result"
    }
   ],
   "source": [
    "sum([2,4,5,2,1,3,4])/len([2,4,5,2,1,3,4])"
   ]
  },
  {
   "cell_type": "code",
   "execution_count": 58,
   "metadata": {},
   "outputs": [],
   "source": [
    "def ratingThreshold(threshold, ratings):\n",
    "    # return len([1 for i in ratings if sum(i)/len(i) == threshold])\n",
    "    # return [i for i in range(len(ratings)) if sum(ratings[i])/len(ratings) < threshold]\n",
    "    output = []\n",
    "    for i in range(len(ratings)):\n",
    "        if sum(ratings[i])/len(ratings[i]) <  threshold:\n",
    "            output.append(i)\n",
    "    return output"
   ]
  },
  {
   "cell_type": "code",
   "execution_count": 59,
   "metadata": {},
   "outputs": [
    {
     "data": {
      "text/plain": [
       "[0, 1, 2]"
      ]
     },
     "execution_count": 59,
     "metadata": {},
     "output_type": "execute_result"
    }
   ],
   "source": [
    "ratingThreshold(5,test)"
   ]
  },
  {
   "cell_type": "markdown",
   "metadata": {},
   "source": [
    "# Yet to see this\n",
    "# proCategorization\n",
    "Thumbtack helps Professionals (Pros) grow their business by identifying new customers. Upon registering on Thumbtack, a Pro specifies which categories of services they provide. To help match customer requests with qualified Pros, Thumbtack maintains a list of Pros grouped by service categories.\n",
    "\n",
    "Given a list of pros and their category preferences, return the list of Pros for each category.\n",
    "\n",
    "Example\n",
    "\n",
    "For pros = [\"Jack\", \"Leon\", \"Maria\"] and\n",
    "\n",
    "preferences = [[\"Computer repair\", \"Handyman\", \"House cleaning\"],[\"Computer lessons\", \"Computer repair\", \"Data recovery service\"],[\"Computer lessons\", \"House cleaning\"]]\n",
    "\n",
    "the output should be\n",
    "\n",
    "proCategorization(pros, preferences) = \n",
    "\n",
    "        [[[\"Computer lessons\"], [\"Leon\", \"Maria\"]],\n",
    "        \n",
    "        [[\"Computer repair\"], [\"Jack\", \"Leon\"]],\n",
    "        \n",
    "        [[\"Data recovery service\"], [\"Leon\"]],\n",
    "        \n",
    "        [[\"Handyman\"], [\"Jack\"]],\n",
    "        \n",
    "        [[\"House cleaning\"], [\"Jack\", \"Maria\"]]]"
   ]
  },
  {
   "cell_type": "code",
   "execution_count": 106,
   "metadata": {},
   "outputs": [],
   "source": [
    "pros = [\"Jack\", \"Leon\", \"Maria\"]\n",
    "preferences = [[\"Computer repair\", \"Handyman\", \"House cleaning\"],[\"Computer lessons\", \"Computer repair\", \"Data recovery service\"],[\"Computer lessons\", \"House cleaning\"]]\n",
    "dummy = preferences.copy()\n",
    "dummyDict = dict()\n",
    "test = set([j for i in range(len(preferences)) for j in preferences[i]])"
   ]
  },
  {
   "cell_type": "markdown",
   "metadata": {},
   "source": [
    "# launchSequenceChecker\n",
    "The master launch sequence consists of several independent sequences for different systems. Your goal is to verify that all the individual system sequences are in strictly increasing order. In other words, for any two elements i and j (i < j) of the master launch sequence that belong to the same system (having systemNames[i] = systemNames[j]), their values should be in strictly increasing order (i.e. stepNumbers[i] < stepNumbers[j]).\n",
    "\n",
    "Example\n",
    "\n",
    "For systemNames = [\"stage_1\", \"stage_2\", \"dragon\", \"stage_1\", \"stage_2\", \"dragon\"] and stepNumbers = [1, 10, 11, 2, 12, 111], the output should be\n",
    "launchSequenceChecker(systemNames, stepNumbers) = true.\n",
    "\n",
    "There are three independent sequences for systems \"stage_1\", \"stage_2\", and \"dragon\". These sequences are [1, 2], [10, 12], and [11, 111], respectively. The elements are in strictly increasing order for all three.\n",
    "\n",
    "For systemNames = [\"stage_1\", \"stage_1\", \"stage_2\", \"dragon\"] and stepNumbers = [2, 1, 12, 111], the output should be\n",
    "launchSequenceChecker(systemNames, stepNumbers) = false.\n",
    "\n",
    "There are three independent sequences for systems \"stage_1\", \"stage_2\", and \"dragon\". These sequences are [2, 1], [12], and [111], respectively. In the first sequence, the elements are not ordered properly."
   ]
  },
  {
   "cell_type": "markdown",
   "metadata": {},
   "source": []
  },
  {
   "cell_type": "markdown",
   "metadata": {},
   "source": [
    "# fareEstimator\n",
    "Uber is building a Fare Estimator that can tell you how much your ride will cost before you request it. It works by passing approximated ride distance and ride time through this formula:\n",
    "\n",
    "(Cost per minute) * (ride time) + (Cost per mile) * (ride distance)\n",
    "\n",
    "where Cost per minute and Cost per mile depend on the car type.\n",
    "\n",
    "You are one of the engineers building the Fare Estimator, so knowing cost per minute and cost per mile for each car type, as well as ride distance and ride time, return the fare estimates for all car types.\n",
    "\n",
    "Example\n",
    "\n",
    "For\n",
    "\n",
    "ride_time = 30,\n",
    "\n",
    "ride_distance = 7,\n",
    "\n",
    "cost_per_minute = [0.2, 0.35, 0.4, 0.45], and\n",
    "\n",
    "cost_per_mile = [1.1, 1.8, 2.3, 3.5], the output should be\n",
    "\n",
    "fareEstimator(ride_time, ride_distance, cost_per_minute, cost_per_mile) = [13.7, 23.1, 28.1, 38].\n",
    "\n",
    "Since:\n",
    "\n",
    "30 * 0.2 + 7 * 1.1 = 6 + 7.7 = 13.7\n",
    "\n",
    "30 * 0.35 + 7 * 1.8 = 10.5 + 12.6 = 23.1\n",
    "\n",
    "30 * 0.4 + 7 * 2.3 = 12 + 16.1 = 28.1\n",
    "\n",
    "30 * 0.45 + 7 * 3.5 = 13.5 + 24.5 = 38"
   ]
  },
  {
   "cell_type": "code",
   "execution_count": 146,
   "metadata": {},
   "outputs": [
    {
     "name": "stdout",
     "output_type": "stream",
     "text": [
      "Method 1 output is: [13.7, 23.1, 28.1, 38.0]\n"
     ]
    }
   ],
   "source": [
    "# Method 1\n",
    "def fareEstimator(ride_time, ride_distance, cost_per_minute, cost_per_mile):\n",
    "    return [round(ride_time*cost_per_minute[i] + ride_distance*cost_per_mile[i],2) for i in range(len(cost_per_minute))]\n",
    "print(f'Method 1 output is: {fareEstimator(30,7,[0.2, 0.35, 0.4, 0.45],[1.1, 1.8, 2.3, 3.5])}')"
   ]
  },
  {
   "cell_type": "markdown",
   "metadata": {},
   "source": [
    "# fancyRide\n",
    "Being a new Uber user, you have $20 off your first ride. You want to make the most out of it and drive in the fanciest car you can afford, without spending any out-of-pocket money. There are 5 options, from the least to the most expensive: \"UberX\", \"UberXL\", \"UberPlus\", \"UberBlack\" and \"UberSUV\".\n",
    "\n",
    "You know the length l of your ride in miles and how much one mile costs for each car. Find the best car you can afford.\n",
    "\n",
    "Example\n",
    "\n",
    "For l = 30 and fares = [0.3, 0.5, 0.7, 1, 1.3], the output should be\n",
    "fancyRide(l, fares) = \"UberXL\".\n",
    "\n",
    "The cost for the ride in this car would be $15, which you can afford, but \"UberPlus\" would cost $21, which is too much for you.\n",
    "\n",
    "Input/Output\n",
    "\n",
    "[execution time limit] 4 seconds (py3)\n",
    "\n",
    "[input] integer l\n",
    "\n",
    "A positive number representing the length of the ride.\n",
    "\n",
    "Guaranteed constraints:\n",
    "4 ≤ l ≤ 30.\n",
    "\n",
    "[input] array.float fares\n",
    "\n",
    "A strictly increasing array of 5 elements. fares[0] stands for dollars per mile in \"UberX\", fares[1] is the same for \"UberXL\", etc.\n",
    "\n",
    "Guaranteed constraints:\n",
    "0.3 ≤ fares[i] ≤ 5.0.\n",
    "\n",
    "[output] string\n",
    "\n",
    "The car that you should choose: \"UberX\", \"UberXL\", \"UberPlus\", \"UberBlack\" or \"UberSUV\". It is guaranteed that you can afford at least one of them."
   ]
  },
  {
   "cell_type": "code",
   "execution_count": 179,
   "metadata": {},
   "outputs": [
    {
     "name": "stdout",
     "output_type": "stream",
     "text": [
      "Method 1 output is: UberBlack\n"
     ]
    }
   ],
   "source": [
    "# Method 1\n",
    "def fancyRide(l, fares):\n",
    "    rideList = [\"UberX\", \"UberXL\", \"UberPlus\", \"UberBlack\",\"UberSUV\"]  \n",
    "    for i, f in enumerate(fares):\n",
    "        if l * f > 20:\n",
    "            return rideList[i - 1]\n",
    "    return rideList[-1]\n",
    "print(f'Method 1 output is: {fancyRide(20,[0.3, 0.5, 0.7, 1, 1.3])}')"
   ]
  },
  {
   "cell_type": "markdown",
   "metadata": {},
   "source": [
    "# domainType\n",
    "GoDaddy makes a lot of different top-level domains available to its customers. A top-level domain is one that goes directly after the last dot ('.') in the domain name, for example .com in example.com. To help the users choose from available domains, GoDaddy is introducing a new feature that shows the type of the chosen top-level domain. You have to implement this feature.\n",
    "\n",
    "To begin with, you want to write a function that labels the domains as \"commercial\", \"organization\", \"network\" or \"information\" for .com, .org, .net or .info respectively.\n",
    "For the given list of domains return the list of their labels.\n",
    "\n",
    "Example\n",
    "\n",
    "For domains = [\"en.wiki.org\", \"codesignal.com\", \"happy.net\", \"code.info\"], the output should be\n",
    "domainType(domains) = [\"organization\", \"commercial\", \"network\", \"information\"]."
   ]
  },
  {
   "cell_type": "code",
   "execution_count": 185,
   "metadata": {},
   "outputs": [
    {
     "data": {
      "text/plain": [
       "['organization', 'commercial', 'network', 'information']"
      ]
     },
     "execution_count": 185,
     "metadata": {},
     "output_type": "execute_result"
    }
   ],
   "source": [
    "def domain(domains):\n",
    "    pass\n",
    "domains = [\"en.wiki.org\", \"codesignal.com\", \"happy.net\", \"code.info\"]\n",
    "domainDict = {\"com\":\"commercial\", \"org\":\"organization\", \"net\":\"network\",\"info\":\"information\"}\n",
    "[domainDict[i.split('.')[-1]] for i in domains if i.split('.')[-1] in domainDict]"
   ]
  },
  {
   "cell_type": "markdown",
   "metadata": {},
   "source": [
    "# tasksTypes\n",
    "You have some tasks in your Asana account. For each ith of them you know its deadlinesi, which is the last day by which it should be completed. As you can see in your calendar, today's date is day. Asana labels each task in accordance with its due date:\n",
    "\n",
    "If the task is due today or it's already overdue, it is labeled as Today;\n",
    "If the task is due within a week but not today - that is, its deadline is somewhere between day + 1 and day + 7 both inclusive - it is labeled as Upcoming;\n",
    "All other tasks are labeled as Later;\n",
    "Given an array of deadlines and today's date day, your goal is to find the number of tasks with each label type and return it as an array with the format [Today, Upcoming, Later], where Today, Upcoming and Later are the number of tasks that correspond to that label.\n",
    "\n",
    "Example\n",
    "\n",
    "For deadlines = [1, 2, 3, 4, 5] and day = 2, the output should be\n",
    "tasksTypes(deadlines, day) = [2, 3, 0].\n",
    "\n",
    "Today is day 2, so tasks with deadlines at 1 and 2 are labeled as Today. The other three tasks should be completed within a week, so they should be labeled as Upcoming. There are no tasks labeled as Later.\n",
    "\n",
    "For deadlines = [1, 2, 4, 2, 10, 3, 1, 4, 5, 4, 9, 8] and day = 1, the output should be\n",
    "tasksTypes(deadlines, day) = [2, 8, 2].\n",
    "\n",
    "Today is day 1, which means that the two tasks with a deadline of 1 are labeled as Today. Tasks with deadlines 10 and 9 are labeled as Later, since their deadlines are more than 7 days ahead. The other eight tasks are labeled as Upcoming.\n",
    "\n",
    "Input/Output\n",
    "\n",
    "[execution time limit] 4 seconds (py3)\n",
    "\n",
    "[input] array.integer deadlines\n",
    "\n",
    "Guaranteed constraints:\n",
    "1 ≤ deadlines.length ≤ 15,\n",
    "1 ≤ deadlines[i] ≤ 15.\n",
    "\n",
    "[input] integer day\n",
    "\n",
    "Guaranteed constraints:\n",
    "1 ≤ day ≤ 10.\n",
    "\n",
    "[output] array.integer\n",
    "\n",
    "An array of three elements representing the number of tasks labeled as Today, Upcoming, and Later, respectively."
   ]
  },
  {
   "cell_type": "code",
   "execution_count": 37,
   "metadata": {},
   "outputs": [
    {
     "name": "stdout",
     "output_type": "stream",
     "text": [
      "Method 1 output is: [2, 8, 2]\n"
     ]
    }
   ],
   "source": [
    "# Method 1\n",
    "def taskTypes1(deadlines,day):\n",
    "    today = len(deadlines[:deadlines[day]])\n",
    "    upcoming,later = 0,0\n",
    "    for i in range(day+1,len(deadlines)):\n",
    "        if len(deadlines[i:]) <= 8:\n",
    "            upcoming += 1\n",
    "        else:\n",
    "            later += 1\n",
    "    return [today,upcoming,later]\n",
    "print(f'Method 1 output is: {taskTypes1([1, 2, 4, 2, 10, 3, 1, 4, 5, 4, 9, 8],1)}')"
   ]
  },
  {
   "cell_type": "markdown",
   "metadata": {},
   "source": [
    "# countSmallerToTheRight\n",
    "You have array of integers nums and you need to build a new counts array. In the new counts array, counts[i] is the number of smaller elements to the right of nums[i]. You're asked to find not the counts array, but the sum of its elements.\n",
    "\n",
    "Example\n",
    "\n",
    "For nums = [3, 8, 4, 1], the output should be countSmallerToTheRight(nums) = 4.\n",
    "\n",
    "    - To the right of 3: there is 1 smaller element (1).\n",
    "\n",
    "    - To the right of 8: there are 2 smaller elements (4 and 1).\n",
    "\n",
    "    - To the right of 4: there is 1 smaller element (1).\n",
    "\n",
    "    - To the right of 1: there are 0 smaller elements.\n",
    "\n",
    "The resulting array is [1, 2, 1, 0], and the sum of its elements is 1 + 2 + 1 + 0 = 4."
   ]
  },
  {
   "cell_type": "code",
   "execution_count": 30,
   "metadata": {},
   "outputs": [
    {
     "name": "stdout",
     "output_type": "stream",
     "text": [
      "Method 1 output is: 4\n",
      "Method 2 output is: 4\n"
     ]
    }
   ],
   "source": [
    "# Method 1 (Tests passed: 18/22 --> Time limit)\n",
    "def countSmaller1(nums):\n",
    "    out = [0]*len(nums)\n",
    "    for i in range(len(nums)):\n",
    "        for j in range(i+1,len(nums)):\n",
    "            if nums[i] > nums[j]:\n",
    "                out[i] += 1\n",
    "    return sum(out)\n",
    "print(f'Method 1 output is: {countSmaller1([3, 8, 4, 1])}')\n",
    "\n",
    "# Method 2 (Tests passed: 19/22 --> Time limit)\n",
    "def countSmaller2(nums):\n",
    "    import numpy as np\n",
    "    arr_1d = np.zeros(2*10**4+1)    \n",
    "    smallers = []\n",
    "    for n in nums[::-1]:\n",
    "        smallers.append(int(arr_1d[n+10000]) )\n",
    "        arr_1d[n+10000+1:]+=1\n",
    "    return sum(smallers[::-1])\n",
    "print(f'Method 2 output is: {countSmaller2([3, 8, 4, 1])}')"
   ]
  },
  {
   "cell_type": "markdown",
   "metadata": {},
   "source": [
    "# arrayMaxConsecutiveSum2\n",
    "Given an array of integers, find the maximum possible sum you can get from one of its contiguous subarrays. The subarray from which this sum comes must contain at least 1 element.\n",
    "\n",
    "Example\n",
    "\n",
    "For inputArray = [-2, 2, 5, -11, 6], the output should be arrayMaxConsecutiveSum2(inputArray) = 7.\n",
    "\n",
    "The contiguous subarray that gives the maximum possible sum is [2, 5], with a sum of 7."
   ]
  },
  {
   "cell_type": "code",
   "execution_count": 44,
   "metadata": {},
   "outputs": [
    {
     "name": "stdout",
     "output_type": "stream",
     "text": [
      "Method 1 output is: 7\n"
     ]
    }
   ],
   "source": [
    "# Method 1 (Tests passed: 8/11)\n",
    "def arrayMax1(L):\n",
    "    return max([sum(L[i:i+j]) for i in range(0,len(L)) for j in range(1,len(L)-i+1)])\n",
    "print(f'Method 1 output is: {arrayMax1([-2, 2, 5, -11, 6])}')"
   ]
  },
  {
   "cell_type": "markdown",
   "metadata": {},
   "source": [
    "# salesLeadsScore\n",
    "You are provided the following information about sales leads:\n",
    "\n",
    "An array of names, where names[i] is the name of the ith sales lead. \n",
    "\n",
    "An array of times in the system, where time[i] is the time spend for work during the year (in days) for ith sales lead. \n",
    "\n",
    "An array of net values, where netValue[i] is the net value of the ith sales lead. An array of vacation statuses, where isOnVacation[i] shows if the ith sales lead is on vacation or not. \n",
    "\n",
    "Your task is to return the sales leads in decreasing order of their score. Only sales leads not on vacation should be returned. The score for the ith lead is calculated as netValue[i] * time[i] / 365. \n",
    "\n",
    "In case of equal scores, the lead with greater time should go first. In case of equal scores and times, the lead with the lexicographically smaller name should go first.\n",
    "\n",
    "It's guaranteed that at least one isOnVacation[i] is false.\n",
    "\n",
    "Example\n",
    "\n",
    "names = [\"lead1\", \"lead2\", \"lead3\", \"lead4\", \"lead5\"]\n",
    "\n",
    "time = [250, 300, 250, 260, 310]\n",
    "\n",
    "netValue = [1000, 800, 1100, 1200, 1000]\n",
    "\n",
    "isOnVacation = [True,False,True,False,False]\n",
    "\n",
    "the output should be salesLeadsScore(names, time, netValue, isOnVacation) = [\"lead4\", \"lead5\", \"lead2\"].\n",
    "\n",
    "    - Lead with i = 0 is on vacation, so they won't be included.\n",
    "    \n",
    "    - Lead with i = 1 has score 800 * 300 / 365 = 657.53.\n",
    "    \n",
    "    - Lead with i = 2 is on vacation, so they won't be included.\n",
    "    \n",
    "    - Lead with i = 3 has score 1200 * 260 / 365 = 854.79.\n",
    "    \n",
    "    - Lead with i = 4 has score 1000 * 310 / 365 = 849.32.\n",
    "    \n",
    "The results should include the leads at indices 3, 4, and 1, so the answer is [\"lead4\", \"lead5\", \"lead2\"]."
   ]
  },
  {
   "cell_type": "code",
   "execution_count": 33,
   "metadata": {},
   "outputs": [
    {
     "name": "stdout",
     "output_type": "stream",
     "text": [
      "Method 1 output is: ['lead4', 'lead5', 'lead2']\n"
     ]
    }
   ],
   "source": [
    "# Method 1\n",
    "def salesLeadsScore1(names,time,netValue,isOnVacation):\n",
    "    data = ((i,l*(k/365)) for i,j,k,l in zip(names,isOnVacation,time,netValue) if j != True)\n",
    "    newL = sorted(data, key=lambda tup: tup[1],reverse=True)\n",
    "    return [i for i,j in newL]\n",
    "print(f'Method 1 output is: {salesLeadsScore1([\"lead1\", \"lead2\", \"lead3\", \"lead4\", \"lead5\"],[250, 300, 250, 260, 310],[1000, 800, 1100, 1200, 1000],[True,False,True,False,False])}')"
   ]
  }
 ],
 "metadata": {
  "interpreter": {
   "hash": "0adcc2737ebf6a4a119f135174df96668767fca1ef1112612db5ecadf2b6d608"
  },
  "kernelspec": {
   "display_name": "Python 3.8.5 64-bit",
   "name": "python3"
  },
  "language_info": {
   "codemirror_mode": {
    "name": "ipython",
    "version": 3
   },
   "file_extension": ".py",
   "mimetype": "text/x-python",
   "name": "python",
   "nbconvert_exporter": "python",
   "pygments_lexer": "ipython3",
   "version": "3.8.5"
  },
  "orig_nbformat": 4
 },
 "nbformat": 4,
 "nbformat_minor": 2
}
