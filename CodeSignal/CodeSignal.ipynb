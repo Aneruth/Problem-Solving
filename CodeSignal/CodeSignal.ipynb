{
 "cells": [
  {
   "cell_type": "markdown",
   "source": [
    "# adjacentElementsProduct\n",
    "\n",
    "Given an array of integers, find the pair of adjacent elements that has the largest product and return that product.\n",
    "\n",
    "Example\n",
    "\n",
    "For inputArray = [3, 6, -2, -5, 7, 3], the output should be\n",
    "\n",
    "adjacentElementsProduct(inputArray) = 21.\n",
    "\n",
    "7 and 3 produce the largest product."
   ],
   "metadata": {}
  },
  {
   "cell_type": "code",
   "execution_count": 11,
   "source": [
    "def maxAdjacent(array):\n",
    "    return max([array[i]*array[i+1] for i in range(len(array)-1)])"
   ],
   "outputs": [],
   "metadata": {}
  },
  {
   "cell_type": "markdown",
   "source": [
    "# yet to see this\n",
    "# matrixElementsSum\n",
    "\n",
    "After becoming famous, the CodeBots decided to move into a new building together. Each of the rooms has a different cost, and some of them are free, but there's a rumour that all the free rooms are haunted! Since the CodeBots are quite superstitious, they refuse to stay in any of the free rooms, or any of the rooms below any of the free rooms.\n",
    "\n",
    "Given matrix, a rectangular matrix of integers, where each value represents the cost of the room, your task is to return the total sum of all rooms that are suitable for the CodeBots (ie: add up all the values that don't appear below a 0).\n",
    "\n",
    "matrix = [[0, 1, 1, 2], \n",
    "          [0, 5, 0, 0], \n",
    "          [2, 0, 3, 3]]\n",
    "\n",
    "the output should be matrixElementsSum(matrix) = 9"
   ],
   "metadata": {}
  },
  {
   "cell_type": "code",
   "execution_count": 3,
   "source": [
    "matrix = [[0, 1, 1, 2], \n",
    "          [0, 5, 0, 0], \n",
    "          [2, 0, 3, 3]]\n",
    "dummy = []\n",
    "for i in range(len(matrix[0])):\n",
    "    for j in range(len(matrix)):\n",
    "        if matrix[j][i] != 0:\n",
    "            dummy.append(matrix[j][i])\n",
    "\n",
    "dummy"
   ],
   "outputs": [
    {
     "output_type": "execute_result",
     "data": {
      "text/plain": [
       "[2, 1, 5, 1, 3, 2, 3]"
      ]
     },
     "metadata": {},
     "execution_count": 3
    }
   ],
   "metadata": {}
  },
  {
   "cell_type": "markdown",
   "source": [
    "# All Longest Strings\n",
    "\n",
    "Given an array of strings, return another array containing all of its longest strings.\n",
    "\n",
    "Example\n",
    "\n",
    "For inputArray = [\"aba\", \"aa\", \"ad\", \"vcd\", \"aba\"], the output should be \n",
    "\n",
    "allLongestStrings(inputArray) = [\"aba\", \"vcd\", \"aba\"]"
   ],
   "metadata": {}
  },
  {
   "cell_type": "code",
   "execution_count": 18,
   "source": [
    "def longestStrings(arr):\n",
    "    return [arr[i] for i in range(len(arr)) if len(arr[i]) == len(max(arr,key=len))]\n",
    "longestStrings([\"aba\", \"aa\", \"ad\", \"vcd\", \"aba\"])"
   ],
   "outputs": [
    {
     "output_type": "execute_result",
     "data": {
      "text/plain": [
       "['aba', 'vcd', 'aba']"
      ]
     },
     "metadata": {},
     "execution_count": 18
    }
   ],
   "metadata": {}
  },
  {
   "cell_type": "markdown",
   "source": [
    "# commonCharacterCount\n",
    "\n",
    "Given two strings, find the number of common characters between them.\n",
    "\n",
    "Example\n",
    "\n",
    "For s1 = \"aabcc\" and s2 = \"adcaa\", the output should be\n",
    "\n",
    "commonCharacterCount(s1, s2) = 3\n",
    "\n",
    "Strings have 3 common characters - 2 \"a\"s and 1 \"c\"\n",
    "\n"
   ],
   "metadata": {}
  },
  {
   "cell_type": "code",
   "execution_count": 51,
   "source": [
    "# Method 1 \n",
    "from collections import Counter\n",
    "def commonChar(s1,s2):\n",
    "    common_letters = Counter(s1) & Counter(s2)\n",
    "    return sum(common_letters.values())\n",
    "commonChar(s1,s2)"
   ],
   "outputs": [
    {
     "output_type": "execute_result",
     "data": {
      "text/plain": [
       "3"
      ]
     },
     "metadata": {},
     "execution_count": 51
    }
   ],
   "metadata": {}
  },
  {
   "cell_type": "markdown",
   "source": [
    "# Sort by Height\n",
    "Some people are standing in a row in a park. There are trees between them which cannot be moved. Your task is to rearrange the people by their heights in a non-descending order without moving the trees. People can be very tall!\n",
    "\n",
    "Example\n",
    "\n",
    "For a = [-1, 150, 190, 170, -1, -1, 160, 180], the output should be\n",
    "\n",
    "sortByHeight(a) = [-1, 150, 160, 170, -1, -1, 180, 190]"
   ],
   "metadata": {}
  },
  {
   "cell_type": "code",
   "execution_count": 2,
   "source": [
    "# Method 1\n",
    "def sortHeight(a):\n",
    "    trees = [i for i in range(len(a)) if a[i] == -1]\n",
    "    height = sorted([a[i] for i in range(len(a)) if a[i] != -1])\n",
    "    for j in trees:\n",
    "        height.insert(j,-1)\n",
    "    return height\n",
    "print(f'Method 1 output is: {sortHeight([-1, 150, 190, 170, -1, -1, 160, 180])}')"
   ],
   "outputs": [
    {
     "output_type": "stream",
     "name": "stdout",
     "text": [
      "Method 1 output is: [-1, 150, 160, 170, -1, -1, 180, 190]\n"
     ]
    }
   ],
   "metadata": {}
  },
  {
   "cell_type": "markdown",
   "source": [
    "# First Duplicate\n",
    "Given an array a that contains only numbers in the range from 1 to a.length, find the first duplicate number for which the second occurrence has the minimal index. In other words, if there are more than 1 duplicated numbers, return the number for which the second occurrence has a smaller index than the second occurrence of the other number does. If there are no such elements, return -1.\n",
    "\n",
    "Example\n",
    "\n",
    "For a = [2, 1, 3, 5, 3, 2], the output should be firstDuplicate(a) = 3.\n",
    "\n",
    "There are 2 duplicates: numbers 2 and 3. The second occurrence of 3 has a smaller index than the second occurrence of 2 does, so the answer is 3.\n",
    "\n",
    "For a = [2, 2], the output should be firstDuplicate(a) = 2;\n",
    "\n",
    "For a = [2, 4, 3, 5, 1], the output should be firstDuplicate(a) = -1."
   ],
   "metadata": {}
  },
  {
   "cell_type": "code",
   "execution_count": 48,
   "source": [
    "# Method 1\n",
    "def firstDuplicate(a):\n",
    "    seen = set()\n",
    "    for i in a:\n",
    "        if i in seen:\n",
    "            return i\n",
    "        seen.add(i)\n",
    "    return -1\n",
    "print(f'Method 1 output is: {firstDuplicate([2, 1, 3, 5, 3, 2])}')"
   ],
   "outputs": [
    {
     "output_type": "stream",
     "name": "stdout",
     "text": [
      "Method 1 output is: 3\n"
     ]
    }
   ],
   "metadata": {}
  },
  {
   "cell_type": "markdown",
   "source": [
    "# firstNonRepeatingCharacter\n",
    "Given a string s consisting of small English letters, find and return the first instance of a non-repeating character in it. If there is no such character, return '_'.\n",
    "\n",
    "Example\n",
    "\n",
    "For s = \"abacabad\", the output should be\n",
    "\n",
    "    - firstNotRepeatingCharacter(s) = 'c'.\n",
    "\n",
    "There are 2 non-repeating characters in the string: 'c' and 'd'. Return c since it appears in the string first.\n",
    "\n",
    "For s = \"abacabaabacaba\", the output should be\n",
    "\n",
    "    - firstNotRepeatingCharacter(s) = '_'.\n",
    "\n",
    "There are no characters in this string that do not repeat."
   ],
   "metadata": {}
  },
  {
   "cell_type": "code",
   "execution_count": 96,
   "source": [
    "# Method 1 (Solves 80% of use case)\n",
    "def firstChar1(s):\n",
    "    f = [s[i] for i in range(len(s)) if s.count(s[i]) == 1]\n",
    "    if len(s) == 1: return s\n",
    "    for i in range(len(f)-1):\n",
    "        if s.count(f[i]) == 1:\n",
    "            minIdx = min(s.index(f[i]),s.index(f[i+1]))\n",
    "            return s[minIdx]\n",
    "        else: return s[s.count(f[i])]\n",
    "    return '_'\n",
    "print(f'Method 1 output is: {firstChar1(\"abacabad\")}')\n",
    "\n",
    "# Method 2\n",
    "def firstChar2(s):\n",
    "    res = \"_\"\n",
    "    d = {}\n",
    "    for i,c in enumerate(s):\n",
    "        if c in d.keys():\n",
    "            d[c] = -1\n",
    "        else:\n",
    "            d[c] = i\n",
    "    min_key = len(s)+1\n",
    "    for k in d.keys():\n",
    "        if d[k]>=0:\n",
    "            min_key = min(min_key,d[k])\n",
    "            res = s[min_key]\n",
    "    return res\n",
    "print(f'Method 1 output is: {firstChar2(\"abacabad\")}')"
   ],
   "outputs": [
    {
     "output_type": "stream",
     "name": "stdout",
     "text": [
      "Method 1 output is: c\n",
      "Method 1 output is: c\n"
     ]
    }
   ],
   "metadata": {}
  },
  {
   "cell_type": "markdown",
   "source": [
    "# rotateImage\n",
    "Note: Try to solve this task in-place (with O(1) additional memory), since this is what you'll be asked to do during an interview.\n",
    "\n",
    "You are given an n x n 2D matrix that represents an image. Rotate the image by 90 degrees (clockwise).\n",
    "\n",
    "Example\n",
    "\n",
    "For\n",
    "\n",
    "a = [[1, 2, 3],\n",
    "     [4, 5, 6],\n",
    "     [7, 8, 9]]\n",
    "\n",
    "the output should be\n",
    "\n",
    "rotateImage(a) =\n",
    "    [[7, 4, 1],\n",
    "     [8, 5, 2],\n",
    "     [9, 6, 3]]"
   ],
   "metadata": {}
  },
  {
   "cell_type": "code",
   "execution_count": 114,
   "source": [
    "# Method 1\n",
    "def rotate90Clockwise(A):\n",
    "    N = len(A[0])\n",
    "    for i in range(N // 2):\n",
    "        for j in range(i, N - i - 1):\n",
    "            temp = A[i][j]\n",
    "            A[i][j] = A[N - 1 - j][i]\n",
    "            A[N - 1 - j][i] = A[N - 1 - i][N - 1 - j]\n",
    "            A[N - 1 - i][N - 1 - j] = A[j][N - 1 - i]\n",
    "            A[j][N - 1 - i] = temp\n",
    "    \n",
    "    return [A[i] for i in range(len(A[0]))]\n",
    "\n",
    "print(f'Method 1 output is: {rotate90Clockwise([[1, 2, 3],[4, 5, 6],[7, 8, 9]])}')"
   ],
   "outputs": [
    {
     "output_type": "stream",
     "name": "stdout",
     "text": [
      "Method 1 output is: [[7, 4, 1], [8, 5, 2], [9, 6, 3]]\n"
     ]
    }
   ],
   "metadata": {}
  },
  {
   "cell_type": "markdown",
   "source": [
    "# stringPermutations\n",
    "Given a string s, find all its potential permutations. The output should be sorted in lexicographical order.\n",
    "\n",
    "Example\n",
    "\n",
    "For s = \"CBA\", the output should be\n",
    "\n",
    "stringPermutations(s) = [\"ABC\", \"ACB\", \"BAC\", \"BCA\", \"CAB\", \"CBA\"];\n",
    "\n",
    "For s = \"ABA\", the output should be\n",
    "\n",
    "stringPermutations(s) = [\"AAB\", \"ABA\", \"BAA\"]."
   ],
   "metadata": {}
  },
  {
   "cell_type": "code",
   "execution_count": 145,
   "source": [
    "# Method 1\n",
    "def stringPermutations1(s):\n",
    "    from itertools import permutations\n",
    "    val = [\"\".join(i) for i in sorted(list(map(list,permutations(s))))]\n",
    "    out = []\n",
    "    for i in val:\n",
    "        if i not in out:\n",
    "            out.append(i)\n",
    "    return out\n",
    "print(f'Method 1 output is: {stringPermutations1(\"ABA\")}')"
   ],
   "outputs": [
    {
     "output_type": "stream",
     "name": "stdout",
     "text": [
      "Method 1 output is: ['AAB', 'ABA', 'BAA']\n"
     ]
    }
   ],
   "metadata": {}
  },
  {
   "cell_type": "markdown",
   "source": [
    "# Are Similar?\n",
    "Two arrays are called similar if one can be obtained from another by swapping at most one pair of elements in one of the arrays.\n",
    "\n",
    "Given two arrays a and b, check whether they are similar.\n",
    "\n",
    "Example\n",
    "\n",
    "For a = [1, 2, 3] and b = [1, 2, 3], the output should be\n",
    "\n",
    "    - areSimilar(a, b) = true.\n",
    "\n",
    "The arrays are equal, no need to swap any elements.\n",
    "\n",
    "For a = [1, 2, 3] and b = [2, 1, 3], the output should be\n",
    "\n",
    "    - areSimilar(a, b) = true.\n",
    "\n",
    "We can obtain b from a by swapping 2 and 1 in b.\n",
    "\n",
    "For a = [1, 2, 2] and b = [2, 1, 1], the output should be\n",
    "\n",
    "    - areSimilar(a, b) = false.\n",
    "\n",
    "Any swap of any two elements either in a or in b won't make a and b equal."
   ],
   "metadata": {}
  },
  {
   "cell_type": "code",
   "execution_count": 185,
   "source": [
    "# Method 1 (80% test case solved)\n",
    "def return_substrings1(s1,s2):\n",
    "    from itertools import permutations\n",
    "    return s2 in list(map(list,set(permutations(s1))))\n",
    "\n",
    "print(f'Method 1 output is: {return_substrings1([2, 3, 1],[1, 3, 2])}')\n",
    "\n",
    "def return_substrings2(a,b):\n",
    "    tmp1,tmp2 = [],[]\n",
    "    for i in range(len(a)):\n",
    "        if a[i]!=b[i]:\n",
    "            tmp1.append(a[i])\n",
    "            tmp2.append(b[i])\n",
    "    if len(tmp1)==0: return True\n",
    "    elif len(tmp1)>2: return False\n",
    "    return tmp1==list(reversed(tmp2))\n",
    "print(f'Method 2 output is: {return_substrings2([2, 3, 1],[1, 3, 2])}')"
   ],
   "outputs": [
    {
     "output_type": "stream",
     "name": "stdout",
     "text": [
      "Method 1 output is: True\n",
      "Method 2 output is: True\n"
     ]
    }
   ],
   "metadata": {}
  },
  {
   "cell_type": "markdown",
   "source": [
    "# sumInRange\n",
    "You have an array of integers nums and an array queries, where queries[i] is a pair of indices (0-based). Find the sum of the elements in nums from the indices at queries[i][0] to queries[i][1] (inclusive) for each query, then add all of the sums for all the queries together. Return that number modulo 10^9 + 7.\n",
    "\n",
    "Example\n",
    "\n",
    "For nums = [3, 0, -2, 6, -3, 2] and queries = [[0, 2], [2, 5], [0, 5]], the output should be\n",
    "\n",
    "    - sumInRange(nums, queries) = 10.\n",
    "\n",
    "The array of results for queries is [1, 3, 6], so the answer is 1 + 3 + 6 = 10."
   ],
   "metadata": {}
  },
  {
   "cell_type": "code",
   "execution_count": 64,
   "source": [
    "def sumOfTwo1(nums,queries):\n",
    "    if len(nums) == 1: return nums[0] % 1000000007\n",
    "    suma = 0\n",
    "    for e in queries:\n",
    "        suma += sum(nums[e[0]:e[1]+1])\n",
    "    return suma % (1000000000 + 7)\n",
    "print(f'Method 1 output is: {sumOfTwo1([-1000],[[0,0]])}')"
   ],
   "outputs": [
    {
     "output_type": "stream",
     "name": "stdout",
     "text": [
      "Method 1 output is: 999999007\n"
     ]
    }
   ],
   "metadata": {}
  },
  {
   "cell_type": "markdown",
   "source": [
    "# sudoku2\n",
    "Sudoku is a number-placement puzzle. The objective is to fill a 9 × 9 grid with numbers in such a way that each column, each row, and each of the nine 3 × 3 sub-grids that compose the grid all contain all of the numbers from 1 to 9 one time.\n",
    "\n",
    "Implement an algorithm that will check whether the given grid of numbers represents a valid Sudoku puzzle according to the layout rules described above. Note that the puzzle represented by grid does not have to be solvable.\n",
    "\n",
    "grid = [\n",
    "        \n",
    "        ['.', '.', '.', '1', '4', '.', '.', '2', '.'],\n",
    "        \n",
    "        ['.', '.', '6', '.', '.', '.', '.', '.', '.'],\n",
    "        \n",
    "        ['.', '.', '.', '.', '.', '.', '.', '.', '.'],\n",
    "        \n",
    "        ['.', '.', '1', '.', '.', '.', '.', '.', '.'],\n",
    "        \n",
    "        ['.', '6', '7', '.', '.', '.', '.', '.', '9'],\n",
    "        \n",
    "        ['.', '.', '.', '.', '.', '.', '8', '1', '.'],\n",
    "        \n",
    "        ['.', '3', '.', '.', '.', '.', '.', '.', '6'],\n",
    "        \n",
    "        ['.', '.', '.', '.', '.', '7', '.', '.', '.'],\n",
    "        \n",
    "        ['.', '.', '.', '5', '.', '.', '.', '7', '.']\n",
    "        \n",
    "        ]\n",
    "\n",
    "the output should be\n",
    "sudoku2(grid) = true;"
   ],
   "metadata": {}
  },
  {
   "cell_type": "code",
   "execution_count": 33,
   "source": [
    "test = [['.', '.', '.', '.', '2', '.', '.', '9', '.'],\n",
    "        ['.', '.', '.', '.', '6', '.', '.', '.', '.'],\n",
    "        ['7', '1', '.', '.', '7', '5', '.', '.', '.'],\n",
    "        ['.', '7', '.', '.', '.', '.', '.', '.', '.'],\n",
    "        ['.', '.', '.', '.', '8', '3', '.', '.', '.'],\n",
    "        ['.', '.', '8', '.', '.', '7', '.', '6', '.'],\n",
    "        ['.', '.', '.', '.', '.', '2', '.', '.', '.'],\n",
    "        ['.', '1', '.', '2', '.', '.', '.', '.', '.'],\n",
    "        ['.', '2', '.', '.', '3', '.', '.', '.', '.']]\n",
    "\n",
    "# Method 1 (15/20 Test case pass)\n",
    "def sud(test):\n",
    "    for i in range(len(test)):\n",
    "        row,col = {},{}\n",
    "        for j in range(len(test)):\n",
    "            if test[i][j] != '.' and test[i][j] in row:\n",
    "                return False\n",
    "            row[test[i][j]] = 1\n",
    "            \n",
    "            if test[i][j] != '.' and test[i][j] in col: \n",
    "                return False\n",
    "            col[test[i][j]] = 1\n",
    "    return True\n",
    "print(f'Method 1 output is: {sud(test)}')"
   ],
   "outputs": [
    {
     "output_type": "stream",
     "name": "stdout",
     "text": [
      "Method 1 output is: False\n"
     ]
    }
   ],
   "metadata": {}
  },
  {
   "cell_type": "markdown",
   "source": [
    "# nextLarger\n",
    "Note: Write a solution with O(n) complexity, since this is what you would be asked to do during a real interview.\n",
    "\n",
    "Given an array a composed of distinct elements, find the next larger element for each element of the array, i.e. the first element to the right that is greater than this element, in the order in which they appear in the array, and return the results as a new array of the same length. If an element does not have a larger element to its right, put -1 in the appropriate cell of the result array.\n",
    "\n",
    "Example\n",
    "\n",
    "For a = [6, 7, 3, 8], the output should be\n",
    "\n",
    "nextLarger(a) = [7, 8, 8, -1].\n",
    "\n",
    "In this array, the next larger element for 6 is 7, for 7 is 8, for 3 is 8 (7 is not a valid option since elements from a can only be compared to elements to their right), and for 8 there is no such element, so we put -1 in the last cell."
   ],
   "metadata": {}
  },
  {
   "cell_type": "code",
   "execution_count": 69,
   "source": [
    "# Method 1 (solves 50% of test case (Worst Idea))\n",
    "def nextLarge(test):\n",
    "    if len(test) == 1: test[-1] = -1\n",
    "    else:\n",
    "        for i in range(len(test)-1):\n",
    "            maxElem = max(test)\n",
    "            if test[i] < test[i+1]:\n",
    "                test[i],test[i+1] = test[i+1],maxElem\n",
    "        if test[-1] == maxElem: test[-1] = -1\n",
    "    \n",
    "    return test\n",
    "\n",
    "print(f'Method 1 outut is: {nextLarge([2,3,4,4])}')\n",
    "\n",
    "# Method 2\n",
    "def nextLarge2(arr):\n",
    "    i = 0\n",
    "    while i == len(arr):\n",
    "        next = -1\n",
    "        for j in range(i+1, len(arr), 1):\n",
    "            if arr[i] < arr[j]:\n",
    "                next = arr[j]\n",
    "        i += 1\n",
    "    return arr\n",
    "\n",
    "print(f'Method 2 outut is: {nextLarge2([2,3,4,4])}')"
   ],
   "outputs": [
    {
     "output_type": "stream",
     "name": "stdout",
     "text": [
      "Method 1 outut is: [3, 4, 4, -1]\n",
      "Method 2 outut is: [2, 3, 4, 4]\n"
     ]
    }
   ],
   "metadata": {}
  },
  {
   "cell_type": "markdown",
   "source": [
    "# amendTheSentence\n",
    "You have been given a string s, which is supposed to be a sentence. However, someone forgot to put spaces between the different words, and for some reason they capitalized the first letter of every word. Return the sentence after making the following amendments:\n",
    "\n",
    "    - Put a single space between the words.\n",
    "\n",
    "    - Convert the uppercase letters to lowercase.\n",
    "\n",
    "Example\n",
    "\n",
    "For s = \"CodesignalIsAwesome\", the output should be\n",
    "    \n",
    "    - amendTheSentence(s) = \"codesignal is awesome\";\n",
    "\n",
    "For s = \"Hello\", the output should be\n",
    "    \n",
    "    - amendTheSentence(s) = \"hello\"."
   ],
   "metadata": {}
  },
  {
   "cell_type": "code",
   "execution_count": 19,
   "source": [
    "# Method 1\n",
    "def ammedString(s):\n",
    "    import re\n",
    "    return ' '.join([i.lower() for i in re.split(\"([A-Z][^A-Z]*)\", s) if i])\n",
    "print(f'Method 1 output: {ammedString(\"CodesignalIsAwesome\")}')\n",
    "\n",
    "# Method 2\n",
    "def ammedString2(s):\n",
    "    pos = [i for i,e in enumerate(s+'A') if e.isupper()]\n",
    "    parts = [s[pos[j]:pos[j+1]].lower() for j in range(len(pos)-1)]\n",
    "    return ' '.join(parts)\n",
    "print(f'Method 2 output: {ammedString2(\"CodesignalIsAwesome\")}')"
   ],
   "outputs": [
    {
     "output_type": "stream",
     "name": "stdout",
     "text": [
      "Method 1 output: codesignal is awesome\n",
      "Method 2 output: codesignal is awesome\n"
     ]
    }
   ],
   "metadata": {}
  },
  {
   "cell_type": "markdown",
   "source": [
    "# classifyStrings\n",
    "You categorize strings into three types: good, bad, or mixed. If a string has 3 consecutive vowels or 5 consecutive consonants, or both, then it is categorized as bad. Otherwise it is categorized as good. Vowels in the English alphabet are [\"a\", \"e\", \"i\", \"o\", \"u\"] and all other letters are consonants.\n",
    "\n",
    "The string can also contain the character ?, which can be replaced by either a vowel or a consonant. This means that the string \"?aa\" can be bad if ? is a vowel or good if it is a consonant. This kind of string is categorized as mixed.\n",
    "\n",
    "Implement a function that takes a string s and returns its category: good, bad, or mixed.\n",
    "\n",
    "Example\n",
    "\n",
    "For s = \"aeu\", the output should be\n",
    "    \n",
    "    - classifyStrings(s) = \"bad\";\n",
    "\n",
    "For s = \"a?u\", the output should be\n",
    "    \n",
    "    - classifyStrings(s) = \"mixed\";\n",
    "\n",
    "For s = \"aba\", the output should be\n",
    "    \n",
    "    - classifyStrings(s) = \"good\"."
   ],
   "metadata": {}
  },
  {
   "cell_type": "code",
   "execution_count": 18,
   "source": [
    "# Method 1 (15/17 test case pass)\n",
    "def goodBad(s):\n",
    "    vowels = [\"a\", \"e\", \"i\", \"o\", \"u\"]\n",
    "    counter,alphaCount = 0,0    \n",
    "    if len(s) == 1 or s == '?': return 'good' or 'bad'\n",
    "    for i in s:\n",
    "        if i in vowels or i.isalpha() == False:\n",
    "            counter += 1\n",
    "            alphaCount += 1\n",
    "            if counter >= 3 or counter >= 5 or alphaCount >2:\n",
    "                return 'bad'\n",
    "        elif i.isalpha() == False: return 'Mixed'\n",
    "    return 'good'\n",
    "\n",
    "print(f'Method 1 output is: {goodBad(\"a?q\")}')\n",
    "\n",
    "# Method 2\n",
    "def classifyStrings(s):\n",
    "    import re\n",
    "    if re.findall('(([aeiou]{3})|[^aeiou?]{5})',s):\n",
    "        return 'bad'\n",
    "    if '?' in s:\n",
    "        a = classifyStrings(s.replace('?','a',1))\n",
    "        b = classifyStrings(s.replace('?','n',1))\n",
    "        return a if a == b else 'mixed'\n",
    "    return 'good'\n",
    "print(f'Method 2 output is: {classifyStrings(\"a?q\")}')"
   ],
   "outputs": [
    {
     "output_type": "stream",
     "name": "stdout",
     "text": [
      "Method 1 output is: good\n",
      "Method 2 output is: good\n"
     ]
    }
   ],
   "metadata": {}
  },
  {
   "cell_type": "markdown",
   "source": [
    "# areFollowingPatterns\n",
    "\n",
    "Given an array strings, determine whether it follows the sequence given in the patterns array. In other words, there should be no i and j for which strings[i] = strings[j] and patterns[i] ≠ patterns[j] or for which strings[i] ≠ strings[j] and patterns[i] = patterns[j].\n",
    "\n",
    "Example\n",
    "\n",
    "For strings = [\"cat\", \"dog\", \"dog\"] and patterns = [\"a\", \"b\", \"b\"], the output should be\n",
    "\n",
    "    - areFollowingPatterns(strings, patterns) = true;\n",
    "\n",
    "For strings = [\"cat\", \"dog\", \"doggy\"] and patterns = [\"a\", \"b\", \"b\"], the output should be\n",
    "\n",
    "    - areFollowingPatterns(strings, patterns) = false."
   ],
   "metadata": {}
  },
  {
   "cell_type": "code",
   "execution_count": 7,
   "source": [
    "# Method 1 output (8/12 test case passed)\n",
    "def areFollowingPatterns(strings, patterns):\n",
    "    def paternCheck(alist):\n",
    "        for i in range(len(alist)-1):\n",
    "            if alist[i] == alist[i+1]:\n",
    "                return True\n",
    "        return False\n",
    "    return paternCheck(strings) and paternCheck(patterns)\n",
    "print(f\"Method 1 output is: {areFollowingPatterns(['cat', 'dog', 'doggy'],['a','b','b'])}\")"
   ],
   "outputs": [
    {
     "output_type": "stream",
     "name": "stdout",
     "text": [
      "Method 1 output is: False\n"
     ]
    }
   ],
   "metadata": {}
  },
  {
   "cell_type": "markdown",
   "source": [
    "# decodeString\n",
    "Given an encoded string, return its corresponding decoded string.\n",
    "\n",
    "The encoding rule is: k[encoded_string], where the encoded_string inside the square brackets is repeated exactly k times. Note: k is guaranteed to be a positive integer.\n",
    "\n",
    "Note that your solution should have linear complexity because this is what you will be asked during an interview.\n",
    "\n",
    "Example\n",
    "\n",
    "For s = \"4[ab]\", the output should be \n",
    "decodeString(s) = \"abababab\";\n",
    "\n",
    "For s = \"2[b3[a]]\", the output should be\n",
    "decodeString(s) = \"baaabaaa\";\n",
    "\n",
    "For s = \"z1[y]zzz2[abc]\", the output should be\n",
    "decodeString(s) = \"zyzzzabcabc\"."
   ],
   "metadata": {}
  },
  {
   "cell_type": "code",
   "execution_count": 22,
   "source": [
    "import re\n",
    "s = \"z1[y]zzz2[abc]\"\n",
    "pattern = re.compile('(\\d+)\\[([a-zA-Z]+)\\]')\n",
    "while '[' in s:\n",
    "    result_tmp=pattern.search(s)\n",
    "    print(result_tmp.groups())\n",
    "    freq,dst = result_tmp.groups()\n",
    "    dst_str=dst*int(freq)\n",
    "    s=pattern.sub(dst_str,s)\n",
    "print(s)"
   ],
   "outputs": [
    {
     "output_type": "stream",
     "name": "stdout",
     "text": [
      "('1', 'y')\n",
      "zyzzzy\n"
     ]
    }
   ],
   "metadata": {}
  },
  {
   "cell_type": "markdown",
   "source": [
    "# longestCommonSubstring\n",
    "Given two strings, s and t, find the length of their longest common substring.\n",
    "\n",
    "Example\n",
    "\n",
    "For s = \"abcdxyz\" and t = \"xyzabcd\", the output should be\n",
    "\n",
    "    - longestCommonSubstring(s, t) = 4;\n",
    "\n",
    "For s = \"zxabcdezy\" and t = \"yzabcdezx\", the output should be\n",
    "\n",
    "    - longestCommonSubstring(s, t) = 6.\n",
    "\n",
    "The longest common substring is \"abcdez\" and has a length of 6."
   ],
   "metadata": {}
  },
  {
   "cell_type": "code",
   "execution_count": 1,
   "source": [
    "# Method 1 (102/110 test case passed)\n",
    "def longestCommonSubstring1(s, t):    \n",
    "    # Helper function to produce possible substrings\n",
    "    def substrings(string):\n",
    "        return [string[i:j+1] for i in range(len(string)) for j in range(i,len(string))]\n",
    "    \n",
    "    s1 = substrings(s);s2 = substrings(t)    \n",
    "    \n",
    "    return len(max(set(s1).intersection(set(s2)),key=len))\n",
    "print(f'Method 1 output is: {longestCommonSubstring1(\"abcdxyz\",\"xyzabcd\")}')"
   ],
   "outputs": [
    {
     "output_type": "stream",
     "name": "stdout",
     "text": [
      "Method 1 output is: 4\n"
     ]
    }
   ],
   "metadata": {}
  },
  {
   "cell_type": "markdown",
   "source": [
    "# regexMatching\n",
    "\n",
    "Given a pattern string and a test string, your task is to implement regex substring matching. If pattern is preceded by a '^', the pattern, excluding the '^, will be matched with the starting position of the test string. \n",
    "\n",
    "If pattern is followed by a 'dollar symbol', the pattern, excluding the 'dollor symbol', will be matched with the ending position of the test string. \n",
    "\n",
    "If no such markers are present, check whether pattern is a substring of test, regardless of its position.\n",
    "\n",
    "Example\n",
    "\n",
    "For pattern = \"^code\" and test = \"codesignal\", the output should be\n",
    "    \n",
    "    - regexMatching(pattern, test) = true;\n",
    "\n",
    "For pattern = \"nal$\" and test = \"codesignal\", the output should be\n",
    "    \n",
    "    - regexMatching(pattern, test) = true;\n",
    "\n",
    "For pattern = \"hello\" and test = \"world\", the output should be\n",
    "    \n",
    "    - regexMatching(pattern, test) = false."
   ],
   "metadata": {}
  },
  {
   "cell_type": "code",
   "execution_count": 47,
   "source": [
    "# Method 1\n",
    "def regexMatching(pattern, test):\n",
    "    if '$' in pattern:\n",
    "        newPattern = ''.join(pattern.split('$'))\n",
    "        suffix = len(newPattern)\n",
    "        return test[-suffix:] == newPattern\n",
    "    elif '^' in pattern:\n",
    "        newPattern1 = ''.join(pattern.split('^'))\n",
    "        prefix = len(newPattern1)\n",
    "        return test[:prefix] == newPattern1\n",
    "    else:\n",
    "        check = len(pattern)\n",
    "        for i in range(len(test)):\n",
    "            if pattern == test[i:i+check]:\n",
    "                return True\n",
    "    return False\n",
    "print(f'Method 1 output is: {regexMatching(\"hello\",\"hello\")}')\n",
    "\n",
    "# Method 2\n",
    "def regexMatching1(pattern, test):\n",
    "    if '$' in pattern:\n",
    "        newPattern = ''.join(pattern.split('$'))\n",
    "        suffix = len(newPattern)\n",
    "        return test[-suffix:] == newPattern\n",
    "    elif '^' in pattern:\n",
    "        newPattern1 = ''.join(pattern.split('^'))\n",
    "        prefix = len(newPattern1)\n",
    "        return test[:prefix] == newPattern1\n",
    "    return pattern in test\n",
    "print(f'Method 2 output is: {regexMatching1(\"hello\",\"hello\")}')"
   ],
   "outputs": [
    {
     "output_type": "stream",
     "name": "stdout",
     "text": [
      "Method 1 output is: True\n",
      "Method 2 output is: True\n"
     ]
    }
   ],
   "metadata": {}
  },
  {
   "cell_type": "markdown",
   "source": [
    "# minSubstringWithAllChars\n",
    "You have two strings, s and t. The string t contains only unique elements. Find and return the minimum consecutive substring of s that contains all of the elements from t.\n",
    "\n",
    "It's guaranteed that the answer exists. If there are several answers, return the one which starts from the smallest index.\n",
    "\n",
    "Example\n",
    "\n",
    "For s = \"adobecodebanc\" and t = \"abc\", the output should be\n",
    "\n",
    "    - minSubstringWithAllChars(s, t) = \"banc\"."
   ],
   "metadata": {}
  },
  {
   "cell_type": "code",
   "execution_count": 27,
   "source": [
    "# Metohd 1\n",
    "def minSubstringWithAllChars1(s, t):\n",
    "    if len(s) == len(t): return s\n",
    "    if len(t) == 1: return t\n",
    "    subStringList = list([s[i:i+j] for i in range(len(s)) for j in range(i,len(s))])\n",
    "    return min([i for i in subStringList if set(t).intersection(set(i)) == set(t)],key=len)\n",
    "print(f'Method 1 output is: {minSubstringWithAllChars1(\"adobecodebanc\",\"abc\")}')"
   ],
   "outputs": [
    {
     "output_type": "stream",
     "name": "stdout",
     "text": [
      "Method 1 output is: banc\n"
     ]
    }
   ],
   "metadata": {}
  },
  {
   "cell_type": "markdown",
   "source": [
    "# productExceptSelf\n",
    "You have an array nums. We determine two functions to perform on nums. In both cases, n is the length of nums:\n",
    "\n",
    "fi(nums) = nums[0] · nums[1] · ... · nums[i - 1] · nums[i + 1] · ... · nums[n - 1]. (In other words, fi(nums) is the product of all array elements except the ithf.)\n",
    "g(nums) = f0(nums) + f1(nums) + ... + fn-1(nums).\n",
    "Using these two functions, calculate all values of f modulo the given m. Take these new values and add them together to get g. You should return the value of g modulo the given m.\n",
    "\n",
    "Example\n",
    "\n",
    "For nums = [1, 2, 3, 4] and m = 12, the output should be\n",
    "\n",
    "    - productExceptSelf(nums, m) = 2.\n",
    "\n",
    "The array of the values of f is: [24, 12, 8, 6]. If we take all the elements modulo m, we get:\n",
    "\n",
    "    - [0, 0, 8, 6]. The sum of those values is 8 + 6 = 14, making the answer 14 % 12 = 2."
   ],
   "metadata": {}
  },
  {
   "cell_type": "code",
   "execution_count": 56,
   "source": [
    "# Method 1 (Tests passed: 15/16)\n",
    "def productExceptSelf1(nums, m):\n",
    "    output = [1 for i in range(len(nums))]\n",
    "    for i in range(1,len(output)):\n",
    "        output[i] = output[i-1]*nums[i-1]\n",
    "    R = 1\n",
    "    for i in range(len(output)-1, -1, -1):\n",
    "        output[i] = output[i]*R\n",
    "        R *=nums[i]\n",
    "    return sum(list(map(lambda x: x%m,output))) % m\n",
    "print(f'Method 1 output is: {productExceptSelf1([1, 2, 3, 4], 12)}')"
   ],
   "outputs": [
    {
     "output_type": "stream",
     "name": "stdout",
     "text": [
      "Method 1 output is: 2\n"
     ]
    }
   ],
   "metadata": {}
  },
  {
   "cell_type": "markdown",
   "source": [
    "# findLongestSubarrayBySum\n",
    "You have an unsorted array arr of non-negative integers and a number s. Find a longest contiguous subarray in arr that has a sum equal to s. Return two integers that represent its inclusive bounds. If there are several possible answers, return the one with the smallest left bound. If there are no answers, return [-1].\n",
    "\n",
    "Your answer should be 1-based, meaning that the first position of the array is 1 instead of 0.\n",
    "\n",
    "Example\n",
    "\n",
    "    - For s = 12 and arr = [1, 2, 3, 7, 5], the output should be findLongestSubarrayBySum(s, arr) = [2, 4].\n",
    "\n",
    "      The sum of elements from the 2nd position to the 4th position (1-based) is equal to 12: 2 + 3 + 7.\n",
    "\n",
    "    - For s = 15 and arr = [1, 2, 3, 4, 5, 6, 7, 8, 9, 10], the output should be findLongestSubarrayBySum(s, arr) = [1, 5].\n",
    "\n",
    "      The sum of elements from the 1st position to the 5th position (1-based) is equal to 15: 1 + 2 + 3 + 4 + 5.\n",
    "\n",
    "    - For s = 15 and arr = [1, 2, 3, 4, 5, 0, 0, 0, 6, 7, 8, 9, 10], the output should be findLongestSubarrayBySum(s, arr) = [1, 8].\n",
    "\n",
    "      The sum of elements from the 1st position to the 8th position (1-based) is equal to 15: 1 + 2 + 3 + 4 + 5 + 0 + 0 + 0."
   ],
   "metadata": {}
  },
  {
   "cell_type": "code",
   "execution_count": 60,
   "source": [
    "from itertools import combinations\n",
    "s,arr = 3,[0,3,0]\n",
    "max([j for i in range(len(arr)) for j in combinations(arr,i+1) if sum(j) == s],key=sum)"
   ],
   "outputs": [
    {
     "output_type": "execute_result",
     "data": {
      "text/plain": [
       "(3,)"
      ]
     },
     "metadata": {},
     "execution_count": 60
    }
   ],
   "metadata": {}
  },
  {
   "cell_type": "markdown",
   "source": [
    "# containsCloseNums\n",
    "Given an array of integers nums and an integer k, determine whether there are two distinct indices i and j in the array where nums[i] = nums[j] and the absolute difference between i and j is less than or equal to k.\n",
    "\n",
    "Example\n",
    "\n",
    "For nums = [0, 1, 2, 3, 5, 2] and k = 3, the output should be\n",
    "    \n",
    "    - containsCloseNums(nums, k) = true.\n",
    "\n",
    "There are two 2s in nums, and the absolute difference between their positions is exactly 3.\n",
    "\n",
    "For nums = [0, 1, 2, 3, 5, 2] and k = 2, the output should be\n",
    "    \n",
    "    - containsCloseNums(nums, k) = false.\n",
    "\n",
    "The absolute difference between the positions of the two 2s is 3, which is more than k."
   ],
   "metadata": {}
  },
  {
   "cell_type": "code",
   "execution_count": 35,
   "source": [
    "# Method 1\n",
    "from collections import defaultdict\n",
    "def list_duplicates(seq,k):\n",
    "    tally = defaultdict(list)\n",
    "    for i,item in enumerate(seq):\n",
    "        tally[item].append(i)\n",
    "    output = [locs for key,locs in tally.items() if len(locs)>1]\n",
    "    if len(output) == 0: return False\n",
    "    else:\n",
    "        dummy = output[0]\n",
    "        for i in range(len(dummy)):\n",
    "            if abs(dummy[i] - dummy[i-1]) <= k:\n",
    "                return True\n",
    "    return False\n",
    "print(f'Method 1 ouput is: {list_duplicates([1,2],2)}')"
   ],
   "outputs": [
    {
     "output_type": "stream",
     "name": "stdout",
     "text": [
      "Method 1 ouput is: False\n"
     ]
    }
   ],
   "metadata": {}
  },
  {
   "cell_type": "code",
   "execution_count": null,
   "source": [],
   "outputs": [],
   "metadata": {}
  }
 ],
 "metadata": {
  "orig_nbformat": 4,
  "language_info": {
   "name": "python",
   "version": "3.8.5",
   "mimetype": "text/x-python",
   "codemirror_mode": {
    "name": "ipython",
    "version": 3
   },
   "pygments_lexer": "ipython3",
   "nbconvert_exporter": "python",
   "file_extension": ".py"
  },
  "kernelspec": {
   "name": "python3",
   "display_name": "Python 3.8.5 64-bit"
  },
  "interpreter": {
   "hash": "0adcc2737ebf6a4a119f135174df96668767fca1ef1112612db5ecadf2b6d608"
  }
 },
 "nbformat": 4,
 "nbformat_minor": 2
}