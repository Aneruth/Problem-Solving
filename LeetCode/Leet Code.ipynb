{
 "cells": [
  {
   "cell_type": "markdown",
   "source": [
    "#### Reverse Integer"
   ],
   "metadata": {}
  },
  {
   "cell_type": "code",
   "execution_count": 1,
   "source": [
    "a = int(input('Enter the number'))\n",
    "\n",
    "# Method 1\n",
    "astr = str(a)\n",
    "for i in range(len(astr)-1,-1,-1):\n",
    "    print(astr[i],end='')\n",
    "\n",
    "print()\n",
    "\n",
    "# Method 2 \n",
    "ast = str(a)\n",
    "print(ast[::-1])"
   ],
   "outputs": [
    {
     "output_type": "stream",
     "name": "stdout",
     "text": [
      "321\n",
      "321\n"
     ]
    }
   ],
   "metadata": {}
  },
  {
   "cell_type": "markdown",
   "source": [
    "#### Given two sorted arrays nums1 and nums2 of size m and n respectively, return the median of the two sorted arrays."
   ],
   "metadata": {}
  },
  {
   "cell_type": "code",
   "execution_count": 2,
   "source": [
    "# Method 1 \n",
    "nums1 = [1,3]\n",
    "nums2 = [2,7]\n",
    "mergeList = sorted(nums1 + nums2)\n",
    "s = sum(mergeList)/len(mergeList)\n",
    "print(f'Median of two list is {s}')\n",
    "\n",
    "# Method 2 \n",
    "import numpy as np\n",
    "med = np.median(mergeList)\n",
    "print(f'Median of two list using Numpy package is {med}')"
   ],
   "outputs": [
    {
     "output_type": "stream",
     "name": "stdout",
     "text": [
      "Median of two list is 3.25\n",
      "Median of two list using Numpy package is 2.5\n"
     ]
    }
   ],
   "metadata": {}
  },
  {
   "cell_type": "markdown",
   "source": [
    "#### Longest Palindromic Substring\n",
    "\n",
    "(1) Initialize variable revs_number = 0  \n",
    "\n",
    "(2) Loop while number > 0  \n",
    "\n",
    "          (a) Multiply revs_number by 10 and add remainder of number   \n",
    "               divide by 10 to revs_number  \n",
    "                    revs_number = revs_number*10 + number%10;  \n",
    "\n",
    "          (b) Divide num by 10  \n",
    "\n",
    "(3) Return revs_number  "
   ],
   "metadata": {}
  },
  {
   "cell_type": "code",
   "execution_count": 3,
   "source": [
    "# Part 1 to check if the string is palindrome or not\n",
    "def checkPali(s):\n",
    "    return s == s[::-1]\n",
    "inString = str(input())\n",
    "inString2 = checkPali(inString)\n",
    "if inString2:\n",
    "    print(f'{inString} is a palindrome')\n",
    "else:\n",
    "    print(f'{inString} is not a palindrome')\n",
    "\n",
    "# Part 2 to check longest palindromic string\n",
    "cout = 0 \n",
    "def recur_reverse(num):  \n",
    "    global cout   # We can use it out of the function  \n",
    "    if (num > 0):  \n",
    "        Reminder = num % 10  \n",
    "        cout = (cout * 10) + Reminder  \n",
    "        recur_reverse(num // 10)  \n",
    "    return cout  \n",
    "cout = recur_reverse(int(inString))\n",
    "if cout == inString:\n",
    "    print(f'{inString} is a logest palindrome')\n",
    "else:\n",
    "    print(f'{inString} is not a longest palindrome')"
   ],
   "outputs": [
    {
     "output_type": "stream",
     "name": "stdout",
     "text": [
      "1234321 is a palindrome\n",
      "1234321 is not a longest palindrome\n"
     ]
    }
   ],
   "metadata": {}
  },
  {
   "cell_type": "markdown",
   "source": [
    "#### Implement atoi which converts a string to an integer.\n",
    "\n",
    "#### Sample 1\n",
    "Input: str = \"42\"\n",
    "\n",
    "Output: 42\n",
    "\n",
    "#### Sample 2\n",
    "Input: str = \"   -42\"\n",
    "\n",
    "Output: -42\n",
    "\n",
    "Explanation: The first non-whitespace character is '-', which is the minus sign. Then take as many numerical digits as possible, which gets 42.\n",
    "\n",
    "#### Sample 3\n",
    "Input: str = \"4193 with words\"\n",
    "\n",
    "Output: 4193\n",
    "\n",
    "Explanation: Conversion stops at digit '3' as the next character is not a numerical digit.\n",
    "\n",
    "#### Sample 4\n",
    "Input: str = \"words and 987\"\n",
    "\n",
    "Output: 0\n",
    "\n",
    "Explanation: The first non-whitespace character is 'w', which is not a numerical digit or a +/- sign. Therefore no valid conversion could be performed.\n",
    "\n",
    "#### Sample 5\n",
    "Input: str = \"-91283472332\"\n",
    "\n",
    "Output: -2147483648\n",
    "\n",
    "Explanation: The number \"-91283472332\" is out of the range of a 32-bit signed integer. Thefore INT_MIN (−231) is returned."
   ],
   "metadata": {}
  },
  {
   "cell_type": "code",
   "execution_count": 25,
   "source": [
    "# Method 1 \n",
    "import re\n",
    "# string = '4193 words'\n",
    "# def atoi1(string):\n",
    "#     a = string.split( )\n",
    "#     for i in a:\n",
    "#         if re.search('^[0-9]*$',i):\n",
    "#             # print(i) # To check the value\n",
    "#             if a.index(i) == string.index(i):\n",
    "#                 out = i\n",
    "#             else:\n",
    "#                 out = 0\n",
    "#     return out\n",
    "# print(f'Method 1 output: {atoi1(\"-91283472332\")}')\n",
    "\n",
    "# Method 2 \n",
    "def atoi2(string):\n",
    "    return int(string)\n",
    "print('Method 2 output is',atoi2('-91283472332'))\n",
    "\n",
    "# Method 3 \n",
    "def atoi3(s):\n",
    "    for i in s.split():\n",
    "        if i.isdigit():\n",
    "            out = int(i)\n",
    "    return out\n",
    "print(f'Method 3 output is {atoi3(\"Aneruth has 2 dogs.\")}')\n",
    "\n",
    "def atoi4(s):\n",
    "    xc = []\n",
    "    for i in s.strip():\n",
    "        if i.isdigit():\n",
    "                xc.append(i)\n",
    "                out = int(''.join(xc))\n",
    "        else:\n",
    "            out = 0\n",
    "    return out\n",
    "print(f'Method 4 output: {atoi4(\" 42\")}')\n",
    "\n",
    "def atoi5(s):\n",
    "    match = re.match(r'^\\s*([+-]?\\d+)', s)\n",
    "    return min(max((int(match.group(1)) if match else 0), -2**31), 2**31 - 1)\n",
    "print(f'Method 4 output: {atoi5(\" 42\")}')"
   ],
   "outputs": [
    {
     "output_type": "stream",
     "name": "stdout",
     "text": [
      "Method 2 output is -91283472332\n",
      "Method 3 output is 2\n",
      "Method 4 output: 42\n",
      "Method 4 output: 42\n"
     ]
    }
   ],
   "metadata": {
    "tags": []
   }
  },
  {
   "cell_type": "markdown",
   "source": [
    "### Two Sum\n",
    "Given an array of integers nums and an integer target, return indices of the two numbers such that they add up to target.\n",
    "\n",
    "You may assume that each input would have exactly one solution, and you may not use the same element twice.\n",
    "\n",
    "You can return the answer in any order."
   ],
   "metadata": {}
  },
  {
   "cell_type": "code",
   "execution_count": 5,
   "source": [
    "aList = [1,2,3]\n",
    "target = 5\n",
    "for i in range(len(aList)): # Traverse the list \n",
    "    for j in range(i+1,len(aList)): # To get the pair for the list\n",
    "        tot = aList[i] + aList[j] # sum up the pair\n",
    "        if tot == target: # to check if the pair sum is same as target element\n",
    "            print(f'The pair is {[i,j]}') # to print the pair of which the sum is equivalent to target\n",
    "            print(f'Sum of the pair is {tot}')"
   ],
   "outputs": [
    {
     "output_type": "stream",
     "name": "stdout",
     "text": [
      "The pair is [1, 2]\n",
      "Sum of the pair is 5\n"
     ]
    }
   ],
   "metadata": {}
  },
  {
   "cell_type": "markdown",
   "source": [
    "### Add Two Numbers\n",
    "\n",
    "You are given two non-empty linked lists representing two non-negative integers. The digits are stored in reverse order, and each of their nodes contains a single digit. Add the two numbers and return the sum as a linked list.\n",
    "\n",
    "You may assume the two numbers do not contain any leading zero, except the number 0 itself."
   ],
   "metadata": {}
  },
  {
   "cell_type": "code",
   "execution_count": 6,
   "source": [
    "l1 = [2,4,3]\n",
    "l2 = [5,6,4]\n",
    "# This is applicable only for list of same length\n",
    "def find_sum_of_two_nos(l1,l2):\n",
    "    st1,st2 = '',''\n",
    "    for i,j in zip(l1,l2): # zips the two list \n",
    "        st1 += str(i) \n",
    "        st2 += str(j)\n",
    "\n",
    "    # To change it to int\n",
    "    st1_to_int = int(st1[::-1]) \n",
    "    st2_to_int = int(st2[::-1])\n",
    "    sum_of_two_nos = st1_to_int + st2_to_int\n",
    "    sum_lst = [int(q) for q in str(sum_of_two_nos)]\n",
    "    return sum_lst[::-1]\n",
    "find_sum_of_two_nos(l1,l2)"
   ],
   "outputs": [
    {
     "output_type": "execute_result",
     "data": {
      "text/plain": [
       "[7, 0, 8]"
      ]
     },
     "metadata": {},
     "execution_count": 6
    }
   ],
   "metadata": {}
  },
  {
   "cell_type": "markdown",
   "source": [
    "### Longest Substring Without Repeating Characters\n",
    "\n",
    "Given a string s, find the length of the longest substring without repeating characters.\n",
    "----------------------------------------------------------------------------------------\n",
    "Example 1:\n",
    "\n",
    "Input: s = \"abcabcbb\"\n",
    "\n",
    "Output: 3\n",
    "\n",
    "Explanation: The answer is \"abc\", with the length of 3.\n",
    "\n",
    "----------------------------------------------------------------------------------------\n",
    "Example 2:\n",
    "\n",
    "Input: s = \"bbbbb\"\n",
    "\n",
    "Output: 1\n",
    "\n",
    "Explanation: The answer is \"b\", with the length of 1.\n",
    "\n",
    "----------------------------------------------------------------------------------------\n",
    "Example 3:\n",
    "\n",
    "Input: s = \"pwwkew\"\n",
    "\n",
    "Output: 3\n",
    "\n",
    "Explanation: The answer is \"wke\", with the length of 3.\n",
    "\n",
    "Notice that the answer must be a substring, \"pwke\" is a subsequence and not a substring.\n",
    "\n",
    "----------------------------------------------------------------------------------------\n",
    "Example 4:\n",
    "\n",
    "Input: s = \"\"\n",
    "\n",
    "Output: 0"
   ],
   "metadata": {}
  },
  {
   "cell_type": "code",
   "execution_count": 7,
   "source": [
    "def subString(string):\n",
    "    new_dict = {}\n",
    "    max_len,idx = 0,0\n",
    "\n",
    "    for i in range(len(string)):\n",
    "        if string[i] in new_dict and idx <= new_dict[string[i]]:\n",
    "            idx = new_dict[string[i]] + 1\n",
    "        else:\n",
    "            max_len = max(max_len,i-idx+1)\n",
    "        new_dict[string[i]] = i\n",
    "    \n",
    "    return max_len\n",
    "\n",
    "print(subString('abcabcbb'))\n",
    "print(subString('bbbbb'))\n",
    "print(subString('pwwkew'))\n",
    "print(subString(''))"
   ],
   "outputs": [
    {
     "output_type": "stream",
     "name": "stdout",
     "text": [
      "3\n",
      "1\n",
      "3\n",
      "0\n"
     ]
    }
   ],
   "metadata": {}
  },
  {
   "cell_type": "markdown",
   "source": [
    "### sWAP cASE\n",
    "You are given a string and your task is to swap cases. In other words, convert all lowercase letters to uppercase letters and vice versa.\n",
    "\n",
    "For Example:\n",
    "Pythonist 2 → pYTHONIST 2"
   ],
   "metadata": {}
  },
  {
   "cell_type": "code",
   "execution_count": 8,
   "source": [
    "s = 'Pyhtonist 2'\n",
    "s.swapcase()"
   ],
   "outputs": [
    {
     "output_type": "execute_result",
     "data": {
      "text/plain": [
       "'pYHTONIST 2'"
      ]
     },
     "metadata": {},
     "execution_count": 8
    }
   ],
   "metadata": {}
  },
  {
   "cell_type": "markdown",
   "source": [
    "### String Split and Join\n",
    "Example:\n",
    "\n",
    ">>> a = \"this is a string\"\n",
    "\n",
    ">>> a = a.split(\" \") # a is converted to a list of strings. \n",
    "\n",
    ">>> print a\n",
    "\n",
    "[['this', 'is', 'a', 'string']]\n",
    "\n",
    "Sample Input\n",
    "\n",
    "this is a string   \n",
    "\n",
    "Sample Output\n",
    "\n",
    "this-is-a-string"
   ],
   "metadata": {}
  },
  {
   "cell_type": "code",
   "execution_count": 9,
   "source": [
    "s1 = 'this is a string'\n",
    "s1 = '-'.join(s1.split(' '))\n",
    "print(s1)"
   ],
   "outputs": [
    {
     "output_type": "stream",
     "name": "stdout",
     "text": [
      "this-is-a-string\n"
     ]
    }
   ],
   "metadata": {}
  },
  {
   "cell_type": "markdown",
   "source": [
    "### Shift the Index postion of even numbers to n+1th index position. \n",
    "\n",
    "Test Case: [[0,1,2,3,4,5]] --> [[1.0.3,2,5,4]]"
   ],
   "metadata": {}
  },
  {
   "cell_type": "code",
   "execution_count": 10,
   "source": [
    "qList = [0,1,2,3,4,5]\n",
    "\n",
    "# Method 1\n",
    "def odd_even(x):\n",
    "    odds = sorted(filter(lambda n: n % 2 == 1, x))\n",
    "    evens = sorted(filter(lambda n: n % 2 == 0, x))\n",
    "    pairList = zip(odds, evens)\n",
    "    return [n for t in pairList for n in t]\n",
    "print('Method 1',odd_even(qList))\n",
    "\n",
    "# Method 2\n",
    "eve_lst = qList[0:len(qList):2]\n",
    "odd_lst = qList[1:len(qList):2]\n",
    "pair = zip(odd_lst,eve_lst)\n",
    "print('Method 2',[n for t in pair for n in t])\n",
    "\n",
    "# Method 3\n",
    "xz,kd = [],[]\n",
    "for i in qList:\n",
    "    xz.append(str(i))\n",
    "separator = ''\n",
    "z = separator.join(xz)\n",
    "ze = z[0:len(z):2]\n",
    "zo = z[1:len(z):2]\n",
    "zz = zip(zo,ze)\n",
    "for i in zz:\n",
    "    for j in i:\n",
    "        kd.append(j)\n",
    "print('Method 3',kd)"
   ],
   "outputs": [
    {
     "output_type": "stream",
     "name": "stdout",
     "text": [
      "Method 1 [1, 0, 3, 2, 5, 4]\n",
      "Method 2 [1, 0, 3, 2, 5, 4]\n",
      "Method 3 ['1', '0', '3', '2', '5', '4']\n"
     ]
    }
   ],
   "metadata": {}
  },
  {
   "cell_type": "markdown",
   "source": [
    "### Pair the first element with 4 elemnt from the index postion and subsequent mapps.\n",
    "\n",
    "Example: \n",
    "\n",
    "Input : [['a','b','c','d','e','f','g','h','i','j','k','l','m','n','o']] \n",
    "\n",
    "Output : [[['a', 'e', 'i', 'm']],[['b', 'f', 'j', 'n']],[['c', 'g', 'k', 'o']],[['e', 'i', 'm']]]"
   ],
   "metadata": {}
  },
  {
   "cell_type": "code",
   "execution_count": 11,
   "source": [
    "long_list = ['a','b','c','d','e','f','g','h','i','j','k','l','m','n','o']\n",
    "split1 = long_list[0:len(long_list):4]\n",
    "split2 = long_list[1:len(long_list):4]\n",
    "split3 = long_list[2:len(long_list):4]\n",
    "split4 = long_list[4:len(long_list):4]\n",
    "[split1] + [split2] + [split3] + [split4]"
   ],
   "outputs": [
    {
     "output_type": "execute_result",
     "data": {
      "text/plain": [
       "[['a', 'e', 'i', 'm'],\n",
       " ['b', 'f', 'j', 'n'],\n",
       " ['c', 'g', 'k', 'o'],\n",
       " ['e', 'i', 'm']]"
      ]
     },
     "metadata": {},
     "execution_count": 11
    }
   ],
   "metadata": {}
  },
  {
   "cell_type": "markdown",
   "source": [
    "### Multiply Strings\n",
    "\n",
    "Given two non-negative integers num1 and num2 represented as strings, return the product of num1 and num2, also represented as a string.\n",
    "\n",
    "Note: You must not use any built-in BigInteger library or convert the inputs to integer directly.\n",
    "\n",
    "Example 1:\n",
    "\n",
    "Input: num1 = \"2\", num2 = \"3\"\n",
    "\n",
    "Output: \"6\"\n",
    "\n",
    "Example 2:\n",
    "\n",
    "Input: num1 = \"123\", num2 = \"456\"\n",
    "\n",
    "Output: \"56088\""
   ],
   "metadata": {}
  },
  {
   "cell_type": "code",
   "execution_count": 12,
   "source": [
    "a = '123'\n",
    "b = '456'\n",
    "k = map(int,a)\n",
    "q = map(int,b)\n",
    "def mn(a,b):\n",
    "    for i,j in zip(k,q):\n",
    "        x1 = i*j\n",
    "    return (str(x1))\n",
    "mn(k,q)"
   ],
   "outputs": [
    {
     "output_type": "execute_result",
     "data": {
      "text/plain": [
       "'18'"
      ]
     },
     "metadata": {},
     "execution_count": 12
    }
   ],
   "metadata": {}
  },
  {
   "cell_type": "markdown",
   "source": [
    "### Palindrome in both Decimal and Binary\n",
    "\n",
    "#### Given a number N. check whether a given number N  is palindrome or not in it's both formates (Decimal and Binary ).\n",
    "\n",
    "#### Example 1:\n",
    "\n",
    "Input: N = 7\n",
    "\n",
    "Output: \"Yes\" \n",
    "\n",
    "Explanation: 7 is palindrome in it's decimal \n",
    "and also in it's binary (111).So answer is \"Yes\".\n",
    "\n",
    "Example 2:\n",
    "\n",
    "\n",
    "Input: N = 12\n",
    "\n",
    "Output: \"No\"\n",
    "\n",
    "Explanation: 12 is not palindrome in it's decimal\n",
    "and also in it's binary (1100).So answer is \"No\". "
   ],
   "metadata": {}
  },
  {
   "cell_type": "code",
   "execution_count": 13,
   "source": [
    "ds = []\n",
    "\n",
    "def binaryPali(num):\n",
    "    if num >= 1:\n",
    "        bno = binaryPali(num // 2)\n",
    "        ds.append(num%2)\n",
    "        # print(num % 2, end = '')\n",
    "    return ds\n",
    "# binaryPali(12)\n",
    "\n",
    "def checkPali(func):\n",
    "    if func[::-1] == func:\n",
    "        print('Yes')\n",
    "    else:\n",
    "        print('Nope')\n",
    "checkPali(binaryPali(7))\n",
    "checkPali(binaryPali(12))"
   ],
   "outputs": [
    {
     "output_type": "stream",
     "name": "stdout",
     "text": [
      "Yes\n",
      "Nope\n"
     ]
    }
   ],
   "metadata": {}
  },
  {
   "cell_type": "markdown",
   "source": [
    "### Matching Pair \n",
    "#### Given a set of numbers from 1 to N, each number is exactly present twice so there are N pairs. In the worst-case scenario, how many numbers X should be picked and removed from the set until we find a matching pair?\n",
    "\n",
    "Example 1:\n",
    "\n",
    "Input: N = 1\n",
    "\n",
    "Output: 2\n",
    "\n",
    "Explanation: When N=1 Then there is  one pair and a matching  pair can be extracted in 2 Draws.\n",
    "\n",
    "Example 2:\n",
    "\n",
    "Input: N = 2\n",
    "\n",
    "Output: 3\n",
    "\n",
    "Explanation: When N=2 then there are 2 pairs, let them be {1,2,1,2} and a matching pair will be made in 3 draws."
   ],
   "metadata": {}
  },
  {
   "cell_type": "code",
   "execution_count": 14,
   "source": [
    "def findPairs(lst, K):  \n",
    "    res = [] \n",
    "    while lst: \n",
    "        num = lst.pop() \n",
    "        diff = K - num \n",
    "        if diff in lst: \n",
    "            res.append((diff, num)) \n",
    "          \n",
    "    res.reverse() \n",
    "    return res \n",
    "      \n",
    "# Driver code \n",
    "lst = [1, 2,1,2] \n",
    "K = 2\n",
    "print(findPairs(lst, K)) "
   ],
   "outputs": [
    {
     "output_type": "stream",
     "name": "stdout",
     "text": [
      "[(1, 1)]\n"
     ]
    }
   ],
   "metadata": {}
  },
  {
   "cell_type": "markdown",
   "source": [
    "### Remove Duplicates from Sorted Array\n",
    "Given a sorted array nums, remove the duplicates in-place such that each element appears only once and returns the new length.\n",
    "\n",
    "Do not allocate extra space for another array, you must do this by modifying the input array in-place with O(1) extra memory.\n",
    "\n",
    "Clarification:\n",
    "\n",
    "Confused why the returned value is an integer but your answer is an array?\n",
    "\n",
    "Note that the input array is passed in by reference, which means a modification to the input array will be known to the caller as well.\n",
    "\n",
    "#### Example 1:\n",
    "\n",
    "Input: nums = [[1,1,2]]\n",
    "\n",
    "Output: 2, nums = [[1,2]]\n",
    "\n",
    "Explanation: Your function should return length = 2, with the first two elements of nums being 1 and 2 respectively. It doesn't matter what you leave beyond the returned length.\n",
    "\n",
    "#### Example 2:\n",
    "\n",
    "Input: nums = [[0,0,1,1,1,2,2,3,3,4]]\n",
    "\n",
    "Output: 5, nums = [[0,1,2,3,4]]\n",
    "\n",
    "Explanation: Your function should return length = 5, with the first five elements of nums being modified to 0, 1, 2, 3, and 4 respectively. It doesn't matter what values are set beyond the returned length."
   ],
   "metadata": {}
  },
  {
   "cell_type": "code",
   "execution_count": 15,
   "source": [
    "# Method 1\n",
    "def delDups(l):\n",
    "    l.sort()\n",
    "    dup = list(set(l))\n",
    "    return len(dup)\n",
    "print(f'Method 1 Output:{delDups([0,0,1,1,1,2,2,3,3,4])}')\n",
    "\n",
    "# Method 2 \n",
    "def removeDuplicate(aList):\n",
    "    aList.sort()\n",
    "    i = 0 \n",
    "    for j in range(1,len(aList)):\n",
    "        if aList[j] != aList[i]:\n",
    "            i += 1\n",
    "            aList[i] = aList[j]\n",
    "    return i + 1\n",
    "print(f'Method 2 Output:{removeDuplicate([0,0,1,1,1,2,2,3,3,4])}')\n",
    "\n",
    "# Method 3\n",
    "def remove_dup(nums):\n",
    "    nums[:] = sorted(list(set(nums)))\n",
    "    return len(nums)\n",
    "print(f'Method 3 Output:{remove_dup([0,0,1,1,1,2,2,3,3,4])}')"
   ],
   "outputs": [
    {
     "output_type": "stream",
     "name": "stdout",
     "text": [
      "Method 1 Output:5\n",
      "Method 2 Output:5\n",
      "Method 3 Output:5\n"
     ]
    }
   ],
   "metadata": {}
  },
  {
   "cell_type": "markdown",
   "source": [
    "### Remove Element\n",
    "\n",
    "Given an array nums and a value val, remove all instances of that value in-place and return the new length.\n",
    "\n",
    "Do not allocate extra space for another array, you must do this by modifying the input array in-place with O(1) extra memory.\n",
    "\n",
    "The order of elements can be changed. It doesn't matter what you leave beyond the new length.\n",
    "\n",
    "#### Example 1:\n",
    "\n",
    "Input: nums = [[3,2,2,3]], val = 3\n",
    "\n",
    "Output: 2, nums = [[2,2]]\n",
    "\n",
    "Explanation: Your function should return length = 2, with the first two elements of nums being 2.\n",
    "It doesn't matter what you leave beyond the returned length. For example if you return 2 with nums = [[2,2,3,3]] or nums = [[2,2,0,0]], your answer will be accepted.\n",
    "\n",
    "#### Example 2:\n",
    "\n",
    "Input: nums = [[0,1,2,2,3,0,4,2]], val = 2\n",
    "\n",
    "Output: 5, nums = [[0,1,4,0,3]]\n",
    "\n",
    "Explanation: Your function should return length = 5, with the first five elements of nums containing 0, 1, 3, 0, and 4. Note that the order of those five elements can be arbitrary. It doesn't matter what values are set beyond the returned length."
   ],
   "metadata": {}
  },
  {
   "cell_type": "code",
   "execution_count": 16,
   "source": [
    "# Method 1 \n",
    "def xuz(aList,val):\n",
    "    pit = [value for value in aList if value != val]\n",
    "    return len(pit)\n",
    "\n",
    "print(f'Output from method 1: {xuz([0,1,2,2,3,0,4,2],2)}')\n",
    "\n",
    "# Method 2 \n",
    "def removeElement(nums, val):\n",
    "    output = 0\n",
    "    for j in range(len(nums)):\n",
    "            if nums[j] != val:\n",
    "                    nums[output] = nums[j]\n",
    "                    output += 1\n",
    "    return output\n",
    "print(f'Output from method 2: {removeElement([0,1,2,2,3,0,4,2],2)}')"
   ],
   "outputs": [
    {
     "output_type": "stream",
     "name": "stdout",
     "text": [
      "Output from method 1: 5\n",
      "Output from method 2: 5\n"
     ]
    }
   ],
   "metadata": {}
  },
  {
   "cell_type": "markdown",
   "source": [],
   "metadata": {}
  },
  {
   "cell_type": "markdown",
   "source": [
    "# Yet to see this\n",
    "#### Roman to Integer \n",
    "\n",
    "Roman numerals are represented by seven different symbols: I, V, X, L, C, D and M.\n",
    "\n",
    "Symbol       Value\n",
    "\n",
    "I             1\n",
    "\n",
    "V             5\n",
    "\n",
    "X             10\n",
    "\n",
    "L             50\n",
    "\n",
    "C             100\n",
    "\n",
    "D             500\n",
    "\n",
    "M             1000\n",
    "\n",
    "For example, 2 is written as II in Roman numeral, just two one's added together. 12 is written as XII, which is simply X + II. The number 27 is written as XXVII, which is XX + V + II.\n",
    "\n",
    "Roman numerals are usually written largest to smallest from left to right. However, the numeral for four is not IIII. Instead, the number four is written as IV. Because the one is before the five we subtract it making four. The same principle applies to the number nine, which is written as IX. There are six instances where subtraction is used:\n",
    "\n",
    "I can be placed before V (5) and X (10) to make 4 and 9. \n",
    "\n",
    "X can be placed before L (50) and C (100) to make 40 and 90. \n",
    "\n",
    "C can be placed before D (500) and M (1000) to make 400 and 900.\n",
    "\n",
    "Given a roman numeral, convert it to an integer.\n",
    "\n",
    " \n",
    "\n",
    "Example 1:\n",
    "\n",
    "Input: s = \"III\"\n",
    "\n",
    "Output: 3\n",
    "\n",
    "Example 2:\n",
    "\n",
    "Input: s = \"IV\"\n",
    "\n",
    "Output: 4\n",
    "\n",
    "Example 3:\n",
    "\n",
    "Input: s = \"IX\"\n",
    "\n",
    "Output: 9\n",
    "\n",
    "Example 4:\n",
    "\n",
    "Input: s = \"LVIII\"\n",
    "\n",
    "Output: 58\n",
    "\n",
    "Explanation: L = 50, V= 5, III = 3.\n",
    "\n",
    "Example 5:\n",
    "\n",
    "Input: s = \"MCMXCIV\"\n",
    "\n",
    "Output: 1994\n",
    "\n",
    "Explanation: M = 1000, CM = 900, XC = 90 and IV = 4."
   ],
   "metadata": {}
  },
  {
   "cell_type": "code",
   "execution_count": 17,
   "source": [
    "def roman_to_int(s):\n",
    "    rom_val = {'I': 1, 'V': 5, 'X': 10, 'L': 50, 'C': 100, 'D': 500, 'M': 1000}\n",
    "    int_val = 0\n",
    "    for i in range(len(s)):\n",
    "        if i > 0 and rom_val[s[i]] > rom_val[s[i - 1]]:\n",
    "            int_val += rom_val[s[i]] - 2 * rom_val[s[i - 1]]\n",
    "        else:\n",
    "            int_val += rom_val[s[i]]\n",
    "    return int_val\n",
    "\n",
    "roman_to_int('XX')"
   ],
   "outputs": [
    {
     "output_type": "execute_result",
     "data": {
      "text/plain": [
       "20"
      ]
     },
     "metadata": {},
     "execution_count": 17
    }
   ],
   "metadata": {}
  },
  {
   "cell_type": "markdown",
   "source": [
    "## Yet to see this \n",
    "#### Minimum Index Sum of Two Lists\n",
    "\n",
    "Suppose Andy and Doris want to choose a restaurant for dinner, and they both have a list of favorite restaurants represented by strings.\n",
    "\n",
    "You need to help them find out their common interest with the least list index sum. If there is a choice tie between answers, output all of them with no order requirement. You could assume there always exists an answer.\n",
    "\n",
    "Example 1:\n",
    "\n",
    "Input: list1 = [[\"Shogun\",\"Tapioca Express\",\"Burger King\",\"KFC\"]], list2 = [[\"Piatti\",\"The Grill at Torrey Pines\",\"Hungry Hunter Steakhouse\",\"Shogun\"]]\n",
    "\n",
    "Output: [[\"Shogun\"]]\n",
    "\n",
    "Explanation: The only restaurant they both like is \"Shogun\".\n",
    "\n",
    "Example 2:\n",
    "\n",
    "Input: list1 = [[\"Shogun\",\"Tapioca Express\",\"Burger King\",\"KFC\"]], list2 = [[\"KFC\",\"Shogun\",\"Burger King\"]]\n",
    "\n",
    "Output: [[\"Shogun\"]]\n",
    "\n",
    "Explanation: The restaurant they both like and have the least index sum is \"Shogun\" with index sum 1 (0+1).\n",
    "\n",
    "Example 3:\n",
    "\n",
    "Input: list1 = [[\"Shogun\",\"Tapioca Express\",\"Burger King\",\"KFC\"]], list2 = [[\"KFC\",\"Burger King\",\"Tapioca Express\",\"Shogun\"]]\n",
    "\n",
    "Output: [[\"KFC\",\"Burger King\",\"Tapioca Express\",\"Shogun\"]]\n",
    "\n",
    "Example 4:\n",
    "\n",
    "Input: list1 = [[\"Shogun\",\"Tapioca Express\",\"Burger King\",\"KFC\"]], list2 = [[\"KNN\",\"KFC\",\"Burger King\",\"Tapioca Express\",\"Shogun\"]]\n",
    "\n",
    "Output: [[\"KFC\",\"Burger King\",\"Tapioca Express\",\"Shogun\"]]\n",
    "\n",
    "Example 5:\n",
    "\n",
    "Input: list1 = [[\"KFC\"]], list2 = [[\"KFC\"]]\n",
    "\n",
    "Output: [[\"KFC\"]]"
   ],
   "metadata": {}
  },
  {
   "cell_type": "code",
   "execution_count": 59,
   "source": [
    "aL = [\"KNN\",\"KFC\",\"Burger King\",\"Tapioca Express\",\"Shogun\"]\n",
    "bL = [\"Piatti\",\"The Grill at Torrey Pines\",\"Shogun\",\"KFC\"]\n",
    "# xx = []\n",
    "# for i in aL:\n",
    "#     if i in bL:\n",
    "#         if i not in xx:\n",
    "#             xx.append(i)\n",
    "#     else:\n",
    "#         for j in bL:\n",
    "#             # if aL.index(i) == bL.index(j):\n",
    "#             #     x.append(i)\n",
    "#             if list(set(i)) == list(set(j)):\n",
    "#                 xx.append(j)\n",
    "# print(xx)\n",
    "def minIndex(l1,l2):\n",
    "    empty = []\n",
    "    for i in range(len(l1)):\n",
    "        for j in range(i,len(l2)-1):\n",
    "            if l1.index(l1[i]) < l2.index(l2[j]):\n",
    "                empty.append(l1[i])\n",
    "            #     out = empty\n",
    "            # else:\n",
    "            #     empty.append(l2[j])\n",
    "            #     out = list(set(empty))\n",
    "    return empty\n",
    "minIndex(aL,bL)"
   ],
   "outputs": [
    {
     "output_type": "execute_result",
     "data": {
      "text/plain": [
       "['KNN', 'KNN', 'KFC']"
      ]
     },
     "metadata": {},
     "execution_count": 59
    }
   ],
   "metadata": {}
  },
  {
   "cell_type": "code",
   "execution_count": 51,
   "source": [
    "list(set(aL).intersection(set(bL)))"
   ],
   "outputs": [
    {
     "output_type": "execute_result",
     "data": {
      "text/plain": [
       "['Shogun']"
      ]
     },
     "metadata": {},
     "execution_count": 51
    }
   ],
   "metadata": {}
  },
  {
   "cell_type": "markdown",
   "source": [
    "### Search Insert Position\n",
    "\n",
    "Given a sorted array of distinct integers and a target value, return the index if the target is found. If not, return the index where it would be if it were inserted in order.\n",
    "\n",
    "#### Example 1:\n",
    "\n",
    "Input: nums = [[1,3,5,6]], target = 5\n",
    "\n",
    "Output: 2\n",
    "\n",
    "#### Example 2:\n",
    "\n",
    "Input: nums = [[1,3,5,6]], target = 2\n",
    "\n",
    "Output: 1\n",
    "\n",
    "#### Example 3:\n",
    "\n",
    "Input: nums = [[1,3,5,6]], target = 7\n",
    "\n",
    "Output: 4\n",
    "\n",
    "#### Example 4:\n",
    "\n",
    "Input: nums = [[1,3,5,6]], target = 0\n",
    "\n",
    "Output: 0\n",
    "\n",
    "#### Example 5:\n",
    "\n",
    "Input: nums = [[1]], target = 0\n",
    "\n",
    "Output: 0"
   ],
   "metadata": {}
  },
  {
   "cell_type": "code",
   "execution_count": 19,
   "source": [
    "# Method 1 \n",
    "def lookup(lt,tar):\n",
    "    if tar in lt:\n",
    "        output = lt.index(tar)\n",
    "    elif tar == 0 and tar not in lt:\n",
    "        output = 0\n",
    "    elif tar not in lt:\n",
    "        lt.append(tar)\n",
    "        output = lt.index(tar)\n",
    "    return output\n",
    "print(f'Method 1 output: {lookup([1,3,5,6],0)}')\n",
    "\n",
    "# Method 2 \n",
    "def lookup2(nums,tar):\n",
    "    while tar in nums:\n",
    "        out = nums.index(tar)\n",
    "    else:\n",
    "        if tar == 0 and tar not in nums:\n",
    "            out = 0\n",
    "        elif tar not in nums:\n",
    "            nums.append(tar)\n",
    "            out = nums.index(tar)\n",
    "    return out \n",
    "print(f'Method 2 output: {lookup2([1,3,5,6],0)}')"
   ],
   "outputs": [
    {
     "output_type": "stream",
     "name": "stdout",
     "text": [
      "Method 1 output: 0\n",
      "Method 2 output: 0\n"
     ]
    }
   ],
   "metadata": {}
  },
  {
   "cell_type": "markdown",
   "source": [
    " ## Yet to see this \n",
    " ### Plus One \n",
    "Given a non-empty array of decimal digits representing a non-negative integer, increment one to the integer.\n",
    "\n",
    "The digits are stored such that the most significant digit is at the head of the list, and each element in the array contains a single digit.\n",
    "\n",
    "You may assume the integer does not contain any leading zero, except the number 0 itself.\n",
    "\n",
    " \n",
    "\n",
    "Example 1:\n",
    "\n",
    "Input: digits = [[1,2,3]]\n",
    "\n",
    "Output: [[1,2,4]]\n",
    "\n",
    "Explanation: The array represents the integer 123.\n",
    "\n",
    "Example 2:\n",
    "\n",
    "Input: digits = [[4,3,2,1]]\n",
    "\n",
    "Output: [[4,3,2,2]]\n",
    "\n",
    "Explanation: The array represents the integer 4321.\n",
    "\n",
    "Example 3:\n",
    "\n",
    "Input: digits = [[0]]\n",
    "\n",
    "Output: [[1]]"
   ],
   "metadata": {}
  },
  {
   "cell_type": "code",
   "execution_count": 20,
   "source": [
    "# Method 1\n",
    "def plusOne(digits):\n",
    "    digits[-1] = digits[-1] + 1\n",
    "    return digits\n",
    "\n",
    "# Method 2\n",
    "dk = []\n",
    "def inc_last(lst):\n",
    "    lst[-1] = lst[-1] + 1   \n",
    "    return [int(x) if x.isdigit() else x for z in lst for x in str(z)]\n",
    "print(f'Output from method 1 {plusOne([9])}')\n",
    "print(f'Output from method 2 {inc_last([9,9])}')"
   ],
   "outputs": [
    {
     "output_type": "stream",
     "name": "stdout",
     "text": [
      "Output from method 1 [10]\n",
      "Output from method 2 [9, 1, 0]\n"
     ]
    }
   ],
   "metadata": {}
  },
  {
   "cell_type": "markdown",
   "source": [
    "### Diagonal Traverse\n",
    " Given a matrix of M x N elements (M rows, N columns), return all elements of the matrix in diagonal order."
   ],
   "metadata": {}
  },
  {
   "cell_type": "code",
   "execution_count": 21,
   "source": [
    "def mat_traverse(mat):\n",
    "    if not mat or not mat[0]:\n",
    "        return []\n",
    "    rows,cols = len(mat),len(mat[0])\n",
    "    \n",
    "    diag = [[] for _ in range(rows + cols - 1)]\n",
    "    \n",
    "    for i in range(rows):\n",
    "        for j in range(cols):\n",
    "            diag[i + j].append(mat[i][j])\n",
    "    \n",
    "    res = diag[0] # Since the first element starts with first value. \n",
    "    \n",
    "    for i in range(1,len(diag)):\n",
    "        if i % 2 == 1:\n",
    "            res.extend(diag[i])\n",
    "        else:\n",
    "            res.extend(diag[i][::-1])\n",
    "    \n",
    "    return res\n",
    "\n",
    "mat_traverse([[1,2,3,4],[5,6,7,8],[9,10,11,12]])"
   ],
   "outputs": [
    {
     "output_type": "execute_result",
     "data": {
      "text/plain": [
       "[1, 2, 5, 9, 6, 3, 4, 7, 10, 11, 8, 12]"
      ]
     },
     "metadata": {},
     "execution_count": 21
    }
   ],
   "metadata": {}
  },
  {
   "cell_type": "markdown",
   "source": [
    "## Yet to see this\n",
    "### Power of Two\n",
    "\n",
    "Given an integer n, return true if it is a power of two. Otherwise, return false.\n",
    "\n",
    "An integer n is a power of two, if there exists an integer x such that n == pow(2,x).\n",
    "\n",
    "Example 1:\n",
    "\n",
    "Input: n = 1\n",
    "\n",
    "Output: true\n",
    "\n",
    "Explanation: 2 ** 0 = 1\n",
    "\n",
    "Example 2:\n",
    "\n",
    "Input: n = 16\n",
    "\n",
    "Output: true\n",
    "\n",
    "Explanation: 2 ** 4 = 16\n",
    "\n",
    "Example 3:\n",
    "\n",
    "Input: n = 3\n",
    "\n",
    "Output: false\n",
    "\n",
    "Example 4:\n",
    "\n",
    "Input: n = 4\n",
    "\n",
    "Output: true\n",
    "\n",
    "Example 5:\n",
    "\n",
    "Input: n = 5\n",
    "\n",
    "Output: false\n"
   ],
   "metadata": {}
  },
  {
   "cell_type": "code",
   "execution_count": 22,
   "source": [
    "def power_two(num):\n",
    "    inp,out = 1,1\n",
    "    while inp <= num:\n",
    "        if inp == num:\n",
    "            return True\n",
    "        inp = 2 ** out\n",
    "        out += 1 \n",
    "    return False\n",
    "\n",
    "power_two(4)"
   ],
   "outputs": [
    {
     "output_type": "execute_result",
     "data": {
      "text/plain": [
       "True"
      ]
     },
     "metadata": {},
     "execution_count": 22
    }
   ],
   "metadata": {}
  },
  {
   "cell_type": "markdown",
   "source": [
    "### Median of Two Sorted Arrays\n",
    "Given two sorted arrays nums1 and nums2 of size m and n respectively, return the median of the two sorted arrays.\n",
    "\n",
    "Follow up: The overall run time complexity should be O(log (m+n)).\n",
    "\n",
    "Example 1:\n",
    "\n",
    "Input: nums1 = [[1,3]], nums2 = [[2]]\n",
    "\n",
    "Output: 2.00000\n",
    "\n",
    "Explanation: merged array = [[1,2,3]] and median is 2.\n",
    "\n",
    "Example 2:\n",
    "\n",
    "Input: nums1 = [[1,2]], nums2 = [[3,4]]\n",
    "\n",
    "Output: 2.50000\n",
    "\n",
    "Explanation: merged array = [[1,2,3,4]] and median is (2 + 3) / 2 = 2.5.\n",
    "\n",
    "Example 3:\n",
    "\n",
    "Input: nums1 = [[0,0]], nums2 = [[0,0]]\n",
    "\n",
    "Output: 0.00000\n",
    "\n",
    "Example 4:\n",
    "\n",
    "Input: nums1 = [], nums2 = [[1]]\n",
    "\n",
    "Output: 1.00000\n",
    "\n",
    "Example 5:\n",
    "\n",
    "Input: nums1 = [[2]], nums2 = []\n",
    "\n",
    "Output: 2.00000"
   ],
   "metadata": {}
  },
  {
   "cell_type": "code",
   "execution_count": 19,
   "source": [
    "# Method 1\n",
    "def median_sorted(l1,l2):\n",
    "    l1.extend(l2)\n",
    "    if len(l1) % 2 ==0: \n",
    "        median = (l1[len(l1) // 2 - 1] + l1[len(l1) // 2 ]) / 2.0\n",
    "        print(f'Median from method 1: {median}')\n",
    "    else:\n",
    "        median = l1[len(l1) // 2]\n",
    "        print(f'Median from method 1: {median}')\n",
    "median_sorted([1,2],[3,4])\n",
    "\n",
    "# Method 2 \n",
    "import numpy as np\n",
    "def findMedianSortedArrays(nums1,nums2):\n",
    "        mergeList = sorted(nums1 + nums2)\n",
    "        MedianOfSortedArray = np.median(mergeList)\n",
    "        return MedianOfSortedArray\n",
    "print(f'Output from method 2: {findMedianSortedArrays([1,2],[3,4])}')\n",
    "\n",
    "# Method 3 \n",
    "def med(x,y):\n",
    "    x.extend(y)\n",
    "    if len(x) == 1:\n",
    "            median = float(x[0])\n",
    "    elif len(x) % 2 != 0:\n",
    "        median = float(x[len(x)//2])\n",
    "    else:\n",
    "        median = (x[len(x)//2]+x[(len(x)//2)-1])/2\n",
    "    return median\n",
    "print(f'Output from method 3: {med([1,2],[3,4])}')"
   ],
   "outputs": [
    {
     "output_type": "stream",
     "name": "stdout",
     "text": [
      "Median from method 1: 2.5\n",
      "Output from method 2: 2.5\n",
      "Output from method 3: 2.5\n"
     ]
    }
   ],
   "metadata": {}
  },
  {
   "cell_type": "code",
   "execution_count": 24,
   "source": [
    "al = [1,2,3]\n",
    "al.extend([4,5])\n",
    "al"
   ],
   "outputs": [
    {
     "output_type": "execute_result",
     "data": {
      "text/plain": [
       "[1, 2, 3, 4, 5]"
      ]
     },
     "metadata": {},
     "execution_count": 24
    }
   ],
   "metadata": {}
  },
  {
   "cell_type": "markdown",
   "source": [
    "### Length of Last Word\n",
    "\n",
    "Given a string s consists of some words separated by spaces, return the length of the last word in the string. If the last word does not exist, return 0.\n",
    "\n",
    "A word is a maximal substring consisting of non-space characters only. \n",
    "\n",
    "Example 1:\n",
    "\n",
    "Input: s = \"Hello World\"\n",
    "\n",
    "Output: 5\n",
    "\n",
    "Example 2:\n",
    "\n",
    "Input: s = \" \"\n",
    "\n",
    "Output: 0"
   ],
   "metadata": {}
  },
  {
   "cell_type": "code",
   "execution_count": 25,
   "source": [
    "def len_of_last(s) -> int:\n",
    "    dum = s.split()\n",
    "    if dum:\n",
    "        print(len(dum[-1]))\n",
    "    elif \" \":\n",
    "        print(0)\n",
    "    else:\n",
    "        print(len(s))\n",
    "len_of_last(\" \")"
   ],
   "outputs": [
    {
     "output_type": "stream",
     "name": "stdout",
     "text": [
      "0\n"
     ]
    }
   ],
   "metadata": {}
  },
  {
   "cell_type": "markdown",
   "source": [
    "## YET TO SEE THIS \n",
    "### First Bad Version\n",
    "\n",
    "You are a product manager and currently leading a team to develop a new product. Unfortunately, the latest version of your product fails \n",
    "the quality check. Since each version is developed based on the previous version, all the versions after a bad version are also bad.\n",
    "\n",
    "Suppose you have n versions [[1, 2, ..., n]] and you want to find out the first bad one, which causes all the following ones to be bad.\n",
    "\n",
    "You are given an API bool isBadVersion(version) which returns whether version is bad. Implement a function to find the first bad version. \n",
    "You should minimize the number of calls to the API.\n",
    "\n",
    "Example 1:\n",
    "\n",
    "Input: n = 5, bad = 4\n",
    "\n",
    "Output: 4\n",
    "\n",
    "Explanation:\n",
    "\n",
    "call isBadVersion(3) -> false\n",
    "\n",
    "call isBadVersion(5) -> true\n",
    "\n",
    "call isBadVersion(4) -> true\n",
    "\n",
    "Then 4 is the first bad version.\n",
    "\n",
    "Example 2:\n",
    "\n",
    "Input: n = 1, bad = 1\n",
    "\n",
    "Output: 1"
   ],
   "metadata": {}
  },
  {
   "cell_type": "code",
   "execution_count": null,
   "source": [
    "def isBad(n):\n",
    "    left,right = 1,n\n",
    "    while (left < right):\n",
    "        mid = left + (left-right) / 2\n",
    "        if isBadVersion(mid):\n",
    "            right = mid \n",
    "        else:\n",
    "            left = mid + 1\n",
    "    return left"
   ],
   "outputs": [],
   "metadata": {}
  },
  {
   "cell_type": "markdown",
   "source": [
    "### Search in Rotated Sorted Array\n",
    "\n",
    "You are given an integer array nums sorted in ascending order (with distinct values), and an integer target.\n",
    "\n",
    "Suppose that nums is rotated at some pivot unknown to you beforehand (i.e., [[0,1,2,4,5,6,7]] might become [[4,5,6,7,0,1,2]]).\n",
    "\n",
    "If target is found in the array return its index, otherwise, return -1.\n",
    "\n",
    " \n",
    "\n",
    "Example 1:\n",
    "\n",
    "Input: nums = [[4,5,6,7,0,1,2]], target = 0\n",
    "\n",
    "Output: 4\n",
    "\n",
    "Example 2:\n",
    "\n",
    "Input: nums = [[4,5,6,7,0,1,2]], target = 3\n",
    "\n",
    "Output: -1\n",
    "\n",
    "Example 3:\n",
    "\n",
    "Input: nums = [[1]], target = 0\n",
    "\n",
    "Output: -1"
   ],
   "metadata": {}
  },
  {
   "cell_type": "code",
   "execution_count": 16,
   "source": [
    "def searchRotated(nums,target):\n",
    "    if target in nums:idx = nums.index(target)\n",
    "    else:idx = -1\n",
    "    return idx\n",
    "print(f'Method 1 output: {searchRotated([4,5,6,7,0,1,2],3)}')"
   ],
   "outputs": [
    {
     "output_type": "stream",
     "name": "stdout",
     "text": [
      "Method 1 output: -1\n"
     ]
    }
   ],
   "metadata": {}
  },
  {
   "cell_type": "markdown",
   "source": [
    "## Yet to see this\n",
    "### Container With Most Water\n",
    "\n",
    "Given n non-negative integers $a_{1}$, $a_{2}$, ..., $a_{n}$ , where each represents a point at coordinate (i, $a_{i}$). n vertical lines are drawn such that the two endpoints of the line i is at (i, $a_{i}$) and (i, 0). Find two lines, which, together with the x-axis forms a container, such that the container contains the most water.\n",
    "\n",
    "Notice that you may not slant the container.\n",
    "\n",
    "Example 1:\n",
    "\n",
    "\n",
    "Input: height = [[1,8,6,2,5,4,8,3,7]]\n",
    "\n",
    "Output: 49\n",
    "\n",
    "Explanation: The above vertical lines are represented by array [[1,8,6,2,5,4,8,3,7]]. In this case, the max area of water (blue section) the container can contain is 49.\n",
    "\n",
    "Example 2:\n",
    "\n",
    "Input: height = [[1,1]]\n",
    "\n",
    "Output: 1\n",
    "\n",
    "Example 3:\n",
    "\n",
    "Input: height = [[4,3,2,1,4]]\n",
    "\n",
    "Output: 16\n",
    "\n",
    "Example 4:\n",
    "\n",
    "Input: height = [[1,2,1]]\n",
    "\n",
    "Output: 2"
   ],
   "metadata": {}
  },
  {
   "cell_type": "code",
   "execution_count": 13,
   "source": [
    "# def maxArea(heights):\n",
    "#     if len(heights) > 3:\n",
    "#         max_value = max(heights)\n",
    "#         sliced_list = heights[heights.index(max_value) + 1:]\n",
    "#         out = len(sliced_list) ** 2\n",
    "    \n",
    "#     else:\n",
    "#         min_list_val = max(heights)\n",
    "#         sliced_list_val = heights[heights.index(min_list_val):]\n",
    "#         # out = \n",
    "#     return min_list_val\n",
    "# maxArea([1,2,1])\n",
    "def maxArea(height):\n",
    "    left, right = 0, len(height)-1\n",
    "    dummy_value = 0\n",
    "    \n",
    "    while left < right:\n",
    "        dummy_value = max(dummy_value, (right-left) * min(height[left], height[right]))\n",
    "        \n",
    "        if height[left] < height[right]:\n",
    "            left+=1\n",
    "        else:\n",
    "            right-=1\n",
    "    \n",
    "    return dummy_value\n",
    "maxArea([1,1])"
   ],
   "outputs": [
    {
     "output_type": "execute_result",
     "data": {
      "text/plain": [
       "1"
      ]
     },
     "metadata": {},
     "execution_count": 13
    }
   ],
   "metadata": {}
  },
  {
   "cell_type": "markdown",
   "source": [
    "### 3Sum\n",
    "Given an array nums of n integers, are there elements a, b, c in nums such that a + b + c = 0? Find all unique triplets in the array which gives the sum of zero.\n",
    "\n",
    "Notice that the solution set must not contain duplicate triplets.\n",
    "\n",
    "Example 1:\n",
    "\n",
    "Input: nums = [[-1,0,1,2,-1,-4]] | \n",
    "Output: [[[-1,-1,2]],[[-1,0,1]]]\n",
    "\n",
    "Example 2:\n",
    "\n",
    "Input: nums = [] | \n",
    "Output: []\n",
    "\n",
    "Example 3:\n",
    "\n",
    "Input: nums = [[0]] | \n",
    "Output: []"
   ],
   "metadata": {}
  },
  {
   "cell_type": "code",
   "execution_count": 8,
   "source": [
    "# Method 1 (Leet Code 315 / 318 test cases passed.)\n",
    "def threeSum(aList):\n",
    "    aList.sort()\n",
    "    res = []\n",
    "    for i in range(len(aList)):\n",
    "        for j in range(i+1,len(aList)):\n",
    "            for k in range(j+1,len(aList)):\n",
    "                a,b,c = aList[i],aList[j],aList[k]\n",
    "                if a+b+c == 0 and (a,b,c):\n",
    "                    res.append([a,b,c])\n",
    "    return res\n",
    "print(f'Method 1 output: {threeSum([0])}')"
   ],
   "outputs": [
    {
     "output_type": "stream",
     "name": "stdout",
     "text": [
      "Method 1 output: []\n"
     ]
    }
   ],
   "metadata": {}
  },
  {
   "cell_type": "markdown",
   "source": [
    "### Sqrt(x)\n",
    "\n",
    "Given a non-negative integer x, compute and return the square root of x.\n",
    "\n",
    "Since the return type is an integer, the decimal digits are truncated, and only the integer part of the result is returned.\n",
    "\n",
    "Example 1:\n",
    "\n",
    "Input: x = 4\n",
    "\n",
    "Output: 2\n",
    "\n",
    "Example 2:\n",
    "\n",
    "Input: x = 8\n",
    "\n",
    "Output: 2\n",
    "\n",
    "Explanation: The square root of 8 is 2.82842..., and since the decimal part is truncated, 2 is returned."
   ],
   "metadata": {}
  },
  {
   "cell_type": "code",
   "execution_count": 27,
   "source": [
    "def sqrt(x):\n",
    "    return int(pow(x,1/2))\n",
    "sqrt(8)"
   ],
   "outputs": [
    {
     "output_type": "execute_result",
     "data": {
      "text/plain": [
       "2"
      ]
     },
     "metadata": {},
     "execution_count": 27
    }
   ],
   "metadata": {}
  },
  {
   "cell_type": "markdown",
   "source": [
    "### Climbing Stairs\n",
    "You are climbing a staircase. It takes n steps to reach the top.\n",
    "\n",
    "Each time you can either climb 1 or 2 steps. In how many distinct ways can you climb to the top?\n",
    "\n",
    "Example 1:\n",
    "\n",
    "Input: n = 2\n",
    "\n",
    "Output: 2\n",
    "\n",
    "Explanation: There are two ways to climb to the top.\n",
    "\n",
    "1. 1 step + 1 step\n",
    "\n",
    "2. 2 steps\n",
    "\n",
    "Example 2:\n",
    "\n",
    "Input: n = 3\n",
    "\n",
    "Output: 3\n",
    "\n",
    "Explanation: There are three ways to climb to the top.\n",
    "\n",
    "1. 1 step + 1 step + 1 step\n",
    "\n",
    "2. 1 step + 2 steps\n",
    "\n",
    "3. 2 steps + 1 step"
   ],
   "metadata": {}
  },
  {
   "cell_type": "code",
   "execution_count": 73,
   "source": [
    "# Method 1 recursive \n",
    "def climb(x):\n",
    "    if x == 1 or x ==2 or x == 3:\n",
    "        z = x\n",
    "    else: \n",
    "        z = climb(x-1) + climb(x-2)\n",
    "    return z \n",
    "print(f'Output for method 1: {climb(1)}')\n",
    "\n",
    "# Method 2 \n",
    "def climbStairs(n):\n",
    "    if n == 1: out = 1\n",
    "    first,second = 1,2\n",
    "    for i in range(3,n+1):\n",
    "        third = first + second\n",
    "        first,second = second,third\n",
    "        out = second\n",
    "    return out\n",
    "print(f'Output for method 2: {climbStairs(1)}')"
   ],
   "outputs": [
    {
     "output_type": "stream",
     "name": "stdout",
     "text": [
      "Output for method 1: 1\n",
      "Output for method 2: 1\n"
     ]
    }
   ],
   "metadata": {}
  },
  {
   "cell_type": "markdown",
   "source": [
    "### Merge Sorted Array\n",
    "Given two sorted integer arrays nums1 and nums2, merge nums2 into nums1 as one sorted array.\n",
    "\n",
    "The number of elements initialized in nums1 and nums2 are m and n respectively. You may assume that nums1 has a size equal to m + n such that it has enough space to hold additional elements from nums2.\n",
    "\n",
    "Example 1:\n",
    "\n",
    "Input: nums1 = [[1,2,3,0,0,0]], m = 3, nums2 = [[2,5,6]], n = 3\n",
    "\n",
    "Output: [[1,2,2,3,5,6]]\n",
    "\n",
    "Example 2:\n",
    "\n",
    "Input: nums1 = [[1]], m = 1, nums2 = [], n = 0\n",
    "\n",
    "Output: [[1]]"
   ],
   "metadata": {}
  },
  {
   "cell_type": "code",
   "execution_count": 29,
   "source": [
    "# Method 1\n",
    "def merge_sorted(n1,n2,m,n):\n",
    "    n3 = n1[:m]\n",
    "    n3.extend(n2[:n])\n",
    "    n3.sort()\n",
    "    return n3\n",
    "print(f'Output from method 1: {merge_sorted([1,2,3,0,0,0],[2,5,6],3,3)}')\n",
    "\n",
    "# Method 2\n",
    "def m(n1,n2,m,n):\n",
    "    if n == 0: return n1\n",
    "    n1[-(len(n2)):] = n2\n",
    "    n1.sort()\n",
    "    return n1\n",
    "print(f'Output from methid 2: {m([1,2,3,0,0,0],[2,5,6],3,3)}')"
   ],
   "outputs": [
    {
     "output_type": "stream",
     "name": "stdout",
     "text": [
      "Output from method 1: [1, 2, 2, 3, 5, 6]\n",
      "Output from methid 2: [1, 2, 2, 3, 5, 6]\n"
     ]
    }
   ],
   "metadata": {}
  },
  {
   "cell_type": "markdown",
   "source": [
    "### Pascal's Triangle\n",
    "Given a non-negative integer numRows, generate the first numRows of Pascal's triangle.\n",
    "Example:\n",
    "\n",
    "Input: 5\n",
    "Output:\n",
    "[\n",
    "     \n",
    "     [[1]],\n",
    "    \n",
    "    [[1,1]],\n",
    "   \n",
    "   [[1,2,1]],\n",
    "  \n",
    "  [[1,3,3,1]],\n",
    " \n",
    " [[1,4,6,4,1]]\n",
    "\n",
    "]"
   ],
   "metadata": {}
  },
  {
   "cell_type": "code",
   "execution_count": 30,
   "source": [
    "def pascal(n):\n",
    "    cs = []\n",
    "    for i in range(1,n + 1):\n",
    "        c = 1\n",
    "        for j in range(1, i+1):\n",
    "            # print(c,end=' ')\n",
    "            c = int(c * (i-j)/j)\n",
    "            cs.append(c)  \n",
    "    return cs  \n",
    "pascal(5)"
   ],
   "outputs": [
    {
     "output_type": "execute_result",
     "data": {
      "text/plain": [
       "[0, 1, 0, 2, 1, 0, 3, 3, 1, 0, 4, 6, 4, 1, 0]"
      ]
     },
     "metadata": {},
     "execution_count": 30
    }
   ],
   "metadata": {}
  },
  {
   "cell_type": "code",
   "execution_count": 31,
   "source": [
    "# Pascal function \n",
    "def printPascal(n): \n",
    "\n",
    "\tfor line in range(1, n + 1): \n",
    "\t\tC = 1\n",
    "\t\tfor i in range(1, line + 1): \n",
    "\t\t\t# The first value in a \n",
    "\t\t\t# line is always 1 \n",
    "\t\t\tprint(C, end = \" \") \n",
    "\t\t\tC = int(C * (line - i) / i)\n",
    "\t\tprint(\"\")\n",
    "\n",
    "# Driver code \n",
    "n = 5\n",
    "printPascal(n) "
   ],
   "outputs": [
    {
     "output_type": "stream",
     "name": "stdout",
     "text": [
      "1 \n",
      "1 1 \n",
      "1 2 1 \n",
      "1 3 3 1 \n",
      "1 4 6 4 1 \n"
     ]
    }
   ],
   "metadata": {}
  },
  {
   "cell_type": "markdown",
   "source": [
    "### Valid Palindrome\n",
    "Given a string, determine if it is a palindrome, considering only alphanumeric characters and ignoring cases.\n",
    "\n",
    "Note: For the purpose of this problem, we define empty string as valid palindrome.\n",
    "\n",
    "Example 1:\n",
    "\n",
    "Input: \"A man, a plan, a canal: Panama\"\n",
    "\n",
    "Output: true\n",
    "\n",
    "Example 2:\n",
    "\n",
    "Input: \"race a car\"\n",
    "\n",
    "Output: false"
   ],
   "metadata": {}
  },
  {
   "cell_type": "code",
   "execution_count": 30,
   "source": [
    "def valid_palindrome(s):\n",
    "    temp = \"\".join([i.lower() for i in s if i.isalnum()])\n",
    "    return temp[::-1] == temp\n",
    "print(f'Method 1 output: {valid_palindrome(\"race a car\")}')"
   ],
   "outputs": [
    {
     "output_type": "stream",
     "name": "stdout",
     "text": [
      "Method 1 output: False\n"
     ]
    }
   ],
   "metadata": {}
  },
  {
   "cell_type": "markdown",
   "source": [
    "### Single Number\n",
    "\n",
    "Given a non-empty array of integers nums, every element appears twice except for one. Find that single one.\n",
    "\n",
    "Follow up: Could you implement a solution with a linear runtime complexity and without using extra memory?\n",
    "\n",
    "Example 1:\n",
    "\n",
    "Input: nums = [[2,2,1]]\n",
    "\n",
    "Output: 1\n",
    "\n",
    "Example 2:\n",
    "\n",
    "Input: nums = [[4,1,2,1,2]]\n",
    "\n",
    "Output: 4\n",
    "\n",
    "Example 3:\n",
    "\n",
    "Input: nums = [[1]]\n",
    "\n",
    "Output: 1"
   ],
   "metadata": {}
  },
  {
   "cell_type": "code",
   "execution_count": 33,
   "source": [
    "# Method 1\n",
    "def single_num(lt):\n",
    "    dup = []\n",
    "    for i in lt:\n",
    "        if i not in dup:\n",
    "            dup.append(i)\n",
    "        else:\n",
    "            dup.remove(i)\n",
    "    return dup.pop()\n",
    "\n",
    "print(single_num([2,2,1]))\n",
    "\n",
    "# Method 2\n",
    "def single_num2(lt):\n",
    "    return 2 * sum(set(lt)) - sum(lt) # Considers the set of the give list by taking it's sum and subtracts the sum of total list\n",
    "print(single_num2([2,2,1]))"
   ],
   "outputs": [
    {
     "output_type": "stream",
     "name": "stdout",
     "text": [
      "1\n",
      "1\n"
     ]
    }
   ],
   "metadata": {}
  },
  {
   "cell_type": "markdown",
   "source": [
    "### Single Number II\n",
    "Given an integer array nums where every element appears three times except for one, which appears exactly once. Find the single element and return it.\n",
    "\n",
    "Example 1:\n",
    "\n",
    "Input: nums = [[2,2,3,2]] | \n",
    "Output: 3\n",
    "\n",
    "Example 2:\n",
    "\n",
    "Input: nums = [[0,1,0,1,0,1,99]] | \n",
    "Output: 99"
   ],
   "metadata": {}
  },
  {
   "cell_type": "code",
   "execution_count": 124,
   "source": [
    "# Method 1 \n",
    "def singleNumber_2(nums):\n",
    "    for i in nums:\n",
    "            if nums.count(i) == 1:\n",
    "                    output = i\n",
    "    return output \n",
    "print(f'Method 1 output: {singleNumber_2([2,2,1])}')"
   ],
   "outputs": [
    {
     "output_type": "stream",
     "name": "stdout",
     "text": [
      "Method 1 output: 1\n"
     ]
    }
   ],
   "metadata": {}
  },
  {
   "cell_type": "markdown",
   "source": [
    " ### Two Sum II - Input array is sorted\n",
    "\n",
    " Given an array of integers numbers that is already sorted in ascending order, find two numbers such that they add up to a specific target number.\n",
    "\n",
    "Return the indices of the two numbers (1-indexed) as an integer array answer of size 2, where 1 <= answer[0] < answer[1] <= numbers.length.\n",
    "\n",
    "You may assume that each input would have exactly one solution and you may not use the same element twice.\n",
    "\n",
    "Example 1:\n",
    "\n",
    "Input: numbers = [[2,7,11,15]], target = 9\n",
    "\n",
    "Output: [[1,2]]\n",
    "\n",
    "Explanation: The sum of 2 and 7 is 9. Therefore index1 = 1, index2 = 2.\n",
    "\n",
    "Example 2:\n",
    "\n",
    "Input: numbers = [[2,3,4]], target = 6\n",
    "\n",
    "Output: [[1,3]]\n",
    "\n",
    "Example 3:\n",
    "\n",
    "Input: numbers = [[-1,0]], target = -1\n",
    "\n",
    "Output: [[1,2]]"
   ],
   "metadata": {}
  },
  {
   "cell_type": "code",
   "execution_count": 34,
   "source": [
    "def two_sumII(lt,tar):\n",
    "    for i in range(len(lt)):\n",
    "        for j in range(i+1,len(lt)):\n",
    "            tot = lt[i] + lt[j]\n",
    "            if tar == tot:\n",
    "                print([i+1,j+1])\n",
    "                # print(c)\n",
    "two_sumII([2,7,11,15],9) # Solves 18/19 cases in leet code."
   ],
   "outputs": [
    {
     "output_type": "stream",
     "name": "stdout",
     "text": [
      "[1, 2]\n"
     ]
    }
   ],
   "metadata": {}
  },
  {
   "cell_type": "markdown",
   "source": [
    "## Yet to see this \n",
    "### XOR Operation in an Array\n",
    "Given an integer n and an integer start.\n",
    "\n",
    "Define an array nums where nums[[i]] = start + 2*i (0-indexed) and n == nums.length.\n",
    "\n",
    "Return the bitwise XOR of all elements of nums. \n",
    "\n",
    "Example 1:\n",
    "\n",
    "Input: n = 5, start = 0\n",
    "\n",
    "Output: 8\n",
    "\n",
    "Explanation: Array nums is equal to [[0, 2, 4, 6, 8]] where (0 ^ 2 ^ 4 ^ 6 ^ 8) = 8.\n",
    "\n",
    "Where \"^\" corresponds to bitwise XOR operator.\n",
    "\n",
    "Example 2:\n",
    "\n",
    "Input: n = 4, start = 3\n",
    "\n",
    "Output: 8\n",
    "\n",
    "Explanation: Array nums is equal to [[3, 5, 7, 9]] where (3 ^ 5 ^ 7 ^ 9) = 8.\n",
    "\n",
    "Example 3:\n",
    "\n",
    "Input: n = 1, start = 7\n",
    "\n",
    "Output: 7\n",
    "\n",
    "Example 4:\n",
    "\n",
    "Input: n = 10, start = 5\n",
    "\n",
    "Output: 2"
   ],
   "metadata": {}
  },
  {
   "cell_type": "code",
   "execution_count": 35,
   "source": [
    "def xor(n,start):\n",
    "    pointer = 0\n",
    "    for i in range(n):\n",
    "        pointer ^= (start + 2*i)\n",
    "    return pointer\n",
    "xor(5,0)"
   ],
   "outputs": [
    {
     "output_type": "execute_result",
     "data": {
      "text/plain": [
       "8"
      ]
     },
     "metadata": {},
     "execution_count": 35
    }
   ],
   "metadata": {}
  },
  {
   "cell_type": "markdown",
   "source": [
    "### Buddy Strings\n",
    "\n",
    "Given two strings A and B of lowercase letters, return true if you can swap two letters in A so the result is equal to B, otherwise, return false.\n",
    "\n",
    "Swapping letters is defined as taking two indices i and j (0-indexed) such that i != j and swapping the characters at A[[i]] and A[[j]]. For example, swapping at indices 0 and 2 in \"abcd\" results in \"cbad\".\n",
    "\n",
    " \n",
    "\n",
    "Example 1:\n",
    "\n",
    "Input: A = \"ab\", B = \"ba\"\n",
    "Output: true\n",
    "\n",
    "Explanation: You can swap A[[0]] = 'a' and A[[1]] = 'b' to get \"ba\", which is equal to B.\n",
    "\n",
    "Example 2:\n",
    "\n",
    "Input: A = \"ab\", B = \"ab\"\n",
    "Output: false\n",
    "\n",
    "Explanation: The only letters you can swap are A[[0]] = 'a' and A[[1]] = 'b', which results in \"ba\" != B.\n",
    "\n",
    "Example 3:\n",
    "\n",
    "Input: A = \"aa\", B = \"aa\"\n",
    "Output: true\n",
    "\n",
    "Explanation: You can swap A[[0]] = 'a' and A[[1]] = 'a' to get \"aa\", which is equal to B.\n",
    "\n",
    "Example 4:\n",
    "\n",
    "Input: A = \"aaaaaaabc\", B = \"aaaaaaacb\"\n",
    "Output: true\n",
    "\n",
    "Example 5:\n",
    "\n",
    "Input: A = \"\", B = \"aa\"\n",
    "Output: false"
   ],
   "metadata": {}
  },
  {
   "cell_type": "code",
   "execution_count": 36,
   "source": [
    "# Method 1 (20/29 Test case pass)\n",
    "def buddy(A,B):\n",
    "    if A[::-1] == B:\n",
    "        x = True\n",
    "    else:\n",
    "        x = False\n",
    "    return x \n",
    "# print(buddy('abab','abab'))\n",
    "\n",
    "# Method 2 (19/29 Test case pass)\n",
    "def l(a,b):\n",
    "    # Case 1\n",
    "    if ((len(a) and len(b)) >= 4) and ((len(a) or len(b)) < 20000):\n",
    "        z = []\n",
    "        x = ''\n",
    "        w = int(len(a)/2)\n",
    "        a1 = a[:w:]\n",
    "        a2 = a[len(a1):]\n",
    "        for i in a2:\n",
    "            z.append(i)\n",
    "        eve = z[0:len(z):2]\n",
    "        odd = z[1:len(z)]\n",
    "        for j in zip(eve,odd):\n",
    "            for k in j:\n",
    "                x += k\n",
    "                y = a1 + x\n",
    "        \n",
    "        if y == b:\n",
    "            out = True\n",
    "        else:\n",
    "            out = False\n",
    "    \n",
    "    # Case 2\n",
    "    elif (a == \"\") and (b == \"\"):\n",
    "        out = False\n",
    "    \n",
    "    # Case 3\n",
    "    else:\n",
    "        if a[::-1] == b:\n",
    "            out = True\n",
    "        else:\n",
    "            out = False\n",
    "    return out\n",
    "l(\"abab\",\"abab\")"
   ],
   "outputs": [
    {
     "output_type": "execute_result",
     "data": {
      "text/plain": [
       "True"
      ]
     },
     "metadata": {},
     "execution_count": 36
    }
   ],
   "metadata": {}
  },
  {
   "cell_type": "markdown",
   "source": [
    "### Squares of a Sorted Array\n",
    "Given an integer array nums sorted in non-decreasing order, return an array of the squares of each number sorted in non-decreasing order.\n",
    "\n",
    "Example 1:\n",
    "\n",
    "Input: nums = [[-4,-1,0,3,10]]\n",
    "Output: [[0,1,9,16,100]]\n",
    "\n",
    "Explanation: After squaring, the array becomes [[16,1,0,9,100]]. After sorting, it becomes [[0,1,9,16,100]].\n",
    "\n",
    "Example 2:\n",
    "\n",
    "Input: nums = [[-7,-3,2,3,11]]\n",
    "Output: [[4,9,9,49,121]]"
   ],
   "metadata": {}
  },
  {
   "cell_type": "code",
   "execution_count": 37,
   "source": [
    "# Method 1 \n",
    "def sq_array(s):\n",
    "    x = [i ** 2 for i in s]\n",
    "    x.sort()\n",
    "    return x\n",
    "print(f'Method 1 output: {sq_array([-4,-1,0,3,10])}')\n",
    "\n",
    "# Method 2\n",
    "def sq2_array(s):\n",
    "    return sorted([i*i for i in s])\n",
    "print(f'Method 2 output: {sq2_array([-4,-1,0,3,10])}')"
   ],
   "outputs": [
    {
     "output_type": "stream",
     "name": "stdout",
     "text": [
      "Method 1 output: [0, 1, 9, 16, 100]\n",
      "Method 2 output: [0, 1, 9, 16, 100]\n"
     ]
    }
   ],
   "metadata": {}
  },
  {
   "cell_type": "markdown",
   "source": [
    "### Number of 1 Bits\n",
    "Write a function that takes an unsigned integer and returns the number of '1' bits it has (also known as the Hamming weight).\n",
    "\n",
    "Note:\n",
    "\n",
    "Note that in some languages such as Java, there is no unsigned integer type. In this case, the input will be given as a signed integer type. It should not affect your implementation, as the integer's internal binary representation is the same, whether it is signed or unsigned.\n",
    "In Java, the compiler represents the signed integers using 2's complement notation. Therefore, in Example 3, the input represents the signed integer. -3.\n",
    " \n",
    "\n",
    "Example 1:\n",
    "\n",
    "Input: n = 00000000000000000000000000001011\n",
    ";Output: 3\n",
    "\n",
    "Explanation: The input binary string 00000000000000000000000000001011 has a total of three '1' bits.\n",
    "\n",
    "Example 2:\n",
    "\n",
    "Input: n = 00000000000000000000000010000000\n",
    ";Output: 1\n",
    "\n",
    "Explanation: The input binary string 00000000000000000000000010000000 has a total of one '1' bit.\n",
    "\n",
    "Example 3:\n",
    "\n",
    "Input: n = 11111111111111111111111111111101\n",
    ";Output: 31\n",
    "\n",
    "Explanation: The input binary string 11111111111111111111111111111101 has a total of thirty one '1' bits."
   ],
   "metadata": {}
  },
  {
   "cell_type": "code",
   "execution_count": 38,
   "source": [
    "def count1(s):\n",
    "    cnt = 0\n",
    "    for i in s: # In leet code IDE we need to change the s as bin(s) to convert input to binary number.\n",
    "        if '1' in i:\n",
    "            cnt += 1 \n",
    "    return cnt\n",
    "count1('00000000000000000000000000001011')"
   ],
   "outputs": [
    {
     "output_type": "execute_result",
     "data": {
      "text/plain": [
       "3"
      ]
     },
     "metadata": {},
     "execution_count": 38
    }
   ],
   "metadata": {}
  },
  {
   "cell_type": "markdown",
   "source": [
    " ### Count Primes\n",
    "Count the number of prime numbers less than a non-negative number, n.\n",
    "\n",
    "Example 1:\n",
    "\n",
    "Input: n = 10\n",
    "Output: 4\n",
    "\n",
    "Explanation: There are 4 prime numbers less than 10, they are 2, 3, 5, 7.\n",
    "\n",
    "Example 2:\n",
    "\n",
    "Input: n = 0\n",
    "Output: 0\n",
    "\n",
    "Example 3:\n",
    "\n",
    "Input: n = 1\n",
    "Output: 0"
   ],
   "metadata": {}
  },
  {
   "cell_type": "code",
   "execution_count": 61,
   "source": [
    "# Method 1\n",
    "def primeCount(n):\n",
    "    primeList = []\n",
    "    for i in range(2,int(n**0.5)):\n",
    "        for j in range(2,i):\n",
    "            if (i%j) == 0:break\n",
    "        else:\n",
    "            primeList.append(i)\n",
    "    return len(primeList)\n",
    "print(f'Method 1 output: {primeCount(499979)}')"
   ],
   "outputs": [
    {
     "output_type": "stream",
     "name": "stdout",
     "text": [
      "Method 1 output: 126\n"
     ]
    }
   ],
   "metadata": {}
  },
  {
   "cell_type": "code",
   "execution_count": 66,
   "source": [
    "def primeCoun(n):\n",
    "    primeList = []\n",
    "    for i in range(2,int(n**0.5)):\n",
    "        for j in range(2,i,2):\n",
    "            primeList.append(i)\n",
    "    return len(primeList)\n",
    "primeCoun(499979)"
   ],
   "outputs": [
    {
     "output_type": "execute_result",
     "data": {
      "text/plain": [
       "124256"
      ]
     },
     "metadata": {},
     "execution_count": 66
    }
   ],
   "metadata": {}
  },
  {
   "cell_type": "markdown",
   "source": [
    "### Number of Segments in a String\n",
    "\n",
    "You are given a string s, return the number of segments in the string. \n",
    "\n",
    "A segment is defined to be a contiguous sequence of non-space characters.\n",
    "\n",
    "Example 1:\n",
    "\n",
    "Input: s = \"Hello, my name is John\"\n",
    "\n",
    "Output: 5\n",
    "\n",
    "Explanation: The five segments are [[\"Hello,\", \"my\", \"name\", \"is\", \"John\"]]\n",
    "\n",
    "Example 2:\n",
    "\n",
    "Input: s = \"Hello\"\n",
    "\n",
    "Output: 1\n",
    "\n",
    "Example 3:\n",
    "\n",
    "Input: s = \"love live! mu'sic forever\"\n",
    "\n",
    "Output: 4\n",
    "\n",
    "Example 4:\n",
    "\n",
    "Input: s = \"\"\n",
    "\n",
    "Output: 0"
   ],
   "metadata": {}
  },
  {
   "cell_type": "code",
   "execution_count": 40,
   "source": [
    "def segment(s):\n",
    "    return len(s.split())\n",
    "segment('Aneruth Mohanasundaram')"
   ],
   "outputs": [
    {
     "output_type": "execute_result",
     "data": {
      "text/plain": [
       "2"
      ]
     },
     "metadata": {},
     "execution_count": 40
    }
   ],
   "metadata": {}
  },
  {
   "cell_type": "markdown",
   "source": [
    "### Power of Three\n",
    "Given an integer n, return true if it is a power of three. Otherwise, return false.\n",
    "\n",
    "An integer n is a power of three, if there exists an integer x such that n == $3^{x}$.\n",
    "\n",
    " \n",
    "\n",
    "Example 1:\n",
    "\n",
    "Input: n = 27\n",
    "\n",
    "Output: true\n",
    "\n",
    "Example 2:\n",
    "\n",
    "Input: n = 0\n",
    "\n",
    "Output: false\n",
    "\n",
    "Example 3:\n",
    "\n",
    "Input: n = 9\n",
    "\n",
    "Output: true\n",
    "\n",
    "Example 4:\n",
    "\n",
    "Input: n = 45\n",
    "\n",
    "Output: false"
   ],
   "metadata": {}
  },
  {
   "cell_type": "code",
   "execution_count": 41,
   "source": [
    "# Method 1 (Leet code 14059 / 21038 test cases passed.)\n",
    "def power_three(x):\n",
    "    if x > 1:\n",
    "        if x % 3 == 0:\n",
    "            out = True \n",
    "    else:\n",
    "        out = False\n",
    "    \n",
    "    return out \n",
    "print(f'Method 1 output: {power_three(45)}')\n",
    "\n",
    "# Method 2 \n",
    "from math import *\n",
    "def isPowerOfThree(n):\n",
    "    \n",
    "    if (log10(n) / log10(3)) % 1 == 0:\n",
    "            out = True \n",
    "    else:\n",
    "            out = False\n",
    "    return  out\n",
    "\n",
    "print(f'Method 2 output: {isPowerOfThree(125)}')"
   ],
   "outputs": [
    {
     "output_type": "stream",
     "name": "stdout",
     "text": [
      "Method 1 output: True\n",
      "Method 2 output: False\n"
     ]
    }
   ],
   "metadata": {}
  },
  {
   "cell_type": "markdown",
   "source": [
    "### Largest Rectangle in Histogram\n",
    "Given n non-negative integers representing the histogram's bar height where the width of each bar is 1, find the area of largest rectangle in the histogram.\n",
    "\n",
    "Example 1:\n",
    "\n",
    "Input: heights = [[2,1,5,6,2,3]]\n",
    "\n",
    "Output: 10\n",
    "\n",
    "Example 2:\n",
    "\n",
    "Input: heights = [[2,4]]\n",
    "\n",
    "Output: 4"
   ],
   "metadata": {}
  },
  {
   "cell_type": "code",
   "execution_count": 50,
   "source": [
    "# Method 1 \n",
    "def rectangle_histogram(h):\n",
    "    h.sort()\n",
    "    if len(h) == 1: out = h[0]\n",
    "    elif len(h) <= 2:\n",
    "        if h[0] < h[1]:out = max(h)\n",
    "        elif h[0] == h[1]:out = sum(h)\n",
    "    else:\n",
    "        first,second = h[-1], h[-2]\n",
    "        third = first - second\n",
    "        out = second + (first - third)\n",
    "    return out \n",
    "# rectangle_histogram([2,1,5,6,2,3])\n",
    "output = [[2,1,5,6,2,3],[2,4],[1,1],[0,9],[4,2]]\n",
    "\n",
    "for i in output:\n",
    "    print(f'Method 1 output is {rectangle_histogram(i)}')"
   ],
   "outputs": [
    {
     "output_type": "stream",
     "name": "stdout",
     "text": [
      "Method 1 output is 10\n",
      "Method 1 output is 4\n",
      "Method 1 output is 2\n",
      "Method 1 output is 9\n",
      "Method 1 output is 4\n"
     ]
    }
   ],
   "metadata": {}
  },
  {
   "cell_type": "markdown",
   "source": [
    "### Binary Search\n",
    "\n",
    "Given a sorted (in ascending order) integer array nums of n elements and a target value, write a function to search target in nums. If target exists, then return its index, otherwise return -1.\n",
    "\n",
    "\n",
    "Example 1:\n",
    "\n",
    "Input: nums = [[-1,0,3,5,9,12]], target = 9\n",
    "Output: 4\n",
    "Explanation: 9 exists in nums and its index is 4\n",
    "\n",
    "Example 2:\n",
    "\n",
    "Input: nums = [[-1,0,3,5,9,12]], target = 2\n",
    "Output: -1\n",
    "Explanation: 2 does not exist in nums so return -1"
   ],
   "metadata": {}
  },
  {
   "cell_type": "code",
   "execution_count": 43,
   "source": [
    "num12 = [-1,2,4,7,9]\n",
    "target = 9\n",
    "if target in num12:\n",
    "    out = num12.index(target)\n",
    "out"
   ],
   "outputs": [
    {
     "output_type": "execute_result",
     "data": {
      "text/plain": [
       "4"
      ]
     },
     "metadata": {},
     "execution_count": 43
    }
   ],
   "metadata": {}
  },
  {
   "cell_type": "markdown",
   "source": [
    " ### Add Digits\n",
    " Given a non-negative integer num, repeatedly add all its digits until the result has only one digit.\n",
    "\n",
    "Example:\n",
    "\n",
    "Input: 38\n",
    "\n",
    "Output: 2 \n",
    "\n",
    "Explanation: The process is like: 3 + 8 = 11, 1 + 1 = 2. Since 2 has only one digit, return it."
   ],
   "metadata": {}
  },
  {
   "cell_type": "code",
   "execution_count": 44,
   "source": [
    "# Method 1\n",
    "def add_digi(n):\n",
    "    x = [int(i) for i in str(n)]\n",
    "    sum_x = sum(x)\n",
    "    x1 = [int(i) for i in str(sum_x)]\n",
    "    sum_x1 = sum(x1)\n",
    "    zx = [int(i) for i in str(sum_x1)]\n",
    "    return sum(zx)\n",
    "print(f'Value from method 1 is {add_digi(199)}')\n",
    "\n",
    "# Method 2 \n",
    "def addDigits(num: int):\n",
    "    if num == 0:\n",
    "        return 0\n",
    "    if num % 9 == 0:\n",
    "        return 9\n",
    "    return num % 9\n",
    "print(f'Value from method 2 is {addDigits(199)}')"
   ],
   "outputs": [
    {
     "output_type": "stream",
     "name": "stdout",
     "text": [
      "Value from method 1 is 1\n",
      "Value from method 2 is 1\n"
     ]
    }
   ],
   "metadata": {}
  },
  {
   "cell_type": "markdown",
   "source": [
    "## Yet to see this \n",
    "### Super Pow\n",
    "Your task is to calculate $a^{b}$ mod 1337 where a is a positive integer and b is an extremely large positive integer given in the form of an array.\n",
    "\n",
    "Example 1:\n",
    "\n",
    "Input: a = 2, b = [[3]]\n",
    "\n",
    "Output: 8\n",
    "\n",
    "Example 2:\n",
    "\n",
    "Input: a = 2, b = [[1,0]]\n",
    "\n",
    "Output: 1024\n",
    "\n",
    "Example 3:\n",
    "\n",
    "Input: a = 1, b = [[4,3,3,8,5,2]]\n",
    "\n",
    "Output: 1\n",
    "\n",
    "Example 4:\n",
    "\n",
    "Input: a = 2147483647, b = [[2,0,0]]\n",
    "\n",
    "Output: 1198"
   ],
   "metadata": {}
  },
  {
   "cell_type": "code",
   "execution_count": 2,
   "source": [
    "# Method 1 (Does not support list with values more than 15. So this is not advisble to solve all edge case)\n",
    "def super_pow(b,n):\n",
    "    x = int(''.join(map(str,n)))\n",
    "    a = pow(b,x)\n",
    "    if a > 100000:\n",
    "        out = a % 1337\n",
    "    else:\n",
    "        out = a\n",
    "    return int(out)\n",
    "print(f'Method 1 output: {super_pow(7,[1,7])}')\n",
    "\n",
    "# # Method 2 \n",
    "# def superPow(b,n):\n",
    "\n",
    "#     return out"
   ],
   "outputs": [
    {
     "output_type": "stream",
     "name": "stdout",
     "text": [
      "Method 1 output: 1288\n"
     ]
    }
   ],
   "metadata": {}
  },
  {
   "cell_type": "code",
   "execution_count": 23,
   "source": [
    "# def rowSum(nums):\n",
    "#     alist = []\n",
    "#     for i in nums:\n",
    "#         alist.append(i+i)\n",
    "#     return alist\n",
    "# rowSum([1,2]) \n",
    "a = [1,2,3,4]\n",
    "for i in range(1,len(a)):\n",
    "    a[i] += a[i-1]"
   ],
   "outputs": [],
   "metadata": {}
  },
  {
   "cell_type": "code",
   "execution_count": 27,
   "source": [
    "for i in range(1,len(a)):\n",
    "    print(a[i])"
   ],
   "outputs": [
    {
     "output_type": "stream",
     "name": "stdout",
     "text": [
      "3\n",
      "6\n",
      "10\n"
     ]
    }
   ],
   "metadata": {}
  },
  {
   "cell_type": "markdown",
   "source": [
    "### Transpose Matrix\n",
    "Given a 2D integer array matrix, return the transpose of matrix.\n",
    "\n",
    "The transpose of a matrix is the matrix flipped over its main diagonal, switching the matrix's row and column indices.\n",
    "\n",
    "Example 1:\n",
    "\n",
    "Input: matrix = [[[1,2,3]],[[4,5,6]],[[7,8,9]]]\n",
    "\n",
    "Output: [[[1,4,7]],[[2,5,8]],[[3,6,9]]]\n",
    "\n",
    "Example 2:\n",
    "\n",
    "Input: matrix = [[[1,2,3]],[[4,5,6]]]\n",
    "\n",
    "Output: [[[1,4]],[[2,5]],[[3,6]]]"
   ],
   "metadata": {}
  },
  {
   "cell_type": "code",
   "execution_count": 46,
   "source": [
    "# Method 1 Using numpy\n",
    "import numpy as np\n",
    "def transpose(matrix):\n",
    "    return np.transpose(matrix)\n",
    "print('Output from method 1' + '\\n' + f'{transpose([[1,2,3],[4,5,6],[7,8,9]])}')\n",
    "\n",
    "# Method 2 \n",
    "def transpose2(matrix):\n",
    "    zx = zip(*matrix)\n",
    "    x = [i for i in list(zx)]\n",
    "    return x\n",
    "print('Output from method 2' + '\\n' + f'{transpose2([[1,2,3],[4,5,6],[7,8,9]])}')"
   ],
   "outputs": [
    {
     "output_type": "stream",
     "name": "stdout",
     "text": [
      "Output from method 1\n",
      "[[1 4 7]\n",
      " [2 5 8]\n",
      " [3 6 9]]\n",
      "Output from method 2\n",
      "[(1, 4, 7), (2, 5, 8), (3, 6, 9)]\n"
     ]
    }
   ],
   "metadata": {}
  },
  {
   "cell_type": "markdown",
   "source": [
    "### Reshape the Matrix\n",
    "In MATLAB, there is a very useful function called 'reshape', which can reshape a matrix into a new one with different size but keep its original data.\n",
    "\n",
    "You're given a matrix represented by a two-dimensional array, and two positive integers r and c representing the row number and column number of the wanted reshaped matrix, respectively.\n",
    "\n",
    "The reshaped matrix need to be filled with all the elements of the original matrix in the same row-traversing order as they were.\n",
    "\n",
    "If the 'reshape' operation with given parameters is possible and legal, output the new reshaped matrix; Otherwise, output the original matrix.\n",
    "\n",
    "Example 1:\n",
    "\n",
    "Input: \n",
    "nums = \n",
    "[[[1,2]],\n",
    " [[3,4]]]\n",
    "r = 1, c = 4\n",
    "\n",
    "Output: \n",
    "[[1,2,3,4]]\n",
    "\n",
    "Explanation:\n",
    "The row-traversing of nums is [[1,2,3,4]]. The new reshaped matrix is a 1 * 4 matrix, fill it row by row by using the previous list.\n",
    "Example 2:\n",
    "\n",
    "Input: \n",
    "nums = \n",
    "[[[1,2]],\n",
    " [[3,4]]]\n",
    "r = 2, c = 4\n",
    "\n",
    "Output: \n",
    "[[[1,2]],\n",
    " [[3,4]]]\n",
    "\n",
    "Explanation:\n",
    "There is no way to reshape a 2 * 2 matrix to a 2 * 4 matrix. So output the original matrix."
   ],
   "metadata": {}
  },
  {
   "cell_type": "code",
   "execution_count": 47,
   "source": [
    "# Method 1 using numpy \n",
    "def matrix_reshape(mat,r,c):\n",
    "    return np.reshape(mat,(r,c))\n",
    "matrix_reshape([[1,2], [3,4]],1,4)"
   ],
   "outputs": [
    {
     "output_type": "execute_result",
     "data": {
      "text/plain": [
       "array([[1, 2, 3, 4]])"
      ]
     },
     "metadata": {},
     "execution_count": 47
    }
   ],
   "metadata": {}
  },
  {
   "cell_type": "markdown",
   "source": [
    "### Array Partition I\n",
    "\n",
    "Given an integer array nums of 2n integers, group these integers into n pairs ($a_{1}$, $b_{1}$), ($a_{2}$, $b_{2}$), ..., ($a_{n}$, $b_{n}$) such that the sum of min($a_{i}$,$b_{i}$) for all i is maximized. Return the maximized sum.\n",
    "\n",
    " \n",
    "\n",
    "Example 1:\n",
    "\n",
    "Input: nums = [[1,4,3,2]]\n",
    "Output: 4\n",
    "\n",
    "Explanation: All possible pairings (ignoring the ordering of elements) are:\n",
    "\n",
    "1. (1, 4), (2, 3) -> min(1, 4) + min(2, 3) = 1 + 2 = 3\n",
    "\n",
    "2. (1, 3), (2, 4) -> min(1, 3) + min(2, 4) = 1 + 2 = 3\n",
    "\n",
    "3. (1, 2), (3, 4) -> min(1, 2) + min(3, 4) = 1 + 3 = 4\n",
    "\n",
    "So the maximum possible sum is 4.\n",
    "\n",
    "Example 2:\n",
    "\n",
    "Input: nums = [[6,2,6,5,1,2]]\n",
    "\n",
    "Output: 9\n",
    "\n",
    "Explanation: The optimal pairing is (2, 1), (2, 5), (6, 6). min(2, 1) + min(2, 5) + min(6, 6) = 1 + 2 + 6 = 9."
   ],
   "metadata": {}
  },
  {
   "cell_type": "code",
   "execution_count": 48,
   "source": [
    "def ary_part(n):\n",
    "    n.sort()\n",
    "    return sum(n[::2])\n",
    "ary_part([6,2,6,5,1,2])"
   ],
   "outputs": [
    {
     "output_type": "execute_result",
     "data": {
      "text/plain": [
       "9"
      ]
     },
     "metadata": {},
     "execution_count": 48
    }
   ],
   "metadata": {}
  },
  {
   "cell_type": "markdown",
   "source": [
    "### Student Attendance Record I\n",
    "\n",
    "You are given a string representing an attendance record for a student. The record only contains the following three characters:\n",
    "\n",
    "1. 'A' : Absent.\n",
    "\n",
    "2. 'L' : Late.\n",
    "\n",
    "3. 'P' : Present.\n",
    "\n",
    "A student could be rewarded if his attendance record doesn't contain more than one 'A' (absent) or more than two continuous 'L' (late).\n",
    "\n",
    "You need to return whether the student could be rewarded according to his attendance record.\n",
    "\n",
    "Example 1:\n",
    "\n",
    "Input: \"PPALLP\"\n",
    "\n",
    "Output: True\n",
    "\n",
    "Example 2:\n",
    "\n",
    "Input: \"PPALLL\"\n",
    "\n",
    "Output: False"
   ],
   "metadata": {}
  },
  {
   "cell_type": "code",
   "execution_count": 49,
   "source": [
    "def check_record(s): # (Leet Code 65 / 113 test cases passed.)\n",
    "    c = s.strip()\n",
    "    if c.count('A') > 1 or ('LLL') in s:\n",
    "        out = False\n",
    "    else:\n",
    "        out = True\n",
    "    return out \n",
    "check_record(\"PPALLP\")"
   ],
   "outputs": [
    {
     "output_type": "execute_result",
     "data": {
      "text/plain": [
       "True"
      ]
     },
     "metadata": {},
     "execution_count": 49
    }
   ],
   "metadata": {}
  },
  {
   "cell_type": "markdown",
   "source": [
    "## Yet to see this \n",
    "### Longest Common Prefix\n",
    "\n",
    "Write a function to find the longest common prefix string amongst an array of strings.\n",
    "\n",
    "If there is no common prefix, return an empty string \"\".\n",
    "\n",
    "Example 1:\n",
    "\n",
    "Input: strs = [[\"flower\",\"flow\",\"flight\"]]\n",
    "\n",
    "Output: \"fl\"\n",
    "\n",
    "Example 2:\n",
    "\n",
    "Input: strs = [[\"dog\",\"racecar\",\"car\"]]\n",
    "\n",
    "Output: \"\"\n",
    "\n",
    "Explanation: There is no common prefix among the input strings."
   ],
   "metadata": {}
  },
  {
   "cell_type": "code",
   "execution_count": 5,
   "source": [
    "def LCP1(s):\n",
    "    for i in range(len(s[0])): # looping through the list and checking each element present\n",
    "        c = s[0][i] # Alocating the first values as prefix \n",
    "        for j in range(1,len(s)): # iterates with the length of string with starting index value as 1\n",
    "            if i == len(s[j]) or s[j][i] != c: # if first element is not same as the next one then it breaks\n",
    "                return s[0][:i]\n",
    "    return s[0]\n",
    "print(f'Method 1 output is: {LCP1([\"flower\",\"flow\",\"flight\"])}')\n",
    "\n",
    "def LCP2(s):\n",
    "    if len(s) == 0: return \"\"\n",
    "    pref = s[0] # Making the prefix as \"dog\"\n",
    "    for i in range(1,len(s)): # looping through the list and checking\n",
    "        while s[i].find(pref)!= 0: # It checks each list element with find(prefix) values and if its not equal to 0 then it updates prefix\n",
    "            pref = pref[:len(pref)-1]  # it updates the prefix and checks it with other list values.\n",
    "    return pref\n",
    "print(f'Method 2 output is: {LCP2([\"dog\",\"racecar\",\"car\"])}')"
   ],
   "outputs": [
    {
     "output_type": "stream",
     "name": "stdout",
     "text": [
      "Method 1 output is: fl\n",
      "Method 2 output is: \n"
     ]
    }
   ],
   "metadata": {}
  },
  {
   "cell_type": "markdown",
   "source": [
    "### Factorial Trailing Zeroes\n",
    "Given an integer n, return the number of trailing zeroes in n!.\n",
    "\n",
    "Follow up: Could you write a solution that works in logarithmic time complexity?\n",
    "\n",
    "Example 1:\n",
    "\n",
    "Input: n = 3\n",
    "\n",
    "Output: 0\n",
    "\n",
    "Explanation: 3! = 6, no trailing zero.\n",
    "\n",
    "Example 2:\n",
    "\n",
    "Input: n = 5\n",
    "\n",
    "Output: 1\n",
    "\n",
    "Explanation: 5! = 120, one trailing zero.\n",
    "\n",
    "Example 3:\n",
    "\n",
    "Input: n = 0\n",
    "\n",
    "Output: 0"
   ],
   "metadata": {}
  },
  {
   "cell_type": "code",
   "execution_count": 51,
   "source": [
    "def trailingZeroes(n: int) -> int:\n",
    "    fact = 1 \n",
    "    out = 0\n",
    "    if n <= 0:\n",
    "            out\n",
    "    else:\n",
    "            for i in range(1,n+1):\n",
    "                    fact = fact * i\n",
    "\n",
    "            for j in str(fact):\n",
    "                    if '0' in j:\n",
    "                            out += 1\n",
    "                    else:\n",
    "                            out = 0\n",
    "    \n",
    "    return out\n",
    "trailingZeroes(10)"
   ],
   "outputs": [
    {
     "output_type": "execute_result",
     "data": {
      "text/plain": [
       "2"
      ]
     },
     "metadata": {},
     "execution_count": 51
    }
   ],
   "metadata": {}
  },
  {
   "cell_type": "markdown",
   "source": [
    "### Number Complement\n",
    "Given a positive integer num, output its complement number. The complement strategy is to flip the bits of its binary representation.\n",
    "\n",
    "Example 1:\n",
    "\n",
    "Input: num = 5\n",
    "\n",
    "Output: 2\n",
    "\n",
    "Explanation: The binary representation of 5 is 101 (no leading zero bits), and its complement is 010. So you need to output 2.\n",
    "\n",
    "Example 2:\n",
    "\n",
    "Input: num = 1\n",
    "\n",
    "Output: 0\n",
    "\n",
    "Explanation: The binary representation of 1 is 1 (no leading zero bits), and its complement is 0. So you need to output 0."
   ],
   "metadata": {}
  },
  {
   "cell_type": "code",
   "execution_count": 52,
   "source": [
    "def complement(num):\n",
    "    z = bin(num).replace('0b','')\n",
    "    x = int('1'*len(s),2) - num\n",
    "    return int(z,2)\n",
    "complement(5)"
   ],
   "outputs": [
    {
     "output_type": "execute_result",
     "data": {
      "text/plain": [
       "5"
      ]
     },
     "metadata": {},
     "execution_count": 52
    }
   ],
   "metadata": {}
  },
  {
   "cell_type": "markdown",
   "source": [
    "## Yet to see this \n",
    "### Subsets\n",
    "Given an integer array nums of unique elements, return all possible subsets (the power set).\n",
    "\n",
    "The solution set must not contain duplicate subsets. Return the solution in any order.\n",
    "\n",
    " \n",
    "\n",
    "Example 1:\n",
    "\n",
    "Input: nums = [[1,2,3]]\n",
    "Output: [[],[[1]],[[2]],[[1,2]],[[3]],[[1,3]],[[2,3]],[[1,2,3]]]\n",
    "Example 2:\n",
    "\n",
    "Input: nums = [[0]]\n",
    "Output: [[],[[0]]]"
   ],
   "metadata": {}
  },
  {
   "cell_type": "code",
   "execution_count": 69,
   "source": [
    "def powerset(s):\n",
    "    x = len(s)\n",
    "    ax = []\n",
    "    for i in range(1 << x):\n",
    "        out = [s[j] for j in range(x) if (i & (1 << j))] # Compares each element with actual list present. They check it based on the index position of the actual list\n",
    "        ax.append(out)\n",
    "    return ax\n",
    "powerset([4])"
   ],
   "outputs": [
    {
     "output_type": "execute_result",
     "data": {
      "text/plain": [
       "[[], [4]]"
      ]
     },
     "metadata": {},
     "execution_count": 69
    }
   ],
   "metadata": {}
  },
  {
   "cell_type": "markdown",
   "source": [
    "### First Missing Positive\n",
    "Given an unsorted integer array nums, find the smallest missing positive integer.\n",
    "\n",
    "Example 1:\n",
    "\n",
    "Input: nums = [[1,2,0]] |\n",
    "Output: 3\n",
    "\n",
    "Example 2:\n",
    "\n",
    "Input: nums = [[3,4,-1,1]] |\n",
    "Output: 2\n",
    "\n",
    "Example 3:\n",
    "\n",
    "Input: nums = [[7,8,9,11,12]] |\n",
    "Output: 1"
   ],
   "metadata": {}
  },
  {
   "cell_type": "code",
   "execution_count": 6,
   "source": [
    "# Method 1 \n",
    "# def missing_element(nums):\n",
    "#     if nums == []:\n",
    "#         out = 1\n",
    "#     max_element = max(nums)\n",
    "#     value = []\n",
    "#     for j in range(1,max_element):\n",
    "#         if j not in nums:\n",
    "#             value.append(j)\n",
    "#             out = value[0]\n",
    "#         elif len(nums) <= 3:\n",
    "#             out = max_element + 1\n",
    "#     return out\n",
    "# print(f'Output for method 1: {missing_element([0])}')\n",
    "\n",
    "\n",
    "# Method 2 \n",
    "def missing_element2(nu):\n",
    "    max_element = max(nu)\n",
    "    empty = ''\n",
    "    for j in range(1,max_element):\n",
    "        if j not in nu:\n",
    "            empty = j\n",
    "            break\n",
    "    if empty == '':\n",
    "        empty = max_element + 1\n",
    "    elif not nu:\n",
    "        empty = 0\n",
    "    return empty\n",
    "print(f'Output for method 2: {missing_element2([3,4,-1,1])}')\n",
    "\n",
    "# Method 3\n",
    "def missing_element3(nu):\n",
    "    max_e = None\n",
    "    if len(nu) == 0:\n",
    "        empty = 0\n",
    "    for i in nu:\n",
    "        if (max_e is None or i > max_e): max_e = i\n",
    "    empty = ''\n",
    "    for j in range(1,max_e):\n",
    "        if j not in nu:\n",
    "            empty = j\n",
    "            break\n",
    "    if empty == '':\n",
    "        empty = max_e + 1\n",
    "    return empty\n",
    "print(f'Output for method 3: {missing_element3([0])}') "
   ],
   "outputs": [
    {
     "output_type": "stream",
     "name": "stdout",
     "text": [
      "Output for method 3: 1\n"
     ]
    }
   ],
   "metadata": {}
  },
  {
   "cell_type": "markdown",
   "source": [
    "## Yet to see this \n",
    "### Edit Distance\n",
    "Given two strings word1 and word2, return the minimum number of operations required to convert word1 to word2.\n",
    "\n",
    "You have the following three operations permitted on a word:\n",
    "\n",
    "1.Insert a character\n",
    "\n",
    "2.Delete a character\n",
    "\n",
    "3.Replace a character\n",
    "\n",
    "Example 1:\n",
    "\n",
    "Input: word1 = \"horse\", word2 = \"ros\" | Output: 3\n",
    "\n",
    "Explanation: \n",
    "\n",
    "horse -> rorse (replace 'h' with 'r')\n",
    "\n",
    "rorse -> rose (remove 'r')\n",
    "\n",
    "rose -> ros (remove 'e')\n",
    "\n",
    "Example 2:\n",
    "\n",
    "Input: word1 = \"intention\", word2 = \"execution\" | Output: 5\n",
    "\n",
    "Explanation: \n",
    "\n",
    "intention -> inention (remove 't')\n",
    "\n",
    "inention -> enention (replace 'i' with 'e')\n",
    "\n",
    "enention -> exention (replace 'n' with 'x')\n",
    "\n",
    "exention -> exection (replace 'n' with 'c')\n",
    "\n",
    "exection -> execution (insert 'u')"
   ],
   "metadata": {}
  },
  {
   "cell_type": "code",
   "execution_count": 82,
   "source": [
    "# Method 1\n",
    "def edit_dist(word1,word2): # (Leet Code 190 / 1146 test cases passed.)\n",
    "    w1,w2 = set(word1),set(word2)\n",
    "    out = 0\n",
    "    if word1 == '' or word2 == '':\n",
    "        out = len(word1) or len(word2)\n",
    "    elif word1 == word2:\n",
    "        out = 0\n",
    "    elif (len(word1) or len(word2)) == 1:\n",
    "        out = len(w1 or w2)\n",
    "    else:\n",
    "        out1 = w1 & w2\n",
    "        out = len(out1)\n",
    "    return out\n",
    "print(f'Output from method 1: {edit_dist(\"ab\",\"bc\")}')\n",
    "\n",
    "# Method 2 \n",
    "def minDistance(self, s1: str, s2: str) -> int:\n",
    "\n",
    "    @lru_cache(maxsize=None)\n",
    "    def f(i, j):\n",
    "            if i == 0 and j == 0: return 0\n",
    "            if i == 0 or j == 0: return i or j\n",
    "            if s1[i - 1] == s2[j - 1]:\n",
    "                    return f(i - 1, j - 1)\n",
    "            return min(1 + f(i, j - 1), 1 + f(i - 1, j), 1 + f(i - 1, j - 1))\n",
    "\n",
    "    m, n = len(s1), len(s2)\n",
    "    return f(m, n)\n",
    "# print(f'Output from method 1: {minDistance(\"ab\",\"bc\")}')"
   ],
   "outputs": [
    {
     "output_type": "stream",
     "name": "stdout",
     "text": [
      "Output from method 1: 1\n"
     ]
    }
   ],
   "metadata": {}
  },
  {
   "cell_type": "markdown",
   "source": [
    "## Yet to see this \n",
    "### Interleaving String\n",
    "\n",
    "Given strings s1, s2, and s3, find whether s3 is formed by an interleaving of s1 and s2.\n",
    "\n",
    "An interleaving of two strings s and t is a configuration where they are divided into non-empty substrings such that:\n",
    "\n",
    "s = s1 + s2 + ... + sn\n",
    "\n",
    "t = t1 + t2 + ... + tm\n",
    "\n",
    "|n - m| <= 1\n",
    "\n",
    "The interleaving is s1 + t1 + s2 + t2 + s3 + t3 + ... or t1 + s1 + t2 + s2 + t3 + s3 + ...\n",
    "\n",
    "Note: a + b is the concatenation of strings a and b.\n",
    "\n",
    "Example 1:\n",
    "\n",
    "Input: s1 = \"aabcc\", s2 = \"dbbca\", s3 = \"aadbbcbcac\" | Output: true\n",
    "\n",
    "Example 2:\n",
    "\n",
    "Input: s1 = \"aabcc\", s2 = \"dbbca\", s3 = \"aadbbbaccc\" | Output: false\n",
    "\n",
    "Example 3:\n",
    "\n",
    "Input: s1 = \"\", s2 = \"\", s3 = \"\"  | Output: true"
   ],
   "metadata": {}
  },
  {
   "cell_type": "code",
   "execution_count": 155,
   "source": [
    "# Partial Output \n",
    "def find_foo(s1,s2,s3):\n",
    "    \n",
    "    if len(s1) == len(s3) and len(s2) == '':\n",
    "        out = True\n",
    "\n",
    "    if len(s1) == len(s2):\n",
    "        s11,s12,s13 = s1[:2],s1[2:4],s1[4]\n",
    "        s21,s22,s23 = s2[:2],s2[2:4],s2[4]\n",
    "        String = s11 + s21 + s12 + s22 + s23 + s13 \n",
    "\n",
    "        if String == s3:\n",
    "            out = True\n",
    "        else:\n",
    "            out = False\n",
    "    return out\n",
    "\n",
    "print(f'Test Case 1 : {find_foo(\"aabcc\",\"dbbca\",\"aadbbcbcac\")}')\n",
    "print(f'Test Case 2 : {find_foo(\"aabcc\",\"dbbca\",\"aadbbbaccc\")}')\n",
    "# print(f'Test Case 3 : {find_foo(\"\",\"\",\"\")}')"
   ],
   "outputs": [
    {
     "output_type": "stream",
     "name": "stdout",
     "text": [
      "Test Case 1 : True\n",
      "Test Case 2 : False\n"
     ]
    }
   ],
   "metadata": {}
  },
  {
   "cell_type": "markdown",
   "source": [
    " ## Yet to see this \n",
    " ### Spiral Matrix\n",
    "\n",
    "Given an m x n matrix, return all elements of the matrix in spiral order.\n",
    "\n",
    "Example 1:\n",
    "\n",
    "\n",
    "Input: matrix = [[[1,2,3]],[[4,5,6]],[[7,8,9]]]\n",
    "\n",
    "Output: [[1,2,3,6,9,8,7,4,5]]\n",
    "\n",
    "Example 2:\n",
    "\n",
    "\n",
    "Input: matrix = [[[1,2,3,4]],[[5,6,7,8]],[[9,10,11,12]]]\n",
    "\n",
    "Output: [[1,2,3,4,8,12,11,10,9,5,6,7]]"
   ],
   "metadata": {}
  },
  {
   "cell_type": "code",
   "execution_count": 31,
   "source": [
    "# def spiral_matrix(matrix):\n",
    "#     start_row,end_row,start_col,end_col = 0,len(matrix),0,len(matrix[0])\n",
    "\n",
    "#     out = []\n",
    "#     while start_col < end_col or start_row < end_row:\n",
    "    \n",
    "#     # Right \n",
    "#         if start_row < end_row:\n",
    "#             for i in range(start_col,end_col):\n",
    "#                 out.extend(matrix[start_row][i])\n",
    "#         start_row += 1\n",
    "    \n",
    "#     # Down \n",
    "#         if start_col < end_col:\n",
    "#             for i in range(start_row,end_row):\n",
    "#                 out.extend(matrix[i][end_col])\n",
    "#         end_col -= 1\n",
    "\n",
    "#     # left\n",
    "#         if start_row < end_row:\n",
    "#             for i in range(start_col-1,end_col-1,-1):\n",
    "#                 out.extend(matrix[end_row][i])\n",
    "#         end_row -= 1\n",
    "    \n",
    "#     # Top\n",
    "#         if start_col < end_col:\n",
    "#             for i in range(end_row-1,start_row-1,-1):\n",
    "#                 out.extend(matrix[i][start_col])\n",
    "#         start_col += 1\n",
    "\n",
    "\n",
    "#     return out\n",
    "\n",
    "# print(spiral_matrix([[1,2,3],[4,5,6],[7,8,9]]))"
   ],
   "outputs": [],
   "metadata": {}
  },
  {
   "cell_type": "markdown",
   "source": [
    "### Search a 2D Matrix\n",
    "Write an efficient algorithm that searches for a value in an m x n matrix. This matrix has the following properties:\n",
    "\n",
    "Integers in each row are sorted from left to right.\n",
    "\n",
    "The first integer of each row is greater than the last integer of the previous row.\n",
    "\n",
    "Example 1:\n",
    "\n",
    "\n",
    "Input: matrix = [[[1,3,5,7]],[[10,11,16,20]],[[23,30,34,60]]], target = 3\n",
    "\n",
    "Output: true\n",
    "\n",
    "Example 2:\n",
    "\n",
    "\n",
    "Input: matrix = [[[1,3,5,7]],[[10,11,16,20]],[[23,30,34,60]]], target = 13\n",
    "\n",
    "Output: false"
   ],
   "metadata": {}
  },
  {
   "cell_type": "code",
   "execution_count": 3,
   "source": [
    "# Method 1\n",
    "def lookupMatrix1(matrix,target):\n",
    "    empty = []\n",
    "    for i in matrix:\n",
    "        for j in i:\n",
    "            empty.append(j)\n",
    "            if target in empty:\n",
    "                out = True\n",
    "            else:\n",
    "                out = False\n",
    "    return out \n",
    "print(f'Method 1 output is: {lookupMatrix1([[1,3,5,7],[10,11,16,20],[23,30,34,60]],13)}')\n",
    "\n",
    "# Method 2 (Better complexity compared to previous version)\n",
    "def lookupMatrix2(matrix,target):\n",
    "    output = [j for i in matrix for j in i]\n",
    "    if target in output: return True\n",
    "    return False\n",
    "print(f'Method 2 output is: {lookupMatrix2([[1,3,5,7],[10,11,16,20],[23,30,34,60]],13)}')"
   ],
   "outputs": [
    {
     "output_type": "stream",
     "name": "stdout",
     "text": [
      "Method 1 output is: False\n",
      "Method 2 output is: False\n"
     ]
    }
   ],
   "metadata": {}
  },
  {
   "cell_type": "markdown",
   "source": [
    "# Search a 2D Matrix II\n",
    "\n",
    "Write an efficient algorithm that searches for a target value in an m x n integer matrix. The matrix has the following properties:\n",
    "\n",
    " - Integers in each row are sorted in ascending from left to right.\n",
    " \n",
    " - Integers in each column are sorted in ascending from top to bottom.\n",
    "\n",
    "Example 1:\n",
    "\n",
    "Input: matrix = [[[1,4,7,11,15]],[[2,5,8,12,19]],[[3,6,9,16,22]],[[10,13,14,17,24]],[[18,21,23,26,30]]], target = 5 | \n",
    "Output: true\n",
    "\n",
    "Example 2:\n",
    "\n",
    "Input: matrix = [[[1,4,7,11,15]],[[2,5,8,12,19]],[[3,6,9,16,22]],[[10,13,14,17,24]],[[18,21,23,26,30]]], target = 20 | \n",
    "Output: false"
   ],
   "metadata": {}
  },
  {
   "cell_type": "code",
   "execution_count": 17,
   "source": [
    "# Method 1 (Okish solution)\n",
    "def lookupMatrixVersion2_1(matrix,target):\n",
    "    for i in range(len(matrix[0])):\n",
    "        for j in range(len(matrix)):\n",
    "            if x[i][j] == target:return True\n",
    "    return False\n",
    "print(f'Method 1 output: {lookupMatrixVersion2_1([[1,1]],-5)}')\n",
    "\n",
    "# Method 2 (Okish solution)\n",
    "def lookupMatrixVersion2_2(matrix,target):\n",
    "    return target in sum(matrix,[])\n",
    "print(f'Method 2 output: {lookupMatrixVersion2_2([[1,1]],-5)}')"
   ],
   "outputs": [
    {
     "output_type": "stream",
     "name": "stdout",
     "text": [
      "Method 1 output: False\n",
      "Method 2 output: False\n"
     ]
    }
   ],
   "metadata": {}
  },
  {
   "cell_type": "code",
   "execution_count": 16,
   "source": [
    "sum([[-1,-1]],[])"
   ],
   "outputs": [
    {
     "output_type": "execute_result",
     "data": {
      "text/plain": [
       "[-1, -1]"
      ]
     },
     "metadata": {},
     "execution_count": 16
    }
   ],
   "metadata": {}
  },
  {
   "cell_type": "markdown",
   "source": [
    "## Yet to see this \n",
    "### Combinations\n",
    "\n",
    "Given two integers n and k, return all possible combinations of k numbers out of 1 ... n.\n",
    "\n",
    "You may return the answer in any order.\n",
    "\n",
    "Example 1:\n",
    "\n",
    "Input: n = 4, k = 2\n",
    "Output:\n",
    "[\n",
    "  [[2,4]],\n",
    "  [[3,4]],\n",
    "  [[2,3]],\n",
    "  [[1,2]],\n",
    "  [[1,3]],\n",
    "  [[1,4]],\n",
    "]\n",
    "\n",
    "Example 2:\n",
    "\n",
    "Input: n = 1, k = 1\n",
    "\n",
    "Output: [[[1]]]\n"
   ],
   "metadata": {}
  },
  {
   "cell_type": "code",
   "execution_count": 175,
   "source": [
    "def combinations(n,k):\n",
    "    out = []\n",
    "    for i in range(1,n+1):\n",
    "        for j in range(1,k+2):\n",
    "            if i!=j:\n",
    "                if i>j:\n",
    "                    out.extend([[j,i]])\n",
    "            elif n == k:\n",
    "                out = [[n]]\n",
    "    return out\n",
    "combinations(1,1)"
   ],
   "outputs": [
    {
     "output_type": "execute_result",
     "data": {
      "text/plain": [
       "[[1]]"
      ]
     },
     "metadata": {},
     "execution_count": 175
    }
   ],
   "metadata": {}
  },
  {
   "cell_type": "code",
   "execution_count": 141,
   "source": [
    "n = 4\n",
    "k = 2\n",
    "out = []\n",
    "emp1 = [i for i in range(1,n+1)]\n",
    "emp2 = [j for j in range(1,k+1)]\n",
    "# pair = [[a,b] for a in emp1 for b in emp2]\n",
    "# for a in range(len(emp1)):\n",
    "#     for b in range(len(emp2)):\n",
    "#         # print(emp1[a],emp2[b])\n",
    "#         if emp1[a] != emp2[b]:\n",
    "#             out.extend([[emp1[a],emp2[b]]])\n",
    "# out\n",
    "clist = [(i,j) for i in emp1 for j in emp2]\n",
    "clist"
   ],
   "outputs": [
    {
     "output_type": "execute_result",
     "data": {
      "text/plain": [
       "[(1, 1), (1, 2), (2, 1), (2, 2), (3, 1), (3, 2), (4, 1), (4, 2)]"
      ]
     },
     "metadata": {},
     "execution_count": 141
    }
   ],
   "metadata": {}
  },
  {
   "cell_type": "markdown",
   "source": [
    " ### Reverse Words in a String\n",
    " Given an input string s, reverse the order of the words.\n",
    "\n",
    "A word is defined as a sequence of non-space characters. The words in s will be separated by at least one space.\n",
    "\n",
    "Return a string of the words in reverse order concatenated by a single space.\n",
    "\n",
    "Note that s may contain leading or trailing spaces or multiple spaces between two words. The returned string should only have a single space separating the words. Do not include any extra spaces.\n",
    "\n",
    "Example 1:\n",
    "\n",
    "Input: s = \"the sky is blue\"\n",
    "\n",
    "Output: \"blue is sky the\"\n",
    "\n",
    "Example 2:\n",
    "\n",
    "Input: s = \"  hello world  \"\n",
    "\n",
    "Output: \"world hello\"\n",
    "\n",
    "Explanation: Your reversed string should not contain leading or trailing spaces.\n",
    "\n",
    "Example 3:\n",
    "\n",
    "Input: s = \"a good   example\"\n",
    "\n",
    "Output: \"example good a\"\n",
    "\n",
    "Explanation: You need to reduce multiple spaces between two words to a single space in the reversed string.\n",
    "\n",
    "Example 4:\n",
    "\n",
    "Input: s = \"  Bob    Loves  Alice   \"\n",
    "\n",
    "Output: \"Alice Loves Bob\"\n",
    "\n",
    "Example 5:\n",
    "\n",
    "Input: s = \"Alice does not even like bob\"\n",
    "\n",
    "Output: \"bob like even not does Alice\""
   ],
   "metadata": {}
  },
  {
   "cell_type": "code",
   "execution_count": 55,
   "source": [
    "def rev_string(s):\n",
    "    k = s.split()\n",
    "    zx = k[::-1]\n",
    "    output = ' '.join(zx)\n",
    "    return output\n",
    "rev_string(\"  Bob    Loves  Alice   \")"
   ],
   "outputs": [
    {
     "output_type": "execute_result",
     "data": {
      "text/plain": [
       "'Alice Loves Bob'"
      ]
     },
     "metadata": {},
     "execution_count": 55
    }
   ],
   "metadata": {}
  },
  {
   "cell_type": "markdown",
   "source": [
    "### Divide Two Integers\n",
    "Given two integers dividend and divisor, divide two integers without using multiplication, division, and mod operator.\n",
    "\n",
    "Return the quotient after dividing dividend by divisor.\n",
    "\n",
    "The integer division should truncate toward zero, which means losing its fractional part. For example, truncate(8.345) = 8 and truncate(-2.7335) = -2.\n",
    "\n",
    "Example 1:\n",
    "\n",
    "Input: dividend = 10, divisor = 3 | Output: 3\n",
    "\n",
    "Explanation: 10/3 = truncate(3.33333..) = 3.\n",
    "\n",
    "Example 2:\n",
    "\n",
    "Input: dividend = 7, divisor = -3 | Output: -2\n",
    "Explanation: 7/-3 = truncate(-2.33333..) = -2.\n",
    "\n",
    "Example 3:\n",
    "\n",
    "Input: dividend = 0, divisor = 1 | Output: 0\n",
    "\n",
    "Example 4:\n",
    "\n",
    "Input: dividend = 1, divisor = 1 | Output: 1"
   ],
   "metadata": {}
  },
  {
   "cell_type": "code",
   "execution_count": 53,
   "source": [
    "def int_div(a,b): # (Leet Code 988 / 989 test cases passed.)\n",
    "    return int(a/b)\n",
    "\n",
    "int_div(10,3)"
   ],
   "outputs": [
    {
     "output_type": "execute_result",
     "data": {
      "text/plain": [
       "2"
      ]
     },
     "metadata": {},
     "execution_count": 53
    }
   ],
   "metadata": {}
  },
  {
   "cell_type": "markdown",
   "source": [
    "## Yet to se this \n",
    "### Remove Duplicate Letters or Smallest-subsequence of Distinct Characters\n",
    "\n",
    "Given a string s, remove duplicate letters so that every letter appears once and only once. You must make sure your result is the smallest in lexicographical order among all possible results.\n",
    "\n",
    "Note: This question is the same as 1081: https://leetcode.com/problems/smallest-subsequence-of-distinct-characters/\n",
    "\n",
    " \n",
    "\n",
    "Example 1:\n",
    "\n",
    "Input: s = \"bcabc\" | \n",
    "Output: \"abc\"\n",
    "\n",
    "Example 2:\n",
    "\n",
    "Input: s = \"cbacdcbc\" | \n",
    "Output: \"acdb\""
   ],
   "metadata": {}
  },
  {
   "cell_type": "code",
   "execution_count": 72,
   "source": [
    "def delDups(l):\n",
    "    zx = []\n",
    "    for i in l:\n",
    "        if i not in zx:\n",
    "            zx.append(i)\n",
    "    eve_lst = zx[0:len(zx):2]\n",
    "    eve = set(eve_lst)\n",
    "    odd_lst = zx[1:len(zx):2]\n",
    "    odd = set(odd_lst)\n",
    "    ass = eve.union(odd)\n",
    "    return ass\n",
    "delDups(\"cbacdcbc\")"
   ],
   "outputs": [
    {
     "output_type": "execute_result",
     "data": {
      "text/plain": [
       "{'a', 'b', 'c', 'd'}"
      ]
     },
     "metadata": {},
     "execution_count": 72
    }
   ],
   "metadata": {}
  },
  {
   "cell_type": "markdown",
   "source": [
    "# To count $ in a 2D array for a certain range."
   ],
   "metadata": {}
  },
  {
   "cell_type": "code",
   "execution_count": 31,
   "source": [
    "inp = [['$','.','.','.'],['.','.','$','$'],['$','.','$','.'],['.','.','.','.'],['$','.','.','$']]\n",
    "def count_dollor(aList,start_pos,end_pos):\n",
    "    cout = 0\n",
    "    x = [j for i in aList for j in i]\n",
    "    for k in x[start_pos:end_pos]:\n",
    "        if '$' in k:\n",
    "            cout += 1\n",
    "    return cout\n",
    "count_dollor(inp,2,15)"
   ],
   "outputs": [
    {
     "output_type": "execute_result",
     "data": {
      "text/plain": [
       "4"
      ]
     },
     "metadata": {},
     "execution_count": 31
    }
   ],
   "metadata": {}
  },
  {
   "cell_type": "markdown",
   "source": [
    "## Yet to see this \n",
    "### Find First and Last Position of Element in Sorted Array\n",
    "\n",
    "Given an array of integers nums sorted in ascending order, find the starting and ending position of a given target value.\n",
    "\n",
    "If target is not found in the array, return [[-1, -1]].\n",
    "\n",
    "Example 1:\n",
    "\n",
    "Input: nums = [[5,7,7,8,8,10]], target = 8 | Output: [[3,4]]\n",
    "\n",
    "Example 2:\n",
    "\n",
    "Input: nums = [[5,7,7,8,8,10]], target = 6 |\n",
    "Output: [[-1,-1]]\n",
    "\n",
    "Example 3:\n",
    "\n",
    "Input: nums = [], target = 0 | \n",
    "Output: [[-1,-1]]"
   ],
   "metadata": {}
  },
  {
   "cell_type": "code",
   "execution_count": 44,
   "source": [
    "# Method 1\n",
    "def searchRange(nums, target): # (Leet Code 42 / 88 test cases passed.)\n",
    "        output = []\n",
    "        if len(nums) == 1 and target in nums:\n",
    "                output.extend([0,0])\n",
    "        elif target in nums:\n",
    "                for i,j in enumerate(nums):\n",
    "                        if j == target:\n",
    "                                output.append(i)\n",
    "        else:\n",
    "                output.extend([-1,-1])\n",
    "        \n",
    "        return output\n",
    "print(f'Method 1 output: {searchRange([5,7,7,8,8,10],8)}')\n",
    "\n",
    "# Method 2\n",
    "def ane(aList,target):\n",
    "    for i in range(len(aList)):\n",
    "        if aList[i] == target:\n",
    "            left = i\n",
    "            break\n",
    "        else : \n",
    "            left = [-1,-1]\n",
    "    \n",
    "    for j in range(len(aList)-1,-1,-1):\n",
    "        if aList[j] == target:\n",
    "            right = j\n",
    "            break\n",
    "\n",
    "    return [left,right]\n",
    "print(f'Method 2 output: {ane([5,7,7,8,8,10],8)}')"
   ],
   "outputs": [
    {
     "output_type": "stream",
     "name": "stdout",
     "text": [
      "Method 1 output: [3, 4]\n",
      "Method 2 output: [3, 4]\n"
     ]
    }
   ],
   "metadata": {}
  },
  {
   "cell_type": "markdown",
   "source": [
    " ### Majority Element\n",
    "Given an array nums of size n, return the majority element.\n",
    "\n",
    "The majority element is the element that appears more than ⌊n / 2⌋ times. You may assume that the majority element always exists in the array.\n",
    "\n",
    " \n",
    "\n",
    "Example 1:\n",
    "\n",
    "Input: nums = [[3,2,3]] |\n",
    "Output: 3\n",
    "\n",
    "Example 2:\n",
    "\n",
    "Input: nums = [[2,2,1,1,1,2,2]] |\n",
    "Output: 2"
   ],
   "metadata": {}
  },
  {
   "cell_type": "code",
   "execution_count": 61,
   "source": [
    "# Method 1 \n",
    "# def major_element(aList): # (Leet code 30 / 46 test cases passed.)\n",
    "#     z = [i for i in aList if aList.count(i) > 1]\n",
    "#     return z\n",
    "# print(f'Output from method 1: {major_element([8,8,7,7,7])}')\n",
    "\n",
    "# Method 2\n",
    "def most_common(lst):\n",
    "    return max(set(lst), key=lst.count)\n",
    "print(f'Output from Method 2: {most_common([8,8,7,7,7])}')\n",
    "\n",
    "# Method 3 \n",
    "def find(aList):\n",
    "    return sorted(aList)[len(aList)//2]\n",
    "print(f'Output from Method 3: {find([8,8,7,7,7])}')"
   ],
   "outputs": [
    {
     "output_type": "stream",
     "name": "stdout",
     "text": [
      "Output from Method 2: 7\n",
      "Output from Method 3: 7\n"
     ]
    }
   ],
   "metadata": {}
  },
  {
   "cell_type": "code",
   "execution_count": 3,
   "source": [
    "nums = [8,8,7,7,7]\n",
    "import collections\n",
    "hash_value = collections.Counter(nums)"
   ],
   "outputs": [],
   "metadata": {}
  },
  {
   "cell_type": "code",
   "execution_count": 8,
   "source": [
    "for key,value in zip(hash_value.keys(),hash_value.values()):\n",
    "    if value / 2 :\n",
    "        print(key)"
   ],
   "outputs": [
    {
     "output_type": "stream",
     "name": "stdout",
     "text": [
      "8\n",
      "7\n"
     ]
    }
   ],
   "metadata": {}
  },
  {
   "cell_type": "markdown",
   "source": [
    "## Yet to see this\n",
    "### Minimum Number of Removals to Make Mountain Array\n",
    "You may recall that an array arr is a mountain array if and only if:\n",
    "\n",
    "arr.length >= 3\n",
    "\n",
    "There exists some index i (0-indexed) with 0 < i < arr.length - 1 such that:\n",
    "\n",
    "arr[[0]] < arr[[1]] < ... < arr[[i - 1]] < arr[[i]]\n",
    "\n",
    "arr[[i]] > arr[[i + 1]] > ... > arr[[arr.length - 1]]\n",
    "\n",
    "Given an integer array nums​​​, return the minimum number of elements to remove to make nums​​​ a mountain array.\n",
    "\n",
    "Example 1:\n",
    "\n",
    "Input: nums = [[1,3,1]] | \n",
    "Output: 0\n",
    "\n",
    "Explanation: The array itself is a mountain array so we do not need to remove any elements.\n",
    "\n",
    "Example 2:\n",
    "\n",
    "Input: nums = [[2,1,1,5,6,2,3,1]] | \n",
    "Output: 3\n",
    "Explanation: One solution is to remove the elements at indices 0, 1, and 5, making the array nums = [1,5,6,3,1].\n",
    "\n",
    "Example 3:\n",
    "\n",
    "Input: nums = [[4,3,2,1,1,2,3,1]] |\n",
    "Output: 4\n",
    "\n",
    "Example 4:\n",
    "\n",
    "Input: nums = [[1,2,3,4,4,3,2,1]] | \n",
    "Output: 1"
   ],
   "metadata": {}
  },
  {
   "cell_type": "code",
   "execution_count": 135,
   "source": [
    "# l = [2,1,1,5,6,2,3,1]\n",
    "# for i in range(len(l)-1):\n",
    "#     # print (l[i],l[i+1])\n",
    "#     if l[i]!=l[i+1]:\n",
    "#         b.append(l[i+1])\n",
    "# org = len(l)\n",
    "# org2 = len(b)\n",
    "# o = org - org2\n",
    "# b"
   ],
   "outputs": [],
   "metadata": {}
  },
  {
   "cell_type": "code",
   "execution_count": 197,
   "source": [
    "# b = [4,3,2,1,1,2,3,1]\n",
    "# out = []\n",
    "# middle = max(b)\n",
    "# for i in range(len(b)):\n",
    "#     if b[i] < b[i-1]:\n",
    "#         out.extend([b[i]])\n",
    "#     # elif b[i] > b[i-1]:\n",
    "#     #     out.extend([b[i]])\n",
    "# output = len(b) - (len(b) - len(out))"
   ],
   "outputs": [],
   "metadata": {}
  },
  {
   "cell_type": "code",
   "execution_count": 55,
   "source": [
    "# b = [1,3,1]\n",
    "# for i,j in enumerate(b):\n",
    "#     if b[i] < b[j] and b[i] > b[j-1]:\n",
    "#         print('hi')"
   ],
   "outputs": [],
   "metadata": {}
  },
  {
   "cell_type": "markdown",
   "source": [
    "### Maximum Subarray\n",
    "Given an integer array nums, find the contiguous subarray (containing at least one number) which has the largest sum and return its sum.\n",
    "\n",
    "Example 1:\n",
    "\n",
    "Input: nums = [[-2,1,-3,4,-1,2,1,-5,4]] | \n",
    "Output: 6 | \n",
    "Explanation: [[4,-1,2,1]] has the largest sum = 6.\n",
    "\n",
    "Example 2:\n",
    "\n",
    "Input: nums = [[1]] |\n",
    "Output: 1\n",
    "\n",
    "Example 3:\n",
    "\n",
    "Input: nums = [[0]] | \n",
    "Output: 0\n",
    "\n",
    "Example 4:\n",
    "\n",
    "Input: nums = [[-1]] | \n",
    "Output: -1\n",
    "\n",
    "Example 5:\n",
    "\n",
    "Input: nums = [[-100000]] | \n",
    "Output: -100000"
   ],
   "metadata": {}
  },
  {
   "cell_type": "code",
   "execution_count": 6,
   "source": [
    "# Method 1 \n",
    "def max_sub1(aList):\n",
    "    if len(aList) <= 2:\n",
    "        for i in aList:\n",
    "            if i == aList[0]:\n",
    "                out = max(aList)\n",
    "            elif i:\n",
    "                out = sum(aList)\n",
    "    else:\n",
    "        ax = list(set(aList))\n",
    "        ax.sort()\n",
    "        ane = ax[len(ax)//2:]\n",
    "        out = sum(ane)\n",
    "    return out\n",
    "print(f'Method 1 output: {max_sub1([3,1])}')\n",
    "\n",
    "# Method 2\n",
    "def max_sub2(nums):\n",
    "    n = len(nums)\n",
    "    dp = [0] * n\n",
    "    dp[0] = nums[0]\n",
    "    \n",
    "    for i in range(1,n):\n",
    "        dp[i] = max(dp[i-1] + nums[i], nums[i])\n",
    "    \n",
    "    return max(dp)\n",
    "print(f'Method 2 output: {max_sub2([3,1])}')\n",
    "\n",
    "# Method 3 \n",
    "def max_sub3(nums):\n",
    "    current = maxSubarray = nums[0]\n",
    "    for i in nums[1:]:\n",
    "        current = max(i,current+i)\n",
    "        maxSubarray = max(maxSubarray,current)\n",
    "    return maxSubarray\n",
    "print(f'Method 3 output: {max_sub3([3,1])}')"
   ],
   "outputs": [
    {
     "output_type": "stream",
     "name": "stdout",
     "text": [
      "Method 1 output: 4\n",
      "Method 2 output: 4\n",
      "Method 3 output: 4\n"
     ]
    }
   ],
   "metadata": {}
  },
  {
   "cell_type": "markdown",
   "source": [
    "### Maximum Product Subarray\n",
    "Given an integer array nums, find the contiguous subarray within an array (containing at least one number) which has the largest product.\n",
    "\n",
    "Example 1:\n",
    "\n",
    "Input: [[2,3,-2,4]] | \n",
    "Output: 6 | \n",
    "Explanation: [[2,3]] has the largest product 6.\n",
    "Example 2:\n",
    "\n",
    "Input: [[-2,0,-1]] | \n",
    "Output: 0 | \n",
    "Explanation: The result cannot be 2, because [[-2,-1]] is not a subarray."
   ],
   "metadata": {}
  },
  {
   "cell_type": "code",
   "execution_count": 138,
   "source": [
    "def sub_prod(lt):\n",
    "    out,max_val,min_val = lt[0],lt[0],lt[0]\n",
    "    for i in range(1,len(lt)):\n",
    "        if lt[i] < 0\n",
    "            max_val,min_val = min_val,max_val\n",
    "        max_val = max(lt[i],max_val * lt[i])\n",
    "        min_val = min(lt[i],min_val * lt[i])\n",
    "        out = max(out,max_val)\n",
    "    return out\n",
    "sub_prod([-2,0,-1])"
   ],
   "outputs": [
    {
     "output_type": "execute_result",
     "data": {
      "text/plain": [
       "0"
      ]
     },
     "metadata": {},
     "execution_count": 138
    }
   ],
   "metadata": {}
  },
  {
   "cell_type": "markdown",
   "source": [
    "## Yet to see this \n",
    "### Maximum Product of Three Numbers\n",
    "Given an integer array nums, find three numbers whose product is maximum and return the maximum product.\n",
    "\n",
    "Example 1:\n",
    "\n",
    "Input: nums = [[1,2,3]] | \n",
    "Output: 6\n",
    "\n",
    "Example 2:\n",
    "\n",
    "Input: nums = [[1,2,3,4]] | \n",
    "Output: 24\n",
    "\n",
    "Example 3:\n",
    "\n",
    "Input: nums = [[-1,-2,-3]] | \n",
    "Output: -6"
   ],
   "metadata": {}
  },
  {
   "cell_type": "code",
   "execution_count": 21,
   "source": [
    "# Method 1 \n",
    "def max_prod(nums):\n",
    "    nums.sort() # If our list is not sorted\n",
    "    return max(nums[-1] *nums[0] * nums[1], nums[-1] *nums[-2] * nums[-3])\n",
    "print(f'Method 1 output: {max_prod([-100,-98,-1,2,3,4])}')\n",
    "\n",
    "def max_prod2(A):\n",
    "    A.sort()\n",
    "    if A[-1] < 0:prod = (A[-1] * A[-2] * A[-3])\n",
    "    elif A[0] * A[1] > A[-2] * A[-3]:prod = (A[-1] * A[1] * A[0])       \n",
    "    else:prod = (A[-1] * A[-2] * A[-3])\n",
    "    return prod\n",
    "print(f'Method 2 output: {max_prod2([-100,-98,-1,2,3,4])}')"
   ],
   "outputs": [
    {
     "output_type": "stream",
     "name": "stdout",
     "text": [
      "Method 1 output: 39200\n",
      "Method 2 output: 39200\n"
     ]
    }
   ],
   "metadata": {}
  },
  {
   "cell_type": "code",
   "execution_count": null,
   "source": [],
   "outputs": [],
   "metadata": {}
  },
  {
   "cell_type": "markdown",
   "source": [
    "### Contains Duplicate\n",
    "Given an array of integers, find if the array contains any duplicates.\n",
    "\n",
    "Your function should return true if any value appears at least twice in the array, and it should return false if every element is distinct.\n",
    "\n",
    "Example 1:\n",
    "\n",
    "Input: [[1,2,3,1]] | Output: true\n",
    "\n",
    "Example 2:\n",
    "\n",
    "Input: [[1,2,3,4]] | Output: false\n",
    "\n",
    "Example 3:\n",
    "\n",
    "Input: [[1,1,1,3,3,4,3,2,4,2]] | Output: true"
   ],
   "metadata": {}
  },
  {
   "cell_type": "code",
   "execution_count": 86,
   "source": [
    "# Method 1\n",
    "def contains_duplicate(nums):\n",
    "    # j = 0\n",
    "    for i in range(len(nums)):\n",
    "        for j in range(1,len(nums)):\n",
    "            if nums[i] == nums[j]:\n",
    "                output =True\n",
    "    return output\n",
    "print(f'Method 1 output: {contains_duplicate([1,1,1,3,3,4,3,2,4,2])}')\n",
    "\n",
    "# Method 2 \n",
    "def dups(nums):\n",
    "    return len(list(set(nums))) != len(nums)\n",
    "print(f'Method 2 output: {dups([1,1,1,3,3,4,3,2,4,2])}')\n",
    "\n",
    "# Method 3 \n",
    "def dups3(nums):\n",
    "    for i in nums:\n",
    "        if nums.count(i) >= 2:\n",
    "            out = True\n",
    "        else:\n",
    "            out = False\n",
    "    return out \n",
    "print(f'Method 3 output: {dups3([1,1,1,3,3,4,3,2,4,2])}')"
   ],
   "outputs": [
    {
     "output_type": "stream",
     "name": "stdout",
     "text": [
      "Method 1 output: True\n",
      "Method 2 output: True\n",
      "Method 3 output: True\n"
     ]
    }
   ],
   "metadata": {}
  },
  {
   "cell_type": "markdown",
   "source": [
    "## Yet to Check this\n",
    "### Contains Duplicate II \n",
    "Given an integer array nums and an integer k, return true if there are two distinct indices i and j in the array such that nums[[i]] == nums[[j]] and abs(i - j) <= k.\n",
    "\n",
    "Example 1:\n",
    "\n",
    "Input: nums = [[1,2,3,1]], k = 3 | \n",
    "Output: true\n",
    "\n",
    "Example 2:\n",
    "\n",
    "Input: nums = [[1,0,1,1]], k = 1 | \n",
    "Output: true\n",
    "\n",
    "Example 3:\n",
    "\n",
    "Input: nums = [[1,2,3,1,2,3]], k = 2 | \n",
    "Output: false"
   ],
   "metadata": {}
  },
  {
   "cell_type": "code",
   "execution_count": 106,
   "source": [
    "def conDupII(nums,k):\n",
    "    cv = {}\n",
    "    for i in range(len(nums)):\n",
    "        j = nums[i]\n",
    "        if j in cv and i - cv[j] <= k:\n",
    "            out = True\n",
    "            cv[j] = i\n",
    "        else:\n",
    "            out = False\n",
    "    return out\n",
    "conDupII([1,2,3,1,2,3],2)"
   ],
   "outputs": [
    {
     "output_type": "execute_result",
     "data": {
      "text/plain": [
       "False"
      ]
     },
     "metadata": {},
     "execution_count": 106
    }
   ],
   "metadata": {}
  },
  {
   "cell_type": "code",
   "execution_count": 122,
   "source": [
    "b = [1,2,3,1,2,3]\n",
    "we = []\n",
    "for idx,i in enumerate(b):\n",
    "    if b.count(i) >= 2:\n",
    "        we.append(idx)\n",
    "print(we)"
   ],
   "outputs": [
    {
     "output_type": "stream",
     "name": "stdout",
     "text": [
      "[0, 1, 2, 3, 4, 5]\n"
     ]
    }
   ],
   "metadata": {}
  },
  {
   "cell_type": "code",
   "execution_count": 123,
   "source": [
    "res = [x-y for x, y in zip(b, b[1:])]\n",
    "sum(res)"
   ],
   "outputs": [
    {
     "output_type": "execute_result",
     "data": {
      "text/plain": [
       "-2"
      ]
     },
     "metadata": {},
     "execution_count": 123
    }
   ],
   "metadata": {}
  },
  {
   "cell_type": "code",
   "execution_count": null,
   "source": [
    "def conDupII(nums,k):\n",
    "    vb = []\n",
    "    for idx,i in enumerate(nums):\n",
    "        if nums.count(i) >= 2:\n",
    "            vb.append(i)\n",
    "    for j in range(len(vb)):\n",
    "        for k in range(1,len(vb)):\n",
    "            sub = vb[i] - vb[j]\n",
    "    if sub <= k:\n",
    "        o = sub\n",
    "    else:\n",
    "        o = sub\n",
    "    return o    \n",
    "conDupII([1,2,3,1],3)"
   ],
   "outputs": [],
   "metadata": {}
  },
  {
   "cell_type": "markdown",
   "source": [
    "### Implement strStr()\n",
    "\n",
    "Return the index of the first occurrence of needle in haystack, or -1 if needle is not part of haystack.\n",
    "\n",
    "Clarification:\n",
    "\n",
    "What should we return when needle is an empty string? This is a great question to ask during an interview.\n",
    "\n",
    "For the purpose of this problem, we will return 0 when needle is an empty string. This is consistent to C's strstr() and Java's indexOf().\n",
    "\n",
    " \n",
    "\n",
    "Example 1:\n",
    "\n",
    "Input: haystack = \"hello\", needle = \"ll\" | \n",
    "Output: 2\n",
    "\n",
    "Example 2:\n",
    "\n",
    "Input: haystack = \"aaaaa\", needle = \"bba\" | \n",
    "Output: -1\n",
    "\n",
    "Example 3:\n",
    "\n",
    "Input: haystack = \"\", needle = \"\" | \n",
    "Output: 0"
   ],
   "metadata": {}
  },
  {
   "cell_type": "code",
   "execution_count": 91,
   "source": [
    "# Method 1 \n",
    "def imp_str(str1,str2):\n",
    "    if not str1:\n",
    "        if not str2:\n",
    "            out = 0\n",
    "        else:out = -1\n",
    "    \n",
    "    for i in range(len(str1)):\n",
    "        for j in range(len(str2)):\n",
    "            if str2[j] in str1[i]:\n",
    "                out = str1.find(str2)\n",
    "    \n",
    "    return out\n",
    "print(f'Method 1 output: {imp_str(\"bba\",\"ba\")}')\n",
    "\n",
    "# Method 2\n",
    "def imp_str2(str1,str2):\n",
    "     return str1.index(str2) if str2 in str1 else -1\n",
    "print(f'Method 2 output: {imp_str2(\"\",\"\")}')"
   ],
   "outputs": [
    {
     "output_type": "stream",
     "name": "stdout",
     "text": [
      "Method 1 output: 1\n",
      "Method 2 output: 0\n"
     ]
    }
   ],
   "metadata": {}
  },
  {
   "cell_type": "markdown",
   "source": [
    "### Third Maximum Number\n",
    "Given integer array nums, return the third maximum number in this array. If the third maximum does not exist, return the maximum number.\n",
    "\n",
    "Example 1:\n",
    "\n",
    "Input: nums = [[3,2,1]] |\n",
    "Output: 1\n",
    "\n",
    "Explanation: The third maximum is 1.\n",
    "\n",
    "Example 2:\n",
    "\n",
    "Input: nums = [[1,2]] | \n",
    "Output: 2\n",
    "\n",
    "Explanation: The third maximum does not exist, so the maximum (2) is returned instead.\n",
    "\n",
    "Example 3:\n",
    "\n",
    "Input: nums = [[2,2,3,1]] |\n",
    "Output: 1\n",
    "\n",
    "Explanation: Note that the third maximum here means the third maximum distinct number.\n",
    "Both numbers with value 2 are both considered as second maximum."
   ],
   "metadata": {}
  },
  {
   "cell_type": "code",
   "execution_count": 36,
   "source": [
    "InputCheck = [[3,2,1],[1,2],[2,2,3,1],[5,2,2],[3,2,1],[5,2,4,1,3,6,0]]\n",
    "# Method 1 \n",
    "def thirdMax(nums):\n",
    "    nums = set(nums)\n",
    "    if len(nums) < 3:\n",
    "        return max(nums)\n",
    "    nums -= {max(nums)}\n",
    "    nums -= {max(nums)}\n",
    "    return max(nums)\n",
    "\n",
    "method_1_Out = []\n",
    "for i in InputCheck:\n",
    "    method_1_Out.append(thirdMax(i))\n",
    "print(f'Method 1 output: {method_1_Out}')\n",
    "\n",
    "# Method 2 \n",
    "def thirdMax2(aList):\n",
    "    setVal = list(set(aList))\n",
    "    setVal.sort()\n",
    "    if len(setVal) <= 2: out = max(setVal)\n",
    "    else: out = setVal[-3]\n",
    "    return out\n",
    "\n",
    "method_2_Out = []\n",
    "for i in InputCheck:\n",
    "    method_2_Out.append(thirdMax2(i))\n",
    "print(f'Method 2 output: {method_2_Out}')\n",
    "\n",
    "# Method 3 \n",
    "def thirdMax3(nums):\n",
    "    if len(set(nums)) < 3:\n",
    "        out = max(nums)\n",
    "    else:\n",
    "        out = sorted(set(nums))[-3] \n",
    "    return out \n",
    "\n",
    "method_3_Out = []\n",
    "for i in InputCheck:\n",
    "    method_3_Out.append(thirdMax3(i))\n",
    "print(f'Method 3 output: {method_3_Out}')"
   ],
   "outputs": [
    {
     "output_type": "stream",
     "name": "stdout",
     "text": [
      "Method 1 output: [1, 2, 1, 5, 1, 4]\n",
      "Method 2 output: [1, 2, 1, 5, 1, 4]\n",
      "Method 3 output: [1, 2, 1, 5, 1, 4]\n"
     ]
    }
   ],
   "metadata": {}
  },
  {
   "cell_type": "markdown",
   "source": [
    "## Yet to see this \n",
    "### Combination Sum\n",
    "Given an array of distinct integers candidates and a target integer target, return a list of all unique combinations of candidates where the chosen numbers sum to target. You may return the combinations in any order.\n",
    "\n",
    "The same number may be chosen from candidates an unlimited number of times. Two combinations are unique if the frequency of at least one of the chosen numbers is different.\n",
    "\n",
    "It is guaranteed that the number of unique combinations that sum up to target is less than 150 combinations for the given input.\n",
    "\n",
    "Example 1:\n",
    "\n",
    "Input: candidates = [[2,3,6,7]], target = 7 | \n",
    "Output: [[[2,2,3]],[[7]]]\n",
    "\n",
    "Explanation:\n",
    "2 and 3 are candidates, and 2 + 2 + 3 = 7. Note that 2 can be used multiple times.\n",
    "7 is a candidate, and 7 = 7.\n",
    "These are the only two combinations.\n",
    "\n",
    "Example 2:\n",
    "\n",
    "Input: candidates = [[2,3,5]], target = 8 | \n",
    "Output: [[[2,2,2,2]],[[2,3,3]],[[3,5]]]\n",
    "\n",
    "Example 3:\n",
    "\n",
    "Input: candidates = [[2]], target = 1 | \n",
    "Output: []\n",
    "Example 4:\n",
    "\n",
    "Input: candidates = [[1]], target = 1 | \n",
    "Output: [[[1]]]\n",
    "Example 5:\n",
    "\n",
    "Input: candidates = [[1]], target = 2 | \n",
    "Output: [[[1,1]]]"
   ],
   "metadata": {}
  },
  {
   "cell_type": "code",
   "execution_count": 115,
   "source": [
    "def combinations_sum(candidates,target):\n",
    "    out = []\n",
    "    for i in range(0,len(candidates)):\n",
    "        for j in range(i-1,len(candidates)):\n",
    "            for k in range(j+1,len(candidates)):\n",
    "                tot = candidates[i] + candidates[j] + candidates[k]\n",
    "                if(i==j&j!=k&k!=i):\n",
    "                    if tot == target:\n",
    "                        out.extend([[candidates[i],candidates[j],candidates[k]]])\n",
    "    return out\n",
    "combinations_sum([2,3,6,7],7)"
   ],
   "outputs": [
    {
     "output_type": "execute_result",
     "data": {
      "text/plain": [
       "[[2, 2, 3]]"
      ]
     },
     "metadata": {},
     "execution_count": 115
    }
   ],
   "metadata": {}
  },
  {
   "cell_type": "markdown",
   "source": [
    "## Yet to see this\n",
    "### Letter Combinations of a Phone Number\n",
    "Given a string containing digits from 2-9 inclusive, return all possible letter combinations that the number could represent. Return the answer in any order.\n",
    "\n",
    "A mapping of digit to letters (just like on the telephone buttons) is given below. Note that 1 does not map to any letters.\n",
    "\n",
    "Example 1:\n",
    "\n",
    "Input: digits = \"23\" | \n",
    "Output: [[\"ad\",\"ae\",\"af\",\"bd\",\"be\",\"bf\",\"cd\",\"ce\",\"cf\"]]\n",
    "\n",
    "Example 2:\n",
    "\n",
    "Input: digits = \"\" | \n",
    "Output: []\n",
    "\n",
    "Example 3:\n",
    "\n",
    "Input: digits = \"2\" | \n",
    "Output: [[\"a\",\"b\",\"c\"]]"
   ],
   "metadata": {}
  },
  {
   "cell_type": "code",
   "execution_count": null,
   "source": [
    "def phone(str1):\n",
    "    list1 = list(str1.strip())\n",
    "    di = {\"2\":['a','b','c'],\"3\":['d','e','f'],\"4\":['g','h','i'],\"5\":['j','k','l'],\"6\":['m','n','o'],\"7\":['p','q','r','s'],\"8\":['t','u','v'],\"9\":['w','x','y','z']}\n",
    "    if not di:\n",
    "        val = []\n",
    "    val = [\"\"]\n",
    "    for i in di:\n",
    "        cal = []\n",
    "        for j in val:\n",
    "            for k in di[i]:\n",
    "                cal.append(j+k)\n",
    "    \n",
    "    val = cal\n",
    "    return val\n",
    "\n",
    "phone('23')"
   ],
   "outputs": [],
   "metadata": {}
  },
  {
   "cell_type": "markdown",
   "source": [
    "## Yet to see this \n",
    "### Top K Frequent Words\n",
    "Given a non-empty list of words, return the k most frequent elements.\n",
    "\n",
    "Your answer should be sorted by frequency from highest to lowest. If two words have the same frequency, then the word with the lower alphabetical order comes first.\n",
    "\n",
    "Example 1:\n",
    "\n",
    "Input: [[\"i\", \"love\", \"leetcode\", \"i\", \"love\", \"coding\"]], k = 2\n",
    "\n",
    "Output: [[\"i\", \"love\"]]\n",
    "\n",
    "Explanation: \"i\" and \"love\" are the two most frequent words.\n",
    "    Note that \"i\" comes before \"love\" due to a lower alphabetical order.\n",
    "\n",
    "Example 2:\n",
    "\n",
    "Input: [[\"the\", \"day\", \"is\", \"sunny\", \"the\", \"the\", \"the\", \"sunny\", \"is\", \"is\"]], k = 4\n",
    "\n",
    "Output: [[\"the\", \"is\", \"sunny\", \"day\"]]\n",
    "\n",
    "Explanation: \"the\", \"is\", \"sunny\" and \"day\" are the four most frequent words,\n",
    "    with the number of occurrence being 4, 3, 2 and 1 respectively."
   ],
   "metadata": {}
  },
  {
   "cell_type": "code",
   "execution_count": 58,
   "source": [
    "ut = [\"the\", \"day\", \"is\", \"sunny\", \"the\", \"the\", \"the\", \"sunny\", \"is\", \"is\"]\n",
    "k = 4\n",
    "ut.sort()\n",
    "for i in range(len(ut)):\n",
    "    for j in range(len(ut[:k])):\n",
    "        "
   ],
   "outputs": [
    {
     "output_type": "execute_result",
     "data": {
      "text/plain": [
       "['day', 'is', 'is', 'is', 'sunny', 'sunny', 'the', 'the', 'the', 'the']"
      ]
     },
     "metadata": {},
     "execution_count": 58
    }
   ],
   "metadata": {}
  },
  {
   "cell_type": "markdown",
   "source": [
    "### Find All Numbers Disappeared in an Array\n",
    "Given an array of integers where 1 ≤ a[[i]] ≤ n (n = size of array), some elements appear twice and others appear once.\n",
    "\n",
    "Find all the elements of [[1, n]] inclusive that do not appear in this array.\n",
    "\n",
    "Could you do it without extra space and in O(n) runtime? You may assume the returned list does not count as extra space.\n",
    "\n",
    "Example:\n",
    "\n",
    "Input: [[4,3,2,7,8,2,3,1]] | \n",
    "Output:[[5,6]]"
   ],
   "metadata": {}
  },
  {
   "cell_type": "code",
   "execution_count": 40,
   "source": [
    "# method 1\n",
    "def missElement(aList):\n",
    "    if len(aList) == 0:\n",
    "        out = []\n",
    "    for i in range(len(aList)):\n",
    "            for j in range(i+1,len(aList)):\n",
    "                if aList[i] == aList[j]:\n",
    "                    out = aList[j]+ 1\n",
    "                else:\n",
    "                    out = [i for i in range(1,max(aList)) if i not in aList]\n",
    "    return [out]\n",
    "print(f'Method 1 output: {missElement([1,1])}')\n",
    "\n",
    "# method 2\n",
    "def missElement2(nums):\n",
    "    return list(set(range(1,len(nums)+1))-set(nums))\n",
    "print(f'Method 1 output: {missElement2([1,1])}')"
   ],
   "outputs": [
    {
     "output_type": "stream",
     "name": "stdout",
     "text": [
      "Method 1 output: [2]\n",
      "Method 1 output: [2]\n"
     ]
    }
   ],
   "metadata": {}
  },
  {
   "cell_type": "markdown",
   "source": [
    " ### Kth Missing Positive Number\n",
    " Given an array arr of positive integers sorted in a strictly increasing order, and an integer k.\n",
    "\n",
    "Find the kth positive integer that is missing from this array.\n",
    "\n",
    " \n",
    "\n",
    "Example 1:\n",
    "\n",
    "Input: arr = [[2,3,4,7,11]], k = 5 | \n",
    "Output: 9\n",
    "\n",
    "Explanation: The missing positive integers are [[1,5,6,8,9,10,12,13,...]]. The 5th missing positive integer is 9.\n",
    "\n",
    "Example 2:\n",
    "\n",
    "Input: arr = [[1,2,3,4]], k = 2 | \n",
    "Output: 6\n",
    "\n",
    "Explanation: The missing positive integers are [[5,6,7,...]]. The 2nd missing positive integer is 6."
   ],
   "metadata": {}
  },
  {
   "cell_type": "code",
   "execution_count": 56,
   "source": [
    "# method 1\n",
    "def kthMissingPositiveNumber(nums,k):\n",
    "    out = [i for i in range(1,max(nums)+k+1) if i not in nums]\n",
    "    return out[k-1]\n",
    "print(f'Method 1 output: {kthMissingPositiveNumber([1,2,3,4,5,6],5)}')"
   ],
   "outputs": [
    {
     "output_type": "stream",
     "name": "stdout",
     "text": [
      "Method 1 output: 11\n"
     ]
    }
   ],
   "metadata": {}
  },
  {
   "cell_type": "markdown",
   "source": [
    "### Text Allignment\n"
   ],
   "metadata": {}
  },
  {
   "cell_type": "code",
   "execution_count": 76,
   "source": [
    "thickness = 5 #This must be an odd number\n",
    "c = '1'\n",
    "\n",
    "#Top Cone\n",
    "for i in range(thickness):\n",
    "    print((c*i).rjust(thickness-1)+c+(c*i).ljust(thickness-1))\n",
    "\n",
    "#Top Pillars\n",
    "for i in range(thickness+1):\n",
    "    print((c*thickness).center(thickness*2)+(c*thickness).center(thickness*6))\n",
    "\n",
    "#Middle Belt\n",
    "for i in range((thickness+1)//2):\n",
    "    print((c*thickness*5).center(thickness*6))    \n",
    "\n",
    "#Bottom Pillars\n",
    "for i in range(thickness+1):\n",
    "    print((c*thickness).center(thickness*2)+(c*thickness).center(thickness*6))    \n",
    "\n",
    "#Bottom Cone\n",
    "for i in range(thickness):\n",
    "    print(((c*(thickness-i-1)).rjust(thickness)+c+(c*(thickness-i-1)).ljust(thickness)).rjust(thickness*6))"
   ],
   "outputs": [
    {
     "output_type": "stream",
     "name": "stdout",
     "text": [
      "    1    \n",
      "   111   \n",
      "  11111  \n",
      " 1111111 \n",
      "111111111\n",
      "  11111               11111             \n",
      "  11111               11111             \n",
      "  11111               11111             \n",
      "  11111               11111             \n",
      "  11111               11111             \n",
      "  11111               11111             \n",
      "  1111111111111111111111111   \n",
      "  1111111111111111111111111   \n",
      "  1111111111111111111111111   \n",
      "  11111               11111             \n",
      "  11111               11111             \n",
      "  11111               11111             \n",
      "  11111               11111             \n",
      "  11111               11111             \n",
      "  11111               11111             \n",
      "                    111111111 \n",
      "                     1111111  \n",
      "                      11111   \n",
      "                       111    \n",
      "                        1     \n"
     ]
    }
   ],
   "metadata": {}
  },
  {
   "cell_type": "markdown",
   "source": [
    "### Best Time to Buy and Sell Stock\n",
    "You are given an array prices where prices[i] is the price of a given stock on the ith day.\n",
    "\n",
    "You want to maximize your profit by choosing a single day to buy one stock and choosing a different day in the future to sell that stock.\n",
    "\n",
    "Return the maximum profit you can achieve from this transaction. If you cannot achieve any profit, return 0.\n",
    "\n",
    " \n",
    "\n",
    "Example 1:\n",
    "\n",
    "Input: prices = [[7,1,5,3,6,4]] | \n",
    "Output: 5\n",
    "\n",
    "Explanation: Buy on day 2 (price = 1) and sell on day 5 (price = 6), profit = 6-1 = 5.\n",
    "Note that buying on day 2 and selling on day 1 is not allowed because you must buy before you sell.\n",
    "\n",
    "Example 2:\n",
    "\n",
    "Input: prices = [[7,6,4,3,1]] | \n",
    "Output: 0\n",
    "\n",
    "Explanation: In this case, no transactions are done and the max profit = 0."
   ],
   "metadata": {}
  },
  {
   "cell_type": "code",
   "execution_count": 74,
   "source": [
    "# Method 1 (Leetcode 134 / 210 test cases passed.)\n",
    "def maxProfit(prices):\n",
    "    min_element = min(prices)\n",
    "    # for i in range(prices.index(min_element),len(prices)):\n",
    "    if min_element == prices[-1]:\n",
    "        profit = 0\n",
    "    else:\n",
    "        aList = prices[min_element:]\n",
    "        max_element = max(aList)\n",
    "        profit = max_element - min_element\n",
    "    return profit\n",
    "print(f'Method 1 output: {maxProfit([7,1,5,3,6,4])}')\n",
    "\n",
    "# Method 2\n",
    "def maxProfit2(price):\n",
    "    min_price = 10000\n",
    "    max_profit = 0\n",
    "    for i in range(len(price)):\n",
    "        if prices[i] < min_price:\n",
    "            min_price = price[i]\n",
    "        elif (price[i] - min_price > max_profit):\n",
    "            max_profit = price[i] - min_price\n",
    "    return max_profit\n",
    "print(f'Method 2 output: {maxProfit([7,1,5,3,6,4])}')\n",
    "\n",
    "# Method 3\n",
    "def maxProfit3(price):\n",
    "    max_profit = 0\n",
    "    for i in range(len(price)-1):\n",
    "        for j in range(i+1,len(price)):\n",
    "            profit = price[j] - price[i]\n",
    "            if profit > max_profit:\n",
    "                max_profit = profit\n",
    "    return max_profit\n",
    "print(f'Method 3 output: {maxProfit3([7,1,5,3,6,4])}')\n",
    "\n",
    "# Method 4 (Vichu Annas' Logic)\n",
    "def maxProfit4(prices):\n",
    "    if not prices:\n",
    "        return 0\n",
    "    profit = 0\n",
    "    buy_stock = prices[0]\n",
    "    for i in range(len(prices)):\n",
    "        if buy_stock > prices[i]:\n",
    "            buy_stock = prices[i]\n",
    "        profit = max((prices[i] - buy_stock, profit))\n",
    "    return profit\n",
    "print(f'Method 4 output: {maxProfit4([7,1,5,3,6,4])}')"
   ],
   "outputs": [
    {
     "output_type": "stream",
     "name": "stdout",
     "text": [
      "Method 1 output: 5\n",
      "Method 2 output: 5\n",
      "Method 3 output: 5\n",
      "Method 4 output: 5\n"
     ]
    }
   ],
   "metadata": {}
  },
  {
   "cell_type": "markdown",
   "source": [
    "### Excel Sheet Column Number\n",
    "\n",
    "Given a string columnTitle that represents the column title as appear in an Excel sheet, return its corresponding column number.\n",
    "\n",
    "For example:\n",
    "\n",
    "A -> 1\n",
    "\n",
    "B -> 2\n",
    "\n",
    "C -> 3\n",
    "\n",
    "...\n",
    "\n",
    "Z -> 26\n",
    "\n",
    "AA -> 27\n",
    "\n",
    "AB -> 28 \n",
    "\n",
    "...\n",
    " \n",
    "\n",
    "Example 1:\n",
    "\n",
    "Input: columnTitle = \"A\" | \n",
    "Output: 1\n",
    "\n",
    "Example 2:\n",
    "\n",
    "Input: columnTitle = \"AB\" | \n",
    "Output: 28\n",
    "\n",
    "Example 3:\n",
    "\n",
    "Input: columnTitle = \"ZY\" | \n",
    "Output: 701\n",
    "\n",
    "Example 4:\n",
    "\n",
    "Input: columnTitle = \"FXSHRXW\" | \n",
    "Output: 2147483647"
   ],
   "metadata": {}
  },
  {
   "cell_type": "code",
   "execution_count": 78,
   "source": [
    "def excel_sheet(s):\n",
    "    a = 0\n",
    "    for i in s:\n",
    "        a = a * 26 + ord(i) - ord('A') + 1\n",
    "    return a\n",
    "excel_sheet(\"FXSHRXW\")"
   ],
   "outputs": [
    {
     "output_type": "execute_result",
     "data": {
      "text/plain": [
       "2147483647"
      ]
     },
     "metadata": {},
     "execution_count": 78
    }
   ],
   "metadata": {}
  },
  {
   "cell_type": "markdown",
   "source": [
    "### Shuffle String\n",
    "Given a string s and an integer array indices of the same length.\n",
    "\n",
    "The string s will be shuffled such that the character at the ith position moves to indices[i] in the shuffled string.\n",
    "\n",
    "Return the shuffled string.\n",
    "\n",
    "Example 1:\n",
    "\n",
    "Input: s = \"codeleet\", indices = [[4,5,6,7,0,2,1,3]] | Output: \"leetcode\"\n",
    "\n",
    "Explanation: As shown, \"codeleet\" becomes \"leetcode\" after shuffling.\n",
    "\n",
    "Example 2:\n",
    "\n",
    "Input: s = \"abc\", indices = [[0,1,2]] | Output: \"abc\"\n",
    "\n",
    "Explanation: After shuffling, each character remains in its position.\n",
    "\n",
    "Example 3:\n",
    "\n",
    "Input: s = \"aiohn\", indices = [[3,1,4,2,0]] | Output: \"nihao\""
   ],
   "metadata": {}
  },
  {
   "cell_type": "code",
   "execution_count": 62,
   "source": [
    "def shuffleString(s,indices):\n",
    "    output = [''] * len(s)\n",
    "    for i in range(len(s)):\n",
    "        output[indices[i]] = s[i] \n",
    "    return ''.join(output)\n",
    "shuffleString(s,indices)"
   ],
   "outputs": [
    {
     "output_type": "execute_result",
     "data": {
      "text/plain": [
       "'leetcode'"
      ]
     },
     "metadata": {},
     "execution_count": 62
    }
   ],
   "metadata": {}
  },
  {
   "cell_type": "markdown",
   "source": [
    "### Intersection of Two Arrays\n",
    "Given two integer arrays nums1 and nums2, return an array of their intersection. Each element in the result must be unique and you may return the result in any order.\n",
    "\n",
    "Example 1:\n",
    "\n",
    "Input: nums1 = [[1,2,2,1]], nums2 = [[2,2]] | Output: [[2]]\n",
    "\n",
    "Example 2:\n",
    "\n",
    "Input: nums1 = [[4,9,5]], nums2 = [[9,4,9,8,4]] | Output: [[9,4]]\n",
    "\n",
    "Explanation: [[4,9]] is also accepted."
   ],
   "metadata": {}
  },
  {
   "cell_type": "code",
   "execution_count": 85,
   "source": [
    "def intersectionArray(str1,str2):\n",
    "    return list(set(str1).intersection(str2))\n",
    "intersectionArray([1,2,2,1],[2,2])"
   ],
   "outputs": [
    {
     "output_type": "execute_result",
     "data": {
      "text/plain": [
       "[2]"
      ]
     },
     "metadata": {},
     "execution_count": 85
    }
   ],
   "metadata": {}
  },
  {
   "cell_type": "markdown",
   "source": [
    "### DI String Match\n",
    "Given a string S that only contains \"I\" (increase) or \"D\" (decrease), let N = S.length.\n",
    "\n",
    "Return any permutation A of [[0, 1, ..., N]] such that for all i = 0, ..., N-1:\n",
    "\n",
    "If S[[i]] == \"I\", then A[[i]] < A[[i+1]]\n",
    "\n",
    "If S[[i]] == \"D\", then A[[i]] > A[[i+1]]\n",
    " \n",
    "\n",
    "Example 1:\n",
    "\n",
    "Input: \"IDID\" | Output: [[0,4,1,3,2]]\n",
    "\n",
    "Example 2:\n",
    "\n",
    "Input: \"III\" | Output: [[0,1,2,3]]\n",
    "\n",
    "Example 3:\n",
    "\n",
    "Input: \"DDI\" | Output: [[3,2,0,1]]\n",
    "\n",
    "Expalination: \n",
    "\n",
    "[[--I->--D->--I->--D->-]] \n",
    "\n",
    "[[0--->4--->1--->3--->2]]\n",
    "\n",
    "[[0-I->4-D->1-I->3-D->2]]"
   ],
   "metadata": {}
  },
  {
   "cell_type": "code",
   "execution_count": null,
   "source": [],
   "outputs": [],
   "metadata": {}
  },
  {
   "cell_type": "markdown",
   "source": [
    "## Multiply Strings\n",
    "Given two non-negative integers num1 and num2 represented as strings, return the product of num1 and num2, also represented as a string.\n",
    "\n",
    "Note: You must not use any built-in BigInteger library or convert the inputs to integer directly.\n",
    "\n",
    "Example 1:\n",
    "\n",
    "Input: num1 = \"2\", num2 = \"3\" | \n",
    "Output: \"6\"\n",
    "\n",
    "Example 2:\n",
    "\n",
    "Input: num1 = \"123\", num2 = \"456\" | \n",
    "Output: \"56088\""
   ],
   "metadata": {}
  },
  {
   "cell_type": "code",
   "execution_count": 57,
   "source": [
    "# Method 1 (Your runtime beats 55.55 % of python3 submissions)\n",
    "def multiply(num1,num2):\n",
    "        def helper(num):\n",
    "                res = 0\n",
    "                for i in num:\n",
    "                        res *= 10\n",
    "                        for j in '0123456789':\n",
    "                                res += i > j\n",
    "                return res\n",
    "        return helper(num1) * helper(num2)\n",
    "\n",
    "# multiply('2','3')\n",
    "print(f'Method 1 output: {multiply(\"2\",\"3\")}')\n",
    "\n",
    "# Merthod 2 (Your runtime beats 98.42 % of python3 submissions)\n",
    "def strToInt(num1,num2):\n",
    "        r,q = 0,0\n",
    "        c = {'0': 0, '1': 1, '2': 2, '3': 3, '4': 4, '5': 5, '6': 6, '7': 7, '8': 8, '9': 9}\n",
    "        for i in num1:\n",
    "                r = 10*r + c[i]\n",
    "        for j in num2:\n",
    "                q = 10*q + c[j]\n",
    "        return str(r*q)\n",
    "print(f'Method 2 output: {strToInt(\"2\",\"3\")}')"
   ],
   "outputs": [
    {
     "output_type": "stream",
     "name": "stdout",
     "text": [
      "Method 1 output: 6\n",
      "Method 2 output: 6\n"
     ]
    }
   ],
   "metadata": {}
  },
  {
   "cell_type": "markdown",
   "source": [
    "## Add Binary\n",
    "\n",
    "Given two binary strings a and b, return their sum as a binary string.\n",
    "\n",
    "Example 1:\n",
    "\n",
    "Input: a = \"11\", b = \"1\" | \n",
    "Output: \"100\"\n",
    "\n",
    "Example 2:\n",
    "\n",
    "Input: a = \"1010\", b = \"1011\" | \n",
    "Output: \"10101\""
   ],
   "metadata": {}
  },
  {
   "cell_type": "code",
   "execution_count": 61,
   "source": [
    "# Method 1 (Your runtime beats 90.90 % of python3 submissions)\n",
    "def binSum(a,b):\n",
    "    return bin(int(a,2) + int(b,2))[2:]\n",
    "binSum('1010','1011')"
   ],
   "outputs": [
    {
     "output_type": "execute_result",
     "data": {
      "text/plain": [
       "'10101'"
      ]
     },
     "metadata": {},
     "execution_count": 61
    }
   ],
   "metadata": {}
  },
  {
   "cell_type": "markdown",
   "source": [
    "### Add to Array-Form of Integer\n",
    "For a non-negative integer X, the array-form of X is an array of its digits in left to right order.  For example, if X = 1231, then the array form is [[1,2,3,1]].\n",
    "\n",
    "Given the array-form A of a non-negative integer X, return the array-form of the integer X+K.\n",
    "\n",
    "Example 1:\n",
    "\n",
    "Input: A = [[1,2,0,0]], K = 34 | \n",
    "Output: [[1,2,3,4]]\n",
    "\n",
    "Explanation: 1200 + 34 = 1234\n",
    "\n",
    "Example 2:\n",
    "\n",
    "Input: A = [[2,7,4]], K = 181 | \n",
    "Output: [[4,5,5]]\n",
    "\n",
    "Explanation: 274 + 181 = 455\n",
    "\n",
    "Example 3:\n",
    "\n",
    "Input: A = [[2,1,5]], K = 806 | \n",
    "Output: [[1,0,2,1]]\n",
    "\n",
    "Explanation: 215 + 806 = 1021\n",
    "\n",
    "Example 4:\n",
    "\n",
    "Input: A = [[9,9,9,9,9,9,9,9,9,9]], K = 1 | \n",
    "Output: [[1,0,0,0,0,0,0,0,0,0,0]]\n",
    "\n",
    "Explanation: 9999999999 + 1 = 10000000000"
   ],
   "metadata": {}
  },
  {
   "cell_type": "code",
   "execution_count": 98,
   "source": [
    "# Method 1 (Your runtime beats 51.58 % of python3 submissions)\n",
    "def arrToInt(aList,k):\n",
    "    b = [str(i) for i in aList]\n",
    "    c = int(''.join(b)) + k\n",
    "    d = [int(i) for i in ''.join(str(c))]\n",
    "    return d\n",
    "print(f'Method 1 output: {arrToInt([9,9,9,9,9,9,9,9,9,9],1)}')"
   ],
   "outputs": [
    {
     "output_type": "stream",
     "name": "stdout",
     "text": [
      "Method 1 output: [1, 0, 0, 0, 0, 0, 0, 0, 0, 0, 0]\n"
     ]
    }
   ],
   "metadata": {}
  },
  {
   "cell_type": "markdown",
   "source": [
    "### Remove Duplicates from Sorted Array II\n",
    "Given a sorted array nums, remove the duplicates in-place such that duplicates appeared at most twice and return the new length.\n",
    "\n",
    "Do not allocate extra space for another array; you must do this by modifying the input array in-place with O(1) extra memory.\n",
    "\n",
    "Clarification:\n",
    "\n",
    "Confused why the returned value is an integer, but your answer is an array?\n",
    "\n",
    "Note that the input array is passed in by reference, which means a modification to the input array will be known to the caller.\n",
    "\n",
    "Example 1:\n",
    "\n",
    "Input: nums = [[1,1,1,2,2,3]] |\n",
    "Output: 5, nums = [[1,1,2,2,3]]\n",
    "\n",
    "Explanation: Your function should return length = 5, with the first five elements of nums being 1, 1, 2, 2 and 3 respectively. It doesn't matter what you leave beyond the returned length.\n",
    "\n",
    "Example 2:\n",
    "\n",
    "Input: nums = [[0,0,1,1,1,1,2,3,3]] | \n",
    "Output: 7, nums = [[0,0,1,1,2,3,3]]\n",
    "\n",
    "Explanation: Your function should return length = 7, with the first seven elements of nums being modified to 0, 0, 1, 1, 2, 3 and 3 respectively. It doesn't matter what values are set beyond the returned length."
   ],
   "metadata": {}
  },
  {
   "cell_type": "code",
   "execution_count": 162,
   "source": [
    "# Method 1 (Leet Code 118 / 164 test cases passed)\n",
    "def removeDuplicates(nums):\n",
    "    for i in nums:\n",
    "            if nums.count(i) > 2:\n",
    "                    nums.remove(i)\n",
    "    return len(nums)\n",
    "print(f'Method 1 output: {removeDuplicates([-50,-50,-49,-48,-47,-47,-47,-46,-45,-43,-42,-41,-40,-40,-40,-40,-40,-40,-39,-38,-38,-38,-38,-37,-36,-35,-34,-34,-34,-33,-32,-31,-30,-28,-27,-26,-26,-26,-25,-25,-24,-24,-24,-22,-22,-21,-21,-21,-21,-21,-20,-19,-18,-18,-18,-17,-17,-17,-17,-17,-16,-16,-15,-14,-14,-14,-13,-13,-12,-12,-10,-10,-9,-8,-8,-7,-7,-6,-5,-4,-4,-4,-3,-1,1,2,2,3,4,5,6,6,7,8,8,9,9,10,10,10,11,11,12,12,13,13,13,14,14,14,15,16,17,17,18,20,21,22,22,22,23,23,25,26,28,29,29,29,30,31,31,32,33,34,34,34,36,36,37,37,38,38,38,39,40,40,40,41,42,42,43,43,44,44,45,45,45,46,47,47,47,47,48,49,49,49,50])}')\n",
    "\n",
    "# Method 2\n",
    "def foo(nums):\n",
    "    for val in set(nums):\n",
    "            while nums.count(val) > 2:\n",
    "                nums.remove(val)\n",
    "    return len(nums)\n",
    "print(f'Method 2 output: {foo([-50,-50,-49,-48,-47,-47,-47,-46,-45,-43,-42,-41,-40,-40,-40,-40,-40,-40,-39,-38,-38,-38,-38,-37,-36,-35,-34,-34,-34,-33,-32,-31,-30,-28,-27,-26,-26,-26,-25,-25,-24,-24,-24,-22,-22,-21,-21,-21,-21,-21,-20,-19,-18,-18,-18,-17,-17,-17,-17,-17,-16,-16,-15,-14,-14,-14,-13,-13,-12,-12,-10,-10,-9,-8,-8,-7,-7,-6,-5,-4,-4,-4,-3,-1,1,2,2,3,4,5,6,6,7,8,8,9,9,10,10,10,11,11,12,12,13,13,13,14,14,14,15,16,17,17,18,20,21,22,22,22,23,23,25,26,28,29,29,29,30,31,31,32,33,34,34,34,36,36,37,37,38,38,38,39,40,40,40,41,42,42,43,43,44,44,45,45,45,46,47,47,47,47,48,49,49,49,50])}')"
   ],
   "outputs": [
    {
     "output_type": "stream",
     "name": "stdout",
     "text": [
      "Method 1 output: 137\n",
      "Method 2 output: 136\n"
     ]
    }
   ],
   "metadata": {}
  },
  {
   "cell_type": "markdown",
   "source": [
    " ### Merge Intervals\n",
    " Given an array of intervals where intervals[[i]] = [[starti, endi]], merge all overlapping intervals, and return an array of the non-overlapping intervals that cover all the intervals in the input.\n",
    "\n",
    "Example 1:\n",
    "\n",
    "Input: intervals = [[[1,3]],[[2,6]],[[8,10]],[[15,18]]] | \n",
    "Output: [[[1,6]],[[8,10]],[[15,18]]]\n",
    "\n",
    "Explanation: Since intervals [[1,3]] and [[2,6]] overlaps, merge them into [[1,6]].\n",
    "\n",
    "Example 2:\n",
    "\n",
    "Input: intervals = [[[1,4]],[[4,5]]] | \n",
    "Output: [[[1,5]]]\n",
    "\n",
    "Explanation: Intervals [[1,4]] and [[4,5]] are considered overlapping."
   ],
   "metadata": {}
  },
  {
   "cell_type": "code",
   "execution_count": 188,
   "source": [
    "# Method 1 (Your runtime beats 75.54 % of python3 submissions)\n",
    "def intervalMerge(aList):\n",
    "    r = []\n",
    "    for i in sorted(intervals,key=lambda x:x[0]):\n",
    "        if r and i[0] <= r[-1][1]:\n",
    "            r[-1][1] = max(r[-1][1],i[-1])\n",
    "        else:\n",
    "            r.append(i)\n",
    "    return r\n",
    "intervalMerge([[1,3],[2,6],[8,10],[15,18]])"
   ],
   "outputs": [
    {
     "output_type": "execute_result",
     "data": {
      "text/plain": [
       "[[1, 6], [8, 10], [15, 18]]"
      ]
     },
     "metadata": {},
     "execution_count": 188
    }
   ],
   "metadata": {}
  },
  {
   "cell_type": "markdown",
   "source": [
    "### Valid Number\n",
    "A valid number can be split up into these components (in order):\n",
    "\n",
    "A decimal number or an integer.\n",
    "    \n",
    "    1. (Optional) An 'e' or 'E', followed by an integer.\n",
    "    \n",
    "    2. One of the following formats:\n",
    "        \n",
    "        1. At least one digit, followed by a dot '.'.\n",
    "        \n",
    "        2. At least one digit, followed by a dot '.', followed by at least one digit.\n",
    "        \n",
    "        3. A dot '.', followed by at least one digit.\n",
    "\n",
    "An integer can be split up into these components (in order):\n",
    "\n",
    "    1. (Optional) A sign character (either '+' or '-').\n",
    "    \n",
    "    2. At least one digit.\n",
    "\n",
    "For example, all the following are valid numbers: [[\"2\", \"0089\", \"-0.1\", \"+3.14\", \"4.\", \"-.9\", \"2e10\", \"-90E3\", \"3e+7\", \"+6e-1\", \"53.5e93\", \"-123.456e789\"]], while the following are not valid numbers: [[\"abc\", \"1a\", \"1e\", \"e3\", \"99e2.5\", \"--6\", \"-+3\", \"95a54e53\"]].\n",
    "\n",
    "Given a string s, return true if s is a valid number.\n",
    "\n",
    "Example 1:\n",
    "\n",
    "Input: s = \"0\" |\n",
    "Output: true\n",
    "\n",
    "Example 2:\n",
    "\n",
    "Input: s = \"e\" |\n",
    "Output: false\n",
    "\n",
    "Example 3:\n",
    "\n",
    "Input: s = \".\" | \n",
    "Output: false\n",
    "\n",
    "Example 4:\n",
    "\n",
    "Input: s = \".1\" | \n",
    "Output: true"
   ],
   "metadata": {}
  },
  {
   "cell_type": "code",
   "execution_count": 23,
   "source": [
    "def validNum(s):\n",
    "    try:\n",
    "        if 'inf' in s.lower() or s.isalpha():\n",
    "            return False\n",
    "        if float(s) or float(s) >= 0:\n",
    "            return True\n",
    "    except:\n",
    "        return False\n",
    "validNum('inf')"
   ],
   "outputs": [
    {
     "output_type": "execute_result",
     "data": {
      "text/plain": [
       "False"
      ]
     },
     "metadata": {},
     "execution_count": 23
    }
   ],
   "metadata": {}
  },
  {
   "cell_type": "markdown",
   "source": [
    "### Move Zeroes\n",
    "\n",
    "Given an integer array nums, move all 0's to the end of it while maintaining the relative order of the non-zero elements.\n",
    "\n",
    "Note: that you must do this in-place without making a copy of the array.\n",
    "\n",
    " \n",
    "\n",
    "Example 1:\n",
    "\n",
    "Input: nums = [[0,1,0,3,12]] | \n",
    "Output: [[1,3,12,0,0]]\n",
    "\n",
    "Example 2:\n",
    "\n",
    "Input: nums = [[0]] | \n",
    "Output: [[0]]"
   ],
   "metadata": {}
  },
  {
   "cell_type": "code",
   "execution_count": 2,
   "source": [
    "# Method 1\n",
    "def moveZeros(l):\n",
    "    for i in l:\n",
    "        if i == 0:\n",
    "            l.append(l.pop(l.index(i)))\n",
    "    return l\n",
    "print(f'Method 1 output: {moveZeros([0,1,0,3,12])}')"
   ],
   "outputs": [
    {
     "output_type": "stream",
     "name": "stdout",
     "text": [
      "Method 1 output: [1, 3, 12, 0, 0]\n"
     ]
    }
   ],
   "metadata": {}
  },
  {
   "cell_type": "markdown",
   "source": [
    "### Reverse Vowels of a String\n",
    "\n",
    "Given a string s, reverse only all the vowels in the string and return it.\n",
    "\n",
    "The vowels are 'a', 'e', 'i', 'o', and 'u', and they can appear in both cases.\n",
    "\n",
    "Example 1:\n",
    "\n",
    "Input: s = \"hello\" | \n",
    "Output: \"holle\"\n",
    "\n",
    "Example 2:\n",
    "\n",
    "Input: s = \"leetcode\" | \n",
    "Output: \"leotcede\""
   ],
   "metadata": {}
  },
  {
   "cell_type": "code",
   "execution_count": 58,
   "source": [
    "import re\n",
    "# Method 1 \n",
    "def revVowels(s):\n",
    "    vowels = re.findall('(?i)[aeiou]', s)\n",
    "    return re.sub('(?i)[aeiou]', lambda m: vowels.pop(), s)\n",
    "print(f'Method 1 output: {revVowels(\"hello\")}')"
   ],
   "outputs": [
    {
     "output_type": "stream",
     "name": "stdout",
     "text": [
      "Method 1 output: holle\n"
     ]
    }
   ],
   "metadata": {}
  },
  {
   "cell_type": "markdown",
   "source": [
    "### Maximum Product of Two Elements in an Array\n",
    "Given the array of integers nums, you will choose two different indices i and j of that array. Return the maximum value of (nums[[i]]-1)*(nums[[j]]-1).\n",
    "\n",
    "Example 1:\n",
    "\n",
    "Input: nums = [[3,4,5,2]] | \n",
    "Output: 12 \n",
    "\n",
    "Explanation: If you choose the indices i=1 and j=2 (indexed from 0), you will get the maximum value, that is, (nums[1]-1)*(nums[2]-1) = (4-1)*(5-1) = 3*4 = 12. \n",
    "\n",
    "Example 2:\n",
    "\n",
    "Input: nums = [[1,5,4,5]] | \n",
    "Output: 16\n",
    "\n",
    "Explanation: Choosing the indices i=1 and j=3 (indexed from 0), you will get the maximum value of (5-1)*(5-1) = 16.\n",
    "Example 3:\n",
    "\n",
    "Input: nums = [[3,7]] | \n",
    "Output: 12"
   ],
   "metadata": {}
  },
  {
   "cell_type": "code",
   "execution_count": 43,
   "source": [
    "# Method 1\n",
    "def prod_two(aList):\n",
    "    aList.sort()\n",
    "    a,b = aList[-1],aList[-2]\n",
    "    prod = (a-1) * (b-1)\n",
    "    return prod\n",
    "print(f'Method 1 output: {prod_two([3,8,5,2])}')\n",
    "\n",
    "# Method 2\n",
    "def prod_two2(aList):\n",
    "    a,b = 0,0\n",
    "    for i in aList:\n",
    "        if i > a:\n",
    "            b = a \n",
    "            a = i\n",
    "        elif i > b and i <= a:b = i\n",
    "    return (a-1) * (b-1)\n",
    "print(f'Method 2 output: {prod_two2([3,8,5,2])}')"
   ],
   "outputs": [
    {
     "output_type": "stream",
     "name": "stdout",
     "text": [
      "Method 1 output: 28\n",
      "Method 2 output: 28\n"
     ]
    }
   ],
   "metadata": {}
  },
  {
   "cell_type": "markdown",
   "source": [
    "### Product of Array Except Self\n",
    "Given an integer array nums, return an array answer such that answer[[i]] is equal to the product of all the elements of nums except nums[i].\n",
    "\n",
    "The product of any prefix or suffix of nums is guaranteed to fit in a 32-bit integer.\n",
    "\n",
    "Example 1:\n",
    "\n",
    "Input: nums = [[1,2,3,4]] | \n",
    "Output: [[24,12,8,6]]\n",
    "\n",
    "Example 2:\n",
    "\n",
    "Input: nums = [[-1,1,0,-3,3]] | \n",
    "Output: [[0,0,9,0,0]]"
   ],
   "metadata": {}
  },
  {
   "cell_type": "code",
   "execution_count": 14,
   "source": [
    "from functools import reduce\n",
    "# Method 1 (Not feasible for larger numbers)\n",
    "def ProdArray1(nums):\n",
    "    return [reduce(lambda x,y:x*y,nums[:i]+nums[i+1:]) for i in range(len(nums))]\n",
    "print(f'Method 1 output: {ProdArray1([1,2,3,4])}')\n",
    "\n",
    "# Method 2\n",
    "def ProdArray2(nums):\n",
    "    result = [1] * len(nums)\n",
    "    for i in range(len(nums)):\n",
    "        result[i] = nums[i-1] * result[i-1]\n",
    "    right_prod = 1\n",
    "    for i in range(len(nums)-1, -1, -1):\n",
    "        result[i] *= right_prod\n",
    "        right_prod *= nums[i]\n",
    "    return result\n",
    "print(f'Method 2 output: {ProdArray2([-1,1,0,-3,3])}')"
   ],
   "outputs": [
    {
     "output_type": "stream",
     "name": "stdout",
     "text": [
      "Method 1 output: [24, 12, 8, 6]\n",
      "Method 2 output: [0, 0, 27, 0, 0]\n"
     ]
    }
   ],
   "metadata": {}
  },
  {
   "cell_type": "markdown",
   "source": [
    "### Valid Parentheses\n",
    "Given a string s containing just the characters '(', ')', '{', '}', '[' and ']', determine if the input string is valid.\n",
    "\n",
    "An input string is valid if:\n",
    "\n",
    "Open brackets must be closed by the same type of brackets.\n",
    "\n",
    "Open brackets must be closed in the correct order.\n",
    " \n",
    "\n",
    "Example 1:\n",
    "\n",
    "Input: s = \"()\" | \n",
    "Output: true\n",
    "\n",
    "Example 2:\n",
    "\n",
    "Input: s = \"()[]{}\" | \n",
    "Output: true\n",
    "\n",
    "Example 3:\n",
    "\n",
    "Input: s = \"(]\" | \n",
    "Output: false\n",
    "\n",
    "Example 4:\n",
    "\n",
    "Input: s = \"([)]\" | \n",
    "Output: false\n",
    "\n",
    "Example 5:\n",
    "\n",
    "Input: s = \"{[]}\" | \n",
    "Output: true"
   ],
   "metadata": {}
  },
  {
   "cell_type": "code",
   "execution_count": 46,
   "source": [
    "# Method 1 (Leetcode 67 / 91 test cases passed.)\n",
    "def validParenthesis(string):\n",
    "    stack = []\n",
    "    open_brackets = [\"(\",\"[\",\"{\"]\n",
    "    close_brackets = [\")\",\"]\",\"}\"]\n",
    "    if len(string) == 1:out = False\n",
    "    else:\n",
    "        for i in string:\n",
    "            if i in open_brackets: # To check if our paraenthesis present in our list and push it to our stack\n",
    "                stack.append(i)\n",
    "            elif i in close_brackets:\n",
    "                if (len(stack) > 0) and (open_brackets[close_brackets.index(i)] == stack[len(stack) -1]):\n",
    "                    stack.pop()\n",
    "                else:\n",
    "                    break\n",
    "        if len(stack) == 0:\n",
    "            out = True\n",
    "        else:\n",
    "            out = False\n",
    "    return out \n",
    "print(f'Method 1 output: {validParenthesis(\"{({[]})}\")}')"
   ],
   "outputs": [
    {
     "output_type": "stream",
     "name": "stdout",
     "text": [
      "Method 1 output: True\n"
     ]
    }
   ],
   "metadata": {}
  },
  {
   "cell_type": "markdown",
   "source": [
    "### Truncate Sentence\n",
    "A sentence is a list of words that are separated by a single space with no leading or trailing spaces. Each of the words consists of only uppercase and lowercase English letters (no punctuation).\n",
    "\n",
    "For example, \"Hello World\", \"HELLO\", and \"hello world hello world\" are all sentences.\n",
    "You are given a sentence s​​​​​​ and an integer k​​​​​​. You want to truncate s​​​​​​ such that it contains only the first k​​​​​​ words. Return s​​​​​​ after truncating it.\n",
    "\n",
    "Example 1:\n",
    "\n",
    "Input: s = \"Hello how are you Contestant\", k = 4 | \n",
    "Output: \"Hello how are you\"\n",
    "Explanation:\n",
    "The words in s are [[\"Hello\", \"how\" \"are\", \"you\", \"Contestant\"]].\n",
    "\n",
    "The first 4 words are [[\"Hello\", \"how\", \"are\", \"you\"]].\n",
    "\n",
    "Hence, you should return \"Hello how are you\".\n",
    "\n",
    "Example 2:\n",
    "\n",
    "Input: s = \"What is the solution to this problem\", k = 4 | \n",
    "Output: \"What is the solution\"\n",
    "\n",
    "Explanation:\n",
    "\n",
    "The words in s are [[\"What\", \"is\" \"the\", \"solution\", \"to\", \"this\", \"problem\"]].\n",
    "The first 4 words are [[\"What\", \"is\", \"the\", \"solution\"]].\n",
    "Hence, you should return \"What is the solution\".\n",
    "\n",
    "Example 3:\n",
    "\n",
    "Input: s = \"chopper is not a tanuki\", k = 5 | \n",
    "Output: \"chopper is not a tanuki\""
   ],
   "metadata": {}
  },
  {
   "cell_type": "code",
   "execution_count": 52,
   "source": [
    "# Method 1 (Leet code accuracy 96%)\n",
    "def truncateSentence(s,k):\n",
    "    return \" \".join(s.split()[:k])\n",
    "print(f'Method 1 output is {truncateSentence(\"Hello how are you Contestant\",4)}')"
   ],
   "outputs": [
    {
     "output_type": "stream",
     "name": "stdout",
     "text": [
      "Method 1 output is Hello how are you\n"
     ]
    }
   ],
   "metadata": {}
  },
  {
   "cell_type": "markdown",
   "source": [
    "### Determine Color of a Chessboard Square\n",
    "You are given coordinates, a string that represents the coordinates of a square of the chessboard. Below is a chessboard for your reference.\n",
    "\n",
    "Return true if the square is white, and false if the square is black.\n",
    "\n",
    "The coordinate will always represent a valid chessboard square. The coordinate will always have the letter first, and the number second.\n",
    "\n",
    " \n",
    "\n",
    "Example 1:\n",
    "\n",
    "Input: coordinates = \"a1\" | \n",
    "Output: false\n",
    "\n",
    "Explanation: From the chessboard above, the square with coordinates \"a1\" is black, so return false.\n",
    "\n",
    "Example 2:\n",
    "\n",
    "Input: coordinates = \"h3\" | \n",
    "Output: true\n",
    "\n",
    "Explanation: From the chessboard above, the square with coordinates \"h3\" is white, so return true.\n",
    "\n",
    "Example 3:\n",
    "\n",
    "Input: coordinates = \"c7\" | \n",
    "Output: false"
   ],
   "metadata": {}
  },
  {
   "cell_type": "code",
   "execution_count": null,
   "source": [],
   "outputs": [],
   "metadata": {}
  },
  {
   "cell_type": "markdown",
   "source": [
    "### Sign of the Product of an Array\n",
    "\n",
    "There is a function signFunc(x) that returns:\n",
    "\n",
    "1 if x is positive.\n",
    "\n",
    "-1 if x is negative.\n",
    "\n",
    "0 if x is equal to 0.\n",
    "\n",
    "You are given an integer array nums. Let product be the product of all values in the array nums.\n",
    "\n",
    "Return signFunc(product).\n",
    "\n",
    " \n",
    "\n",
    "Example 1:\n",
    "\n",
    "Input: nums = [[-1,-2,-3,-4,3,2,1]] | \n",
    "Output: 1\n",
    "\n",
    "Explanation: The product of all values in the array is 144, and signFunc(144) = 1\n",
    "\n",
    "Example 2:\n",
    "\n",
    "Input: nums = [[1,5,0,2,-3]] | \n",
    "Output: 0\n",
    "\n",
    "Explanation: The product of all values in the array is 0, and signFunc(0) = 0\n",
    "\n",
    "Example 3:\n",
    "\n",
    "Input: nums = [[-1,1,-1,1,-1]] | \n",
    "Output: -1\n",
    "\n",
    "Explanation: The product of all values in the array is -1, and signFunc(-1) = -1"
   ],
   "metadata": {}
  },
  {
   "cell_type": "code",
   "execution_count": 39,
   "source": [
    "# Method 1 using numpy package (Leetcode 30 / 74 test cases passed.)\n",
    "inputList = [[-1,-2,-3,-4,3,2,1],[1,5,0,2,-3],[-1,1,-1,1,-1]]\n",
    "import numpy as np\n",
    "def arrayProd(nums):\n",
    "    if np.prod(nums) > 1:out = 1\n",
    "    elif np.prod(nums) < 0:out = -1\n",
    "    else:out = 0\n",
    "    return out \n",
    "\n",
    "print('Method 1 checking........')\n",
    "method1_ans = [arrayProd(i) for i in inputList]\n",
    "print(f'Method 1 check done and value is {method1_ans}')\n",
    "\n",
    "print()\n",
    "\n",
    "# Method 2 (Most precise solution and optimal one 100% efficency)\n",
    "def arrayProd2(nums):\n",
    "    res = 1\n",
    "    for i in nums:\n",
    "        res = res * i\n",
    "    if res > 1:out = 1\n",
    "    elif res < 0:out = -1\n",
    "    else:out = 0\n",
    "    return out \n",
    "\n",
    "print('Method 2 checking.......')\n",
    "method2_ans = [arrayProd2(i) for i in inputList]\n",
    "print(f'Method 2 check done and value is {method2_ans}')"
   ],
   "outputs": [
    {
     "output_type": "stream",
     "name": "stdout",
     "text": [
      "Method 1 checking........\n",
      "Method 1 check done and value is [1, 0, -1]\n",
      "\n",
      "Method 2 checking.......\n",
      "Method 2 check done and value is [1, 0, -1]\n"
     ]
    }
   ],
   "metadata": {}
  },
  {
   "cell_type": "markdown",
   "source": [
    "### Number of Different Integers in a String\n",
    "You are given a string word that consists of digits and lowercase English letters.\n",
    "\n",
    "You will replace every non-digit character with a space. For example, \"a123bc34d8ef34\" will become \" 123  34 8  34\". Notice that you are left with some integers that are separated by at least one space: \"123\", \"34\", \"8\", and \"34\".\n",
    "\n",
    "Return the number of different integers after performing the replacement operations on word.\n",
    "\n",
    "Two integers are considered different if their decimal representations without any leading zeros are different.\n",
    "\n",
    " \n",
    "\n",
    "Example 1:\n",
    "\n",
    "Input: word = \"a123bc34d8ef34\" | \n",
    "Output: 3\n",
    "\n",
    "Explanation: The three different integers are \"123\", \"34\", and \"8\". Notice that \"34\" is only counted once.\n",
    "\n",
    "Example 2:\n",
    "\n",
    "Input: word = \"leet1234code234\" | \n",
    "Output: 2\n",
    "\n",
    "Example 3:\n",
    "\n",
    "Input: word = \"a1b01c001\" | \n",
    "Output: 1\n",
    "\n",
    "Explanation: The three integers \"1\", \"01\", and \"001\" all represent the same integer because\n",
    "the leading zeros are ignored when comparing their decimal values."
   ],
   "metadata": {}
  },
  {
   "cell_type": "code",
   "execution_count": 73,
   "source": [
    "# Method 1\n",
    "def findInt(string):\n",
    "    numVal = \"0123456789\"\n",
    "    for i in range(len(string)):\n",
    "        if string[i] not in numVal:\n",
    "            string = string.replace(string[i],\" \")\n",
    "    \n",
    "    splitVal = string.split()\n",
    "    for i in range(len(splitVal)):\n",
    "        splitVal[i] = int(splitVal[i])\n",
    "    out = set(splitVal)\n",
    "    return len(out)\n",
    "print(f'Method 1 output is {findInt(\"a123bc34d8ef34\")}')"
   ],
   "outputs": [
    {
     "output_type": "stream",
     "name": "stdout",
     "text": [
      "Method 1 output is 3\n"
     ]
    }
   ],
   "metadata": {}
  },
  {
   "cell_type": "markdown",
   "source": [
    "### Second Largest Digit in a String\n",
    "\n",
    "Given an alphanumeric string s, return the second largest numerical digit that appears in s, or -1 if it does not exist.\n",
    "\n",
    "An alphanumeric string is a string consisting of lowercase English letters and digits.\n",
    "\n",
    "\n",
    "Example 1:\n",
    "\n",
    "Input: s = \"dfa12321afd\" | \n",
    "Output: 2\n",
    "\n",
    "Explanation: The digits that appear in s are [[1, 2, 3]]. The second largest digit is 2.\n",
    "\n",
    "Example 2:\n",
    "\n",
    "Input: s = \"abc1111\" |\n",
    "Output: -1\n",
    "\n",
    "Explanation: The digits that appear in s are [[1]]. There is no second largest digit. "
   ],
   "metadata": {}
  },
  {
   "cell_type": "code",
   "execution_count": 8,
   "source": [
    "# Method 1 using regular expression package (Your runtime beats 80.39 % of python3 submissions.)\n",
    "import re\n",
    "def secondLargestDigi(stirng):\n",
    "    val = re.findall('[0-9]',stirng)\n",
    "    output = list(set(val))\n",
    "    output.sort()\n",
    "    if len(output) <= 1: out = -1\n",
    "    else: out = int(output[-2])\n",
    "    return out\n",
    "print(f'Method 1 output is {secondLargestDigi(\"abc1111\")}')"
   ],
   "outputs": [
    {
     "output_type": "stream",
     "name": "stdout",
     "text": [
      "Method 1 output is -1\n"
     ]
    }
   ],
   "metadata": {}
  },
  {
   "cell_type": "markdown",
   "source": [
    "### Sum of Unique Elements\n",
    "You are given an integer array nums. The unique elements of an array are the elements that appear exactly once in the array.\n",
    "\n",
    "Return the sum of all the unique elements of nums.\n",
    "\n",
    "\n",
    "Example 1:\n",
    "\n",
    "Input: nums = [[1,2,3,2]] | \n",
    "Output: 4\n",
    "\n",
    "Explanation: The unique elements are [[1,3]], and the sum is 4.\n",
    "\n",
    "Example 2:\n",
    "\n",
    "Input: nums = [[1,1,1,1,1]] | \n",
    "Output: 0\n",
    "\n",
    "Explanation: There are no unique elements, and the sum is 0.\n",
    "Example 3:\n",
    "\n",
    "Input: nums = [[1,2,3,4,5]] | \n",
    "Output: 15\n",
    "\n",
    "Explanation: The unique elements are [[1,2,3,4,5]], and the sum is 15."
   ],
   "metadata": {}
  },
  {
   "cell_type": "code",
   "execution_count": 7,
   "source": [
    "# Method 1 (leet code 35 / 73 test cases passed.)\n",
    "def uniqueElements(nums):\n",
    "    if len(nums) <= 1: out = nums[0]\n",
    "    else:\n",
    "        uniqueVal = list(set(nums))\n",
    "        for i in uniqueVal:\n",
    "            if nums.count(i) >= 2:\n",
    "                uniqueVal.remove(i)\n",
    "        if len(uniqueVal) <= 1:out = 0\n",
    "        else:out = sum(uniqueVal)\n",
    "    return out\n",
    "print(f'Method 1 output {uniqueElements([60,89,2,15,29,47,42])}')\n",
    "\n",
    "# Method 2\n",
    "def uniqueElements2(nums):\n",
    "    uniq = []\n",
    "    [uniq.append(num) for num in nums if nums.count(num) == 1]\n",
    "    return sum(uniq)\n",
    "print(f'Method 2 output {uniqueElements2([60,89,2,15,29,47,42])}')"
   ],
   "outputs": [
    {
     "output_type": "stream",
     "name": "stdout",
     "text": [
      "Method 1 output 284\n",
      "Method 2 output 284\n"
     ]
    }
   ],
   "metadata": {}
  },
  {
   "cell_type": "markdown",
   "source": [
    "### Count of Matches in Tournament\n",
    "You are given an integer n, the number of teams in a tournament that has strange rules:\n",
    "\n",
    "If the current number of teams is even, each team gets paired with another team. A total of n / 2 matches are played, and n / 2 teams advance to the next round.\n",
    "If the current number of teams is odd, one team randomly advances in the tournament, and the rest gets paired. A total of (n - 1) / 2 matches are played, and (n - 1) / 2 + 1 teams advance to the next round.\n",
    "Return the number of matches played in the tournament until a winner is decided.\n",
    "\n",
    " \n",
    "\n",
    "Example 1:\n",
    "\n",
    "Input: n = 7 |\n",
    "Output: 6\n",
    "\n",
    "Explanation: Details of the tournament: \n",
    "    \n",
    "    - 1st Round: Teams = 7, Matches = 3, and 4 teams advance.\n",
    "    \n",
    "    - 2nd Round: Teams = 4, Matches = 2, and 2 teams advance.\n",
    "    \n",
    "    - 3rd Round: Teams = 2, Matches = 1, and 1 team is declared the winner.\n",
    "\n",
    "Total number of matches = 3 + 2 + 1 = 6.\n",
    "\n",
    "Example 2:\n",
    "\n",
    "Input: n = 14 | \n",
    "Output: 13\n",
    "\n",
    "Explanation: Details of the tournament:\n",
    "\n",
    "    - 1st Round: Teams = 14, Matches = 7, and 7 teams advance.\n",
    "    \n",
    "    - 2nd Round: Teams = 7, Matches = 3, and 4 teams advance.\n",
    "    \n",
    "    - 3rd Round: Teams = 4, Matches = 2, and 2 teams advance.\n",
    "    \n",
    "    - 4th Round: Teams = 2, Matches = 1, and 1 team is declared the winner.\n",
    "\n",
    "Total number of matches = 7 + 3 + 2 + 1 = 13."
   ],
   "metadata": {}
  },
  {
   "cell_type": "code",
   "execution_count": 13,
   "source": [
    "# Method 1\n",
    "def recur(n):\n",
    "    return n-1 # Since all the sum returns total value - 1 \n",
    "print(f'Method 1 output {recur(7)}')\n",
    "\n",
    "# Method 2\n",
    "# def recur2(n):\n",
    "#     count = 0\n",
    "#     while n != 1:\n",
    "#         match = n //2 \n",
    "#         count += match\n",
    "#         n -= count\n",
    "#     return count\n",
    "# print(f'Method 2 output {recur2(7)}')"
   ],
   "outputs": [
    {
     "output_type": "stream",
     "name": "stdout",
     "text": [
      "Method 1 output 6\n"
     ]
    }
   ],
   "metadata": {}
  },
  {
   "cell_type": "markdown",
   "source": [
    "### Count Odd Numbers in an Interval Range\n",
    "Given two non-negative integers low and high. Return the count of odd numbers between low and high (inclusive).\n",
    "\n",
    "Example 1:\n",
    "\n",
    "Input: low = 3, high = 7 | \n",
    "Output: 3\n",
    "\n",
    "Explanation: The odd numbers between 3 and 7 are [[3,5,7]].\n",
    "\n",
    "Example 2:\n",
    "\n",
    "Input: low = 8, high = 10 | \n",
    "Output: 1\n",
    "\n",
    "Explanation: The odd numbers between 8 and 10 are [[9]]."
   ],
   "metadata": {}
  },
  {
   "cell_type": "code",
   "execution_count": 49,
   "source": [
    "# Method 1 \n",
    "def countOdd(low,high):\n",
    "    if (low and high) % 2 == 0: \n",
    "        out = len([i for i in range(low,high,2)])\n",
    "    elif (low and high) % 2 == 1: \n",
    "        out = len([i for i in range(low,high,2)])\n",
    "    elif (low % 2 == 0) and (high % 2 == 1): \n",
    "        ot = len([i for i in range(low,high,2)])\n",
    "        out = ot - 1\n",
    "    return out\n",
    "print(f'Method 1 output {countOdd(800445804,979430543)}')\n",
    "\n",
    "# Method 2\n",
    "def countOdd2(a,b):\n",
    "    o = [i for i in range(a,b+1)]\n",
    "    v = [j for j in o if j % 2 == 1]\n",
    "    return len(v)\n",
    "print(f'Method 2 output {countOdd2(14,17)}')"
   ],
   "outputs": [
    {
     "output_type": "stream",
     "name": "stdout",
     "text": [
      "Method 1 output 89492370\n",
      "Method 2 output 2\n"
     ]
    }
   ],
   "metadata": {}
  },
  {
   "cell_type": "markdown",
   "source": [
    "### Water Bottles\n",
    "Given numBottles full water bottles, you can exchange numExchange empty water bottles for one full water bottle.The operation of drinking a full water bottle turns it into an empty bottle.Return the maximum number of water bottles you can drink.\n",
    "\n",
    "Example 1:\n",
    "\n",
    "Input: numBottles = 9, numExchange = 3 | \n",
    "Output: 13\n",
    "\n",
    "Explanation: You can exchange 3 empty bottles to get 1 full water bottle. Number of water bottles you can drink: 9 + 3 + 1 = 13.\n",
    "\n",
    "Example 2:\n",
    "\n",
    "Input: numBottles = 15, numExchange = 4 | \n",
    "Output: 19\n",
    "\n",
    "Explanation: You can exchange 4 empty bottles to get 1 full water bottle.  Number of water bottles you can drink: 15 + 3 + 1 = 19.\n",
    "\n",
    "Example 3:\n",
    "\n",
    "Input: numBottles = 5, numExchange = 5 | \n",
    "Output: 6\n",
    "\n",
    "Example 4:\n",
    "\n",
    "Input: numBottles = 2, numExchange = 3 | \n",
    "Output: 2"
   ],
   "metadata": {}
  },
  {
   "cell_type": "code",
   "execution_count": 33,
   "source": [
    "# Method 1 \n",
    "def waterBottles(num,ex):\n",
    "    # Condition one if our number of bottles is lesser than exchange\n",
    "    if num < ex: out = num\n",
    "    # Next condition if both our number of bottles is equal to exchange returns the number of bottle + 1\n",
    "    elif num == ex: out = num + 1\n",
    "    else:\n",
    "        diff = num // ex \n",
    "        if diff > ex:\n",
    "            sec = diff // ex \n",
    "            out = num + (diff + sec)\n",
    "        else:\n",
    "            out = num + ex\n",
    "    return out\n",
    "print(f'Method 1 output {waterBottles(20,4)}')\n",
    "\n",
    "# Method 2 \n",
    "def waterBottles2(num,ex):\n",
    "    return num + (num -1) // (ex - 1)\n",
    "print(f'Method 1 output {waterBottles2(20,4)}')"
   ],
   "outputs": [
    {
     "output_type": "stream",
     "name": "stdout",
     "text": [
      "Method 1 output 26\n",
      "Method 1 output 26\n"
     ]
    }
   ],
   "metadata": {}
  },
  {
   "cell_type": "markdown",
   "source": [
    "### Valid Perfect Square\n",
    "Given a positive integer num, write a function which returns True if num is a perfect square else False.\n",
    "\n",
    "Follow up: Do not use any built-in library function such as sqrt.\n",
    "\n",
    "Example 1:\n",
    "\n",
    "Input: num = 16 | \n",
    "Output: true\n",
    "\n",
    "Example 2:\n",
    "\n",
    "Input: num = 14 | \n",
    "Output: false"
   ],
   "metadata": {}
  },
  {
   "cell_type": "code",
   "execution_count": 8,
   "source": [
    "# Method 1 (Leet code 69 / 70 test cases passed)\n",
    "def validSqrt(num):\n",
    "    numList = [i for i in range(1,int(2147483647 ** 0.5))]\n",
    "    if num ** 0.5 in numList:\n",
    "        out = True\n",
    "    else:\n",
    "        out = False\n",
    "    return out\n",
    "print(f'Method 1 output {validSqrt(16)}')\n",
    "\n",
    "# Method 2 \n",
    "def validSqrt2(num):\n",
    "    if num ** 0.5 == num ** 0.5:out = True\n",
    "    else: out = False\n",
    "    return out\n",
    "print(f'Method 1 output {validSqrt2(16)}')"
   ],
   "outputs": [
    {
     "output_type": "stream",
     "name": "stdout",
     "text": [
      "Method 1 output True\n",
      "Method 1 output True\n"
     ]
    }
   ],
   "metadata": {}
  },
  {
   "cell_type": "markdown",
   "source": [
    "### Check if Binary String Has at Most One Segment of Ones\n",
    "Given a binary string s ​​​​​without leading zeros, return true​​​ if s contains at most one contiguous segment of ones. Otherwise, return false.\n",
    "\n",
    " \n",
    "Example 1:\n",
    "\n",
    "Input: s = \"1001\" |\n",
    "Output: false\n",
    "\n",
    "Explanation: The ones do not form a contiguous segment.\n",
    "\n",
    "Example 2:\n",
    "\n",
    "Input: s = \"110\" | \n",
    "Output: true"
   ],
   "metadata": {}
  },
  {
   "cell_type": "code",
   "execution_count": 10,
   "source": [
    "# Method 1\n",
    "def contiguousSegment(astring):\n",
    "    pat = set(i.strip() for i in astring)\n",
    "    max_len = max([len(i) for i in pat])\n",
    "    empty_string = ''\n",
    "    for i in astring:\n",
    "        seg = empty_string + i\n",
    "        for j in list(pat):\n",
    "            if j in seg:out = True\n",
    "            else:out = False\n",
    "    return out\n",
    "print(f'Method 1 output {contiguousSegment(\"110\")}')\n",
    "\n",
    "# Method 2\n",
    "def contiguousSegment2(astring):\n",
    "    return '01' not in astring\n",
    "print(f'Method 2 output {contiguousSegment2(\"110\")}')"
   ],
   "outputs": [
    {
     "output_type": "stream",
     "name": "stdout",
     "text": [
      "Method 1 output True\n",
      "Method 2 output True\n"
     ]
    }
   ],
   "metadata": {}
  },
  {
   "cell_type": "markdown",
   "source": [
    "# Minimum Distance to the Target Element\n",
    "\n",
    "Given an integer array nums (0-indexed) and two integers target and start, find an index i such that nums[[i]] == target and abs(i - start) is minimized. Note that abs(x) is the absolute value of x.\n",
    "\n",
    "Return abs(i - start).\n",
    "\n",
    "It is guaranteed that target exists in nums.\n",
    "\n",
    " \n",
    "\n",
    "Example 1:\n",
    "\n",
    "Input: nums = [[1,2,3,4,5]], target = 5, start = 3 | \n",
    "Output: 1\n",
    "\n",
    "Explanation: nums[[4]] = 5 is the only value equal to target, so the answer is abs(4 - 3) = 1.\n",
    "\n",
    "Example 2:\n",
    "\n",
    "Input: nums = [[1]], target = 1, start = 0 | \n",
    "Output: 0\n",
    "\n",
    "Explanation: nums[[0]] = 1 is the only value equal to target, so the answer is abs(0 - 0) = 0.\n",
    "\n",
    "Example 3:\n",
    "\n",
    "Input: nums = [[1,1,1,1,1,1,1,1,1,1]], target = 1, start = 0 | \n",
    "Output: 0\n",
    "\n",
    "Explanation: Every value of nums is 1, but nums[[0]] minimizes abs(i - start), which is abs(0 - 0) = 0."
   ],
   "metadata": {}
  },
  {
   "cell_type": "code",
   "execution_count": 267,
   "source": [
    "# Method 1 (Leet code passed 67/72 use cases.)\n",
    "def minDist1(alist,target,start):\n",
    "    return abs(alist.index(target) - start)\n",
    "print(f'Method 1 output {minDist1([5,2,3,5,5],5,2)}')\n",
    "\n",
    "# Method 2 (Yet to test this code)\n",
    "def minDist2(alist,target,start):\n",
    "    if len(list(set(alist))) == 1: out = 0\n",
    "    else:\n",
    "        for i in range(len(alist)):\n",
    "            for j in range(i,len(alist)-1):\n",
    "                if alist[i] == alist[j+1]:\n",
    "                    out = abs(alist.index(alist[i]) - alist.index(start))\n",
    "                else:\n",
    "                    out = abs(alist.index(target) - start)\n",
    "    return out\n",
    "print(f'Method 2 output {minDist2([1,2,3,4,5],5,3)}')\n",
    "\n",
    "# Method 3 (Leet code passed 68/72 use cases.)\n",
    "def minDist3(alist,target,start):\n",
    "    if len(list(set(alist))) == 1:out = 0\n",
    "    else:out = abs(alist.index(target) - start)\n",
    "    return out\n",
    "print(f'Method 3 output {minDist3([5,2,3,5,5],5,2)}')"
   ],
   "outputs": [
    {
     "output_type": "stream",
     "name": "stdout",
     "text": [
      "Method 1 output 2\n",
      "Method 2 output 1\n",
      "Method 3 output 2\n"
     ]
    }
   ],
   "metadata": {}
  },
  {
   "cell_type": "code",
   "execution_count": 21,
   "source": [
    "al,tar,strt = [1,2,3,4,5],5,3"
   ],
   "outputs": [],
   "metadata": {}
  },
  {
   "cell_type": "code",
   "execution_count": 22,
   "source": [
    "for i in range(len(al)):\n",
    "    for j in range(i,len(al)-1):\n",
    "        if al[i] == tar:\n",
    "            out = abs(j-strt)"
   ],
   "outputs": [],
   "metadata": {}
  },
  {
   "cell_type": "code",
   "execution_count": 23,
   "source": [
    "out "
   ],
   "outputs": [
    {
     "output_type": "execute_result",
     "data": {
      "text/plain": [
       "[2]"
      ]
     },
     "metadata": {},
     "execution_count": 23
    }
   ],
   "metadata": {}
  },
  {
   "cell_type": "markdown",
   "source": [
    "# Sum of Digits in Base K\n",
    "\n",
    "Given an integer n (in base 10) and a base k, return the sum of the digits of n after converting n from base 10 to base k.\n",
    "\n",
    "After converting, each digit should be interpreted as a base 10 number, and the sum should be returned in base 10.\n",
    "\n",
    " \n",
    "\n",
    "Example 1:\n",
    "\n",
    "Input: n = 34, k = 6 | \n",
    "Output: 9\n",
    "\n",
    "Explanation: 34 (base 10) expressed in base 6 is 54. 5 + 4 = 9.\n",
    "\n",
    "Example 2:\n",
    "\n",
    "Input: n = 10, k = 10 | \n",
    "Output: 1\n",
    "\n",
    "Explanation: n is already in base 10. 1 + 0 = 1."
   ],
   "metadata": {}
  },
  {
   "cell_type": "code",
   "execution_count": 40,
   "source": [
    "# Method 1\n",
    "def str_base(val, base):\n",
    "    res = ''\n",
    "    while val > 0:\n",
    "        res = str(val % base) + res\n",
    "        val //= base\n",
    "    if res: return sum([int(i) for i in res])\n",
    "    return 0\n",
    "print(f'Method 1 output is {str_base(10,10)}')"
   ],
   "outputs": [
    {
     "output_type": "stream",
     "name": "stdout",
     "text": [
      "Method 1 output is 1\n"
     ]
    }
   ],
   "metadata": {}
  },
  {
   "cell_type": "markdown",
   "source": [
    "# Single Number III\n",
    "\n",
    "Given an integer array nums, in which exactly two elements appear only once and all the other elements appear exactly twice. Find the two elements that appear only once. You can return the answer in any order.\n",
    "\n",
    "Follow up: Your algorithm should run in linear runtime complexity. Could you implement it using only constant space complexity?\n",
    "\n",
    " \n",
    "\n",
    "Example 1:\n",
    "\n",
    "Input: nums = [[1,2,1,3,2,5]] | \n",
    "Output: [[3,5]]\n",
    "\n",
    "Explanation: [[5, 3]] is also a valid answer.\n",
    "\n",
    "Example 2:\n",
    "\n",
    "Input: nums = [[-1,0]] | \n",
    "Output: [[-1,0]]\n",
    "\n",
    "Example 3:\n",
    "\n",
    "Input: nums = [[0,1]] | \n",
    "Output: [{1,0}]"
   ],
   "metadata": {}
  },
  {
   "cell_type": "code",
   "execution_count": 111,
   "source": [
    "# Method 1\n",
    "def singleNum1(alist):\n",
    "    if len(alist) == 2:return alist\n",
    "    else:\n",
    "        dummy = [i for i in alist if alist.count(i) <= 1]\n",
    "    return dummy\n",
    "print(f'Method 1 output is {singleNum1([1,2,1,3,2,5])}')\n",
    "\n",
    "# Method 2\n",
    "def singleNum2(alist):\n",
    "    val = set()\n",
    "    for i in alist:\n",
    "        if i in val:val.remove(i)\n",
    "        else:val.add(i)\n",
    "    return list(val)\n",
    "print(f'Method 2 output is {singleNum2([1,2,1,3,2,5])}')"
   ],
   "outputs": [
    {
     "output_type": "stream",
     "name": "stdout",
     "text": [
      "Method 1 output is [3, 5]\n",
      "Method 2 output is [3, 5]\n"
     ]
    }
   ],
   "metadata": {}
  },
  {
   "cell_type": "markdown",
   "source": [
    "## Count Items Matching a Rule\n",
    "\n",
    "You are given an array items, where each items[[i]] = [[typei, colori, namei]] describes the type, color, and name of the ith item. You are also given a rule represented by two strings, ruleKey and ruleValue.\n",
    "\n",
    "The ith item is said to match the rule if one of the following is true:\n",
    "\n",
    "ruleKey == \"type\" and ruleValue == typei.\n",
    "\n",
    "ruleKey == \"color\" and ruleValue == colori.\n",
    "\n",
    "ruleKey == \"name\" and ruleValue == namei.\n",
    "\n",
    "Return the number of items that match the given rule.\n",
    "\n",
    "Example 1:\n",
    "\n",
    "Input: items = [[[\"phone\",\"blue\",\"pixel\"]],[[\"computer\",\"silver\",\"lenovo\"]],[[\"phone\",\"gold\",\"iphone\"]]], ruleKey = \"color\", ruleValue = \"silver\"\n",
    "\n",
    "Output: 1\n",
    "\n",
    "Explanation: There is only one item matching the given rule, which is [[\"computer\",\"silver\",\"lenovo\"]].\n",
    "\n",
    "Example 2:\n",
    "\n",
    "Input: items = [[[\"phone\",\"blue\",\"pixel\"]],[[\"computer\",\"silver\",\"phone\"]],[[\"phone\",\"gold\",\"iphone\"]]], ruleKey = \"type\", ruleValue = \"phone\"\n",
    "\n",
    "Output: 2\n",
    "\n",
    "Explanation: There are only two items matching the given rule, which are [[\"phone\",\"blue\",\"pixel\"]] and [[\"phone\",\"gold\",\"iphone\"]]. Note that the item [[\"computer\",\"silver\",\"phone\"]] does not match."
   ],
   "metadata": {}
  },
  {
   "cell_type": "code",
   "execution_count": 18,
   "source": [
    "items = [[\"phone\",\"blue\",\"pixel\"],[\"computer\",\"silver\",\"phone\"],[\"phone\",\"gold\",\"iphone\"]]\n",
    "ruleKey = \"type\"\n",
    "ruleValue = \"phone\"\n",
    "# Method 1\n",
    "def countMatches(items, ruleKey, ruleValue):\n",
    "    rule = ['type','color','name']\n",
    "    return len([i for i in items if i[rule.index(ruleKey)] == ruleValue])\n",
    "print(f'Method 1 Output is: {countMatches(items, ruleKey, ruleValue)}')\n",
    "\n",
    "# Method 2\n",
    "def countMatches2(items, ruleKey, ruleValue):\n",
    "    if ruleKey == \"type\":\n",
    "        idx = 0\n",
    "    elif ruleKey == \"color\":\n",
    "        idx = 1\n",
    "    else:\n",
    "        idx = 2\n",
    "    return sum(1 for i in items if i[idx] == ruleValue)\n",
    "print(f'Method 2 Output is: {countMatches2(items, ruleKey, ruleValue)}')\n",
    "\n",
    "# Method 3\n",
    "def countMatches3(items, ruleKey, ruleValue):        \n",
    "    a=['type','color', 'name']\n",
    "    b=a.index(ruleKey)\n",
    "    ans=0\n",
    "    for i in items:\n",
    "        if i[b] == ruleValue:\n",
    "            ans+=1            \n",
    "    return ans\n",
    "print(f'Method 3 Output is: {countMatches3(items, ruleKey, ruleValue)}')"
   ],
   "outputs": [
    {
     "output_type": "stream",
     "name": "stdout",
     "text": [
      "Method 1 Output is: 2\n",
      "Method 2 Output is: 2\n",
      "Method 3 Output is: 2\n"
     ]
    }
   ],
   "metadata": {}
  },
  {
   "cell_type": "markdown",
   "source": [
    "## Lucky Numbers in a Matrix\n",
    "Given a m * n matrix of distinct numbers, return all lucky numbers in the matrix in any order.\n",
    "\n",
    "A lucky number is an element of the matrix such that it is the minimum element in its row and maximum in its column.\n",
    "\n",
    "Example 1:\n",
    "\n",
    "Input: matrix = [[[3,7,8]],[[9,11,13]],[[15,16,17]]] | \n",
    "Output: [[15]]\n",
    "\n",
    "Explanation: 15 is the only lucky number since it is the minimum in its row and the maximum in its column\n",
    "\n",
    "Example 2:\n",
    "\n",
    "Input: matrix = [[[1,10,4,2]],[[9,3,8,7]],[[15,16,17,12]]] | \n",
    "Output: [[12]]\n",
    "\n",
    "Explanation: 12 is the only lucky number since it is the minimum in its row and the maximum in its column.\n",
    "\n",
    "Example 3:\n",
    "\n",
    "Input: matrix = [[[7,8]],[[1,2]]] | \n",
    "Output: [[7]]"
   ],
   "metadata": {}
  },
  {
   "cell_type": "code",
   "execution_count": 35,
   "source": [
    "# Method 1\n",
    "def luckyNumbers(matrix):\n",
    "    idx = len(matrix[0])\n",
    "    dup = [j for i in matrix for j in i]\n",
    "    dup.sort()\n",
    "    return [dup[-idx]]\n",
    "print(f'Method 1 output is: {luckyNumbers(matrix)}')\n",
    "\n",
    "# Method 2\n",
    "def luckyNumbers2(matrix):\n",
    "    maxx_ele= [max(i) for i in zip(*matrix)]\n",
    "    min_ele = [min(i) for i in matrix]\n",
    "    return [i for i in min_ele if i in maxx_ele]\n",
    "print(f'Method 2 output is: {luckyNumbers2(matrix)}')"
   ],
   "outputs": [
    {
     "output_type": "stream",
     "name": "stdout",
     "text": [
      "Method 1 output is: [12]\n",
      "Method 2 output is: [12]\n"
     ]
    }
   ],
   "metadata": {}
  },
  {
   "cell_type": "markdown",
   "source": [
    "## Number of Students Doing Homework at a Given Time\n",
    "\n",
    "Given two integer arrays startTime and endTime and given an integer queryTime.\n",
    "\n",
    "The ith student started doing their homework at the time startTime[[i]] and finished it at time endTime[[i]].\n",
    "\n",
    "Return the number of students doing their homework at time queryTime. More formally, return the number of students where queryTime lays in the interval [[startTime[[i]], endTime[[i]]]] inclusive.\n",
    "\n",
    " \n",
    "\n",
    "Example 1:\n",
    "\n",
    "Input: startTime = [[1,2,3]], endTime = [[3,2,7]], queryTime = 4 | \n",
    "Output: 1\n",
    "\n",
    "Explanation: We have 3 students where:\n",
    "\n",
    "The first student started doing homework at time 1 and finished at time 3 and wasn't doing anything at time 4.\n",
    "\n",
    "The second student started doing homework at time 2 and finished at time 2 and also wasn't doing anything at time 4.\n",
    "\n",
    "The third student started doing homework at time 3 and finished at time 7 and was the only student doing homework at time 4.\n",
    "\n",
    "Example 2:\n",
    "\n",
    "Input: startTime = [[4]], endTime = [[4]], queryTime = 4 | \n",
    "Output: 1\n",
    "\n",
    "Explanation: The only student was doing their homework at the queryTime.\n",
    "\n",
    "Example 3:\n",
    "\n",
    "Input: startTime = [[4]], endTime = [[4]], queryTime = 5 | \n",
    "Output: 0\n",
    "\n",
    "Example 4:\n",
    "\n",
    "Input: startTime = [[1,1,1,1]], endTime = [[1,3,2,4]], queryTime = 7 | \n",
    "Output: 0\n",
    "\n",
    "Example 5:\n",
    "\n",
    "Input: startTime = [[9,8,7,6,5,4,3,2,1]], endTime = [[10,10,10,10,10,10,10,10,10]], queryTime = 5 | \n",
    "Output: 5"
   ],
   "metadata": {}
  },
  {
   "cell_type": "code",
   "execution_count": 18,
   "source": [
    "# Method 1 \n",
    "def busyStudent(stime,etime,query):\n",
    "    c = 0\n",
    "    if not (len(stime) and len(etime)): return 0\n",
    "    elif len(stime) == len(etime):\n",
    "        for i,j in zip(etime,stime):\n",
    "            if abs(i-j) >= query: \n",
    "                c += 1\n",
    "            elif i==j and i==query: c = 1\n",
    "    return c\n",
    "print(f'Method 1 output: {busyStudent([1,2,3],[3,2,7],4)}')\n",
    "\n",
    "# Method 2\n",
    "def busyStudent2(startTime, endTime, queryTime):\n",
    "        ans=0\n",
    "        for i,j in zip(startTime,endTime):\n",
    "            if i<=queryTime<=j: \n",
    "                ans += 1\n",
    "        return ans\n",
    "print(f'Method 2 output: {busyStudent2([1,2,3],[3,2,7],4)}')\n",
    "\n",
    "# Method 3\n",
    "def busyStudent3(startTime, endTime, queryTime):\n",
    "        val = 0\n",
    "        if not(len(startTime) and len(endTime)): return 0\n",
    "        else:\n",
    "            for i,j in zip(startTime,endTime):\n",
    "                if i<=queryTime<=j: val +=1 \n",
    "        return val\n",
    "print(f'Method 3 output: {busyStudent3([1,2,3],[3,2,7],4)}')"
   ],
   "outputs": [
    {
     "output_type": "stream",
     "name": "stdout",
     "text": [
      "Method 1 output: 1\n",
      "Method 2 output: 1\n",
      "Method 3 output: 1\n"
     ]
    }
   ],
   "metadata": {}
  },
  {
   "cell_type": "markdown",
   "source": [
    "## Sorting the Sentence\n",
    "A sentence is a list of words that are separated by a single space with no leading or trailing spaces. Each word consists of lowercase and uppercase English letters.\n",
    "\n",
    "A sentence can be shuffled by appending the 1-indexed word position to each word then rearranging the words in the sentence.\n",
    "\n",
    "For example, the sentence \"This is a sentence\" can be shuffled as \"sentence4 a3 is2 This1\" or \"is2 sentence4 This1 a3\".\n",
    "Given a shuffled sentence s containing no more than 9 words, reconstruct and return the original sentence.\n",
    "\n",
    " \n",
    "\n",
    "Example 1:\n",
    "\n",
    "Input: s = \"is2 sentence4 This1 a3\" | \n",
    "Output: \"This is a sentence\"\n",
    "\n",
    "Explanation: Sort the words in s to their original positions \"This1 is2 a3 sentence4\", then remove the numbers.\n",
    "\n",
    "Example 2:\n",
    "\n",
    "Input: s = \"Myself2 Me1 I4 and3\" | \n",
    "Output: \"Me Myself and I\"\n",
    "\n",
    "Explanation: Sort the words in s to their original positions \"Me1 Myself2 and3 I4\", then remove the numbers."
   ],
   "metadata": {}
  },
  {
   "cell_type": "code",
   "execution_count": 61,
   "source": [
    "s = \"is2 sentence4 This1 a3\"\n",
    "# Method 1 (66%. of users answer)\n",
    "def sortSen1(s):\n",
    "    dum = s.split()\n",
    "    ax = [word.rstrip(word[-1]) for word in dum]\n",
    "    num = [int(num) for num in s if num.isdigit()]\n",
    "    mydict = {}\n",
    "    for i,j in zip(ax,num):\n",
    "        mydict[int(j)] = i\n",
    "    out = [mydict[key] for key in sorted(mydict)]\n",
    "    return ' '.join(out)\n",
    "print(f'Method 1 output is: {sortSen1(s)}')\n",
    "\n",
    "# Method 2 (Optimal one)\n",
    "def sortSen2(s):\n",
    "    words = s.split()\n",
    "    words.sort(key=lambda w: w[-1])\n",
    "    return ' '.join(w[:-1] for w in words)\n",
    "print(f'Method 2 output is: {sortSen2(s)}')"
   ],
   "outputs": [
    {
     "output_type": "stream",
     "name": "stdout",
     "text": [
      "Method 1 output is: This is a sentence\n",
      "Method 2 output is: This is a sentence\n"
     ]
    }
   ],
   "metadata": {}
  },
  {
   "cell_type": "markdown",
   "source": [
    "## Merge Strings Alternately\n",
    "You are given two strings word1 and word2. Merge the strings by adding letters in alternating order, starting with word1. If a string is longer than the other, append the additional letters onto the end of the merged string.\n",
    "\n",
    "Return the merged string.\n",
    "\n",
    "\n",
    "Example 1:\n",
    "\n",
    "Input: word1 = \"abc\", word2 = \"pqr\" | \n",
    "Output: \"apbqcr\"\n",
    "\n",
    "Example 2:\n",
    "\n",
    "Input: word1 = \"ab\", word2 = \"pqrs\" | \n",
    "Output: \"apbqrs\"\n",
    "\n",
    "Example 3:\n",
    "\n",
    "Input: word1 = \"abcd\", word2 = \"pq\" | \n",
    "Output: \"apbqcd\""
   ],
   "metadata": {}
  },
  {
   "cell_type": "code",
   "execution_count": 5,
   "source": [
    "# Method 1 \n",
    "def mergeAlternately1(word1,word2):\n",
    "    w1 = [i for i in word1]\n",
    "    w2 = [j for j in word2]\n",
    "    ac = ''.join([j for i in [[k,q] for k,q in zip(w1,w2)] for j in i])\n",
    "    if len(word1) > len(word2):\n",
    "        for i in range(len(word1)):\n",
    "            if word1[i] not in ac:\n",
    "                ac += word1[i]\n",
    "    elif len(word2) > len(word1):\n",
    "        for i in range(len(word2)):\n",
    "            if word2[i] not in ac:\n",
    "                ac += word2[i]\n",
    "    return ac\n",
    "print(f'Method 1 output: {mergeAlternately1(\"aeuh\",\"nrt\")}')\n",
    "\n",
    "# Method 2\n",
    "def mergeAlternately2(word1,word2):\n",
    "    s = list(word2)\n",
    "    for idx,word in enumerate(word1):\n",
    "        s.insert(idx*2,word)\n",
    "    return \"\".join(s)\n",
    "print(f'Method 2 output: {mergeAlternately2(\"aeuh\",\"nrt\")}')\n",
    "\n",
    "# Method 3\n",
    "def mergeAlternately3(word1,word2):\n",
    "    if len(word1) < len(word2):\n",
    "        out = \"\".join([word1[i] + word2[i] for i in range(len(word1))]) + word2[len(word1):]\n",
    "    else:\n",
    "        out = \"\".join([word1[i] + word2[i] for i in range(len(word2))]) + word1[len(word2):]\n",
    "    return out \n",
    "print(f'Method 3 output: {mergeAlternately3(\"aeuh\",\"nrt\")}')"
   ],
   "outputs": [
    {
     "output_type": "stream",
     "name": "stdout",
     "text": [
      "Method 1 output: aneruth\n",
      "Method 2 output: aneruth\n",
      "Method 3 output: aneruth\n"
     ]
    }
   ],
   "metadata": {}
  },
  {
   "cell_type": "markdown",
   "source": [
    "# Maximum Population Year\n",
    "You are given a 2D integer array logs where each logs[[i]] = [[birthi, deathi]] indicates the birth and death years of the ith person.\n",
    "\n",
    "The population of some year x is the number of people alive during that year. The ith person is counted in year x's population if x is in the inclusive range [[birthi, deathi - 1]]. Note that the person is not counted in the year that they die.\n",
    "\n",
    "Return the earliest year with the maximum population.\n",
    "\n",
    "Example 1:\n",
    "\n",
    "Input: logs = [[[1993,1999]],[[2000,2010]]] | \n",
    "Output: 1993\n",
    "\n",
    "Explanation: The maximum population is 1, and 1993 is the earliest year with this population.\n",
    "\n",
    "Example 2:\n",
    "\n",
    "Input: logs = [[[1950,1961]],[[1960,1971]],[[1970,1981]]] | \n",
    "Output: 1960\n",
    "\n",
    "Explanation: \n",
    "The maximum population is 2, and it had happened in years 1960 and 1970. The earlier year between them is 1960."
   ],
   "metadata": {}
  },
  {
   "cell_type": "code",
   "execution_count": 248,
   "source": [
    "# Method 1 (Leet Code 45 / 52 test cases passed.)\n",
    "def population1(alist):\n",
    "    boo = {}\n",
    "    for i in range(len(alist)):\n",
    "        for j in range(alist[i][0],alist[i][1]):\n",
    "            if j in boo: \n",
    "                boo[j] += 1\n",
    "            else: \n",
    "                boo[j] = 1\n",
    "    return boo\n",
    "print(f'Method 1 output is: {max(population1([[1950,1961],[1960,1971],[1970,1981]]),key=population1([[1950,1961],[1960,1971],[1970,1981]]).get)}')\n",
    "\n",
    "# Method 2 (Leet Code accuracy 50.92%.)\n",
    "def population2(alist):\n",
    "    boo = {}\n",
    "    for i in range(len(alist)):\n",
    "        for j in range(alist[i][0],alist[i][1]):\n",
    "            if j in boo: \n",
    "                boo[j] += 1\n",
    "            else: \n",
    "                boo[j] = 1\n",
    "    max_value = max([count for key,count in boo.items()])\n",
    "    dummy_list = [key for key,value in boo.items() if value >= max_value]\n",
    "    return min(dummy_list)\n",
    "print(f'Method 2 output is: {population2([[1950,1961],[1960,1971],[1970,1981]])}')"
   ],
   "outputs": [
    {
     "output_type": "stream",
     "name": "stdout",
     "text": [
      "Method 1 output is: 1960\n",
      "Method 2 output is: 1960\n"
     ]
    }
   ],
   "metadata": {}
  },
  {
   "cell_type": "markdown",
   "source": [
    "## Check if Word Equals Summation of Two Words\n",
    "\n",
    "The letter value of a letter is its position in the alphabet starting from 0 (i.e. 'a' -> 0, 'b' -> 1, 'c' -> 2, etc.).\n",
    "\n",
    "The numerical value of some string of lowercase English letters s is the concatenation of the letter values of each letter in s, which is then converted into an integer.\n",
    "\n",
    "For example, if s = \"acb\", we concatenate each letter's letter value, resulting in \"021\". After converting it, we get 21.\n",
    "You are given three strings firstWord, secondWord, and targetWord, each consisting of lowercase English letters 'a' through 'j' inclusive.\n",
    "\n",
    "Return true if the summation of the numerical values of firstWord and secondWord equals the numerical value of targetWord, or false otherwise.\n",
    "\n",
    "Example 1:\n",
    "\n",
    "Input: firstWord = \"acb\", secondWord = \"cba\", targetWord = \"cdb\" | \n",
    "Output: true\n",
    "\n",
    "Explanation:\n",
    "\n",
    "The numerical value of firstWord is \"acb\" -> \"021\" -> 21.\n",
    "\n",
    "The numerical value of secondWord is \"cba\" -> \"210\" -> 210.\n",
    "\n",
    "The numerical value of targetWord is \"cdb\" -> \"231\" -> 231.\n",
    "\n",
    "We return true because 21 + 210 == 231.\n",
    "\n",
    "Example 2:\n",
    "\n",
    "Input: firstWord = \"aaa\", secondWord = \"a\", targetWord = \"aab\" | \n",
    "Output: false\n",
    "\n",
    "Explanation: \n",
    "\n",
    "The numerical value of firstWord is \"aaa\" -> \"000\" -> 0.\n",
    "\n",
    "The numerical value of secondWord is \"a\" -> \"0\" -> 0.\n",
    "\n",
    "The numerical value of targetWord is \"aab\" -> \"001\" -> 1.\n",
    "\n",
    "We return false because 0 + 0 != 1.\n",
    "\n",
    "Example 3:\n",
    "\n",
    "Input: firstWord = \"aaa\", secondWord = \"a\", targetWord = \"aaaa\" | \n",
    "Output: true\n",
    "\n",
    "Explanation: \n",
    "\n",
    "The numerical value of firstWord is \"aaa\" -> \"000\" -> 0.\n",
    "\n",
    "The numerical value of secondWord is \"a\" -> \"0\" -> 0.\n",
    "\n",
    "The numerical value of targetWord is \"aaaa\" -> \"0000\" -> 0.\n",
    "\n",
    "We return true because 0 + 0 == 0."
   ],
   "metadata": {}
  },
  {
   "cell_type": "code",
   "execution_count": 14,
   "source": [
    "# Method 1 (Better Complexity compared to method 2 (77%))\n",
    "import string\n",
    "def wordSum(word1,word2,word3):\n",
    "    boo = {}\n",
    "    v = [i for i in list(map(str,string.ascii_lowercase))[:10]]\n",
    "    for i,j in zip(v,[k for k in range(len(v))]):\n",
    "        boo[i] = j\n",
    "    \n",
    "    def wordInt(word):\n",
    "        ac = [boo[i] for i in word if i in boo.keys()]\n",
    "        return int(\"\".join([str(i) for i in ac]))\n",
    "    \n",
    "    w1 = wordInt(word1)\n",
    "    w2 = wordInt(word2)\n",
    "    w3 = wordInt(word3)\n",
    "\n",
    "    if w1+w2 == w3:out = True\n",
    "    else:out = False\n",
    "    return out\n",
    "print(f'Method 1 output: {wordSum(\"acb\",\"cba\",\"cdb\")}')\n",
    "\n",
    "# Method 2 (Worst Time complexity)\n",
    "def wordSum2(word1,word2,word3):\n",
    "    def dummy(word):\n",
    "        return int(''.join([str(ord(i) - ord('a')) for i in word]))\n",
    "    a1,a2,a3 = dummy(a),dummy(n),dummy(e)\n",
    "    if a1+a2 == a3:\n",
    "        return True\n",
    "    return False\n",
    "print(f'Method 2 output: {wordSum2(\"acb\",\"cba\",\"cdb\")}')"
   ],
   "outputs": [
    {
     "output_type": "stream",
     "name": "stdout",
     "text": [
      "Method 1 output: True\n",
      "Method 2 output: True\n"
     ]
    }
   ],
   "metadata": {}
  },
  {
   "cell_type": "markdown",
   "source": [
    "## Replace All Digits with Characters\n",
    "You are given a 0-indexed string s that has lowercase English letters in its even indices and digits in its odd indices.\n",
    "\n",
    "There is a function shift(c, x), where c is a character and x is a digit, that returns the xth character after c.\n",
    "\n",
    "For example, shift('a', 5) = 'f' and shift('x', 0) = 'x'.\n",
    "For every odd index i, you want to replace the digit s[[i]] with shift(s[[i-1]], s[[i]]).\n",
    "\n",
    "Return s after replacing all digits. It is guaranteed that shift(s[[i-1]], s[[i]]) will never exceed 'z'.\n",
    "\n",
    "Example 1:\n",
    "\n",
    "Input: s = \"a1c1e1\" | \n",
    "Output: \"abcdef\"\n",
    "\n",
    "Explanation: The digits are replaced as follows:\n",
    "\n",
    "- s[[1]] -> shift('a',1) = 'b'\n",
    "\n",
    "- s[[3]] -> shift('c',1) = 'd'\n",
    "\n",
    "- s[[5]] -> shift('e',1) = 'f'\n",
    "Example 2:\n",
    "\n",
    "Input: s = \"a1b2c3d4e\" | \n",
    "Output: \"abbdcfdhe\"\n",
    "\n",
    "Explanation: The digits are replaced as follows:\n",
    "\n",
    "- s[[1]] -> shift('a',1) = 'b'\n",
    "\n",
    "- s[[3]] -> shift('b',2) = 'd'\n",
    "\n",
    "- s[[5]] -> shift('c',3) = 'f'\n",
    "\n",
    "- s[[7]] -> shift('d',4) = 'h'"
   ],
   "metadata": {}
  },
  {
   "cell_type": "code",
   "execution_count": 63,
   "source": [
    "# Method 1 (Worst Complexity 28%)\n",
    "import string\n",
    "def replaceString1(foo):\n",
    "    az = sorted(string.ascii_lowercase)\n",
    "    res = []\n",
    "    for idx,val in enumerate(foo):\n",
    "        if val.isdigit():\n",
    "            prev = foo[idx-1]\n",
    "            res.append(prev)\n",
    "            res.append(az[az.index(prev)+int(val)])\n",
    "    if len(foo) != len(res):\n",
    "        res.append(foo[-1])\n",
    "    return \"\".join(res)\n",
    "print(f'Method 1 output: {replaceString1(\"a1b2c3d4e\")}')"
   ],
   "outputs": [
    {
     "output_type": "stream",
     "name": "stdout",
     "text": [
      "Method 1 output: abbdcfdhe\n"
     ]
    }
   ],
   "metadata": {}
  },
  {
   "cell_type": "markdown",
   "source": [
    "## Determine if String Halves Are Alike\n",
    "You are given a string s of even length. Split this string into two halves of equal lengths, and let a be the first half and b be the second half.\n",
    "\n",
    "Two strings are alike if they have the same number of vowels ('a', 'e', 'i', 'o', 'u', 'A', 'E', 'I', 'O', 'U'). Notice that s contains uppercase and lowercase letters.\n",
    "\n",
    "Return true if a and b are alike. Otherwise, return false.\n",
    "\n",
    "Example 1:\n",
    "\n",
    "Input: s = \"book\" | \n",
    "Output: true\n",
    "\n",
    "Explanation: a = \"bo\" and b = \"ok\". a has 1 vowel and b has 1 vowel. Therefore, they are alike.\n",
    "\n",
    "Example 2:\n",
    "\n",
    "Input: s = \"textbook\" | \n",
    "Output: false\n",
    "\n",
    "Explanation: a = \"text\" and b = \"book\". a has 1 vowel whereas b has 2. Therefore, they are not alike. Notice that the vowel o is counted twice.\n",
    "\n",
    "Example 3:\n",
    "\n",
    "Input: s = \"MerryChristmas\" | \n",
    "Output: false\n",
    "\n",
    "Example 4:\n",
    "\n",
    "Input: s = \"AbCdEfGh\" | \n",
    "Output: true"
   ],
   "metadata": {}
  },
  {
   "cell_type": "code",
   "execution_count": 16,
   "source": [
    "# Method 1 (Worst Time Complexity (19%))\n",
    "def halveString1(s):\n",
    "    a = s[:len(s)//2]\n",
    "    b = s[len(s)//2:]\n",
    "    vowels = ['a', 'e', 'i', 'o', 'u', 'A', 'E', 'I', 'O', 'U']\n",
    "    res,res1 = [i for i in a if i in vowels],[i for i in b if i in vowels]\n",
    "    if len(res) == len(res1):\n",
    "        return True\n",
    "    return False\n",
    "print(f'Method 1 output is: {halveString1(\"MerryChristmas\")}')\n",
    "# Method 2 Loading......"
   ],
   "outputs": [
    {
     "output_type": "stream",
     "name": "stdout",
     "text": [
      "Method 1 output is: False\n"
     ]
    }
   ],
   "metadata": {}
  },
  {
   "cell_type": "markdown",
   "source": [
    "# Yet to see this\n",
    "## Rearrange Spaces Between Words\n",
    "You are given a string text of words that are placed among some number of spaces. Each word consists of one or more lowercase English letters and are separated by at least one space. It's guaranteed that text contains at least one word.\n",
    "\n",
    "Rearrange the spaces so that there is an equal number of spaces between every pair of adjacent words and that number is maximized. If you cannot redistribute all the spaces equally, place the extra spaces at the end, meaning the returned string should be the same length as text.\n",
    "\n",
    "Return the string after rearranging the spaces.\n",
    "\n",
    "Example 1:\n",
    "\n",
    "Input: text = \"  this   is  a sentence \" | \n",
    "Output: \"this   is   a   sentence\"\n",
    "\n",
    "Explanation: There are a total of 9 spaces and 4 words. We can evenly divide the 9 spaces between the words: 9 / (4-1) = 3 spaces.\n",
    "\n",
    "Example 2:\n",
    "\n",
    "Input: text = \" practice   makes   perfect\" | \n",
    "Output: \"practice   makes   perfect \"\n",
    "\n",
    "Explanation: There are a total of 7 spaces and 3 words. 7 / (3-1) = 3 spaces plus 1 extra space. We place this extra space at the end of the string.\n",
    "\n",
    "Example 3:\n",
    "\n",
    "Input: text = \"hello   world\" | \n",
    "Output: \"hello   world\"\n",
    "\n",
    "Example 4:\n",
    "\n",
    "Input: text = \"  walks  udp package   into  bar a\" | \n",
    "Output: \"walks  udp  package  into  bar  a \"\n",
    "\n",
    "Example 5:\n",
    "\n",
    "Input: text = \"a\" | \n",
    "Output: \"a\""
   ],
   "metadata": {}
  },
  {
   "cell_type": "code",
   "execution_count": 41,
   "source": [
    "# Method 1\n",
    "def spaceRearrange1(text):\n",
    "    # split_txt = text.split()\n",
    "    space_count = 0\n",
    "    for i in text:\n",
    "        if i == \" \":\n",
    "            space_count += 1\n",
    "    if space_count < 4:return text\n",
    "    return space_count // len(text.split()) - 1\n",
    "    # return space_count\n",
    "print(f'Method 1 output is: {spaceRearrange1(\"hello  world\")}')"
   ],
   "outputs": [
    {
     "output_type": "stream",
     "name": "stdout",
     "text": [
      "Method 1 output is: hello  world\n"
     ]
    }
   ],
   "metadata": {}
  },
  {
   "cell_type": "markdown",
   "source": [
    "#  Yet to see this\n",
    " ## Determine Whether Matrix Can Be Obtained By Rotation\n",
    " Given two n x n binary matrices mat and target, return true if it is possible to make mat equal to target by rotating mat in 90-degree increments, or false otherwise.\n",
    "\n",
    "Example 1:\n",
    "\n",
    "Input: mat = [[[0,1]],[[1,0]]], target = [[[1,0]],[[0,1]]] | \n",
    "Output: true\n",
    "\n",
    "Explanation: We can rotate mat 90 degrees clockwise to make mat equal target.\n",
    "\n",
    "Example 2:\n",
    "\n",
    "Input: mat = [[[0,1]],[[1,1]]], target = [[[1,0]],[[0,1]]] | \n",
    "Output: false\n",
    "\n",
    "Explanation: It is impossible to make mat equal to target by rotating mat.\n",
    "\n",
    "Example 3:\n",
    "\n",
    "Input: mat = [[[0,0,0]],[[0,1,0]],[[1,1,1]]], target = [[[1,1,1]],[[0,1,0]],[[0,0,0]]] | \n",
    "Output: true\n",
    "\n",
    "Explanation: We can rotate mat 90 degrees clockwise two times to make mat equal target."
   ],
   "metadata": {}
  },
  {
   "cell_type": "code",
   "execution_count": 28,
   "source": [
    "# Method 1 (Leet Code 45 / 109 test cases passed.)\n",
    "import numpy as np\n",
    "def matRotate(val,target):\n",
    "    if np.rot90(val).tolist() == target:\n",
    "        return True\n",
    "    return False\n",
    "print(f'Method 1 output: {matRotate([[0,0],[0,1]],[[1,1,1],[0,0],[0,1]])}')"
   ],
   "outputs": [
    {
     "output_type": "stream",
     "name": "stdout",
     "text": [
      "Method 1 output: False\n"
     ]
    }
   ],
   "metadata": {}
  },
  {
   "cell_type": "markdown",
   "source": [
    "# yet to see \n",
    "## Ransom Note\n",
    "Given two stings ransomNote and magazine, return true if ransomNote can be constructed from magazine and false otherwise.\n",
    "\n",
    "Each letter in magazine can only be used once in ransomNote.\n",
    "\n",
    "\n",
    "Example 1:\n",
    "\n",
    "Input: ransomNote = \"a\", magazine = \"b\" | \n",
    "Output: false\n",
    "\n",
    "Example 2:\n",
    "\n",
    "Input: ransomNote = \"aa\", magazine = \"ab\" | \n",
    "Output: false\n",
    "\n",
    "Example 3:\n",
    "\n",
    "Input: ransomNote = \"aa\", magazine = \"aab\" | \n",
    "Output: true"
   ],
   "metadata": {}
  },
  {
   "cell_type": "code",
   "execution_count": 1,
   "source": [
    "ransome,magazine,match = 'aa','aab',0\n",
    "for i in ransome:\n",
    "        if i not in magazine:\n",
    "            print(False)\n",
    "        else:\n",
    "            magazine=magazine.replace(i, '1', 1)"
   ],
   "outputs": [],
   "metadata": {}
  },
  {
   "cell_type": "markdown",
   "source": [
    "## First Unique Character in a String\n",
    "\n",
    "Given a string s, return the first non-repeating character in it and return its index. If it does not exist, return -1.\n",
    "\n",
    "Example 1:\n",
    "\n",
    "Input: s = \"leetcode\" | \n",
    "Output: 0\n",
    "\n",
    "Example 2:\n",
    "\n",
    "Input: s = \"loveleetcode\" | \n",
    "Output: 2\n",
    "\n",
    "Example 3:\n",
    "\n",
    "Input: s = \"aabb\" | \n",
    "Output: -1"
   ],
   "metadata": {}
  },
  {
   "cell_type": "code",
   "execution_count": 66,
   "source": [
    "# Method 1 (Worst Time complexity)\n",
    "def uniqueStr1(s):\n",
    "    if len(list(set(s))) <= 2:return -1\n",
    "    if len(s) == 1: return 0\n",
    "    return min([s.index(i) for i in s if s.count(i) <= 1])\n",
    "print(f\"Method 1 output is: {uniqueStr1('cc')}\")\n",
    "\n",
    "# Method 2\n",
    "import collections\n",
    "def uniqueStr2(s):\n",
    "    dictVal = collections.Counter(s)\n",
    "    for index,value in enumerate(dictVal):\n",
    "        if dictVal[value] == 1:\n",
    "            return index\n",
    "    return -1\n",
    "print(f\"Method 2 output is: {uniqueStr2('cc')}\")\n",
    "\n",
    "# Method 3 (Worst Time Complexity)\n",
    "def uniqueStr3(s):\n",
    "    for idx,val in enumerate(s):\n",
    "        if s.count(val) == 1:\n",
    "            return idx\n",
    "    return -1\n",
    "print(f\"Method 3 output is: {uniqueStr3('cc')}\")"
   ],
   "outputs": [
    {
     "output_type": "stream",
     "name": "stdout",
     "text": [
      "Method 1 output is: -1\n",
      "Method 2 output is: -1\n",
      "Method 3 output is: -1\n"
     ]
    }
   ],
   "metadata": {}
  },
  {
   "cell_type": "markdown",
   "source": [
    "## Find the Difference\n",
    "You are given two strings s and t.\n",
    "\n",
    "String t is generated by random shuffling string s and then add one more letter at a random position.\n",
    "\n",
    "Return the letter that was added to t.\n",
    "\n",
    "Example 1:\n",
    "\n",
    "Input: s = \"abcd\", t = \"abcde\"  \n",
    "Output: \"e\"\n",
    "\n",
    "Explanation: 'e' is the letter that was added.\n",
    "\n",
    "Example 2:\n",
    "\n",
    "Input: s = \"\", t = \"y\" | \n",
    "Output: \"y\"\n",
    "\n",
    "Example 3:\n",
    "\n",
    "Input: s = \"a\", t = \"aa\" | \n",
    "Output: \"a\"\n",
    "\n",
    "Example 4:\n",
    "\n",
    "Input: s = \"ae\", t = \"aea\" | \n",
    "Output: \"a\""
   ],
   "metadata": {}
  },
  {
   "cell_type": "code",
   "execution_count": 26,
   "source": [
    "# Method 1\n",
    "def findDiff1(s,t):\n",
    "    return list(set([i for i in t if t.count(i) - s.count(i) == 1]))[0]\n",
    "print(f'Method 1 output is {findDiff1(\"ae\",\"aea\")}')"
   ],
   "outputs": [
    {
     "output_type": "stream",
     "name": "stdout",
     "text": [
      "Method 1 output is a\n"
     ]
    }
   ],
   "metadata": {}
  },
  {
   "cell_type": "markdown",
   "source": [
    "## Path Crossing\n",
    "Given a string path, where path[i] = 'N', 'S', 'E' or 'W', each representing moving one unit north, south, east, or west, respectively. You start at the origin (0, 0) on a 2D plane and walk on the path specified by path.\n",
    "\n",
    "Return true if the path crosses itself at any point, that is, if at any time you are on a location you have previously visited. Return false otherwise.\n",
    "\n",
    "Example 1:\n",
    "\n",
    "Input: path = \"NES\" | \n",
    "Output: false \n",
    "\n",
    "Explanation: Notice that the path doesn't cross any point more than once.\n",
    "\n",
    "Example 2:\n",
    "\n",
    "Input: path = \"NESWW\" | \n",
    "Output: true\n",
    "\n",
    "Explanation: Notice that the path visits the origin twice."
   ],
   "metadata": {}
  },
  {
   "cell_type": "code",
   "execution_count": 53,
   "source": [
    "# Method 1 (Leet Code 59 / 80 test cases passed.)\n",
    "def pathFind1(path):\n",
    "    setVal = collections.Counter(path)\n",
    "    for key,val in setVal.items():\n",
    "        if val >= 2:\n",
    "            return True\n",
    "    return False\n",
    "pathFind1('NESWW')"
   ],
   "outputs": [
    {
     "output_type": "execute_result",
     "data": {
      "text/plain": [
       "True"
      ]
     },
     "metadata": {},
     "execution_count": 53
    }
   ],
   "metadata": {}
  },
  {
   "cell_type": "markdown",
   "source": [
    "## Counting Bits\n",
    "\n",
    "Given an integer n, return an array ans of length n + 1 such that for each i (0 <= i <= n), ans[i] is the number of 1's in the binary representation of i.\n",
    "\n",
    "Example 1:\n",
    "\n",
    "Input: n = 2 | \n",
    "Output: [[0,1,1]]\n",
    "\n",
    "Explanation:\n",
    "0 --> 0 | 1 --> 1 | 2 --> 10\n",
    "\n",
    "Example 2:\n",
    "\n",
    "Input: n = 5 | \n",
    "Output: [[0,1,1,2,1,2]]\n",
    "\n",
    "Explanation:\n",
    "0 --> 0 | 1 --> 1 | 2 --> 10 | 3 --> 11 | 4 --> 100 | 5 --> 101"
   ],
   "metadata": {}
  },
  {
   "cell_type": "code",
   "execution_count": 30,
   "source": [
    "# Method 1 (Okish answer)\n",
    "def bitCount1(val):\n",
    "    return [i.count('1') for i in list(bin(i)[2:] for i in range(val+1))]\n",
    "print(f'Method 1 output: {bitCount1(2)}')"
   ],
   "outputs": [
    {
     "output_type": "stream",
     "name": "stdout",
     "text": [
      "Method 1 output: [0, 1, 1]\n"
     ]
    }
   ],
   "metadata": {}
  },
  {
   "cell_type": "markdown",
   "source": [
    "## Fizz Buzz\n",
    "Given an integer n, return a string array answer (1-indexed) where:\n",
    "    - answer[[i]] == \"FizzBuzz\" if i is divisible by 3 and 5.\n",
    "    \n",
    "    - answer[[i]] == \"Fizz\" if i is divisible by 3.\n",
    "    \n",
    "    - answer[[i]] == \"Buzz\" if i is divisible by 5.\n",
    "    \n",
    "    - answer[[i]] == i if non of the above conditions are true.\n",
    "\n",
    "Example 1:\n",
    "\n",
    "Input: n = 3 | \n",
    "Output: [[\"1\",\"2\",\"Fizz\"]]\n",
    "\n",
    "Example 2:\n",
    "\n",
    "Input: n = 5 | \n",
    "Output: [[\"1\",\"2\",\"Fizz\",\"4\",\"Buzz\"]]\n",
    "\n",
    "Example 3:\n",
    "\n",
    "Input: n = 15 | \n",
    "Output: [[\"1\",\"2\",\"Fizz\",\"4\",\"Buzz\",\"Fizz\",\"7\",\"8\",\"Fizz\",\"Buzz\",\"11\",\"Fizz\",\"13\",\"14\",\"FizzBuzz\"]]"
   ],
   "metadata": {}
  },
  {
   "cell_type": "code",
   "execution_count": 83,
   "source": [
    "# Method 1 (Okish answer)\n",
    "def fizzbuzz1(n):\n",
    "    op = [str(i) for i in range(1,n+1)]\n",
    "    for i in op:\n",
    "        if int(i) % 3 == 0 and int(i) % 5 == 0:\n",
    "            idx = op.index(i)\n",
    "            op[idx] = 'Fizzbuzz'\n",
    "            # break\n",
    "        elif int(i) % 3 == 0:\n",
    "            idx = op.index(i)\n",
    "            op[idx] = 'Fizz'\n",
    "        elif int(i) % 5 == 0:\n",
    "            idx = op.index(i)\n",
    "            op[idx] = 'Buzz'\n",
    "    return op\n",
    "print(f'Method 1 output is: {fizzbuzz1(100)}')"
   ],
   "outputs": [
    {
     "output_type": "stream",
     "name": "stdout",
     "text": [
      "Method 1 output is: ['1', '2', 'Fizz', '4', 'Buzz', 'Fizz', '7', '8', 'Fizz', 'Buzz', '11', 'Fizz', '13', '14', '', '16', '17', 'Fizz', '19', 'Buzz', 'Fizz', '22', '23', 'Fizz', 'Buzz', '26', 'Fizz', '28', '29', 'Fizzbuzz', '31', '32', 'Fizz', '34', 'Buzz', 'Fizz', '37', '38', 'Fizz', 'Buzz', '41', 'Fizz', '43', '44', 'Fizzbuzz', '46', '47', 'Fizz', '49', 'Buzz', 'Fizz', '52', '53', 'Fizz', 'Buzz', '56', 'Fizz', '58', '59', 'Fizzbuzz', '61', '62', 'Fizz', '64', 'Buzz', 'Fizz', '67', '68', 'Fizz', 'Buzz', '71', 'Fizz', '73', '74', 'Fizzbuzz', '76', '77', 'Fizz', '79', 'Buzz', 'Fizz', '82', '83', 'Fizz', 'Buzz', '86', 'Fizz', '88', '89', 'Fizzbuzz', '91', '92', 'Fizz', '94', 'Buzz', 'Fizz', '97', '98', 'Fizz', 'Buzz']\n"
     ]
    }
   ],
   "metadata": {}
  },
  {
   "cell_type": "markdown",
   "source": [
    "## Hamming Distance\n",
    "\n",
    "The Hamming distance between two integers is the number of positions at which the corresponding bits are different.\n",
    "\n",
    "Given two integers x and y, return the Hamming distance between them.\n",
    "\n",
    "Example 1:\n",
    "\n",
    "Input: x = 1, y = 4 | \n",
    "Output: 2\n",
    "\n",
    "Explanation:\n",
    "\n",
    "1   (0 0 0 1)\n",
    "\n",
    "4   (0 1 0 0)\n",
    "\n",
    "       ↑   ↑\n",
    "\n",
    "The above arrows point to positions where the corresponding bits are different.\n",
    "\n",
    "Example 2:\n",
    "\n",
    "Input: x = 3, y = 1 | \n",
    "Output: 1"
   ],
   "metadata": {}
  },
  {
   "cell_type": "code",
   "execution_count": 168,
   "source": [
    "# Method 1 (yet to check for better solution)\n",
    "def hamming(x,y):\n",
    "    get_bin = lambda val: format(val, 'b')\n",
    "    num1,num2 = get_bin(x),get_bin(y)\n",
    "    distance = 0\n",
    "    for i in range(len(num1)):\n",
    "        if num1[i] != num2[i]:\n",
    "            distance += 1\n",
    "    return distance\n",
    "print(f'Method 1 output : {hamming(3,4)}')"
   ],
   "outputs": [
    {
     "output_type": "stream",
     "name": "stdout",
     "text": [
      "Method 1 output : 1\n"
     ]
    }
   ],
   "metadata": {}
  },
  {
   "cell_type": "markdown",
   "source": [
    "# Yet to see this \n",
    "## Maximum Product of Word Lengths\n",
    "\n",
    "Given a string array words, return the maximum value of length(word[[i]]) * length(word[[j]]) where the two words do not share common letters. If no such two words exist, return 0.\n",
    "\n",
    "Example 1:\n",
    "\n",
    "Input: words = [[\"abcw\",\"baz\",\"foo\",\"bar\",\"xtfn\",\"abcdef\"]] | \n",
    "Output: 16\n",
    "\n",
    "Explanation: The two words can be \"abcw\", \"xtfn\".\n",
    "\n",
    "Example 2:\n",
    "\n",
    "Input: words = [[\"a\",\"ab\",\"abc\",\"d\",\"cd\",\"bcd\",\"abcd\"]] | \n",
    "Output: 4\n",
    "\n",
    "Explanation: The two words can be \"ab\", \"cd\".\n",
    "\n",
    "Example 3:\n",
    "\n",
    "Input: words = [[\"a\",\"aa\",\"aaa\",\"aaaa\"]] | \n",
    "Output: 0\n",
    "\n",
    "Explanation: No such pair of words."
   ],
   "metadata": {}
  },
  {
   "cell_type": "code",
   "execution_count": 32,
   "source": [
    "words = [\"abcw\",\"baz\",\"foo\",\"bar\",\"xtfn\",\"abcdef\"]\n",
    "sets = [set(x) for x in words]"
   ],
   "outputs": [],
   "metadata": {}
  },
  {
   "cell_type": "code",
   "execution_count": 33,
   "source": [
    "sets[0].intersection(*sets[1:]) "
   ],
   "outputs": [
    {
     "output_type": "execute_result",
     "data": {
      "text/plain": [
       "set()"
      ]
     },
     "metadata": {},
     "execution_count": 33
    }
   ],
   "metadata": {}
  },
  {
   "cell_type": "code",
   "execution_count": 34,
   "source": [
    "sets"
   ],
   "outputs": [
    {
     "output_type": "execute_result",
     "data": {
      "text/plain": [
       "[{'a', 'b', 'c', 'w'},\n",
       " {'a', 'b', 'z'},\n",
       " {'f', 'o'},\n",
       " {'a', 'b', 'r'},\n",
       " {'f', 'n', 't', 'x'},\n",
       " {'a', 'b', 'c', 'd', 'e', 'f'}]"
      ]
     },
     "metadata": {},
     "execution_count": 34
    }
   ],
   "metadata": {}
  },
  {
   "cell_type": "code",
   "execution_count": 67,
   "source": [
    "ac = []\n",
    "for i in range(len(sets)):\n",
    "    for j in range(len(sets)-1,-1,-1):\n",
    "            if sets[i] & sets[j]:\n",
    "                intersection = sets[i].intersection(sets[j])\n",
    "                print(intersection)"
   ],
   "outputs": [
    {
     "output_type": "stream",
     "name": "stdout",
     "text": [
      "{'b', 'c', 'a'}\n",
      "{'b', 'a'}\n",
      "{'b', 'a'}\n",
      "{'b', 'c', 'w', 'a'}\n",
      "{'b', 'a'}\n",
      "{'b', 'a'}\n",
      "{'b', 'z', 'a'}\n",
      "{'b', 'a'}\n",
      "{'f'}\n",
      "{'f'}\n",
      "{'f', 'o'}\n",
      "{'b', 'a'}\n",
      "{'b', 'r', 'a'}\n",
      "{'b', 'a'}\n",
      "{'b', 'a'}\n",
      "{'f'}\n",
      "{'f', 'x', 't', 'n'}\n",
      "{'f'}\n",
      "{'b', 'd', 'f', 'c', 'e', 'a'}\n",
      "{'f'}\n",
      "{'b', 'a'}\n",
      "{'f'}\n",
      "{'b', 'a'}\n",
      "{'b', 'c', 'a'}\n"
     ]
    }
   ],
   "metadata": {}
  },
  {
   "cell_type": "markdown",
   "source": [
    "## Longer Contiguous Segments of Ones than Zeros\n",
    "\n",
    "Given a binary string s, return true if the longest contiguous segment of 1s is strictly longer than the longest contiguous segment of 0s in s. Return false otherwise.\n",
    "\n",
    "For example, in s = \"110100010\" the longest contiguous segment of 1s has length 2, and the longest contiguous segment of 0s has length 3.\n",
    "Note that if there are no 0s, then the longest contiguous segment of 0s is considered to have length 0. The same applies if there are no 1s.\n",
    "\n",
    "Example 1:\n",
    "\n",
    "Input: s = \"1101\" | \n",
    "Output: true\n",
    "\n",
    "Explanation:\n",
    "\n",
    "The longest contiguous segment of 1s has length 2: \"1101\"\n",
    "\n",
    "The longest contiguous segment of 0s has length 1: \"1101\"\n",
    "\n",
    "The segment of 1s is longer, so return true.\n",
    "\n",
    "Example 2:\n",
    "\n",
    "Input: s = \"111000\" | \n",
    "Output: false\n",
    "\n",
    "Explanation:\n",
    "\n",
    "The longest contiguous segment of 1s has length 3: \"111000\"\n",
    "\n",
    "The longest contiguous segment of 0s has length 3: \"111000\"\n",
    "\n",
    "The segment of 1s is not longer, so return false.\n",
    "\n",
    "Example 3:\n",
    "\n",
    "Input: s = \"110100010\" | \n",
    "Output: false\n",
    "\n",
    "Explanation:\n",
    "\n",
    "The longest contiguous segment of 1s has length 2: \"110100010\"\n",
    "\n",
    "The longest contiguous segment of 0s has length 3: \"110100010\"\n",
    "\n",
    "The segment of 1s is not longer, so return false."
   ],
   "metadata": {}
  },
  {
   "cell_type": "code",
   "execution_count": 21,
   "source": [
    "# Method 1 (Leet Code 118 / 141 test cases passed.)\n",
    "def checkZeroOnes1(s):\n",
    "    if s.count('1') > s.count('0'):\n",
    "        return True\n",
    "    return False\n",
    "print(f'Method 1 output: {checkZeroOnes1(\"110100010\")}')\n",
    "\n",
    "# Method 2 \n",
    "from re import findall\n",
    "def checkZeroOnes2(s):\n",
    "    one = len(max(findall(\"11*\",s)))\n",
    "    zero = len(max(findall(\"00*\",s)))\n",
    "    return one > zero\n",
    "print(f'Method 2 output: {checkZeroOnes2(\"11110000\")}')"
   ],
   "outputs": [
    {
     "output_type": "stream",
     "name": "stdout",
     "text": [
      "Method 1 output: False\n",
      "Method 2 output: False\n"
     ]
    }
   ],
   "metadata": {}
  },
  {
   "cell_type": "markdown",
   "source": [
    "# Yet to see this \n",
    "## Word Pattern\n",
    "Given a pattern and a string s, find if s follows the same pattern.\n",
    "\n",
    "Here follow means a full match, such that there is a bijection between a letter in pattern and a non-empty word in s.\n",
    "\n",
    "\n",
    "Example 1:\n",
    "\n",
    "Input: pattern = \"abba\", s = \"dog cat cat dog\" | \n",
    "Output: true\n",
    "\n",
    "Example 2:\n",
    "\n",
    "Input: pattern = \"abba\", s = \"dog cat cat fish\" | \n",
    "Output: false\n",
    "\n",
    "Example 3:\n",
    "\n",
    "Input: pattern = \"aaaa\", s = \"dog cat cat dog\" | \n",
    "Output: false\n",
    "\n",
    "Example 4:\n",
    "\n",
    "Input: pattern = \"abba\", s = \"dog dog dog dog\" | \n",
    "Output: false"
   ],
   "metadata": {}
  },
  {
   "cell_type": "code",
   "execution_count": null,
   "source": [],
   "outputs": [],
   "metadata": {}
  },
  {
   "cell_type": "markdown",
   "source": [
    "# Sort Colors\n",
    "\n",
    "Given an array nums with n objects colored red, white, or blue, sort them in-place so that objects of the same color are adjacent, with the colors in the order red, white, and blue.\n",
    "\n",
    "We will use the integers 0, 1, and 2 to represent the color red, white, and blue, respectively.\n",
    "\n",
    "You must solve this problem without using the library's sort function.\n",
    "\n",
    "Example 1:\n",
    "\n",
    "Input: nums = [[2,0,2,1,1,0]] | \n",
    "Output: [[0,0,1,1,2,2]]\n",
    "\n",
    "Example 2:\n",
    "\n",
    "Input: nums = [[2,0,1]] | \n",
    "Output: [[0,1,2]]\n",
    "\n",
    "Example 3:\n",
    "\n",
    "Input: nums = [[0]] | \n",
    "Output: [0]\n",
    "\n",
    "Example 4:\n",
    "\n",
    "Input: nums = [[1]] |\n",
    "Output: [1]"
   ],
   "metadata": {}
  },
  {
   "cell_type": "code",
   "execution_count": 16,
   "source": [
    "# Method 1 (Inplace order using bubble sort)\n",
    "def sortColor1(nums):\n",
    "    for i in range(len(nums)):\n",
    "        for j in range(i,len(nums)):\n",
    "            if nums[i] > nums[j]:\n",
    "                nums[i],nums[j] = nums[j],nums[i]\n",
    "    return nums\n",
    "print(f'Method 1 output: {sortColor1([2,0,1])}')\n",
    "\n",
    "# Method 2\n",
    "def sortColor2(nums):\n",
    "    nums.sort()\n",
    "    return nums\n",
    "print(f'Method 2 output: {sortColor2([2,0,1])}')"
   ],
   "outputs": [
    {
     "output_type": "stream",
     "name": "stdout",
     "text": [
      "Method 1 output: [0, 1, 2]\n",
      "Method 2 output: [0, 1, 2]\n"
     ]
    }
   ],
   "metadata": {}
  },
  {
   "cell_type": "markdown",
   "source": [
    "# Yet to see this\n",
    "# Repeated Substring Pattern\n",
    "\n",
    "Given a string s, check if it can be constructed by taking a substring of it and appending multiple copies of the substring together.\n",
    "\n",
    "Example 1:\n",
    "\n",
    "Input: s = \"abab\" | \n",
    "Output: true\n",
    "\n",
    "Explanation: It is the substring \"ab\" twice.\n",
    "\n",
    "Example 2:\n",
    "\n",
    "Input: s = \"aba\" | \n",
    "Output: false\n",
    "\n",
    "Example 3:\n",
    "\n",
    "Input: s = \"abcabcabcabc\" |\n",
    "Output: true\n",
    "\n",
    "Explanation: It is the substring \"abc\" four times or the substring \"abcabc\" twice."
   ],
   "metadata": {}
  },
  {
   "cell_type": "code",
   "execution_count": 23,
   "source": [
    "from collections import Counter\n",
    "def count_substring(string):\n",
    "    stringDict = Counter([string[i:i+1] for i in range(len(string)-1)])\n",
    "    # if max(stringDict.values()) > 1: return True\n",
    "    return stringDict\n",
    "count_substring('abcabcabcabc')"
   ],
   "outputs": [
    {
     "output_type": "execute_result",
     "data": {
      "text/plain": [
       "Counter({'a': 4, 'b': 4, 'c': 3})"
      ]
     },
     "metadata": {},
     "execution_count": 23
    }
   ],
   "metadata": {}
  },
  {
   "cell_type": "markdown",
   "source": [
    "# Maximum Product Difference Between Two Pairs\n",
    "\n",
    "The product difference between two pairs (a, b) and (c, d) is defined as (a * b) - (c * d).\n",
    "\n",
    "For example, the product difference between (5, 6) and (2, 7) is (5 * 6) - (2 * 7) = 16.\n",
    "Given an integer array nums, choose four distinct indices w, x, y, and z such that the product difference between pairs (nums[w], nums[x]) and (nums[y], nums[z]) is maximized.\n",
    "\n",
    "Return the maximum such product difference.\n",
    "\n",
    "Example 1:\n",
    "\n",
    "Input: nums = [5,6,2,7,4] | \n",
    "Output: 34\n",
    "\n",
    "Explanation: We can choose indices 1 and 3 for the first pair (6, 7) and indices 2 and 4 for the second pair (2, 4). The product difference is (6 * 7) - (2 * 4) = 34.\n",
    "\n",
    "Example 2:\n",
    "\n",
    "Input: nums = [4,2,5,9,7,4,8] | \n",
    "Output: 64\n",
    "\n",
    "Explanation: We can choose indices 3 and 6 for the first pair (9, 8) and indices 1 and 5 for the second pair (2, 4). The product difference is (9 * 8) - (2 * 4) = 64."
   ],
   "metadata": {}
  },
  {
   "cell_type": "code",
   "execution_count": 4,
   "source": [
    "# Choose max two numbers and least two numbers\n",
    "# Multiply max two numbers and least two numbers\n",
    "# Subtract product of max numbers and least numbers\n",
    "\n",
    "# Method 1 (Best Time Complexity but worst space complexity)\n",
    "def maxProdBtwn1(nums):\n",
    "    nums.sort()\n",
    "    max1,max2,least1,least2 = nums[-1],nums[-2],nums[0],nums[1]\n",
    "    maxProd = max1*max2\n",
    "    leastProd = least1*least2\n",
    "    return maxProd - leastProd\n",
    "print(f'Method 1 output is: {maxProdBtwn1([5,6,2,7,4])}')\n",
    "\n",
    "# Method 2 (Better time complexity than first one)\n",
    "def maxProdBtwn2(nums):\n",
    "    nums.sort()\n",
    "    return (nums[-1]*nums[-2]) - (nums[0]*nums[1])\n",
    "print(f'Method 2 output is: {maxProdBtwn2([5,6,2,7,4])}')"
   ],
   "outputs": [
    {
     "output_type": "stream",
     "name": "stdout",
     "text": [
      "Method 1 output is: 34\n",
      "Method 2 output is: 34\n"
     ]
    }
   ],
   "metadata": {}
  },
  {
   "cell_type": "markdown",
   "source": [
    "# yet tot see this\n",
    "# Remove One Element to Make the Array Strictly Increasing\n",
    "\n",
    "Given a 0-indexed integer array nums, return true if it can be made strictly increasing after removing exactly one element, or false otherwise. If the array is already strictly increasing, return true.\n",
    "\n",
    "The array nums is strictly increasing if nums[i - 1] < nums[i] for each index (1 <= i < nums.length).\n",
    "\n",
    "Example 1:\n",
    "\n",
    "Input: nums = [1,2,10,5,7] | \n",
    "Output: true\n",
    "\n",
    "Explanation: By removing 10 at index 2 from nums, it becomes [1,2,5,7]. [1,2,5,7] is strictly increasing, so return true.\n",
    "\n",
    "Example 2:\n",
    "\n",
    "Input: nums = [2,3,1,2] | \n",
    "Output: false\n",
    "\n",
    "Explanation:\n",
    "\n",
    "[3,1,2] is the result of removing the element at index 0.\n",
    "\n",
    "[2,1,2] is the result of removing the element at index 1.\n",
    "\n",
    "[2,3,2] is the result of removing the element at index 2.\n",
    "\n",
    "[2,3,1] is the result of removing the element at index 3.\n",
    "\n",
    "No resulting array is strictly increasing, so return false.\n",
    "\n",
    "Example 3:\n",
    "\n",
    "Input: nums = [1,1,1] | \n",
    "Output: false\n",
    "\n",
    "Explanation: The result of removing any element is [1,1]. [1,1] is not strictly increasing, so return false.\n",
    "\n",
    "Example 4:\n",
    "\n",
    "Input: nums = [1,2,3] | \n",
    "Output: true\n",
    "\n",
    "Explanation: [1,2,3] is already strictly increasing, so return true."
   ],
   "metadata": {}
  },
  {
   "cell_type": "code",
   "execution_count": 80,
   "source": [
    "nums = [2,3,1,2]\n",
    "def boo(nums):\n",
    "    def check(nums):\n",
    "        out = True\n",
    "        while out:\n",
    "            for i in range(len(nums)-1):\n",
    "                if nums[i-1] < nums[i]:\n",
    "                    nums.pop(nums[i-1])\n",
    "                    continue\n",
    "                out = False\n",
    "    \n",
    "    return nums\n",
    "boo(nums)"
   ],
   "outputs": [
    {
     "output_type": "execute_result",
     "data": {
      "text/plain": [
       "[2, 3, 2]"
      ]
     },
     "metadata": {},
     "execution_count": 80
    }
   ],
   "metadata": {}
  },
  {
   "cell_type": "markdown",
   "source": [
    "# Detect Capital\n",
    "We define the usage of capitals in a word to be right when one of the following cases holds:\n",
    "\n",
    "- All letters in this word are capitals, like \"USA\".\n",
    "\n",
    "- All letters in this word are not capitals, like \"leetcode\".\n",
    "\n",
    "- Only the first letter in this word is capital, like \"Google\".\n",
    "\n",
    "- Given a string word, return true if the usage of capitals in it is right.\n",
    " \n",
    "\n",
    "Example 1:\n",
    "\n",
    "Input: word = \"USA\" | \n",
    "Output: true\n",
    "\n",
    "Example 2:\n",
    "\n",
    "Input: word = \"FlaG\" | \n",
    "Output: false"
   ],
   "metadata": {}
  },
  {
   "cell_type": "code",
   "execution_count": 6,
   "source": [
    "# method 1\n",
    "import re\n",
    "def capital1(word):\n",
    "   return re.fullmatch(r\"[A-Z]*|.[a-z]*\",word)\n",
    "print(f'Method 1 output is: {capital1(\"FlaG\")}')\n",
    "\n",
    "# Method 2\n",
    "def capital2(word):\n",
    "    if word.isupper() or len(word) == 1:\n",
    "            return True\n",
    "    else:\n",
    "        if word[0].isupper():\n",
    "            return True\n",
    "        else:\n",
    "            for j in range(1,len(word)):\n",
    "                if word[j].isupper():\n",
    "                    return False\n",
    "print(f'Method 2 output is: {capital2(\"anerutH\")}')"
   ],
   "outputs": [
    {
     "output_type": "stream",
     "name": "stdout",
     "text": [
      "Method 1 output is: None\n",
      "Method 2 output is: False\n"
     ]
    }
   ],
   "metadata": {}
  },
  {
   "cell_type": "markdown",
   "source": [
    "# Yet to see this\n",
    "# Find K Closest Elements\n",
    "\n",
    "Given a sorted integer array arr, two integers k and x, return the k closest integers to x in the array. The result should also be sorted in ascending order.\n",
    "\n",
    "An integer a is closer to x than an integer b if:\n",
    "\n",
    "- |a - x| < |b - x|, or\n",
    "\n",
    "- |a - x| == |b - x| and a < b\n",
    "\n",
    "Example 1:\n",
    "\n",
    "Input: arr = [1,2,3,4,5], k = 4, x = 3 | \n",
    "Output: [1,2,3,4]\n",
    "\n",
    "Example 2:\n",
    "\n",
    "Input: arr = [1,2,3,4,5], k = 4, x = -1 |\n",
    "Output: [1,2,3,4]\n",
    "\n",
    "Constraints:\n",
    "\n",
    "- 1 <= k <= arr.length\n",
    "\n",
    "- 1 <= arr.length <= 104\n",
    "\n",
    "- arr is sorted in ascending order.\n",
    "\n",
    "- $-10^{4}$ <= arr[i], x <= $10^{4}$"
   ],
   "metadata": {}
  },
  {
   "cell_type": "code",
   "execution_count": 14,
   "source": [
    "arr,k,x = [1,2,3,4,5],4,3\n",
    "output = []\n",
    "for a in range(len(arr)):\n",
    "    for b in range(1,len(arr)) or abs(arr[a]-x) == abs(arr[b]-x) and arr[a] < arr[b]:\n",
    "        if abs(arr[a]-x) < abs(arr[b]-x):\n",
    "            output.append(arr[a])\n",
    "            output.extend([arr[b]])"
   ],
   "outputs": [],
   "metadata": {}
  },
  {
   "cell_type": "code",
   "execution_count": 15,
   "source": [
    "list(set(output))"
   ],
   "outputs": [
    {
     "output_type": "execute_result",
     "data": {
      "text/plain": [
       "[2, 3, 4, 5]"
      ]
     },
     "metadata": {},
     "execution_count": 15
    }
   ],
   "metadata": {}
  },
  {
   "cell_type": "markdown",
   "source": [
    "# Yet to see this \n",
    "# Find the Distance Value Between Two Arrays\n",
    "Given two integer arrays arr1 and arr2, and the integer d, return the distance value between the two arrays.\n",
    "\n",
    "The distance value is defined as the number of elements arr1[i] such that there is not any element arr2[j] where |arr1[i]-arr2[j]| <= d.\n",
    "\n",
    "Example 1:\n",
    "\n",
    "Input: arr1 = [4,5,8], arr2 = [10,9,1,8], d = 2 . | \n",
    "Output: 2\n",
    "\n",
    "Explanation: \n",
    "\n",
    "For arr1[0]=4 we have: \n",
    "\n",
    "|4-10|=6 > d=2 \n",
    "\n",
    "|4-9|=5 > d=2 \n",
    "\n",
    "|4-1|=3 > d=2 \n",
    "\n",
    "|4-8|=4 > d=2 \n",
    "\n",
    "For arr1[1]=5 we have: \n",
    "\n",
    "|5-10|=5 > d=2 \n",
    "\n",
    "|5-9|=4 > d=2 \n",
    "\n",
    "|5-1|=4 > d=2 \n",
    "\n",
    "|5-8|=3 > d=2\n",
    "\n",
    "For arr1[2]=8 we have:\n",
    "\n",
    "|8-10|=2 <= d=2\n",
    "\n",
    "|8-9|=1 <= d=2\n",
    "\n",
    "|8-1|=7 > d=2\n",
    "\n",
    "|8-8|=0 <= d=2\n",
    "\n",
    "Example 2:\n",
    "\n",
    "Input: arr1 = [1,4,2,3], arr2 = [-4,-3,6,10,20,30], d = 3 | \n",
    "Output: 2\n",
    "\n",
    "Example 3:\n",
    "\n",
    "Input: arr1 = [2,1,100,3], arr2 = [-5,-2,10,-3,7], d = 6 | \n",
    "Output: 1"
   ],
   "metadata": {}
  },
  {
   "cell_type": "code",
   "execution_count": 20,
   "source": [
    "def attempt1(arr1,arr2,d):\n",
    "    return [abs(i-j) for i in arr1 for j in arr2 if abs(i-j)<= d]\n",
    "attempt1([4,5,8],[10,9,1,8],2)"
   ],
   "outputs": [
    {
     "output_type": "execute_result",
     "data": {
      "text/plain": [
       "[2, 1, 0]"
      ]
     },
     "metadata": {},
     "execution_count": 20
    }
   ],
   "metadata": {}
  },
  {
   "cell_type": "markdown",
   "source": [
    "# Degree of an Array\n",
    "Given a non-empty array of non-negative integers nums, the degree of this array is defined as the maximum frequency of any one of its elements.\n",
    "\n",
    "Your task is to find the smallest possible length of a (contiguous) subarray of nums, that has the same degree as nums.\n",
    "\n",
    "Example 1:\n",
    "\n",
    "Input: nums = [1,2,2,3,1] | \n",
    "Output: 2\n",
    "\n",
    "Explanation: \n",
    "\n",
    "The input array has a degree of 2 because both elements 1 and 2 appear twice.\n",
    "Of the subarrays that have the same degree: [1, 2, 2, 3, 1], [1, 2, 2, 3], [2, 2, 3, 1], [1, 2, 2], [2, 2, 3], [2, 2]. The shortest length is 2. So return 2.\n",
    "\n",
    "Example 2:\n",
    "\n",
    "Input: nums = [1,2,2,3,1,4,2] | \n",
    "Output: 6\n",
    "\n",
    "Explanation: \n",
    "The degree is 3 because the element 2 is repeated 3 times. So [2,2,3,1,4,2] is the shortest subarray, therefore returning 6."
   ],
   "metadata": {}
  },
  {
   "cell_type": "code",
   "execution_count": 24,
   "source": [
    "# Not a bad try (yet to see the logic)\n",
    "from collections import Counter\n",
    "n = [1,2,2,3,1]\n",
    "dic = Counter(n)\n",
    "v = 1\n",
    "for key,val in dic.items():\n",
    "    if val >= 2:\n",
    "        out = key*v\n",
    "print(out)"
   ],
   "outputs": [
    {
     "output_type": "stream",
     "name": "stdout",
     "text": [
      "2\n"
     ]
    }
   ],
   "metadata": {}
  },
  {
   "cell_type": "markdown",
   "source": [
    "# Yet to see this\n",
    "# Daily Temperatures\n",
    "Given an array of integers temperatures represents the daily temperatures, return an array answer such that answer[i] is the number of days you have to wait after the ith day to get a warmer temperature. If there is no future day for which this is possible, keep answer[i] == 0 instead.\n",
    "\n",
    "Example 1:\n",
    "\n",
    "Input: temperatures = [73,74,75,71,69,72,76,73] | \n",
    "Output: [1,1,4,2,1,1,0,0]\n",
    "\n",
    "Example 2:\n",
    "\n",
    "Input: temperatures = [30,40,50,60] | \n",
    "Output: [1,1,1,0]\n",
    "\n",
    "Example 3:\n",
    "\n",
    "Input: temperatures = [30,60,90] | \n",
    "Output: [1,1,0]"
   ],
   "metadata": {}
  },
  {
   "cell_type": "code",
   "execution_count": 4,
   "source": [
    "temp = [73,74,75,71,69,72,76,73]\n",
    "out = []\n",
    "t = 0\n",
    "for i in range(len(temp)-1):\n",
    "    if temp[i] < temp[i+1]:\n",
    "        t = temp[i]\n",
    "        out.append(temp.index(temp[i]) - temp.index(t))\n",
    "        \n"
   ],
   "outputs": [],
   "metadata": {}
  },
  {
   "cell_type": "markdown",
   "source": [
    "# Delete Columns to Make Sorted\n",
    "\n",
    "You are given an array of n strings strs, all of the same length.\n",
    "\n",
    "The strings can be arranged such that there is one on each line, making a grid. For example, strs = [\"abc\", \"bce\", \"cae\"] can be arranged as:\n",
    "\n",
    "abc\n",
    "\n",
    "bce\n",
    "\n",
    "cae\n",
    "\n",
    "You want to delete the columns that are not sorted lexicographically. In the above example (0-indexed), columns 0 ('a', 'b', 'c') and 2 ('c', 'e', 'e') are sorted while column 1 ('b', 'c', 'a') is not, so you would delete column 1.\n",
    "\n",
    "Return the number of columns that you will delete.\n",
    "\n",
    "Example 1:\n",
    "\n",
    "Input: strs = [\"cba\",\"daf\",\"ghi\"] | \n",
    "Output: 1\n",
    "\n",
    "Explanation: The grid looks as follows:\n",
    "  \n",
    "  cba\n",
    "\n",
    "  daf\n",
    "\n",
    "  ghi\n",
    "\n",
    "Columns 0 and 2 are sorted, but column 1 is not, so you only need to delete 1 column.\n",
    "\n",
    "Example 2:\n",
    "\n",
    "Input: strs = [\"a\",\"b\"] | \n",
    "Output: 0\n",
    "\n",
    "Explanation: The grid looks as follows:\n",
    "\n",
    "  a\n",
    "\n",
    "  b\n",
    "\n",
    "Column 0 is the only column and is sorted, so you will not delete any columns.\n",
    "\n",
    "Example 3:\n",
    "\n",
    "Input: strs = [\"zyx\",\"wvu\",\"tsr\"] | \n",
    "Output: 3\n",
    "\n",
    "Explanation: The grid looks as follows:\n",
    "\n",
    "  zyx\n",
    "\n",
    "  wvu\n",
    "\n",
    "  tsr\n",
    "\n",
    "All 3 columns are not sorted, so you will delete all 3."
   ],
   "metadata": {}
  },
  {
   "cell_type": "code",
   "execution_count": 46,
   "source": [
    "# Method 1\n",
    "def delCol1(strs):\n",
    "    result = 0\n",
    "    for i in range(len(strs[0])):\n",
    "        temp = [x[i] for x in strs]\n",
    "        result += 0 if temp == sorted(temp) else 1\n",
    "    return result\n",
    "\n",
    "for i in [[\"cba\",\"daf\",\"ghi\"], [\"a\",\"b\"],[\"zyx\",\"wvu\",\"tsr\"]]:\n",
    "    print(f'Method 1 output is: {delCol1(i)}')\n",
    "print()\n",
    "# Method 2\n",
    "def delCol2(strs):\n",
    "    return sum(list(i) != sorted(i) for i in zip(*strs))\n",
    "\n",
    "for i in [[\"cba\",\"daf\",\"ghi\"], [\"a\",\"b\"],[\"zyx\",\"wvu\",\"tsr\"]]:\n",
    "    print(f'Method 2 output is: {delCol2(i)}')"
   ],
   "outputs": [
    {
     "output_type": "stream",
     "name": "stdout",
     "text": [
      "Method 1 output is: 1\n",
      "Method 1 output is: 0\n",
      "Method 1 output is: 3\n",
      "\n",
      "Method 2 output is: 1\n",
      "Method 2 output is: 0\n",
      "Method 2 output is: 3\n"
     ]
    }
   ],
   "metadata": {}
  },
  {
   "cell_type": "markdown",
   "source": [
    "# Count Binary Substrings\n",
    "\n",
    "Give a binary string s, return the number of non-empty substrings that have the same number of 0's and 1's, and all the 0's and all the 1's in these substrings are grouped consecutively.\n",
    "\n",
    "Substrings that occur multiple times are counted the number of times they occur.\n",
    "\n",
    "Example 1:\n",
    "\n",
    "Input: s = \"00110011\" | \n",
    "Output: 6\n",
    "\n",
    "Explanation: There are 6 substrings that have equal number of consecutive 1's and 0's: \"0011\", \"01\", \"1100\", \"10\", \"0011\", and \"01\".\n",
    "\n",
    "Notice that some of these substrings repeat and are counted the number of times they occur. Also, \"00110011\" is not a valid substring because all the 0's (and 1's) are not grouped together.\n",
    "\n",
    "Example 2:\n",
    "\n",
    "Input: s = \"10101\" | \n",
    "Output: 4\n",
    "\n",
    "Explanation: There are 4 substrings: \"10\", \"01\", \"10\", \"01\" that have equal number of consecutive 1's and 0's."
   ],
   "metadata": {}
  },
  {
   "cell_type": "code",
   "execution_count": 11,
   "source": [
    "def countBinarySubstrings(s):\n",
    "    L = list(map(len, s.replace('01', '0 1').replace('10', '1 0').split(' ')))\n",
    "    res = sum(min(a,b) for a,b in zip(L, L[1:]) )\n",
    "    return res\n",
    "print(f'{countBinarySubstrings(\"00110011\")}')\n",
    "# Yet to check this logic\n"
   ],
   "outputs": [
    {
     "output_type": "execute_result",
     "data": {
      "text/plain": [
       "6"
      ]
     },
     "metadata": {},
     "execution_count": 11
    }
   ],
   "metadata": {}
  },
  {
   "cell_type": "markdown",
   "source": [
    "# Custom Sort String\n",
    "\n",
    "order and str are strings composed of lowercase letters. In order, no letter occurs more than once.\n",
    "\n",
    "order was sorted in some custom order previously. We want to permute the characters of str so that they match the order that order was sorted. More specifically, if x occurs before y in order, then x should occur before y in the returned string.\n",
    "\n",
    "Return any permutation of str (as a string) that satisfies this property.\n",
    "\n",
    "Example:\n",
    "Input: order = \"cba\" | str = \"abcd\"\n",
    "\n",
    "Output: \"cbad\"\n",
    "\n",
    "Explanation: \n",
    "\"a\", \"b\", \"c\" appear in order, so the order of \"a\", \"b\", \"c\" should be \"c\", \"b\", and \"a\". Since \"d\" does not appear in order, it can be at any position in the returned string. \"dcba\", \"cdba\", \"cbda\" are also valid outputs."
   ],
   "metadata": {}
  },
  {
   "cell_type": "code",
   "execution_count": 13,
   "source": [
    "# Method 1 (69/162 values matches)\n",
    "def customSort(s1,s2):\n",
    "    alist = list(map(str,s1))\n",
    "    for i,j in enumerate(s2):\n",
    "        if j not in alist: alist.insert(i,j)\n",
    "    return ''.join(alist)\n",
    "customSort('cba','abcd')"
   ],
   "outputs": [
    {
     "output_type": "execute_result",
     "data": {
      "text/plain": [
       "'cbad'"
      ]
     },
     "metadata": {},
     "execution_count": 13
    }
   ],
   "metadata": {}
  },
  {
   "cell_type": "markdown",
   "source": [
    "# Decorators 2 - Name Directory\n",
    "\n",
    "Let's use decorators to build a name directory! You are given some information about  people. Each person has a first name, last name, age and sex. Print their names in a specific format sorted by their age in ascending order i.e. the youngest person's name should be printed first. For two people of the same age, print them in the order of their input.\n",
    "\n",
    "For Henry Davids, the output should be:\n",
    "\n",
    "Mr. Henry Davids\n",
    "\n",
    "For Mary George, the output should be:\n",
    "\n",
    "Ms. Mary George"
   ],
   "metadata": {}
  },
  {
   "cell_type": "code",
   "execution_count": 84,
   "source": [
    "# Method 1\n",
    "def nameDir(alist):\n",
    "    temp = [i.split(' ') for i in alist]\n",
    "    return [f'Mr. {temp[i][0]} {temp[i][1]}' if temp[i][-1] == 'M' else f'Ms. {temp[i][0]} {temp[i][1]}' for i in range(len(temp))]\n",
    "\n",
    "nameDir(['Mike Thomson 20 M','Aneruth Mohanasundaram 24 M','Andria Bustle 30 F'])"
   ],
   "outputs": [
    {
     "output_type": "execute_result",
     "data": {
      "text/plain": [
       "['Mr. Mike Thomson', 'Mr. Aneruth Mohanasundaram', 'Ms. Andria Bustle']"
      ]
     },
     "metadata": {},
     "execution_count": 84
    }
   ],
   "metadata": {}
  },
  {
   "cell_type": "markdown",
   "source": [
    "# Valid Triangle Number\n",
    "Given an integer array nums, return the number of triplets chosen from the array that can make triangles if we take them as side lengths of a triangle.\n",
    "\n",
    "Example 1: \n",
    "Input: nums = [2,2,3,4] | \n",
    "Output: 3\n",
    "\n",
    "Explanation: Valid combinations are: \n",
    "\n",
    "2,3,4 (using the first 2)\n",
    "\n",
    "2,3,4 (using the second 2)\n",
    "\n",
    "2,2,3\n",
    "\n",
    "Example 2:\n",
    "\n",
    "Input: nums = [4,2,3,4] | \n",
    "Output: 4"
   ],
   "metadata": {}
  },
  {
   "cell_type": "code",
   "execution_count": 33,
   "source": [
    "# Method 1\n",
    "# Approach: Sum of two sides must be greater than third one\n",
    "def validTriangle1(nums):\n",
    "    counter = 0\n",
    "    for i in range(len(nums)-2):\n",
    "        for j in range(i+1,len(nums)-1):\n",
    "            for k in range(j+1,len(nums)):\n",
    "                if nums[i] + nums[j] > nums[k] and nums[i] + nums[k] > nums[j] and nums[k] + nums[j] > nums[i]:\n",
    "                    counter += 1\n",
    "    return counter\n",
    "print(f'Method 1 output is: {validTriangle1([2,2,3,4])}')"
   ],
   "outputs": [
    {
     "output_type": "stream",
     "name": "stdout",
     "text": [
      "Method 1 output is: 3\n"
     ]
    }
   ],
   "metadata": {}
  },
  {
   "cell_type": "markdown",
   "source": [
    "# Find the Duplicate Number\n",
    "Given an array of integers nums containing n + 1 integers where each integer is in the range [1, n] inclusive.\n",
    "\n",
    "There is only one repeated number in nums, return this repeated number.\n",
    "\n",
    "You must solve the problem without modifying the array nums and uses only constant extra space.\n",
    "\n",
    "Example 1:\n",
    "\n",
    "Input: nums = [1,3,4,2,2] | \n",
    "Output: 2\n",
    "\n",
    "Example 2:\n",
    "\n",
    "Input: nums = [3,1,3,4,2] | \n",
    "Output: 3\n",
    "\n",
    "Example 3:\n",
    "\n",
    "Input: nums = [1,1] | \n",
    "Output: 1\n",
    "\n",
    "Example 4:\n",
    "\n",
    "Input: nums = [1,1,2] | \n",
    "Output: 1"
   ],
   "metadata": {}
  },
  {
   "cell_type": "code",
   "execution_count": 14,
   "source": [
    "# Method 1 (Not ok for mlist value greater than 100000000)\n",
    "def findDuplicate(nums):\n",
    "    return list(set(list(filter(lambda x: nums.count(x) > 1,nums))))[0]\n",
    "print(f'Method 1 output is: {findDuplicate([1,3,4,2,3,3])}')\n",
    "\n",
    "# Method 2\n",
    "from collections import Counter\n",
    "def findDuplicate1(nums):\n",
    "    # numDict = Counter(nums)\n",
    "    return [item for item, count in Counter(nums).items() if count > 1][0]\n",
    "print(f'Method 2 output is: {findDuplicate1([1,3,4,2,3,3])}')"
   ],
   "outputs": [
    {
     "output_type": "stream",
     "name": "stdout",
     "text": [
      "Method 1 output is: 3\n",
      "Method 2 output is: 3\n"
     ]
    }
   ],
   "metadata": {}
  },
  {
   "cell_type": "markdown",
   "source": [
    "# Largest Odd Number in String\n",
    "\n",
    "You are given a string num, representing a large integer. Return the largest-valued odd integer (as a string) that is a non-empty substring of num, or an empty string \"\" if no odd integer exists.\n",
    "\n",
    "A substring is a contiguous sequence of characters within a string.\n",
    "\n",
    "Example 1:\n",
    "\n",
    "Input: num = \"52\" | \n",
    "Output: \"5\"\n",
    "\n",
    "Explanation: The only non-empty substrings are \"5\", \"2\", and \"52\". \"5\" is the only odd number.\n",
    "\n",
    "Example 2:\n",
    "\n",
    "Input: num = \"4206\" | \n",
    "Output: \"\"\n",
    "\n",
    "Explanation: There are no odd numbers in \"4206\".\n",
    "\n",
    "Example 3:\n",
    "\n",
    "Input: num = \"35427\" | \n",
    "Output: \"35427\"\n",
    "\n",
    "Explanation: \"35427\" is already an odd number."
   ],
   "metadata": {}
  },
  {
   "cell_type": "code",
   "execution_count": 10,
   "source": [
    "num = '52'\n",
    "for i in range(len(num)-1,-1,-1):\n",
    "    if i in ['1','3','5','7','9']:\n",
    "        print(num[:i+1])\n",
    "    else:\n",
    "        print('')"
   ],
   "outputs": [
    {
     "output_type": "stream",
     "name": "stdout",
     "text": [
      "\n",
      "\n"
     ]
    }
   ],
   "metadata": {}
  },
  {
   "cell_type": "markdown",
   "source": [
    "# Check if All the Integers in a Range Are Covered\n",
    "\n",
    "You are given a 2D integer array ranges and two integers left and right. Each ranges[i] = [starti, endi] represents an inclusive interval between starti and endi.\n",
    "\n",
    "Return true if each integer in the inclusive range [left, right] is covered by at least one interval in ranges. Return false otherwise.\n",
    "\n",
    "An integer x is covered by an interval ranges[i] = [starti, endi] if starti <= x <= endi.\n",
    "\n",
    "Example 1:\n",
    "\n",
    "Input: ranges = [[1,2],[3,4],[5,6]], left = 2, right = 5 | \n",
    "Output: true\n",
    "\n",
    "Explanation: Every integer between 2 and 5 is covered:\n",
    "\n",
    "    - 2 is covered by the first range.\n",
    "\n",
    "    - 3 and 4 are covered by the second range.\n",
    "\n",
    "    - 5 is covered by the third range.\n",
    "\n",
    "Example 2:\n",
    "\n",
    "Input: ranges = [[1,10],[10,20]], left = 21, right = 21 | \n",
    "Output: false\n",
    "\n",
    "Explanation: 21 is not covered by any range."
   ],
   "metadata": {}
  },
  {
   "cell_type": "code",
   "execution_count": 60,
   "source": [
    "# Method 1 (Okish Answer)\n",
    "def checkRange(ranges,a,b):\n",
    "    val = [j for i in ranges for j in i]\n",
    "    if (a in val) and (b in val):\n",
    "        return True\n",
    "    return False\n",
    "print(f'Method 1 output is: {checkRange([[1,50]],1,50)}')\n",
    "\n",
    "# Method 2 (Best Method)\n",
    "def checkRange1(ranges,a,b):\n",
    "    return set(i for i in range(a,b+1)).intersection(set(i for l,r in ranges for i in range(l, r+1))) == set(i for i in range(a,b+1))\n",
    "print(f'Method 2 output is: {checkRange1([[1,50]],1,50)}')\n",
    "\n",
    "# Method 3 (Okish Answer)\n",
    "def checkRange2(ranges,a,b):\n",
    "    rangeSet = set(i for i in range(a,b+1))\n",
    "    valueList = set(j for i in ranges for j in i)\n",
    "    for i in rangeSet:\n",
    "        if i in valueList:\n",
    "            return True\n",
    "    return False\n",
    "print(f'Method 3 output is: {checkRange2([[1,50]],1,50)}')"
   ],
   "outputs": [
    {
     "output_type": "stream",
     "name": "stdout",
     "text": [
      "Method 1 output is: True\n",
      "Method 2 output is: True\n",
      "Method 3 output is: True\n"
     ]
    }
   ],
   "metadata": {}
  },
  {
   "cell_type": "code",
   "execution_count": null,
   "source": [],
   "outputs": [],
   "metadata": {}
  }
 ],
 "metadata": {
  "interpreter": {
   "hash": "0adcc2737ebf6a4a119f135174df96668767fca1ef1112612db5ecadf2b6d608"
  },
  "kernelspec": {
   "name": "python3",
   "display_name": "Python 3.8.5 64-bit"
  },
  "language_info": {
   "name": "python",
   "version": "3.8.5",
   "mimetype": "text/x-python",
   "codemirror_mode": {
    "name": "ipython",
    "version": 3
   },
   "pygments_lexer": "ipython3",
   "nbconvert_exporter": "python",
   "file_extension": ".py"
  },
  "orig_nbformat": 2
 },
 "nbformat": 4,
 "nbformat_minor": 2
}