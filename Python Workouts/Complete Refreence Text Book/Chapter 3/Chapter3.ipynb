{
 "metadata": {
  "language_info": {
   "codemirror_mode": {
    "name": "ipython",
    "version": 3
   },
   "file_extension": ".py",
   "mimetype": "text/x-python",
   "name": "python",
   "nbconvert_exporter": "python",
   "pygments_lexer": "ipython3",
   "version": "3.8.5-final"
  },
  "orig_nbformat": 2,
  "kernelspec": {
   "name": "python3",
   "display_name": "Python 3",
   "language": "python"
  }
 },
 "nbformat": 4,
 "nbformat_minor": 2,
 "cells": [
  {
   "source": [
    "### Floating Constants\n",
    "\n",
    "Note: mixed floating point and integer expressions returns floating point values "
   ],
   "cell_type": "markdown",
   "metadata": {}
  },
  {
   "cell_type": "code",
   "execution_count": 7,
   "metadata": {},
   "outputs": [
    {
     "output_type": "execute_result",
     "data": {
      "text/plain": [
       "1.2332"
      ]
     },
     "metadata": {},
     "execution_count": 7
    }
   ],
   "source": [
    "float_cons = 123.32e-2 # e-2 ===> te exponent part where it shifts the decimal point.\n",
    "float_cons"
   ]
  },
  {
   "source": [
    "### Complex Numbers\n",
    "1. They are represented by real and imaginary part.\n",
    "\n",
    "2. We can't iterate the complex numbers just like an integer.\n",
    "\n",
    "3. Used to store it in two floating point number irrespective of the prescision of the original."
   ],
   "cell_type": "markdown",
   "metadata": {}
  },
  {
   "cell_type": "code",
   "execution_count": 2,
   "metadata": {},
   "outputs": [
    {
     "output_type": "stream",
     "name": "stdout",
     "text": [
      "(3+2j) is first complex number\n(3+4j) is second complex number\n(6+6j) is sum of two complex numbers\n"
     ]
    }
   ],
   "source": [
    "complex_number = 3+2j\n",
    "print(f'{complex_number} is first complex number')\n",
    "\n",
    "## Other method to print the complex numbers\n",
    "complex_number_2 = complex(3,4)\n",
    "print(f'{complex_number_2} is second complex number')\n",
    "\n",
    "# Addition of two complex numbers\n",
    "add_cmp = complex_number + complex_number_2\n",
    "print(f'{add_cmp} is sum of two complex numbers')"
   ]
  },
  {
   "source": [
    "### Exe: To perform a simple complex number calcuation such as simple calculator."
   ],
   "cell_type": "markdown",
   "metadata": {}
  },
  {
   "cell_type": "code",
   "execution_count": 18,
   "metadata": {},
   "outputs": [
    {
     "output_type": "stream",
     "name": "stdout",
     "text": [
      "Division of two complex numbers is (0.68-0.24j)\nAddition of two complex numbers is (6+6j)\n"
     ]
    }
   ],
   "source": [
    "def calc(conv):\n",
    "    if conv == 'add':\n",
    "        print(f'Addition of two complex numbers is {complex_number + complex_number_2}')\n",
    "    elif conv == 'sub':\n",
    "        print(f'Subtraction of two complex numbers is {complex_number - complex_number_2}')\n",
    "    elif conv == 'mul': \n",
    "        print(f'Multiplication of two complex numbers is {complex_number * complex_number_2}')\n",
    "    elif conv == 'div':\n",
    "        print(f'Division of two complex numbers is {complex_number / complex_number_2}')\n",
    "    else:\n",
    "        print('.')\n",
    "calc('div')\n",
    "calc('add')"
   ]
  },
  {
   "source": [
    "### Numeric Functions \n",
    "#### 1. abs(x) ==> returns absolute value of a number\n",
    "#### 2. coerce(x,y) ==> translate two numbers into a common type and retruns in a tupple format. {Not used in python 3+}\n",
    "#### 3. divmod(x,y) ==> returns calculation of (a/b or a%b) which returns the tupple of \"q\" and \"r\". \n",
    "#### 4. pow(x,y) ==> returns the power of a number where \"x\" is the number and \"y\" is it's power. \n",
    "     #### 4.1. pow(x,y[,z]) ==> returns the value of pow(x,y)%z\n",
    "#### 5. round(x[,y]) ==> returns the round off value of a floating point number. "
   ],
   "cell_type": "markdown",
   "metadata": {}
  },
  {
   "cell_type": "code",
   "execution_count": 28,
   "metadata": {},
   "outputs": [
    {
     "output_type": "stream",
     "name": "stdout",
     "text": [
      "12.23\n"
     ]
    },
    {
     "output_type": "execute_result",
     "data": {
      "text/plain": [
       "12.0"
      ]
     },
     "metadata": {},
     "execution_count": 28
    }
   ],
   "source": [
    "x = 12.23\n",
    "y = 2\n",
    "\n",
    "# Abs \n",
    "print(abs(x))\n",
    "\n",
    "# divmod(x,y)\n",
    "divmod(x,y)\n",
    "\n",
    "# round(x)\n",
    "round(x,0)"
   ]
  },
  {
   "source": [
    "### Strings "
   ],
   "cell_type": "markdown",
   "metadata": {}
  },
  {
   "cell_type": "code",
   "execution_count": 34,
   "metadata": {},
   "outputs": [
    {
     "output_type": "stream",
     "name": "stdout",
     "text": [
      "Aneruth is my first name and Mohanasundaram is my family name. My full name is Aneruth Mohanasundaram\n"
     ]
    }
   ],
   "source": [
    "sample_str = 'Aneruth'\n",
    "sample_str1 = ' Mohanasundaram'\n",
    "\n",
    "print(f'{sample_str} is my first name and{sample_str1} is my family name. My full name is {sample_str + sample_str1}')"
   ]
  },
  {
   "source": [
    "#### String arithematic"
   ],
   "cell_type": "markdown",
   "metadata": {}
  },
  {
   "cell_type": "code",
   "execution_count": 36,
   "metadata": {},
   "outputs": [
    {
     "output_type": "stream",
     "name": "stdout",
     "text": [
      "Aneruth MohanasundaramAneruth MohanasundaramAneruth Mohanasundaram\n"
     ]
    },
    {
     "output_type": "execute_result",
     "data": {
      "text/plain": [
       "22"
      ]
     },
     "metadata": {},
     "execution_count": 36
    }
   ],
   "source": [
    "## Concate\n",
    "full_name = sample_str + sample_str1\n",
    "full_name\n",
    "\n",
    "## Multiplication \n",
    "print(full_name * 3) \n",
    "\n",
    "## fetch the length\n",
    "len(full_name)"
   ]
  },
  {
   "source": [
    "### String Slicing\n",
    "#### str[[start:stop:skip]] "
   ],
   "cell_type": "markdown",
   "metadata": {}
  },
  {
   "cell_type": "code",
   "execution_count": 43,
   "metadata": {},
   "outputs": [
    {
     "output_type": "execute_result",
     "data": {
      "text/plain": [
       "'Quick'"
      ]
     },
     "metadata": {},
     "execution_count": 43
    }
   ],
   "source": [
    "string = 'Quick brown fox jumps over lazy dog'\n",
    "\n",
    "# To fetch first character\n",
    "string[0]\n",
    "\n",
    "# To fetch a series of character\n",
    "string[0:5]"
   ]
  },
  {
   "source": [
    "### Exe : to change the index position of each characters"
   ],
   "cell_type": "markdown",
   "metadata": {}
  },
  {
   "cell_type": "code",
   "execution_count": 55,
   "metadata": {},
   "outputs": [
    {
     "output_type": "stream",
     "name": "stdout",
     "text": [
      "Interchanged list is ['brown', 'Quick', 'jumps', 'fox', 'lazy', 'over']\n"
     ]
    }
   ],
   "source": [
    "x = string.split() # split() chnages the string to list foramt\n",
    "empty_list = []\n",
    "eve = x[0:len(x):2]\n",
    "odd = x[1:len(x):2]\n",
    "for i,j in zip(eve,odd):\n",
    "    empty_list.append(j)\n",
    "    empty_list.append(i)\n",
    "print(f'Interchanged list is {empty_list}') # method to interchange the values based on the index positions."
   ]
  },
  {
   "source": [
    "### Lists \n",
    "#### They are muteable that means we can modify them. "
   ],
   "cell_type": "markdown",
   "metadata": {}
  },
  {
   "cell_type": "code",
   "execution_count": 59,
   "metadata": {},
   "outputs": [
    {
     "output_type": "stream",
     "name": "stdout",
     "text": [
      "2D list is [[1, 6], [2, 7], [3, 8], [4, 9], [5, 10]]\n"
     ]
    }
   ],
   "source": [
    "list1 = [1,2,3,4,5]\n",
    "list2 = [6,7,8,9,10]\n",
    "\n",
    "# List comprehension which makes us to write the code in a single line.\n",
    "x = [[i,j] for i,j in zip(list1,list2)] # The final output will be of a 2D array.\n",
    "''''\n",
    "Expansion of List comprehension is:\n",
    "for i,j in zip(list1,list2):\n",
    "    print([i,j])\n",
    "'''' \n",
    "print(f'2D list is {x}')"
   ]
  },
  {
   "cell_type": "code",
   "execution_count": 93,
   "metadata": {},
   "outputs": [
    {
     "output_type": "execute_result",
     "data": {
      "text/plain": [
       "[False, True, False, True, False]"
      ]
     },
     "metadata": {},
     "execution_count": 93
    }
   ],
   "source": [
    "z = map(lambda x : x % 2 == 0,list1)\n",
    "[i for i in z]"
   ]
  },
  {
   "source": [
    "### List Methods"
   ],
   "cell_type": "markdown",
   "metadata": {}
  },
  {
   "cell_type": "code",
   "execution_count": 109,
   "metadata": {},
   "outputs": [
    {
     "output_type": "execute_result",
     "data": {
      "text/plain": [
       "[1, 2, 3, 4, 5, 6, 7, 8, 9, 10]"
      ]
     },
     "metadata": {},
     "execution_count": 109
    }
   ],
   "source": [
    "# Delete Method \n",
    "del list1[10:]\n",
    "list1"
   ]
  },
  {
   "cell_type": "code",
   "execution_count": 110,
   "metadata": {},
   "outputs": [
    {
     "output_type": "stream",
     "name": "stdout",
     "text": [
      "Orginal List is [2, 4, 5, 1, 10, 8, 3]\nSorted List is [1, 2, 3, 4, 5, 8, 10]\n"
     ]
    }
   ],
   "source": [
    "# Sort the list\n",
    "list3 = [2,4,5,1,10,8,3]\n",
    "print(f'Orginal List is {list3}')\n",
    "list3.sort()\n",
    "print(f'Sorted List is {list3}')"
   ]
  },
  {
   "cell_type": "code",
   "execution_count": 111,
   "metadata": {},
   "outputs": [
    {
     "output_type": "stream",
     "name": "stdout",
     "text": [
      "Appended List is [1, 2, 3, 4, 5, 6, 7, 8, 9, 10]\n"
     ]
    }
   ],
   "source": [
    "# Append Method \n",
    "e = []\n",
    "for i in range(1,11):\n",
    "    e.append(i)\n",
    "print(f'Appended List is {e}')"
   ]
  },
  {
   "cell_type": "code",
   "execution_count": 112,
   "metadata": {},
   "outputs": [
    {
     "output_type": "execute_result",
     "data": {
      "text/plain": [
       "2"
      ]
     },
     "metadata": {},
     "execution_count": 112
    }
   ],
   "source": [
    "# Count Method ==> returns how many number of time a particular element is printed\n",
    "list4 = [1,3,4,2,4,4,2,5,6,6,3]\n",
    "list4.count(3)"
   ]
  },
  {
   "cell_type": "code",
   "execution_count": 116,
   "metadata": {},
   "outputs": [
    {
     "output_type": "execute_result",
     "data": {
      "text/plain": [
       "[1, 3, 4, 2, 4, 4, 2, 5, 6, 6, 3, 'Aneruth', 'Mohanasundaram']"
      ]
     },
     "metadata": {},
     "execution_count": 116
    }
   ],
   "source": [
    "# Extend Method\n",
    "list4.extend(['Aneruth','Mohanasundaram'])\n",
    "list4"
   ]
  },
  {
   "cell_type": "code",
   "execution_count": 117,
   "metadata": {},
   "outputs": [
    {
     "output_type": "stream",
     "name": "stdout",
     "text": [
      "Index position of \"Aneruth\" is 11\n"
     ]
    }
   ],
   "source": [
    "# Index Method\n",
    "get_index = list4.index('Aneruth')\n",
    "print(f'Index position of \"Aneruth\" is {get_index}')"
   ]
  },
  {
   "cell_type": "code",
   "execution_count": 120,
   "metadata": {},
   "outputs": [
    {
     "output_type": "stream",
     "name": "stdout",
     "text": [
      "Inserted List is [1, 3, 4, 2, 4, 4, 2, 5, 6, 6, 3, 'VUB', 'Aneruth', 'VUB', 'Mohanasundaram', 'VUB']\n"
     ]
    }
   ],
   "source": [
    "# Insert Method \n",
    "insert_pos = list4.insert(13,'VUB')\n",
    "print(f'Inserted List is {list4}')"
   ]
  },
  {
   "cell_type": "code",
   "execution_count": 123,
   "metadata": {},
   "outputs": [
    {
     "output_type": "stream",
     "name": "stdout",
     "text": [
      "Popped List is [1, 3, 4, 2, 4, 4, 2, 5, 6, 6, 3, 'Aneruth']\n"
     ]
    }
   ],
   "source": [
    "# Pop Method \n",
    "list4.pop(12)\n",
    "print(f'Popped List is {list4}')"
   ]
  },
  {
   "cell_type": "code",
   "execution_count": 124,
   "metadata": {},
   "outputs": [
    {
     "output_type": "stream",
     "name": "stdout",
     "text": [
      "Removed List is [1, 3, 4, 2, 4, 4, 2, 5, 6, 6, 3]\n"
     ]
    }
   ],
   "source": [
    "# Remove Method\n",
    "list4.remove('Aneruth')\n",
    "print(f'Removed List is {list4}')"
   ]
  },
  {
   "cell_type": "code",
   "execution_count": 132,
   "metadata": {},
   "outputs": [
    {
     "output_type": "stream",
     "name": "stdout",
     "text": [
      "Reversed List using method 1 is [4, 3, 2, 1]\nReversed List using method 2 is [1, 2, 3, 4]\n"
     ]
    }
   ],
   "source": [
    "# Reverse Method\n",
    "list5 = [1,2,3,4]\n",
    "\n",
    "# Method 1\n",
    "list5.reverse()\n",
    "print(f'Reversed List using method 1 is {list5}')\n",
    "\n",
    "# Method 2 using list comprehension\n",
    "print(f'Reversed List using method 2 is {list5[::-1]}')"
   ]
  },
  {
   "cell_type": "code",
   "execution_count": null,
   "metadata": {},
   "outputs": [],
   "source": []
  }
 ]
}