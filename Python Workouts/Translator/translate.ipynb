{
 "metadata": {
  "language_info": {
   "codemirror_mode": {
    "name": "ipython",
    "version": 3
   },
   "file_extension": ".py",
   "mimetype": "text/x-python",
   "name": "python",
   "nbconvert_exporter": "python",
   "pygments_lexer": "ipython3",
   "version": "3.8.5"
  },
  "orig_nbformat": 4,
  "kernelspec": {
   "name": "python3",
   "display_name": "Python 3.8.5 64-bit"
  },
  "interpreter": {
   "hash": "0adcc2737ebf6a4a119f135174df96668767fca1ef1112612db5ecadf2b6d608"
  }
 },
 "nbformat": 4,
 "nbformat_minor": 2,
 "cells": [
  {
   "cell_type": "code",
   "execution_count": 7,
   "metadata": {},
   "outputs": [],
   "source": [
    "def parameters(installationId,daysUrl,dayUrl,timezone):\n",
    "    dummy = dict()\n",
    "    dummy[\"METER_PARAMS\"] = {\n",
    "        \"INSTALLATION_ID\":installationId,\n",
    "        \"DAYS_URL\":daysUrl,\n",
    "        \"DAY_URL\":dayUrl,\n",
    "        \"TIMEZONE\":timezone\n",
    "    }\n",
    "    return dummy"
   ]
  },
  {
   "cell_type": "code",
   "execution_count": 8,
   "metadata": {},
   "outputs": [
    {
     "output_type": "execute_result",
     "data": {
      "text/plain": [
       "{'METER_PARAMS': {'INSTALLATION_ID': 1234,\n",
       "  'DAYS_URL': 'google',\n",
       "  'DAY_URL': 'Amazon',\n",
       "  'TIMEZONE': '+2 CEST'}}"
      ]
     },
     "metadata": {},
     "execution_count": 8
    }
   ],
   "source": [
    "parameters(1234,'google','Amazon','+2 CEST')"
   ]
  },
  {
   "cell_type": "code",
   "execution_count": null,
   "metadata": {},
   "outputs": [],
   "source": []
  }
 ]
}